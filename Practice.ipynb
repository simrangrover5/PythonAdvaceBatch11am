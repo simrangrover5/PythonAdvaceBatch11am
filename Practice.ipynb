{
 "cells": [
  {
   "cell_type": "code",
   "execution_count": 1,
   "metadata": {},
   "outputs": [
    {
     "data": {
      "text/plain": [
       "'Hello'"
      ]
     },
     "execution_count": 1,
     "metadata": {},
     "output_type": "execute_result"
    }
   ],
   "source": [
    "def func(id1, value):\n",
    "    if id1 == 101 and value:\n",
    "        return \"Hello\"\n",
    "    print(\"hello world\")\n",
    "    \n",
    "func(101, True)"
   ]
  },
  {
   "cell_type": "code",
   "execution_count": 2,
   "metadata": {},
   "outputs": [],
   "source": [
    "# we want output --> Hello and Hello world"
   ]
  },
  {
   "cell_type": "code",
   "execution_count": 3,
   "metadata": {},
   "outputs": [
    {
     "name": "stdout",
     "output_type": "stream",
     "text": [
      "Hello\n"
     ]
    },
    {
     "data": {
      "text/plain": [
       "'hello world'"
      ]
     },
     "execution_count": 3,
     "metadata": {},
     "output_type": "execute_result"
    }
   ],
   "source": [
    "def func(id1, value):\n",
    "    if id1 == 101 and value:\n",
    "        print(\"Hello\")\n",
    "    return \"hello world\"\n",
    "    \n",
    "func(101, True)"
   ]
  },
  {
   "cell_type": "code",
   "execution_count": 4,
   "metadata": {},
   "outputs": [],
   "source": [
    "def binary_search(l):\n",
    "    low = 0\n",
    "    n  = len(l)\n",
    "    high = n \n",
    "    ele = 50\n",
    "    ite = 0\n",
    "    while low < high:\n",
    "        mid = (low + high)//2\n",
    "        ite += 1\n",
    "        print(mid)\n",
    "        if ele == l[mid]:\n",
    "            print(f\"\\n Element {ele} is at {mid}\")\n",
    "            break\n",
    "        elif ele > l[mid]:\n",
    "            low = mid + 1\n",
    "        elif ele < l[mid]:\n",
    "            high = mid - 1\n",
    "    else:\n",
    "        print(\"\\n No such element is the array.....\")\n",
    "\n",
    "    print(\"\\n The number of iterations are : \", ite)"
   ]
  },
  {
   "cell_type": "code",
   "execution_count": 6,
   "metadata": {},
   "outputs": [],
   "source": [
    "l = [10, 12, 3, 4, 7, 9 , 20]"
   ]
  },
  {
   "cell_type": "code",
   "execution_count": 7,
   "metadata": {},
   "outputs": [
    {
     "name": "stdout",
     "output_type": "stream",
     "text": [
      "3\n",
      "5\n",
      "6\n",
      "\n",
      " No such element is the array.....\n",
      "\n",
      " The number of iterations are :  3\n"
     ]
    }
   ],
   "source": [
    "binary_search(l)"
   ]
  },
  {
   "cell_type": "code",
   "execution_count": 13,
   "metadata": {},
   "outputs": [],
   "source": [
    "l = [50, 10, 12, 3, 4, 7, 9 , 20]"
   ]
  },
  {
   "cell_type": "code",
   "execution_count": 14,
   "metadata": {},
   "outputs": [
    {
     "name": "stdout",
     "output_type": "stream",
     "text": [
      "4\n",
      "6\n",
      "7\n",
      "\n",
      " No such element is the array.....\n",
      "\n",
      " The number of iterations are :  3\n"
     ]
    }
   ],
   "source": [
    "binary_search(l)"
   ]
  },
  {
   "cell_type": "code",
   "execution_count": 15,
   "metadata": {},
   "outputs": [],
   "source": [
    "l.sort()  # we are sorting in ascending order"
   ]
  },
  {
   "cell_type": "code",
   "execution_count": 16,
   "metadata": {},
   "outputs": [
    {
     "data": {
      "text/plain": [
       "[3, 4, 7, 9, 10, 12, 20, 50]"
      ]
     },
     "execution_count": 16,
     "metadata": {},
     "output_type": "execute_result"
    }
   ],
   "source": [
    "l"
   ]
  },
  {
   "cell_type": "code",
   "execution_count": 17,
   "metadata": {},
   "outputs": [
    {
     "name": "stdout",
     "output_type": "stream",
     "text": [
      "4\n",
      "6\n",
      "7\n",
      "\n",
      " Element 50 is at 7\n",
      "\n",
      " The number of iterations are :  3\n"
     ]
    }
   ],
   "source": [
    "binary_search(l)"
   ]
  },
  {
   "cell_type": "code",
   "execution_count": 18,
   "metadata": {},
   "outputs": [],
   "source": [
    "l.sort(reverse= True)"
   ]
  },
  {
   "cell_type": "code",
   "execution_count": 19,
   "metadata": {},
   "outputs": [
    {
     "data": {
      "text/plain": [
       "[50, 20, 12, 10, 9, 7, 4, 3]"
      ]
     },
     "execution_count": 19,
     "metadata": {},
     "output_type": "execute_result"
    }
   ],
   "source": [
    "l"
   ]
  },
  {
   "cell_type": "code",
   "execution_count": 20,
   "metadata": {},
   "outputs": [
    {
     "name": "stdout",
     "output_type": "stream",
     "text": [
      "4\n",
      "6\n",
      "7\n",
      "\n",
      " No such element is the array.....\n",
      "\n",
      " The number of iterations are :  3\n"
     ]
    }
   ],
   "source": [
    "binary_search(l)"
   ]
  },
  {
   "cell_type": "code",
   "execution_count": 36,
   "metadata": {},
   "outputs": [],
   "source": [
    "def binary_search(l):\n",
    "    low = 0\n",
    "    n  = len(l)\n",
    "    high = n \n",
    "    ele = 50\n",
    "    ite = 0\n",
    "    while low <= high:\n",
    "        mid = (low + high)//2\n",
    "        ite += 1\n",
    "        print(mid)\n",
    "        if ele == l[mid]:\n",
    "            print(f\"\\n Element {ele} is at {mid}\")\n",
    "            break\n",
    "        elif ele < l[mid]:\n",
    "            low = mid + 1\n",
    "        else:\n",
    "            high = mid - 1\n",
    "    else:\n",
    "        print(\"\\n No such element is the array.....\")\n",
    "\n",
    "    print(\"\\n The number of iterations are : \", ite)"
   ]
  },
  {
   "cell_type": "code",
   "execution_count": 37,
   "metadata": {},
   "outputs": [
    {
     "data": {
      "text/plain": [
       "[50, 20, 12, 10, 9, 7, 4, 3]"
      ]
     },
     "execution_count": 37,
     "metadata": {},
     "output_type": "execute_result"
    }
   ],
   "source": [
    "l"
   ]
  },
  {
   "cell_type": "code",
   "execution_count": 38,
   "metadata": {},
   "outputs": [
    {
     "name": "stdout",
     "output_type": "stream",
     "text": [
      "4\n",
      "1\n",
      "0\n",
      "\n",
      " Element 50 is at 0\n",
      "\n",
      " The number of iterations are :  3\n"
     ]
    }
   ],
   "source": [
    "binary_search(l)"
   ]
  },
  {
   "cell_type": "markdown",
   "metadata": {},
   "source": [
    "### Database\n",
    "\n",
    "    Data Store --> files, Database\n",
    "    \n",
    "    Need for Database Instead of files\n",
    "    \n",
    "        1. Speed\n",
    "        2. Large Data Store\n",
    "        3. Memory Saving\n",
    "        4. Stuructured Database and Unstructures Database\n",
    "        5. Security\n",
    "        \n",
    "    Keys, Languages (DDL, DML, DCL, TCL) study at home"
   ]
  },
  {
   "cell_type": "code",
   "execution_count": null,
   "metadata": {},
   "outputs": [],
   "source": []
  }
 ],
 "metadata": {
  "kernelspec": {
   "display_name": "Python 3",
   "language": "python",
   "name": "python3"
  },
  "language_info": {
   "codemirror_mode": {
    "name": "ipython",
    "version": 3
   },
   "file_extension": ".py",
   "mimetype": "text/x-python",
   "name": "python",
   "nbconvert_exporter": "python",
   "pygments_lexer": "ipython3",
   "version": "3.7.4"
  }
 },
 "nbformat": 4,
 "nbformat_minor": 2
}
