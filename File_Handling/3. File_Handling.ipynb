{
 "cells": [
  {
   "cell_type": "markdown",
   "metadata": {},
   "source": [
    "    Name,Maths,Science,English\n",
    "    Simran,90,80,70\n",
    "    Ramesh,45,67,89\n",
    "    Ajay,67,89,90"
   ]
  },
  {
   "cell_type": "code",
   "execution_count": 1,
   "metadata": {},
   "outputs": [],
   "source": [
    "f = open(\"students.csv\",\"w\")\n",
    "header = \"Name,Maths,Science,English\"\n",
    "f.write(header)\n",
    "f.close()"
   ]
  },
  {
   "cell_type": "code",
   "execution_count": 2,
   "metadata": {},
   "outputs": [
    {
     "name": "stdout",
     "output_type": "stream",
     "text": [
      "Name,Maths,Science,English\n"
     ]
    }
   ],
   "source": [
    "f = open(\"students.csv\")\n",
    "print(f.read())\n",
    "f.close()"
   ]
  },
  {
   "cell_type": "code",
   "execution_count": 3,
   "metadata": {},
   "outputs": [
    {
     "name": "stdout",
     "output_type": "stream",
     "text": [
      " Volume in drive C is Windows\n",
      " Volume Serial Number is E08D-DAD9\n",
      "\n",
      " Directory of C:\\batches\\online_batch\\pythonbatch10_15am\\File_Handling\n",
      "\n",
      "05-10-2020  12:09    <DIR>          .\n",
      "05-10-2020  12:09    <DIR>          ..\n",
      "05-10-2020  12:03    <DIR>          .ipynb_checkpoints\n",
      "02-10-2020  12:50            37,735 1. File_Handling.ipynb\n",
      "03-10-2020  12:29            62,888 2. File_Handling.ipynb\n",
      "05-10-2020  12:09             1,449 3. File_Handling.ipynb\n",
      "03-10-2020  11:38    <DIR>          abc\n",
      "03-10-2020  11:13                63 hello.txt\n",
      "03-10-2020  12:25                95 one.csv\n",
      "03-10-2020  11:20                 0 One.py\n",
      "05-10-2020  12:08                26 students.csv\n",
      "               7 File(s)        102,256 bytes\n",
      "               4 Dir(s)  39,151,194,112 bytes free\n"
     ]
    }
   ],
   "source": [
    "ls"
   ]
  },
  {
   "cell_type": "code",
   "execution_count": 4,
   "metadata": {},
   "outputs": [
    {
     "ename": "TypeError",
     "evalue": "write() argument must be str, not int",
     "output_type": "error",
     "traceback": [
      "\u001b[1;31m---------------------------------------------------------------------------\u001b[0m",
      "\u001b[1;31mTypeError\u001b[0m                                 Traceback (most recent call last)",
      "\u001b[1;32m<ipython-input-4-f6136c44959c>\u001b[0m in \u001b[0;36m<module>\u001b[1;34m\u001b[0m\n\u001b[0;32m      1\u001b[0m \u001b[0mf\u001b[0m \u001b[1;33m=\u001b[0m \u001b[0mopen\u001b[0m\u001b[1;33m(\u001b[0m\u001b[1;34m\"One.py\"\u001b[0m\u001b[1;33m,\u001b[0m\u001b[1;34m\"a\"\u001b[0m\u001b[1;33m)\u001b[0m\u001b[1;33m\u001b[0m\u001b[1;33m\u001b[0m\u001b[0m\n\u001b[1;32m----> 2\u001b[1;33m \u001b[0mf\u001b[0m\u001b[1;33m.\u001b[0m\u001b[0mwrite\u001b[0m\u001b[1;33m(\u001b[0m\u001b[1;36m1234\u001b[0m\u001b[1;33m)\u001b[0m\u001b[1;33m\u001b[0m\u001b[1;33m\u001b[0m\u001b[0m\n\u001b[0m\u001b[0;32m      3\u001b[0m \u001b[0mf\u001b[0m\u001b[1;33m.\u001b[0m\u001b[0mclose\u001b[0m\u001b[1;33m(\u001b[0m\u001b[1;33m)\u001b[0m\u001b[1;33m\u001b[0m\u001b[1;33m\u001b[0m\u001b[0m\n",
      "\u001b[1;31mTypeError\u001b[0m: write() argument must be str, not int"
     ]
    }
   ],
   "source": [
    "f = open(\"One.py\",\"a\")\n",
    "f.write(1234)\n",
    "f.close()"
   ]
  },
  {
   "cell_type": "code",
   "execution_count": 8,
   "metadata": {},
   "outputs": [
    {
     "name": "stdout",
     "output_type": "stream",
     "text": [
      "5\n",
      "\n",
      " Name[1] : Daivat\n",
      "\n",
      " Maths[1] : 67\n",
      "\n",
      " Science[1] : 78\n",
      "\n",
      " English[1] : 89\n",
      "\n",
      " Name[2] : Aarav\n",
      "\n",
      " Maths[2] : 78\n",
      "\n",
      " Science[2] : 89\n",
      "\n",
      " English[2] : 90\n",
      "\n",
      " Name[3] : Mihir\n",
      "\n",
      " Maths[3] : 67\n",
      "\n",
      " Science[3] : 78\n",
      "\n",
      " English[3] : 90\n",
      "\n",
      " Name[4] : Ajay\n",
      "\n",
      " Maths[4] : 45\n",
      "\n",
      " Science[4] : 78\n",
      "\n",
      " English[4] : 60\n",
      "\n",
      " Name[5] : Aman\n",
      "\n",
      " Maths[5] : 83\n",
      "\n",
      " Science[5] : 74\n",
      "\n",
      " English[5] : 75\n"
     ]
    }
   ],
   "source": [
    "f = open(\"students.csv\",\"a\")\n",
    "o = \"\"\n",
    "for i in range(int(input())):\n",
    "    name = input(f\"\\n Name[{i+1}] : \")\n",
    "    maths = input(f\"\\n Maths[{i+1}] : \")\n",
    "    sci = input(f\"\\n Science[{i+1}] : \")\n",
    "    eng = input(f\"\\n English[{i+1}] : \")\n",
    "    o += \"\\n\" + name + \",\" + maths + \",\" + sci + \",\" + eng\n",
    "f.write(o)\n",
    "f.close()"
   ]
  },
  {
   "cell_type": "code",
   "execution_count": 9,
   "metadata": {},
   "outputs": [
    {
     "name": "stdout",
     "output_type": "stream",
     "text": [
      "Name,Maths,Science,English\n",
      "Daivat,67,78,89\n",
      "Aarav,78,89,90\n",
      "Mihir,67,78,90\n",
      "Ajay,45,78,60\n",
      "Aman,83,74,75\n"
     ]
    }
   ],
   "source": [
    "f = open(\"students.csv\")\n",
    "print(f.read())\n",
    "f.close()"
   ]
  },
  {
   "cell_type": "code",
   "execution_count": 10,
   "metadata": {},
   "outputs": [],
   "source": [
    "import pandas as pd"
   ]
  },
  {
   "cell_type": "code",
   "execution_count": 11,
   "metadata": {},
   "outputs": [],
   "source": [
    "data = pd.read_csv(\"students.csv\")"
   ]
  },
  {
   "cell_type": "code",
   "execution_count": 13,
   "metadata": {},
   "outputs": [
    {
     "data": {
      "text/html": [
       "<div>\n",
       "<style scoped>\n",
       "    .dataframe tbody tr th:only-of-type {\n",
       "        vertical-align: middle;\n",
       "    }\n",
       "\n",
       "    .dataframe tbody tr th {\n",
       "        vertical-align: top;\n",
       "    }\n",
       "\n",
       "    .dataframe thead th {\n",
       "        text-align: right;\n",
       "    }\n",
       "</style>\n",
       "<table border=\"1\" class=\"dataframe\">\n",
       "  <thead>\n",
       "    <tr style=\"text-align: right;\">\n",
       "      <th></th>\n",
       "      <th>Name</th>\n",
       "      <th>Maths</th>\n",
       "      <th>Science</th>\n",
       "      <th>English</th>\n",
       "    </tr>\n",
       "  </thead>\n",
       "  <tbody>\n",
       "    <tr>\n",
       "      <td>0</td>\n",
       "      <td>Daivat</td>\n",
       "      <td>67</td>\n",
       "      <td>78</td>\n",
       "      <td>89</td>\n",
       "    </tr>\n",
       "    <tr>\n",
       "      <td>1</td>\n",
       "      <td>Aarav</td>\n",
       "      <td>78</td>\n",
       "      <td>89</td>\n",
       "      <td>90</td>\n",
       "    </tr>\n",
       "    <tr>\n",
       "      <td>2</td>\n",
       "      <td>Mihir</td>\n",
       "      <td>67</td>\n",
       "      <td>78</td>\n",
       "      <td>90</td>\n",
       "    </tr>\n",
       "    <tr>\n",
       "      <td>3</td>\n",
       "      <td>Ajay</td>\n",
       "      <td>45</td>\n",
       "      <td>78</td>\n",
       "      <td>60</td>\n",
       "    </tr>\n",
       "    <tr>\n",
       "      <td>4</td>\n",
       "      <td>Aman</td>\n",
       "      <td>83</td>\n",
       "      <td>74</td>\n",
       "      <td>75</td>\n",
       "    </tr>\n",
       "  </tbody>\n",
       "</table>\n",
       "</div>"
      ],
      "text/plain": [
       "     Name  Maths  Science  English\n",
       "0  Daivat     67       78       89\n",
       "1   Aarav     78       89       90\n",
       "2   Mihir     67       78       90\n",
       "3    Ajay     45       78       60\n",
       "4    Aman     83       74       75"
      ]
     },
     "execution_count": 13,
     "metadata": {},
     "output_type": "execute_result"
    }
   ],
   "source": [
    "data"
   ]
  },
  {
   "cell_type": "code",
   "execution_count": 14,
   "metadata": {},
   "outputs": [
    {
     "data": {
      "text/plain": [
       "0    89\n",
       "1    90\n",
       "2    90\n",
       "3    60\n",
       "4    75\n",
       "Name: English, dtype: int64"
      ]
     },
     "execution_count": 14,
     "metadata": {},
     "output_type": "execute_result"
    }
   ],
   "source": [
    "data['English']"
   ]
  },
  {
   "cell_type": "code",
   "execution_count": 15,
   "metadata": {},
   "outputs": [
    {
     "data": {
      "text/plain": [
       "0    67\n",
       "1    78\n",
       "2    67\n",
       "3    45\n",
       "4    83\n",
       "Name: Maths, dtype: int64"
      ]
     },
     "execution_count": 15,
     "metadata": {},
     "output_type": "execute_result"
    }
   ],
   "source": [
    "data['Maths']"
   ]
  },
  {
   "cell_type": "code",
   "execution_count": 21,
   "metadata": {},
   "outputs": [
    {
     "data": {
      "text/plain": [
       "<matplotlib.axes._subplots.AxesSubplot at 0x17f32cc1208>"
      ]
     },
     "execution_count": 21,
     "metadata": {},
     "output_type": "execute_result"
    },
    {
     "data": {
      "image/png": "[encoded data removed]",
      "text/plain": [
       "<Figure size 432x288 with 1 Axes>"
      ]
     },
     "metadata": {
      "needs_background": "light"
     },
     "output_type": "display_data"
    }
   ],
   "source": [
    "data.plot(kind=\"bar\")"
   ]
  },
  {
   "cell_type": "code",
   "execution_count": 22,
   "metadata": {},
   "outputs": [],
   "source": [
    "import matplotlib.pyplot as plt"
   ]
  },
  {
   "cell_type": "code",
   "execution_count": 24,
   "metadata": {},
   "outputs": [
    {
     "data": {
      "text/plain": [
       "<BarContainer object of 5 artists>"
      ]
     },
     "execution_count": 24,
     "metadata": {},
     "output_type": "execute_result"
    },
    {
     "data": {
      "image/png": "[encoded data removed]",
      "text/plain": [
       "<Figure size 432x288 with 1 Axes>"
      ]
     },
     "metadata": {
      "needs_background": "light"
     },
     "output_type": "display_data"
    }
   ],
   "source": [
    "plt.bar(data['Name'],data['Maths'])"
   ]
  },
  {
   "cell_type": "code",
   "execution_count": 25,
   "metadata": {},
   "outputs": [],
   "source": [
    "import os"
   ]
  },
  {
   "cell_type": "code",
   "execution_count": 28,
   "metadata": {},
   "outputs": [
    {
     "name": "stdout",
     "output_type": "stream",
     "text": [
      "\n",
      " How many student entries : 3\n",
      "\n",
      " Name[1] : Haresh\n",
      "\n",
      " Maths[1] : 83\n",
      "\n",
      " Science[1] : 94\n",
      "\n",
      " English[1] : 75\n",
      "\n",
      " Name[2] : Ankit\n",
      "\n",
      " Maths[2] : 75\n",
      "\n",
      " Science[2] : 65\n",
      "\n",
      " English[2] : 85\n",
      "\n",
      " Name[3] : Akshay\n",
      "\n",
      " Maths[3] : 45\n",
      "\n",
      " Science[3] : 89\n",
      "\n",
      " English[3] : 90\n"
     ]
    }
   ],
   "source": [
    "def make_csv(filename,path=os.getcwd()):\n",
    "    full_path = os.path.join(path,filename)\n",
    "    if os.path.exists(full_path):\n",
    "        f = open(full_path,\"a\")\n",
    "        o = \"\"\n",
    "        for i in range(int(input(\"\\n How many student entries : \"))):\n",
    "            name = input(f\"\\n Name[{i+1}] : \")\n",
    "            maths = input(f\"\\n Maths[{i+1}] : \")\n",
    "            sci = input(f\"\\n Science[{i+1}] : \")\n",
    "            eng = input(f\"\\n English[{i+1}] : \")\n",
    "            o += \"\\n\" + name + \",\" + maths + \",\" + sci + \",\" + eng\n",
    "        f.write(o)\n",
    "        f.close()\n",
    "    else:\n",
    "        return \"Invalid Path\"\n",
    "    \n",
    "    \n",
    "make_csv(\"students.csv\")"
   ]
  },
  {
   "cell_type": "code",
   "execution_count": 30,
   "metadata": {},
   "outputs": [
    {
     "data": {
      "text/plain": [
       "<matplotlib.axes._subplots.AxesSubplot at 0x17f32ddd208>"
      ]
     },
     "execution_count": 30,
     "metadata": {},
     "output_type": "execute_result"
    },
    {
     "data": {
      "image/png": "[encoded data removed]",
      "text/plain": [
       "<Figure size 432x288 with 1 Axes>"
      ]
     },
     "metadata": {
      "needs_background": "light"
     },
     "output_type": "display_data"
    }
   ],
   "source": [
    "data = pd.read_csv(\"students.csv\")\n",
    "data.plot(kind=\"bar\")"
   ]
  },
  {
   "cell_type": "code",
   "execution_count": 34,
   "metadata": {},
   "outputs": [],
   "source": [
    "data.index = data['Name']"
   ]
  },
  {
   "cell_type": "code",
   "execution_count": 35,
   "metadata": {},
   "outputs": [
    {
     "data": {
      "text/html": [
       "<div>\n",
       "<style scoped>\n",
       "    .dataframe tbody tr th:only-of-type {\n",
       "        vertical-align: middle;\n",
       "    }\n",
       "\n",
       "    .dataframe tbody tr th {\n",
       "        vertical-align: top;\n",
       "    }\n",
       "\n",
       "    .dataframe thead th {\n",
       "        text-align: right;\n",
       "    }\n",
       "</style>\n",
       "<table border=\"1\" class=\"dataframe\">\n",
       "  <thead>\n",
       "    <tr style=\"text-align: right;\">\n",
       "      <th></th>\n",
       "      <th>Name</th>\n",
       "      <th>Maths</th>\n",
       "      <th>Science</th>\n",
       "      <th>English</th>\n",
       "    </tr>\n",
       "    <tr>\n",
       "      <th>Name</th>\n",
       "      <th></th>\n",
       "      <th></th>\n",
       "      <th></th>\n",
       "      <th></th>\n",
       "    </tr>\n",
       "  </thead>\n",
       "  <tbody>\n",
       "    <tr>\n",
       "      <td>Daivat</td>\n",
       "      <td>Daivat</td>\n",
       "      <td>67</td>\n",
       "      <td>78</td>\n",
       "      <td>89</td>\n",
       "    </tr>\n",
       "    <tr>\n",
       "      <td>Aarav</td>\n",
       "      <td>Aarav</td>\n",
       "      <td>78</td>\n",
       "      <td>89</td>\n",
       "      <td>90</td>\n",
       "    </tr>\n",
       "    <tr>\n",
       "      <td>Mihir</td>\n",
       "      <td>Mihir</td>\n",
       "      <td>67</td>\n",
       "      <td>78</td>\n",
       "      <td>90</td>\n",
       "    </tr>\n",
       "    <tr>\n",
       "      <td>Ajay</td>\n",
       "      <td>Ajay</td>\n",
       "      <td>45</td>\n",
       "      <td>78</td>\n",
       "      <td>60</td>\n",
       "    </tr>\n",
       "    <tr>\n",
       "      <td>Aman</td>\n",
       "      <td>Aman</td>\n",
       "      <td>83</td>\n",
       "      <td>74</td>\n",
       "      <td>75</td>\n",
       "    </tr>\n",
       "    <tr>\n",
       "      <td>Haresh</td>\n",
       "      <td>Haresh</td>\n",
       "      <td>83</td>\n",
       "      <td>94</td>\n",
       "      <td>75</td>\n",
       "    </tr>\n",
       "    <tr>\n",
       "      <td>Ankit</td>\n",
       "      <td>Ankit</td>\n",
       "      <td>75</td>\n",
       "      <td>65</td>\n",
       "      <td>85</td>\n",
       "    </tr>\n",
       "    <tr>\n",
       "      <td>Akshay</td>\n",
       "      <td>Akshay</td>\n",
       "      <td>45</td>\n",
       "      <td>89</td>\n",
       "      <td>90</td>\n",
       "    </tr>\n",
       "  </tbody>\n",
       "</table>\n",
       "</div>"
      ],
      "text/plain": [
       "          Name  Maths  Science  English\n",
       "Name                                   \n",
       "Daivat  Daivat     67       78       89\n",
       "Aarav    Aarav     78       89       90\n",
       "Mihir    Mihir     67       78       90\n",
       "Ajay      Ajay     45       78       60\n",
       "Aman      Aman     83       74       75\n",
       "Haresh  Haresh     83       94       75\n",
       "Ankit    Ankit     75       65       85\n",
       "Akshay  Akshay     45       89       90"
      ]
     },
     "execution_count": 35,
     "metadata": {},
     "output_type": "execute_result"
    }
   ],
   "source": [
    "data"
   ]
  },
  {
   "cell_type": "code",
   "execution_count": 36,
   "metadata": {},
   "outputs": [
    {
     "data": {
      "text/plain": [
       "<matplotlib.axes._subplots.AxesSubplot at 0x17f330aefc8>"
      ]
     },
     "execution_count": 36,
     "metadata": {},
     "output_type": "execute_result"
    },
    {
     "data": {
      "image/png": "[encoded data removed]",
      "text/plain": [
       "<Figure size 432x288 with 1 Axes>"
      ]
     },
     "metadata": {
      "needs_background": "light"
     },
     "output_type": "display_data"
    }
   ],
   "source": [
    "data['Maths'].plot(kind=\"bar\")"
   ]
  },
  {
   "cell_type": "code",
   "execution_count": 37,
   "metadata": {},
   "outputs": [
    {
     "data": {
      "text/plain": [
       "<matplotlib.axes._subplots.AxesSubplot at 0x17f3306b708>"
      ]
     },
     "execution_count": 37,
     "metadata": {},
     "output_type": "execute_result"
    },
    {
     "data": {
      "image/png": "[encoded data removed]",
      "text/plain": [
       "<Figure size 432x288 with 1 Axes>"
      ]
     },
     "metadata": {
      "needs_background": "light"
     },
     "output_type": "display_data"
    }
   ],
   "source": [
    "data.plot(kind=\"bar\")"
   ]
  },
  {
   "cell_type": "code",
   "execution_count": 38,
   "metadata": {},
   "outputs": [],
   "source": [
    "#read the data from students.csv file and calculate the percentage of each student and write it into \n",
    "#another file"
   ]
  },
  {
   "cell_type": "code",
   "execution_count": 39,
   "metadata": {},
   "outputs": [],
   "source": [
    "f = open(\"percentage.csv\",\"w\")\n",
    "header = \"Name,Percentage\"\n",
    "f.write(header)\n",
    "f.close()"
   ]
  },
  {
   "cell_type": "code",
   "execution_count": 70,
   "metadata": {},
   "outputs": [],
   "source": [
    "f = open(\"percentage.csv\",\"a\")\n",
    "r = open(\"students.csv\")\n",
    "data = r.read()\n",
    "data = data.split(\"\\n\")[1:]\n",
    "for row in data:\n",
    "    i = row.split(\",\")\n",
    "    name = i[0]\n",
    "    maths = int(i[1])\n",
    "    sci = int(i[2])\n",
    "    eng = int(i[3])\n",
    "    per = round((maths + sci + eng)/3,2)\n",
    "    f.write(\"\\n\" + name + \",\" + str(per))\n",
    "f.close()"
   ]
  },
  {
   "cell_type": "code",
   "execution_count": 64,
   "metadata": {},
   "outputs": [],
   "source": [
    "f = open(\"students.csv\")\n",
    "d = f.read()\n",
    "f.close()"
   ]
  },
  {
   "cell_type": "code",
   "execution_count": 45,
   "metadata": {},
   "outputs": [
    {
     "data": {
      "text/plain": [
       "'Name,Maths,Science,English\\nDaivat,67,78,89\\nAarav,78,89,90\\nMihir,67,78,90\\nAjay,45,78,60\\nAman,83,74,75\\nHaresh,83,94,75\\nAnkit,75,65,85\\nAkshay,45,89,90'"
      ]
     },
     "execution_count": 45,
     "metadata": {},
     "output_type": "execute_result"
    }
   ],
   "source": [
    "d"
   ]
  },
  {
   "cell_type": "code",
   "execution_count": 43,
   "metadata": {},
   "outputs": [
    {
     "data": {
      "text/plain": [
       "'N'"
      ]
     },
     "execution_count": 43,
     "metadata": {},
     "output_type": "execute_result"
    }
   ],
   "source": [
    "d[0]"
   ]
  },
  {
   "cell_type": "code",
   "execution_count": 44,
   "metadata": {},
   "outputs": [
    {
     "data": {
      "text/plain": [
       "'a'"
      ]
     },
     "execution_count": 44,
     "metadata": {},
     "output_type": "execute_result"
    }
   ],
   "source": [
    "d[1]"
   ]
  },
  {
   "cell_type": "code",
   "execution_count": 46,
   "metadata": {},
   "outputs": [
    {
     "data": {
      "text/plain": [
       "'m'"
      ]
     },
     "execution_count": 46,
     "metadata": {},
     "output_type": "execute_result"
    }
   ],
   "source": [
    "d[2]"
   ]
  },
  {
   "cell_type": "code",
   "execution_count": 47,
   "metadata": {},
   "outputs": [
    {
     "data": {
      "text/plain": [
       "['Name',\n",
       " 'Maths',\n",
       " 'Science',\n",
       " 'English\\nDaivat',\n",
       " '67',\n",
       " '78',\n",
       " '89\\nAarav',\n",
       " '78',\n",
       " '89',\n",
       " '90\\nMihir',\n",
       " '67',\n",
       " '78',\n",
       " '90\\nAjay',\n",
       " '45',\n",
       " '78',\n",
       " '60\\nAman',\n",
       " '83',\n",
       " '74',\n",
       " '75\\nHaresh',\n",
       " '83',\n",
       " '94',\n",
       " '75\\nAnkit',\n",
       " '75',\n",
       " '65',\n",
       " '85\\nAkshay',\n",
       " '45',\n",
       " '89',\n",
       " '90']"
      ]
     },
     "execution_count": 47,
     "metadata": {},
     "output_type": "execute_result"
    }
   ],
   "source": [
    "d.split(\",\")"
   ]
  },
  {
   "cell_type": "code",
   "execution_count": 50,
   "metadata": {},
   "outputs": [
    {
     "data": {
      "text/plain": [
       "'Name,Maths,Science,English'"
      ]
     },
     "execution_count": 50,
     "metadata": {},
     "output_type": "execute_result"
    }
   ],
   "source": [
    "d.split(\"\\n\")[0]"
   ]
  },
  {
   "cell_type": "code",
   "execution_count": 51,
   "metadata": {},
   "outputs": [
    {
     "data": {
      "text/plain": [
       "'Daivat,67,78,89'"
      ]
     },
     "execution_count": 51,
     "metadata": {},
     "output_type": "execute_result"
    }
   ],
   "source": [
    "d.split(\"\\n\")[1]"
   ]
  },
  {
   "cell_type": "code",
   "execution_count": 52,
   "metadata": {},
   "outputs": [
    {
     "data": {
      "text/plain": [
       "'Aarav,78,89,90'"
      ]
     },
     "execution_count": 52,
     "metadata": {},
     "output_type": "execute_result"
    }
   ],
   "source": [
    "d.split(\"\\n\")[2]"
   ]
  },
  {
   "cell_type": "code",
   "execution_count": 53,
   "metadata": {},
   "outputs": [],
   "source": [
    "a = d.split(\"\\n\")"
   ]
  },
  {
   "cell_type": "code",
   "execution_count": 57,
   "metadata": {},
   "outputs": [
    {
     "data": {
      "text/plain": [
       "['Daivat,67,78,89',\n",
       " 'Aarav,78,89,90',\n",
       " 'Mihir,67,78,90',\n",
       " 'Ajay,45,78,60',\n",
       " 'Aman,83,74,75',\n",
       " 'Haresh,83,94,75',\n",
       " 'Ankit,75,65,85',\n",
       " 'Akshay,45,89,90']"
      ]
     },
     "execution_count": 57,
     "metadata": {},
     "output_type": "execute_result"
    }
   ],
   "source": [
    "a[1:]"
   ]
  },
  {
   "cell_type": "code",
   "execution_count": 60,
   "metadata": {},
   "outputs": [
    {
     "data": {
      "text/plain": [
       "'Daivat'"
      ]
     },
     "execution_count": 60,
     "metadata": {},
     "output_type": "execute_result"
    }
   ],
   "source": [
    "a[1].split(\",\")[0]"
   ]
  },
  {
   "cell_type": "code",
   "execution_count": 61,
   "metadata": {},
   "outputs": [
    {
     "data": {
      "text/plain": [
       "'67'"
      ]
     },
     "execution_count": 61,
     "metadata": {},
     "output_type": "execute_result"
    }
   ],
   "source": [
    "a[1].split(\",\")[1]"
   ]
  },
  {
   "cell_type": "code",
   "execution_count": 62,
   "metadata": {},
   "outputs": [
    {
     "data": {
      "text/plain": [
       "'78'"
      ]
     },
     "execution_count": 62,
     "metadata": {},
     "output_type": "execute_result"
    }
   ],
   "source": [
    "a[1].split(\",\")[2]"
   ]
  },
  {
   "cell_type": "code",
   "execution_count": 63,
   "metadata": {},
   "outputs": [
    {
     "data": {
      "text/plain": [
       "'89'"
      ]
     },
     "execution_count": 63,
     "metadata": {},
     "output_type": "execute_result"
    }
   ],
   "source": [
    "a[1].split(\",\")[3]"
   ]
  },
  {
   "cell_type": "code",
   "execution_count": 71,
   "metadata": {},
   "outputs": [
    {
     "name": "stdout",
     "output_type": "stream",
     "text": [
      "Name,Percentage\n",
      "Daivat,78.0\n",
      "Aarav,85.67\n",
      "Mihir,78.33\n",
      "Ajay,61.0\n",
      "Aman,77.33\n",
      "Haresh,84.0\n",
      "Ankit,75.0\n",
      "Akshay,74.67\n"
     ]
    }
   ],
   "source": [
    "per = open(\"percentage.csv\")\n",
    "print(per.read())\n",
    "per.close()"
   ]
  },
  {
   "cell_type": "code",
   "execution_count": 74,
   "metadata": {},
   "outputs": [],
   "source": [
    "data = pd.read_csv(\"percentage.csv\",index_col=0)\n"
   ]
  },
  {
   "cell_type": "code",
   "execution_count": 75,
   "metadata": {},
   "outputs": [
    {
     "data": {
      "text/html": [
       "<div>\n",
       "<style scoped>\n",
       "    .dataframe tbody tr th:only-of-type {\n",
       "        vertical-align: middle;\n",
       "    }\n",
       "\n",
       "    .dataframe tbody tr th {\n",
       "        vertical-align: top;\n",
       "    }\n",
       "\n",
       "    .dataframe thead th {\n",
       "        text-align: right;\n",
       "    }\n",
       "</style>\n",
       "<table border=\"1\" class=\"dataframe\">\n",
       "  <thead>\n",
       "    <tr style=\"text-align: right;\">\n",
       "      <th></th>\n",
       "      <th>Percentage</th>\n",
       "    </tr>\n",
       "    <tr>\n",
       "      <th>Name</th>\n",
       "      <th></th>\n",
       "    </tr>\n",
       "  </thead>\n",
       "  <tbody>\n",
       "    <tr>\n",
       "      <td>Daivat</td>\n",
       "      <td>78.00</td>\n",
       "    </tr>\n",
       "    <tr>\n",
       "      <td>Aarav</td>\n",
       "      <td>85.67</td>\n",
       "    </tr>\n",
       "    <tr>\n",
       "      <td>Mihir</td>\n",
       "      <td>78.33</td>\n",
       "    </tr>\n",
       "    <tr>\n",
       "      <td>Ajay</td>\n",
       "      <td>61.00</td>\n",
       "    </tr>\n",
       "    <tr>\n",
       "      <td>Aman</td>\n",
       "      <td>77.33</td>\n",
       "    </tr>\n",
       "    <tr>\n",
       "      <td>Haresh</td>\n",
       "      <td>84.00</td>\n",
       "    </tr>\n",
       "    <tr>\n",
       "      <td>Ankit</td>\n",
       "      <td>75.00</td>\n",
       "    </tr>\n",
       "    <tr>\n",
       "      <td>Akshay</td>\n",
       "      <td>74.67</td>\n",
       "    </tr>\n",
       "  </tbody>\n",
       "</table>\n",
       "</div>"
      ],
      "text/plain": [
       "        Percentage\n",
       "Name              \n",
       "Daivat       78.00\n",
       "Aarav        85.67\n",
       "Mihir        78.33\n",
       "Ajay         61.00\n",
       "Aman         77.33\n",
       "Haresh       84.00\n",
       "Ankit        75.00\n",
       "Akshay       74.67"
      ]
     },
     "execution_count": 75,
     "metadata": {},
     "output_type": "execute_result"
    }
   ],
   "source": [
    "data"
   ]
  },
  {
   "cell_type": "code",
   "execution_count": 77,
   "metadata": {},
   "outputs": [
    {
     "data": {
      "text/plain": [
       "<matplotlib.axes._subplots.AxesSubplot at 0x17f333dee08>"
      ]
     },
     "execution_count": 77,
     "metadata": {},
     "output_type": "execute_result"
    },
    {
     "data": {
      "image/png": "[encoded data removed]",
      "text/plain": [
       "<Figure size 432x288 with 1 Axes>"
      ]
     },
     "metadata": {
      "needs_background": "light"
     },
     "output_type": "display_data"
    }
   ],
   "source": [
    "data.plot(kind=\"bar\")"
   ]
  },
  {
   "cell_type": "code",
   "execution_count": 80,
   "metadata": {},
   "outputs": [],
   "source": [
    "def calculate_per(filename,path=os.getcwd()):\n",
    "    \"\"\"\n",
    "        Filename is the name of the source file which consists data of students\n",
    "        Format of the csv file must be Name,Maths,Science,English\n",
    "    \"\"\"\n",
    "    full_path = os.path.join(path,filename)\n",
    "    if os.path.exists(full_path):\n",
    "        details = open(full_path)\n",
    "        f = open(\"percentage.csv\",\"a\")\n",
    "        data = details.read()\n",
    "        details.close()\n",
    "        data = data.split(\"\\n\")[1:]\n",
    "        for row in data:\n",
    "            i = row.split(\",\")\n",
    "            name = i[0]\n",
    "            maths = int(i[1])\n",
    "            sci = int(i[2])\n",
    "            eng = int(i[3])\n",
    "            per = round((maths + sci + eng)/3,2)\n",
    "            f.write(\"\\n\" + name + \",\" + str(per))\n",
    "        f.close()\n",
    "    else:\n",
    "        return \"Invalid path\""
   ]
  },
  {
   "cell_type": "code",
   "execution_count": null,
   "metadata": {},
   "outputs": [],
   "source": [
    "calculate_per(\"students.csv\")"
   ]
  },
  {
   "cell_type": "code",
   "execution_count": 79,
   "metadata": {},
   "outputs": [
    {
     "data": {
      "text/plain": [
       "['.ipynb_checkpoints',\n",
       " '1. File_Handling.ipynb',\n",
       " '2. File_Handling.ipynb',\n",
       " '3. File_Handling.ipynb',\n",
       " '4. Serialization.ipynb',\n",
       " '5. Serialization.ipynb',\n",
       " 'att.csv',\n",
       " 'Att_percentage.csv',\n",
       " 'Att_precentage.csv',\n",
       " 'bank.json',\n",
       " 'f1.jpg',\n",
       " 'f1.py',\n",
       " 'f2.py',\n",
       " 'flower.jpg',\n",
       " 'func.py',\n",
       " 'hello.txt',\n",
       " 'json_encoding_python.png',\n",
       " 'myfolder',\n",
       " 'myimg.jpg',\n",
       " 'new',\n",
       " 'newfolder',\n",
       " 'one.pdf',\n",
       " 'one.pkl',\n",
       " 'one.py',\n",
       " 'one.txt',\n",
       " 'percentage.csv',\n",
       " 'simran',\n",
       " 'simran.pkl',\n",
       " 'student,csv',\n",
       " 'students.csv',\n",
       " 'two.py']"
      ]
     },
     "execution_count": 79,
     "metadata": {},
     "output_type": "execute_result"
    }
   ],
   "source": [
    "os.listdir(\"C://batches/online_batch/batch1pm/File_handling/\")"
   ]
  },
  {
   "cell_type": "code",
   "execution_count": 81,
   "metadata": {},
   "outputs": [
    {
     "name": "stdout",
     "output_type": "stream",
     "text": [
      "Help on function calculate_per in module __main__:\n",
      "\n",
      "calculate_per(filename, path='C:\\\\batches\\\\online_batch\\\\pythonbatch10_15am\\\\File_Handling')\n",
      "    Filename is the name of the source file which consists data of students\n",
      "    Format of the csv file must be Name,Maths,Science,English\n",
      "\n"
     ]
    }
   ],
   "source": [
    "help(calculate_per)"
   ]
  },
  {
   "cell_type": "code",
   "execution_count": 82,
   "metadata": {},
   "outputs": [
    {
     "name": "stdout",
     "output_type": "stream",
     "text": [
      "RollNo,Name,Maths,Science,English\n",
      "1,simran,89,78,67\n",
      "2,akhil,78,89,67\n",
      "3,sarthak,78,89,56\n",
      "4,tannu,78,78,67\n",
      "5,monika,78,67,90\n",
      "6,Syed,45,56,67\n",
      "7,Ashish,78,67,89\n",
      "8,Sarthak,67,78,56\n"
     ]
    }
   ],
   "source": [
    "f = open(\"C://batches/online_batch/batch1pm/File_handling/students.csv\")\n",
    "print(f.read())\n",
    "f.close()"
   ]
  },
  {
   "cell_type": "code",
   "execution_count": 83,
   "metadata": {},
   "outputs": [
    {
     "name": "stdout",
     "output_type": "stream",
     "text": [
      "Name,Maths,Science,English\n",
      "shubham,56,67,78\n",
      "shahid,67,56,70\n",
      "tushar,56,54,89\n",
      "rahul,78,89,41\n",
      "isha,56,67,78\n",
      "Simran,45,56,67\n",
      "Manish,67,56,45\n",
      "Ravi,45,50,80\n",
      "Sachin,60,50,70\n"
     ]
    }
   ],
   "source": [
    "f = open(\"C://batches/online_batch/batch_7pm/File_handling/Student_details.csv\")\n",
    "print(f.read())\n",
    "f.close()"
   ]
  },
  {
   "cell_type": "code",
   "execution_count": 84,
   "metadata": {},
   "outputs": [],
   "source": [
    "calculate_per(\"Student_details.csv\",\"C://batches/online_batch/batch_7pm/File_handling/\")"
   ]
  },
  {
   "cell_type": "code",
   "execution_count": 85,
   "metadata": {},
   "outputs": [
    {
     "name": "stdout",
     "output_type": "stream",
     "text": [
      "Name,Percentage\n",
      "Daivat,78.0\n",
      "Aarav,85.67\n",
      "Mihir,78.33\n",
      "Ajay,61.0\n",
      "Aman,77.33\n",
      "Haresh,84.0\n",
      "Ankit,75.0\n",
      "Akshay,74.67\n",
      "shubham,67.0\n",
      "shahid,64.33\n",
      "tushar,66.33\n",
      "rahul,69.33\n",
      "isha,67.0\n",
      "Simran,56.0\n",
      "Manish,56.0\n",
      "Ravi,58.33\n",
      "Sachin,60.0\n"
     ]
    }
   ],
   "source": [
    "per = open(\"percentage.csv\")\n",
    "print(per.read())\n",
    "per.close()"
   ]
  },
  {
   "cell_type": "code",
   "execution_count": 86,
   "metadata": {},
   "outputs": [],
   "source": [
    "##### Attendance System"
   ]
  },
  {
   "cell_type": "markdown",
   "metadata": {},
   "source": [
    "    Date,Topic,Haresh,Ajay,Aman,Aarav,Mihir,Daivit,Akshay,Ankit\n",
    "    05-10-20,File_Handling,P,P,P,A,P,A,P,A"
   ]
  },
  {
   "cell_type": "code",
   "execution_count": 90,
   "metadata": {},
   "outputs": [
    {
     "name": "stdout",
     "output_type": "stream",
     "text": [
      "\n",
      " Enter number of students : 10\n",
      "Name [1] : Aman\n",
      "Name [2] : Ajay\n",
      "Name [3] : Akshay\n",
      "Name [4] : Ankit\n",
      "Name [5] : Daivat\n",
      "Name [6] : Migir\n",
      "Name [7] : Mihir\n",
      "Name [8] : Aarav\n",
      "Name [9] : Haresh\n",
      "Name [10] : Simran\n"
     ]
    }
   ],
   "source": [
    "f = open(\"Att.csv\",\"w\")\n",
    "header = \"Date,Topic,\"\n",
    "for i in range(int(input(\"\\n Enter number of students : \"))):\n",
    "    name = input(f\"Name [{i+1}] : \")\n",
    "    header += name +','\n",
    "f.write(header[:-1])\n",
    "f.close()"
   ]
  },
  {
   "cell_type": "code",
   "execution_count": 91,
   "metadata": {},
   "outputs": [
    {
     "name": "stdout",
     "output_type": "stream",
     "text": [
      "Date,Topic,Aman,Ajay,Akshay,Ankit,Daivat,Migir,Mihir,Aarav,Haresh,Simran\n"
     ]
    }
   ],
   "source": [
    "f = open(\"Att.csv\")\n",
    "print(f.read())\n",
    "f.close()"
   ]
  },
  {
   "cell_type": "code",
   "execution_count": 93,
   "metadata": {},
   "outputs": [],
   "source": [
    "from datetime import datetime"
   ]
  },
  {
   "cell_type": "code",
   "execution_count": 96,
   "metadata": {},
   "outputs": [
    {
     "data": {
      "text/plain": [
       "'05-10-2020'"
      ]
     },
     "execution_count": 96,
     "metadata": {},
     "output_type": "execute_result"
    }
   ],
   "source": [
    "datetime.now().strftime(\"%d-%m-%Y\")"
   ]
  },
  {
   "cell_type": "code",
   "execution_count": 101,
   "metadata": {},
   "outputs": [
    {
     "name": "stdout",
     "output_type": "stream",
     "text": [
      "\n",
      " Topic for today's 05-10-2020 : Sockets\n",
      "\n",
      " Aman (A/P) ---> P\n",
      "\n",
      " Ajay (A/P) ---> A\n",
      "\n",
      " Akshay (A/P) ---> P\n",
      "\n",
      " Ankit (A/P) ---> P\n",
      "\n",
      " Daivat (A/P) ---> A\n",
      "\n",
      " Migir (A/P) ---> P\n",
      "\n",
      " Mihir (A/P) ---> A\n",
      "\n",
      " Aarav (A/P) ---> P\n",
      "\n",
      " Haresh (A/P) ---> A\n",
      "\n",
      " Simran (A/P) ---> P\n"
     ]
    }
   ],
   "source": [
    "f = open(\"Att.csv\")\n",
    "head = f.read()\n",
    "names = head.split(\",\")[2:]\n",
    "f.close()\n",
    "f = open(\"Att.csv\",\"a\")\n",
    "date = datetime.now().strftime(\"%d-%m-%Y\")\n",
    "topic = input(f\"\\n Topic for today's {date} : \")\n",
    "a = \"\"\n",
    "a += \"\\n\" + date + \",\" + topic + \",\"\n",
    "for i in names:\n",
    "    att = input(f\"\\n {i} (A/P) ---> \").upper()\n",
    "    if att == \"A\" or att == \"P\":\n",
    "        pass\n",
    "    else:\n",
    "        print()\n",
    "        att = input(\"Please Choose A/P \")\n",
    "    a += att + \",\"\n",
    "f.write(a[:-1])\n",
    "f.close()"
   ]
  },
  {
   "cell_type": "code",
   "execution_count": 99,
   "metadata": {},
   "outputs": [
    {
     "data": {
      "text/plain": [
       "['Aman',\n",
       " 'Ajay',\n",
       " 'Akshay',\n",
       " 'Ankit',\n",
       " 'Daivat',\n",
       " 'Migir',\n",
       " 'Mihir',\n",
       " 'Aarav',\n",
       " 'Haresh',\n",
       " 'Simran']"
      ]
     },
     "execution_count": 99,
     "metadata": {},
     "output_type": "execute_result"
    }
   ],
   "source": [
    "head.split(\",\")[2:]"
   ]
  },
  {
   "cell_type": "code",
   "execution_count": 18,
   "metadata": {},
   "outputs": [
    {
     "name": "stdout",
     "output_type": "stream",
     "text": [
      "\n",
      " Topic for today's 05-10-2020 : Networking\n",
      "\n",
      " Aman (A/P) ---> P\n",
      "\n",
      " Ajay (A/P) ---> A\n",
      "\n",
      " Akshay (A/P) ---> P\n",
      "\n",
      " Ankit (A/P) ---> A\n",
      "\n",
      " Daivat (A/P) ---> P\n",
      "\n",
      " Migir (A/P) ---> P\n",
      "\n",
      " Mihir (A/P) ---> A\n",
      "\n",
      " Aarav (A/P) ---> A\n",
      "\n",
      " Haresh (A/P) ---> P\n",
      "\n",
      " Simran (A/P) ---> P\n"
     ]
    }
   ],
   "source": [
    "from datetime import datetime\n",
    "def get_att(filename):\n",
    "    f = open(filename)\n",
    "    head = f.read()\n",
    "    names = head.split(\"\\n\")[0].split(\",\")[2:12]\n",
    "    f.close()\n",
    "    f = open(filename,\"a\")\n",
    "    date = datetime.now().strftime(\"%d-%m-%Y\")\n",
    "    topic = input(f\"\\n Topic for today's {date} : \")\n",
    "    a = \"\"\n",
    "    a += \"\\n\" + date + \",\" + topic + \",\"\n",
    "    for i in names:\n",
    "        att = input(f\"\\n {i} (A/P) ---> \").upper()\n",
    "        if att == \"A\" or att == \"P\":\n",
    "            pass\n",
    "        else:\n",
    "            print()\n",
    "            att = input(\"Please Choose A/P \")\n",
    "        a += att + \",\"\n",
    "    f.write(a[:-1])\n",
    "    f.close()\n",
    "\n",
    "get_att(\"Att.csv\")"
   ]
  },
  {
   "cell_type": "code",
   "execution_count": 19,
   "metadata": {},
   "outputs": [],
   "source": [
    "f = open(\"Att.csv\")\n",
    "d = (f.read())\n",
    "f.close()"
   ]
  },
  {
   "cell_type": "code",
   "execution_count": 16,
   "metadata": {},
   "outputs": [
    {
     "data": {
      "text/plain": [
       "['Aman',\n",
       " 'Ajay',\n",
       " 'Akshay',\n",
       " 'Ankit',\n",
       " 'Daivat',\n",
       " 'Migir',\n",
       " 'Mihir',\n",
       " 'Aarav',\n",
       " 'Haresh',\n",
       " 'Simran']"
      ]
     },
     "execution_count": 16,
     "metadata": {},
     "output_type": "execute_result"
    }
   ],
   "source": [
    "d.split(\"\\n\")[0].split(\",\")[2:12]"
   ]
  },
  {
   "cell_type": "code",
   "execution_count": 20,
   "metadata": {},
   "outputs": [
    {
     "data": {
      "text/plain": [
       "'Date,Topic,Aman,Ajay,Akshay,Ankit,Daivat,Migir,Mihir,Aarav,Haresh,Simran\\n05-10-2020,Sockets,P,A,P,P,A,P,A,P,A,P\\n05-10-2020,Networking,P,A,P,A,P,P,A,A,P,P'"
      ]
     },
     "execution_count": 20,
     "metadata": {},
     "output_type": "execute_result"
    }
   ],
   "source": [
    "d"
   ]
  },
  {
   "cell_type": "code",
   "execution_count": 21,
   "metadata": {},
   "outputs": [],
   "source": [
    "#### make a file which will store the percentage of present and per of absent of each student"
   ]
  },
  {
   "cell_type": "code",
   "execution_count": 22,
   "metadata": {},
   "outputs": [],
   "source": [
    "#### Serialization/Deserialization"
   ]
  },
  {
   "cell_type": "code",
   "execution_count": null,
   "metadata": {},
   "outputs": [],
   "source": []
  }
 ],
 "metadata": {
  "kernelspec": {
   "display_name": "Python 3",
   "language": "python",
   "name": "python3"
  },
  "language_info": {
   "codemirror_mode": {
    "name": "ipython",
    "version": 3
   },
   "file_extension": ".py",
   "mimetype": "text/x-python",
   "name": "python",
   "nbconvert_exporter": "python",
   "pygments_lexer": "ipython3",
   "version": "3.7.4"
  }
 },
 "nbformat": 4,
 "nbformat_minor": 2
}
