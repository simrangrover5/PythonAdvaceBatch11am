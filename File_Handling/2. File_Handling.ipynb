{
 "cells": [
  {
   "cell_type": "code",
   "execution_count": 1,
   "metadata": {},
   "outputs": [],
   "source": [
    "f = open(\"hello.txt\",\"w\")"
   ]
  },
  {
   "cell_type": "code",
   "execution_count": 2,
   "metadata": {},
   "outputs": [
    {
     "data": {
      "text/plain": [
       "40"
      ]
     },
     "execution_count": 2,
     "metadata": {},
     "output_type": "execute_result"
    }
   ],
   "source": [
    "f.write(\"This is my second class of file handling\")"
   ]
  },
  {
   "cell_type": "code",
   "execution_count": 3,
   "metadata": {},
   "outputs": [
    {
     "data": {
      "text/plain": [
       "40"
      ]
     },
     "execution_count": 3,
     "metadata": {},
     "output_type": "execute_result"
    }
   ],
   "source": [
    "f.tell()"
   ]
  },
  {
   "cell_type": "code",
   "execution_count": 4,
   "metadata": {},
   "outputs": [
    {
     "data": {
      "text/plain": [
       "23"
      ]
     },
     "execution_count": 4,
     "metadata": {},
     "output_type": "execute_result"
    }
   ],
   "source": [
    "f.write(\" This is continued.....\")"
   ]
  },
  {
   "cell_type": "code",
   "execution_count": 5,
   "metadata": {},
   "outputs": [
    {
     "data": {
      "text/plain": [
       "63"
      ]
     },
     "execution_count": 5,
     "metadata": {},
     "output_type": "execute_result"
    }
   ],
   "source": [
    "f.tell()"
   ]
  },
  {
   "cell_type": "code",
   "execution_count": 6,
   "metadata": {},
   "outputs": [
    {
     "data": {
      "text/plain": [
       "20"
      ]
     },
     "execution_count": 6,
     "metadata": {},
     "output_type": "execute_result"
    }
   ],
   "source": [
    "f.seek(20)"
   ]
  },
  {
   "cell_type": "code",
   "execution_count": 7,
   "metadata": {},
   "outputs": [
    {
     "data": {
      "text/plain": [
       "20"
      ]
     },
     "execution_count": 7,
     "metadata": {},
     "output_type": "execute_result"
    }
   ],
   "source": [
    "f.tell()"
   ]
  },
  {
   "cell_type": "code",
   "execution_count": 8,
   "metadata": {},
   "outputs": [
    {
     "data": {
      "text/plain": [
       "13"
      ]
     },
     "execution_count": 8,
     "metadata": {},
     "output_type": "execute_result"
    }
   ],
   "source": [
    "f.write(\"SIMRAN GROVER\")"
   ]
  },
  {
   "cell_type": "code",
   "execution_count": 9,
   "metadata": {},
   "outputs": [
    {
     "data": {
      "text/plain": [
       "33"
      ]
     },
     "execution_count": 9,
     "metadata": {},
     "output_type": "execute_result"
    }
   ],
   "source": [
    "f.tell()"
   ]
  },
  {
   "cell_type": "code",
   "execution_count": 10,
   "metadata": {},
   "outputs": [],
   "source": [
    "import os\n",
    "#os --> Operating System"
   ]
  },
  {
   "cell_type": "code",
   "execution_count": 11,
   "metadata": {},
   "outputs": [
    {
     "name": "stdout",
     "output_type": "stream",
     "text": [
      "['DirEntry', 'F_OK', 'MutableMapping', 'O_APPEND', 'O_BINARY', 'O_CREAT', 'O_EXCL', 'O_NOINHERIT', 'O_RANDOM', 'O_RDONLY', 'O_RDWR', 'O_SEQUENTIAL', 'O_SHORT_LIVED', 'O_TEMPORARY', 'O_TEXT', 'O_TRUNC', 'O_WRONLY', 'P_DETACH', 'P_NOWAIT', 'P_NOWAITO', 'P_OVERLAY', 'P_WAIT', 'PathLike', 'R_OK', 'SEEK_CUR', 'SEEK_END', 'SEEK_SET', 'TMP_MAX', 'W_OK', 'X_OK', '_Environ', '__all__', '__builtins__', '__cached__', '__doc__', '__file__', '__loader__', '__name__', '__package__', '__spec__', '_execvpe', '_exists', '_exit', '_fspath', '_get_exports_list', '_putenv', '_unsetenv', '_wrap_close', 'abc', 'abort', 'access', 'altsep', 'chdir', 'chmod', 'close', 'closerange', 'cpu_count', 'curdir', 'defpath', 'device_encoding', 'devnull', 'dup', 'dup2', 'environ', 'error', 'execl', 'execle', 'execlp', 'execlpe', 'execv', 'execve', 'execvp', 'execvpe', 'extsep', 'fdopen', 'fsdecode', 'fsencode', 'fspath', 'fstat', 'fsync', 'ftruncate', 'get_exec_path', 'get_handle_inheritable', 'get_inheritable', 'get_terminal_size', 'getcwd', 'getcwdb', 'getenv', 'getlogin', 'getpid', 'getppid', 'isatty', 'kill', 'linesep', 'link', 'listdir', 'lseek', 'lstat', 'makedirs', 'mkdir', 'name', 'open', 'pardir', 'path', 'pathsep', 'pipe', 'popen', 'putenv', 'read', 'readlink', 'remove', 'removedirs', 'rename', 'renames', 'replace', 'rmdir', 'scandir', 'sep', 'set_handle_inheritable', 'set_inheritable', 'spawnl', 'spawnle', 'spawnv', 'spawnve', 'st', 'startfile', 'stat', 'stat_result', 'statvfs_result', 'strerror', 'supports_bytes_environ', 'supports_dir_fd', 'supports_effective_ids', 'supports_fd', 'supports_follow_symlinks', 'symlink', 'sys', 'system', 'terminal_size', 'times', 'times_result', 'truncate', 'umask', 'uname_result', 'unlink', 'urandom', 'utime', 'waitpid', 'walk', 'write']\n"
     ]
    }
   ],
   "source": [
    "print(dir(os))"
   ]
  },
  {
   "cell_type": "code",
   "execution_count": 12,
   "metadata": {},
   "outputs": [
    {
     "name": "stdout",
     "output_type": "stream",
     "text": [
      "['__all__', '__builtins__', '__cached__', '__doc__', '__file__', '__loader__', '__name__', '__package__', '__spec__', '_abspath_fallback', '_get_bothseps', '_getfinalpathname', '_getfullpathname', '_getvolumepathname', 'abspath', 'altsep', 'basename', 'commonpath', 'commonprefix', 'curdir', 'defpath', 'devnull', 'dirname', 'exists', 'expanduser', 'expandvars', 'extsep', 'genericpath', 'getatime', 'getctime', 'getmtime', 'getsize', 'isabs', 'isdir', 'isfile', 'islink', 'ismount', 'join', 'lexists', 'normcase', 'normpath', 'os', 'pardir', 'pathsep', 'realpath', 'relpath', 'samefile', 'sameopenfile', 'samestat', 'sep', 'split', 'splitdrive', 'splitext', 'stat', 'supports_unicode_filenames', 'sys']\n"
     ]
    }
   ],
   "source": [
    "print(dir(os.path))"
   ]
  },
  {
   "cell_type": "code",
   "execution_count": 13,
   "metadata": {},
   "outputs": [
    {
     "data": {
      "text/plain": [
       "'C:\\\\batches\\\\online_batch\\\\pythonbatch10_15am\\\\File_Handling'"
      ]
     },
     "execution_count": 13,
     "metadata": {},
     "output_type": "execute_result"
    }
   ],
   "source": [
    "pwd"
   ]
  },
  {
   "cell_type": "code",
   "execution_count": 14,
   "metadata": {},
   "outputs": [
    {
     "data": {
      "text/plain": [
       "'C:\\\\batches\\\\online_batch\\\\pythonbatch10_15am\\\\File_Handling'"
      ]
     },
     "execution_count": 14,
     "metadata": {},
     "output_type": "execute_result"
    }
   ],
   "source": [
    "os.getcwd()"
   ]
  },
  {
   "cell_type": "code",
   "execution_count": 15,
   "metadata": {},
   "outputs": [
    {
     "data": {
      "text/plain": [
       "str"
      ]
     },
     "execution_count": 15,
     "metadata": {},
     "output_type": "execute_result"
    }
   ],
   "source": [
    "type(os.getcwd())"
   ]
  },
  {
   "cell_type": "code",
   "execution_count": 16,
   "metadata": {},
   "outputs": [
    {
     "name": "stdout",
     "output_type": "stream",
     "text": [
      " Volume in drive C is Windows\n",
      " Volume Serial Number is E08D-DAD9\n",
      "\n",
      " Directory of C:\\batches\\online_batch\\pythonbatch10_15am\\File_Handling\n",
      "\n",
      "03-10-2020  11:15    <DIR>          .\n",
      "03-10-2020  11:15    <DIR>          ..\n",
      "03-10-2020  11:11    <DIR>          .ipynb_checkpoints\n",
      "02-10-2020  12:50            37,735 1. File_Handling.ipynb\n",
      "03-10-2020  11:15             5,348 2. File_Handling.ipynb\n",
      "03-10-2020  11:13                63 hello.txt\n",
      "02-10-2020  12:08                72 one.py\n",
      "02-10-2020  12:18                57 one.txt\n",
      "02-10-2020  12:25                34 two.txt\n",
      "               6 File(s)         43,309 bytes\n",
      "               3 Dir(s)  38,799,945,728 bytes free\n"
     ]
    }
   ],
   "source": [
    "ls"
   ]
  },
  {
   "cell_type": "code",
   "execution_count": 17,
   "metadata": {},
   "outputs": [],
   "source": [
    "os.mkdir(\"abc\")"
   ]
  },
  {
   "cell_type": "code",
   "execution_count": 18,
   "metadata": {},
   "outputs": [
    {
     "name": "stdout",
     "output_type": "stream",
     "text": [
      " Volume in drive C is Windows\n",
      " Volume Serial Number is E08D-DAD9\n",
      "\n",
      " Directory of C:\\batches\\online_batch\\pythonbatch10_15am\\File_Handling\n",
      "\n",
      "03-10-2020  11:17    <DIR>          .\n",
      "03-10-2020  11:17    <DIR>          ..\n",
      "03-10-2020  11:11    <DIR>          .ipynb_checkpoints\n",
      "02-10-2020  12:50            37,735 1. File_Handling.ipynb\n",
      "03-10-2020  11:17             8,411 2. File_Handling.ipynb\n",
      "03-10-2020  11:17    <DIR>          abc\n",
      "03-10-2020  11:13                63 hello.txt\n",
      "02-10-2020  12:08                72 one.py\n",
      "02-10-2020  12:18                57 one.txt\n",
      "02-10-2020  12:25                34 two.txt\n",
      "               6 File(s)         46,372 bytes\n",
      "               4 Dir(s)  38,796,791,808 bytes free\n"
     ]
    }
   ],
   "source": [
    "ls"
   ]
  },
  {
   "cell_type": "code",
   "execution_count": 19,
   "metadata": {},
   "outputs": [],
   "source": [
    "!mkdir hello"
   ]
  },
  {
   "cell_type": "code",
   "execution_count": 20,
   "metadata": {},
   "outputs": [
    {
     "name": "stdout",
     "output_type": "stream",
     "text": [
      " Volume in drive C is Windows\n",
      " Volume Serial Number is E08D-DAD9\n",
      "\n",
      " Directory of C:\\batches\\online_batch\\pythonbatch10_15am\\File_Handling\n",
      "\n",
      "03-10-2020  11:18    <DIR>          .\n",
      "03-10-2020  11:18    <DIR>          ..\n",
      "03-10-2020  11:11    <DIR>          .ipynb_checkpoints\n",
      "02-10-2020  12:50            37,735 1. File_Handling.ipynb\n",
      "03-10-2020  11:17             8,411 2. File_Handling.ipynb\n",
      "03-10-2020  11:17    <DIR>          abc\n",
      "03-10-2020  11:18    <DIR>          hello\n",
      "03-10-2020  11:13                63 hello.txt\n",
      "02-10-2020  12:08                72 one.py\n",
      "02-10-2020  12:18                57 one.txt\n",
      "02-10-2020  12:25                34 two.txt\n",
      "               6 File(s)         46,372 bytes\n",
      "               5 Dir(s)  38,794,956,800 bytes free\n"
     ]
    }
   ],
   "source": [
    "ls"
   ]
  },
  {
   "cell_type": "code",
   "execution_count": 21,
   "metadata": {},
   "outputs": [],
   "source": [
    "os.rmdir(\"abc\")"
   ]
  },
  {
   "cell_type": "code",
   "execution_count": 22,
   "metadata": {},
   "outputs": [
    {
     "name": "stdout",
     "output_type": "stream",
     "text": [
      " Volume in drive C is Windows\n",
      " Volume Serial Number is E08D-DAD9\n",
      "\n",
      " Directory of C:\\batches\\online_batch\\pythonbatch10_15am\\File_Handling\n",
      "\n",
      "03-10-2020  11:18    <DIR>          .\n",
      "03-10-2020  11:18    <DIR>          ..\n",
      "03-10-2020  11:11    <DIR>          .ipynb_checkpoints\n",
      "02-10-2020  12:50            37,735 1. File_Handling.ipynb\n",
      "03-10-2020  11:17             8,411 2. File_Handling.ipynb\n",
      "03-10-2020  11:18    <DIR>          hello\n",
      "03-10-2020  11:13                63 hello.txt\n",
      "02-10-2020  12:08                72 one.py\n",
      "02-10-2020  12:18                57 one.txt\n",
      "02-10-2020  12:25                34 two.txt\n",
      "               6 File(s)         46,372 bytes\n",
      "               4 Dir(s)  38,792,826,880 bytes free\n"
     ]
    }
   ],
   "source": [
    "ls"
   ]
  },
  {
   "cell_type": "code",
   "execution_count": 23,
   "metadata": {},
   "outputs": [],
   "source": [
    "os.remove(\"one.txt\")"
   ]
  },
  {
   "cell_type": "code",
   "execution_count": 25,
   "metadata": {},
   "outputs": [
    {
     "name": "stdout",
     "output_type": "stream",
     "text": [
      " Volume in drive C is Windows\n",
      " Volume Serial Number is E08D-DAD9\n",
      "\n",
      " Directory of C:\\batches\\online_batch\\pythonbatch10_15am\\File_Handling\n",
      "\n",
      "03-10-2020  11:18    <DIR>          .\n",
      "03-10-2020  11:18    <DIR>          ..\n",
      "03-10-2020  11:11    <DIR>          .ipynb_checkpoints\n",
      "02-10-2020  12:50            37,735 1. File_Handling.ipynb\n",
      "03-10-2020  11:17             8,411 2. File_Handling.ipynb\n",
      "03-10-2020  11:18    <DIR>          hello\n",
      "03-10-2020  11:13                63 hello.txt\n",
      "02-10-2020  12:08                72 one.py\n",
      "02-10-2020  12:25                34 two.txt\n",
      "               5 File(s)         46,315 bytes\n",
      "               4 Dir(s)  38,790,725,632 bytes free\n"
     ]
    }
   ],
   "source": [
    "ls"
   ]
  },
  {
   "cell_type": "code",
   "execution_count": 24,
   "metadata": {},
   "outputs": [
    {
     "ename": "PermissionError",
     "evalue": "[WinError 5] Access is denied: 'hello'",
     "output_type": "error",
     "traceback": [
      "\u001b[1;31m---------------------------------------------------------------------------\u001b[0m",
      "\u001b[1;31mPermissionError\u001b[0m                           Traceback (most recent call last)",
      "\u001b[1;32m<ipython-input-24-e8e23f8e009a>\u001b[0m in \u001b[0;36m<module>\u001b[1;34m\u001b[0m\n\u001b[1;32m----> 1\u001b[1;33m \u001b[0mos\u001b[0m\u001b[1;33m.\u001b[0m\u001b[0mremove\u001b[0m\u001b[1;33m(\u001b[0m\u001b[1;34m\"hello\"\u001b[0m\u001b[1;33m)\u001b[0m\u001b[1;33m\u001b[0m\u001b[1;33m\u001b[0m\u001b[0m\n\u001b[0m",
      "\u001b[1;31mPermissionError\u001b[0m: [WinError 5] Access is denied: 'hello'"
     ]
    }
   ],
   "source": [
    "os.remove(\"hello\")"
   ]
  },
  {
   "cell_type": "code",
   "execution_count": 26,
   "metadata": {},
   "outputs": [],
   "source": [
    "os.rmdir(\"hello\")"
   ]
  },
  {
   "cell_type": "code",
   "execution_count": 27,
   "metadata": {},
   "outputs": [
    {
     "name": "stdout",
     "output_type": "stream",
     "text": [
      " Volume in drive C is Windows\n",
      " Volume Serial Number is E08D-DAD9\n",
      "\n",
      " Directory of C:\\batches\\online_batch\\pythonbatch10_15am\\File_Handling\n",
      "\n",
      "03-10-2020  11:19    <DIR>          .\n",
      "03-10-2020  11:19    <DIR>          ..\n",
      "03-10-2020  11:11    <DIR>          .ipynb_checkpoints\n",
      "02-10-2020  12:50            37,735 1. File_Handling.ipynb\n",
      "03-10-2020  11:19            14,346 2. File_Handling.ipynb\n",
      "03-10-2020  11:13                63 hello.txt\n",
      "02-10-2020  12:08                72 one.py\n",
      "02-10-2020  12:25                34 two.txt\n",
      "               5 File(s)         52,250 bytes\n",
      "               3 Dir(s)  38,770,798,592 bytes free\n"
     ]
    }
   ],
   "source": [
    "ls"
   ]
  },
  {
   "cell_type": "code",
   "execution_count": 28,
   "metadata": {},
   "outputs": [],
   "source": [
    "f = open(\"one.py\",\"w\")\n",
    "f.write(\"\")\n",
    "f.close()"
   ]
  },
  {
   "cell_type": "code",
   "execution_count": 29,
   "metadata": {},
   "outputs": [
    {
     "name": "stdout",
     "output_type": "stream",
     "text": [
      "\n"
     ]
    }
   ],
   "source": [
    "f = open(\"one.py\")\n",
    "print(f.read())\n",
    "f.close()"
   ]
  },
  {
   "cell_type": "code",
   "execution_count": 30,
   "metadata": {},
   "outputs": [
    {
     "data": {
      "text/plain": [
       "'.'"
      ]
     },
     "execution_count": 30,
     "metadata": {},
     "output_type": "execute_result"
    }
   ],
   "source": [
    "os.curdir"
   ]
  },
  {
   "cell_type": "code",
   "execution_count": 31,
   "metadata": {},
   "outputs": [],
   "source": [
    "os.chdir(\"../..\")"
   ]
  },
  {
   "cell_type": "code",
   "execution_count": 32,
   "metadata": {},
   "outputs": [
    {
     "data": {
      "text/plain": [
       "'C:\\\\batches\\\\online_batch'"
      ]
     },
     "execution_count": 32,
     "metadata": {},
     "output_type": "execute_result"
    }
   ],
   "source": [
    "pwd"
   ]
  },
  {
   "cell_type": "code",
   "execution_count": 33,
   "metadata": {},
   "outputs": [],
   "source": [
    "f = open(\"simran.key\",\"w\")\n",
    "f.write(\"redhatredhat\")\n",
    "f.close()"
   ]
  },
  {
   "cell_type": "code",
   "execution_count": 34,
   "metadata": {},
   "outputs": [
    {
     "name": "stdout",
     "output_type": "stream",
     "text": [
      " Volume in drive C is Windows\n",
      " Volume Serial Number is E08D-DAD9\n",
      "\n",
      " Directory of C:\\batches\\online_batch\n",
      "\n",
      "03-10-2020  11:22    <DIR>          .\n",
      "03-10-2020  11:22    <DIR>          ..\n",
      "14-07-2020  11:13    <DIR>          .ipynb_checkpoints\n",
      "20-03-2020  14:29    <DIR>          __pycache__\n",
      "02-09-2020  10:04    <DIR>          9amdevbatch\n",
      "17-06-2020  10:01    <DIR>          advance_batch\n",
      "21-09-2020  18:44    <DIR>          batch_7pm\n",
      "17-09-2020  14:09    <DIR>          batch1pm\n",
      "19-08-2020  09:43    <DIR>          batch9am\n",
      "30-07-2020  20:36    <DIR>          git_repo\n",
      "14-07-2020  17:48    <DIR>          internship_batch\n",
      "02-10-2020  11:34    <DIR>          pythonbatch10_15am\n",
      "03-10-2020  11:22                12 simran.key\n",
      "               1 File(s)             12 bytes\n",
      "              12 Dir(s)  38,742,478,848 bytes free\n"
     ]
    }
   ],
   "source": [
    "ls"
   ]
  },
  {
   "cell_type": "code",
   "execution_count": 35,
   "metadata": {},
   "outputs": [
    {
     "ename": "FileNotFoundError",
     "evalue": "[WinError 2] The system cannot find the file specified: 'two.txt'",
     "output_type": "error",
     "traceback": [
      "\u001b[1;31m---------------------------------------------------------------------------\u001b[0m",
      "\u001b[1;31mFileNotFoundError\u001b[0m                         Traceback (most recent call last)",
      "\u001b[1;32m<ipython-input-35-9cdd236d0818>\u001b[0m in \u001b[0;36m<module>\u001b[1;34m\u001b[0m\n\u001b[1;32m----> 1\u001b[1;33m \u001b[0mos\u001b[0m\u001b[1;33m.\u001b[0m\u001b[0mremove\u001b[0m\u001b[1;33m(\u001b[0m\u001b[1;34m\"two.txt\"\u001b[0m\u001b[1;33m)\u001b[0m\u001b[1;33m\u001b[0m\u001b[1;33m\u001b[0m\u001b[0m\n\u001b[0m",
      "\u001b[1;31mFileNotFoundError\u001b[0m: [WinError 2] The system cannot find the file specified: 'two.txt'"
     ]
    }
   ],
   "source": [
    "os.remove(\"two.txt\")"
   ]
  },
  {
   "cell_type": "code",
   "execution_count": 36,
   "metadata": {},
   "outputs": [],
   "source": [
    "os.remove(\"C://batches//online_batch/pythonbatch10_15am/File_Handling/two.txt\")"
   ]
  },
  {
   "cell_type": "code",
   "execution_count": 37,
   "metadata": {},
   "outputs": [],
   "source": [
    "os.remove(\"simran.key\")"
   ]
  },
  {
   "cell_type": "code",
   "execution_count": 38,
   "metadata": {},
   "outputs": [],
   "source": [
    "os.chdir(\"pythonbatch10_15am/File_Handling/\")"
   ]
  },
  {
   "cell_type": "code",
   "execution_count": 39,
   "metadata": {},
   "outputs": [
    {
     "data": {
      "text/plain": [
       "'C:\\\\batches\\\\online_batch\\\\pythonbatch10_15am\\\\File_Handling'"
      ]
     },
     "execution_count": 39,
     "metadata": {},
     "output_type": "execute_result"
    }
   ],
   "source": [
    "pwd"
   ]
  },
  {
   "cell_type": "code",
   "execution_count": 40,
   "metadata": {},
   "outputs": [
    {
     "name": "stdout",
     "output_type": "stream",
     "text": [
      " Volume in drive C is Windows\n",
      " Volume Serial Number is E08D-DAD9\n",
      "\n",
      " Directory of C:\\batches\\online_batch\\pythonbatch10_15am\\File_Handling\n",
      "\n",
      "03-10-2020  11:29    <DIR>          .\n",
      "03-10-2020  11:29    <DIR>          ..\n",
      "03-10-2020  11:11    <DIR>          .ipynb_checkpoints\n",
      "02-10-2020  12:50            37,735 1. File_Handling.ipynb\n",
      "03-10-2020  11:29            20,067 2. File_Handling.ipynb\n",
      "03-10-2020  11:13                63 hello.txt\n",
      "03-10-2020  11:20                 0 one.py\n",
      "               4 File(s)         57,865 bytes\n",
      "               3 Dir(s)  39,225,253,888 bytes free\n"
     ]
    }
   ],
   "source": [
    "ls"
   ]
  },
  {
   "cell_type": "code",
   "execution_count": 42,
   "metadata": {},
   "outputs": [],
   "source": [
    "f.close()"
   ]
  },
  {
   "cell_type": "code",
   "execution_count": 45,
   "metadata": {},
   "outputs": [],
   "source": [
    "os.rename(\"one.py\",\"One.py\")"
   ]
  },
  {
   "cell_type": "code",
   "execution_count": 46,
   "metadata": {},
   "outputs": [
    {
     "data": {
      "text/plain": [
       "0"
      ]
     },
     "execution_count": 46,
     "metadata": {},
     "output_type": "execute_result"
    }
   ],
   "source": [
    "os.system(\"ipconfig\")"
   ]
  },
  {
   "cell_type": "code",
   "execution_count": 47,
   "metadata": {},
   "outputs": [],
   "source": [
    "#system always return 2 things 1. 0 --> Run cmd successfully 2. 1 --> Command does not run successfully"
   ]
  },
  {
   "cell_type": "code",
   "execution_count": 48,
   "metadata": {},
   "outputs": [
    {
     "data": {
      "text/plain": [
       "1"
      ]
     },
     "execution_count": 48,
     "metadata": {},
     "output_type": "execute_result"
    }
   ],
   "source": [
    "os.system(\"ifconfig\")"
   ]
  },
  {
   "cell_type": "code",
   "execution_count": 49,
   "metadata": {},
   "outputs": [
    {
     "data": {
      "text/plain": [
       "1"
      ]
     },
     "execution_count": 49,
     "metadata": {},
     "output_type": "execute_result"
    }
   ],
   "source": [
    "os.system(\"dhclient\")"
   ]
  },
  {
   "cell_type": "code",
   "execution_count": 50,
   "metadata": {},
   "outputs": [
    {
     "data": {
      "text/plain": [
       "0"
      ]
     },
     "execution_count": 50,
     "metadata": {},
     "output_type": "execute_result"
    }
   ],
   "source": [
    "os.system(\"mkdir abc\")"
   ]
  },
  {
   "cell_type": "code",
   "execution_count": 51,
   "metadata": {},
   "outputs": [
    {
     "name": "stdout",
     "output_type": "stream",
     "text": [
      " Volume in drive C is Windows\n",
      " Volume Serial Number is E08D-DAD9\n",
      "\n",
      " Directory of C:\\batches\\online_batch\\pythonbatch10_15am\\File_Handling\n",
      "\n",
      "03-10-2020  11:37    <DIR>          .\n",
      "03-10-2020  11:37    <DIR>          ..\n",
      "03-10-2020  11:11    <DIR>          .ipynb_checkpoints\n",
      "02-10-2020  12:50            37,735 1. File_Handling.ipynb\n",
      "03-10-2020  11:35            21,664 2. File_Handling.ipynb\n",
      "03-10-2020  11:37    <DIR>          abc\n",
      "03-10-2020  11:13                63 hello.txt\n",
      "03-10-2020  11:20                 0 One.py\n",
      "               4 File(s)         59,462 bytes\n",
      "               4 Dir(s)  39,223,623,680 bytes free\n"
     ]
    }
   ],
   "source": [
    "ls"
   ]
  },
  {
   "cell_type": "code",
   "execution_count": 52,
   "metadata": {},
   "outputs": [
    {
     "data": {
      "text/plain": [
       "1"
      ]
     },
     "execution_count": 52,
     "metadata": {},
     "output_type": "execute_result"
    }
   ],
   "source": [
    "os.system(\"cp hello.txt abc\")"
   ]
  },
  {
   "cell_type": "code",
   "execution_count": 53,
   "metadata": {},
   "outputs": [
    {
     "data": {
      "text/plain": [
       "0"
      ]
     },
     "execution_count": 53,
     "metadata": {},
     "output_type": "execute_result"
    }
   ],
   "source": [
    "os.system(\"copy hello.txt abc\")"
   ]
  },
  {
   "cell_type": "code",
   "execution_count": 54,
   "metadata": {},
   "outputs": [
    {
     "name": "stdout",
     "output_type": "stream",
     "text": [
      "\n",
      "Windows IP Configuration\n",
      "\n",
      "\n",
      "Ethernet adapter Ethernet 2:\n",
      "\n",
      "   Media State . . . . . . . . . . . : Media disconnected\n",
      "   Connection-specific DNS Suffix  . : www.tendawifi.com\n",
      "\n",
      "Ethernet adapter Npcap Loopback Adapter:\n",
      "\n",
      "   Connection-specific DNS Suffix  . : \n",
      "   Link-local IPv6 Address . . . . . : fe80::10f8:f6c5:c6b3:1ddf%10\n",
      "   Autoconfiguration IPv4 Address. . : 169.254.29.223\n",
      "   Subnet Mask . . . . . . . . . . . : 255.255.0.0\n",
      "   Default Gateway . . . . . . . . . : \n",
      "\n",
      "Wireless LAN adapter Local Area Connection* 1:\n",
      "\n",
      "   Media State . . . . . . . . . . . : Media disconnected\n",
      "   Connection-specific DNS Suffix  . : \n",
      "\n",
      "Wireless LAN adapter Local Area Connection* 11:\n",
      "\n",
      "   Media State . . . . . . . . . . . : Media disconnected\n",
      "   Connection-specific DNS Suffix  . : \n",
      "\n",
      "Ethernet adapter VMware Network Adapter VMnet1:\n",
      "\n",
      "   Connection-specific DNS Suffix  . : \n",
      "   Link-local IPv6 Address . . . . . : fe80::34b9:61ee:aa27:4ae6%14\n",
      "   IPv4 Address. . . . . . . . . . . : 192.168.226.1\n",
      "   Subnet Mask . . . . . . . . . . . : 255.255.255.0\n",
      "   Default Gateway . . . . . . . . . : \n",
      "\n",
      "Ethernet adapter VMware Network Adapter VMnet8:\n",
      "\n",
      "   Connection-specific DNS Suffix  . : \n",
      "   Link-local IPv6 Address . . . . . : fe80::d77:b06d:dcb4:49db%4\n",
      "   IPv4 Address. . . . . . . . . . . : 192.168.116.1\n",
      "   Subnet Mask . . . . . . . . . . . : 255.255.255.0\n",
      "   Default Gateway . . . . . . . . . : \n",
      "\n",
      "Wireless LAN adapter Wi-Fi:\n",
      "\n",
      "   Connection-specific DNS Suffix  . : \n",
      "   Link-local IPv6 Address . . . . . : fe80::b538:c1a0:3b6c:d403%11\n",
      "   IPv4 Address. . . . . . . . . . . : 192.168.1.4\n",
      "   Subnet Mask . . . . . . . . . . . : 255.255.255.0\n",
      "   Default Gateway . . . . . . . . . : 192.168.1.254\n"
     ]
    }
   ],
   "source": [
    "!ipconfig"
   ]
  },
  {
   "cell_type": "code",
   "execution_count": 55,
   "metadata": {},
   "outputs": [],
   "source": [
    "os.chdir(\"abc\")"
   ]
  },
  {
   "cell_type": "code",
   "execution_count": 56,
   "metadata": {},
   "outputs": [
    {
     "name": "stdout",
     "output_type": "stream",
     "text": [
      " Volume in drive C is Windows\n",
      " Volume Serial Number is E08D-DAD9\n",
      "\n",
      " Directory of C:\\batches\\online_batch\\pythonbatch10_15am\\File_Handling\\abc\n",
      "\n",
      "03-10-2020  11:38    <DIR>          .\n",
      "03-10-2020  11:38    <DIR>          ..\n",
      "03-10-2020  11:13                63 hello.txt\n",
      "               1 File(s)             63 bytes\n",
      "               2 Dir(s)  39,230,083,072 bytes free\n"
     ]
    }
   ],
   "source": [
    "ls"
   ]
  },
  {
   "cell_type": "code",
   "execution_count": 57,
   "metadata": {},
   "outputs": [],
   "source": [
    "os.chdir(\"..\")"
   ]
  },
  {
   "cell_type": "code",
   "execution_count": 61,
   "metadata": {},
   "outputs": [],
   "source": [
    "p = os.popen(\"ipconfig\")"
   ]
  },
  {
   "cell_type": "code",
   "execution_count": 62,
   "metadata": {},
   "outputs": [
    {
     "name": "stdout",
     "output_type": "stream",
     "text": [
      "\n",
      "Windows IP Configuration\n",
      "\n",
      "\n",
      "Ethernet adapter Ethernet 2:\n",
      "\n",
      "   Media State . . . . . . . . . . . : Media disconnected\n",
      "   Connection-specific DNS Suffix  . : www.tendawifi.com\n",
      "\n",
      "Ethernet adapter Npcap Loopback Adapter:\n",
      "\n",
      "   Connection-specific DNS Suffix  . : \n",
      "   Link-local IPv6 Address . . . . . : fe80::10f8:f6c5:c6b3:1ddf%10\n",
      "   Autoconfiguration IPv4 Address. . : 169.254.29.223\n",
      "   Subnet Mask . . . . . . . . . . . : 255.255.0.0\n",
      "   Default Gateway . . . . . . . . . : \n",
      "\n",
      "Wireless LAN adapter Local Area Connection* 1:\n",
      "\n",
      "   Media State . . . . . . . . . . . : Media disconnected\n",
      "   Connection-specific DNS Suffix  . : \n",
      "\n",
      "Wireless LAN adapter Local Area Connection* 11:\n",
      "\n",
      "   Media State . . . . . . . . . . . : Media disconnected\n",
      "   Connection-specific DNS Suffix  . : \n",
      "\n",
      "Ethernet adapter VMware Network Adapter VMnet1:\n",
      "\n",
      "   Connection-specific DNS Suffix  . : \n",
      "   Link-local IPv6 Address . . . . . : fe80::34b9:61ee:aa27:4ae6%14\n",
      "   IPv4 Address. . . . . . . . . . . : 192.168.226.1\n",
      "   Subnet Mask . . . . . . . . . . . : 255.255.255.0\n",
      "   Default Gateway . . . . . . . . . : \n",
      "\n",
      "Ethernet adapter VMware Network Adapter VMnet8:\n",
      "\n",
      "   Connection-specific DNS Suffix  . : \n",
      "   Link-local IPv6 Address . . . . . : fe80::d77:b06d:dcb4:49db%4\n",
      "   IPv4 Address. . . . . . . . . . . : 192.168.116.1\n",
      "   Subnet Mask . . . . . . . . . . . : 255.255.255.0\n",
      "   Default Gateway . . . . . . . . . : \n",
      "\n",
      "Wireless LAN adapter Wi-Fi:\n",
      "\n",
      "   Connection-specific DNS Suffix  . : \n",
      "   Link-local IPv6 Address . . . . . : fe80::b538:c1a0:3b6c:d403%11\n",
      "   IPv4 Address. . . . . . . . . . . : 192.168.1.4\n",
      "   Subnet Mask . . . . . . . . . . . : 255.255.255.0\n",
      "   Default Gateway . . . . . . . . . : 192.168.1.254\n",
      "\n"
     ]
    }
   ],
   "source": [
    "print(p.read())"
   ]
  },
  {
   "cell_type": "code",
   "execution_count": 64,
   "metadata": {},
   "outputs": [
    {
     "name": "stdout",
     "output_type": "stream",
     "text": [
      "\n",
      "Pinging www.google.com [142.250.67.164] with 32 bytes of data:\n",
      "Reply from 142.250.67.164: bytes=32 time=21ms TTL=119\n",
      "Reply from 142.250.67.164: bytes=32 time=24ms TTL=119\n",
      "Reply from 142.250.67.164: bytes=32 time=21ms TTL=119\n",
      "Reply from 142.250.67.164: bytes=32 time=20ms TTL=119\n",
      "\n",
      "Ping statistics for 142.250.67.164:\n",
      "    Packets: Sent = 4, Received = 4, Lost = 0 (0% loss),\n",
      "Approximate round trip times in milli-seconds:\n",
      "    Minimum = 20ms, Maximum = 24ms, Average = 21ms\n",
      "\n"
     ]
    }
   ],
   "source": [
    "p = os.popen(\"ping www.google.com\")\n",
    "print(p.read())"
   ]
  },
  {
   "cell_type": "code",
   "execution_count": 65,
   "metadata": {},
   "outputs": [
    {
     "name": "stdout",
     "output_type": "stream",
     "text": [
      "\n",
      "Pinging d2iwv1xxkqpmiz.cloudfront.net [13.227.138.92] with 32 bytes of data:\n",
      "Reply from 13.227.138.92: bytes=32 time=23ms TTL=245\n",
      "Reply from 13.227.138.92: bytes=32 time=22ms TTL=245\n",
      "Reply from 13.227.138.92: bytes=32 time=21ms TTL=245\n",
      "Reply from 13.227.138.92: bytes=32 time=23ms TTL=245\n",
      "\n",
      "Ping statistics for 13.227.138.92:\n",
      "    Packets: Sent = 4, Received = 4, Lost = 0 (0% loss),\n",
      "Approximate round trip times in milli-seconds:\n",
      "    Minimum = 21ms, Maximum = 23ms, Average = 22ms\n",
      "\n"
     ]
    }
   ],
   "source": [
    "p = os.popen(\"ping www.abc.com\")\n",
    "print(p.read())"
   ]
  },
  {
   "cell_type": "code",
   "execution_count": 67,
   "metadata": {},
   "outputs": [
    {
     "name": "stdout",
     "output_type": "stream",
     "text": [
      "\n",
      "Pinging domain.com [13.228.112.135] with 32 bytes of data:\n",
      "Reply from 13.228.112.135: bytes=32 time=77ms TTL=47\n",
      "Reply from 13.228.112.135: bytes=32 time=80ms TTL=47\n",
      "Reply from 13.228.112.135: bytes=32 time=77ms TTL=47\n",
      "Reply from 13.228.112.135: bytes=32 time=79ms TTL=47\n",
      "\n",
      "Ping statistics for 13.228.112.135:\n",
      "    Packets: Sent = 4, Received = 4, Lost = 0 (0% loss),\n",
      "Approximate round trip times in milli-seconds:\n",
      "    Minimum = 77ms, Maximum = 80ms, Average = 78ms\n",
      "\n"
     ]
    }
   ],
   "source": [
    "p = os.popen(\"ping www.domain.com\")\n",
    "print(p.read())"
   ]
  },
  {
   "cell_type": "code",
   "execution_count": 68,
   "metadata": {},
   "outputs": [
    {
     "name": "stdout",
     "output_type": "stream",
     "text": [
      "\n",
      "Pinging 192.168.1.20 with 32 bytes of data:\n",
      "Reply from 192.168.1.4: Destination host unreachable.\n",
      "Reply from 192.168.1.4: Destination host unreachable.\n",
      "Reply from 192.168.1.4: Destination host unreachable.\n",
      "Reply from 192.168.1.4: Destination host unreachable.\n",
      "\n",
      "Ping statistics for 192.168.1.20:\n",
      "    Packets: Sent = 4, Received = 4, Lost = 0 (0% loss),\n",
      "\n"
     ]
    }
   ],
   "source": [
    "p = os.popen(\"ping 192.168.1.20\")\n",
    "print(p.read())"
   ]
  },
  {
   "cell_type": "code",
   "execution_count": 69,
   "metadata": {},
   "outputs": [],
   "source": [
    "path = \"C://baches//online_batch\""
   ]
  },
  {
   "cell_type": "code",
   "execution_count": 70,
   "metadata": {},
   "outputs": [
    {
     "data": {
      "text/plain": [
       "False"
      ]
     },
     "execution_count": 70,
     "metadata": {},
     "output_type": "execute_result"
    }
   ],
   "source": [
    "os.path.exists(path)"
   ]
  },
  {
   "cell_type": "code",
   "execution_count": 71,
   "metadata": {},
   "outputs": [],
   "source": [
    "path = \"C://batches//online_batch\""
   ]
  },
  {
   "cell_type": "code",
   "execution_count": 72,
   "metadata": {},
   "outputs": [
    {
     "data": {
      "text/plain": [
       "True"
      ]
     },
     "execution_count": 72,
     "metadata": {},
     "output_type": "execute_result"
    }
   ],
   "source": [
    "os.path.exists(path)"
   ]
  },
  {
   "cell_type": "code",
   "execution_count": 73,
   "metadata": {},
   "outputs": [
    {
     "data": {
      "text/plain": [
       "True"
      ]
     },
     "execution_count": 73,
     "metadata": {},
     "output_type": "execute_result"
    }
   ],
   "source": [
    "os.path.isfile(\"C://batches//online_batch/pythonbatch10_15am/12. Control_Statements.ipynb\")"
   ]
  },
  {
   "cell_type": "code",
   "execution_count": 74,
   "metadata": {},
   "outputs": [
    {
     "data": {
      "text/plain": [
       "False"
      ]
     },
     "execution_count": 74,
     "metadata": {},
     "output_type": "execute_result"
    }
   ],
   "source": [
    "os.path.isdir(\"C://batches//online_batch/pythonbatch10_15am/12. Control_Statements.ipynb\")"
   ]
  },
  {
   "cell_type": "code",
   "execution_count": 75,
   "metadata": {},
   "outputs": [
    {
     "data": {
      "text/plain": [
       "True"
      ]
     },
     "execution_count": 75,
     "metadata": {},
     "output_type": "execute_result"
    }
   ],
   "source": [
    "os.path.isdir(\"C://batches//online_batch/pythonbatch10_15am\")"
   ]
  },
  {
   "cell_type": "code",
   "execution_count": 76,
   "metadata": {},
   "outputs": [
    {
     "data": {
      "text/plain": [
       "False"
      ]
     },
     "execution_count": 76,
     "metadata": {},
     "output_type": "execute_result"
    }
   ],
   "source": [
    "os.path.isdir(\"G://moregitcommands.txt\")"
   ]
  },
  {
   "cell_type": "code",
   "execution_count": 77,
   "metadata": {},
   "outputs": [
    {
     "data": {
      "text/plain": [
       "True"
      ]
     },
     "execution_count": 77,
     "metadata": {},
     "output_type": "execute_result"
    }
   ],
   "source": [
    "os.path.isfile(\"G://moregitcommands.txt\")"
   ]
  },
  {
   "cell_type": "code",
   "execution_count": 78,
   "metadata": {},
   "outputs": [
    {
     "data": {
      "text/plain": [
       "'C:\\\\batches\\\\online_batch'"
      ]
     },
     "execution_count": 78,
     "metadata": {},
     "output_type": "execute_result"
    }
   ],
   "source": [
    "os.path.abspath(\"../..\")"
   ]
  },
  {
   "cell_type": "code",
   "execution_count": 79,
   "metadata": {},
   "outputs": [
    {
     "data": {
      "text/plain": [
       "False"
      ]
     },
     "execution_count": 79,
     "metadata": {},
     "output_type": "execute_result"
    }
   ],
   "source": [
    "os.path.isabs(\"../..\")"
   ]
  },
  {
   "cell_type": "code",
   "execution_count": 81,
   "metadata": {},
   "outputs": [
    {
     "data": {
      "text/plain": [
       "True"
      ]
     },
     "execution_count": 81,
     "metadata": {},
     "output_type": "execute_result"
    }
   ],
   "source": [
    "os.path.isabs(\"C://batches//online_batch\")"
   ]
  },
  {
   "cell_type": "code",
   "execution_count": 82,
   "metadata": {},
   "outputs": [],
   "source": [
    "#path --> txt files --> print\n",
    "#func --> args --> path, file_type"
   ]
  },
  {
   "cell_type": "code",
   "execution_count": 83,
   "metadata": {},
   "outputs": [
    {
     "name": "stdout",
     "output_type": "stream",
     "text": [
      " Volume in drive C is Windows\n",
      " Volume Serial Number is E08D-DAD9\n",
      "\n",
      " Directory of C:\\batches\\online_batch\\pythonbatch10_15am\\File_Handling\n",
      "\n",
      "03-10-2020  11:53    <DIR>          .\n",
      "03-10-2020  11:53    <DIR>          ..\n",
      "03-10-2020  11:11    <DIR>          .ipynb_checkpoints\n",
      "02-10-2020  12:50            37,735 1. File_Handling.ipynb\n",
      "03-10-2020  11:53            37,622 2. File_Handling.ipynb\n",
      "03-10-2020  11:38    <DIR>          abc\n",
      "03-10-2020  11:13                63 hello.txt\n",
      "03-10-2020  11:20                 0 One.py\n",
      "               4 File(s)         75,420 bytes\n",
      "               4 Dir(s)  39,230,779,392 bytes free\n"
     ]
    }
   ],
   "source": [
    "ls"
   ]
  },
  {
   "cell_type": "code",
   "execution_count": 84,
   "metadata": {},
   "outputs": [
    {
     "data": {
      "text/plain": [
       "['.ipynb_checkpoints',\n",
       " '1. File_Handling.ipynb',\n",
       " '2. File_Handling.ipynb',\n",
       " 'abc',\n",
       " 'hello.txt',\n",
       " 'One.py']"
      ]
     },
     "execution_count": 84,
     "metadata": {},
     "output_type": "execute_result"
    }
   ],
   "source": [
    "os.listdir()  #if no argument then list the pwd"
   ]
  },
  {
   "cell_type": "code",
   "execution_count": 85,
   "metadata": {},
   "outputs": [
    {
     "data": {
      "text/plain": [
       "['.ipynb_checkpoints',\n",
       " '.one.txt.un~',\n",
       " '10. Type_Conversion.ipynb',\n",
       " '11. Operators.ipynb',\n",
       " '12. Control_Statements.ipynb',\n",
       " '13. if_else_loops.ipynb',\n",
       " '14. While_Loop.ipynb',\n",
       " '15. Nested_While_Loop.ipynb',\n",
       " '16. While_Loop_Continue.ipynb',\n",
       " '17. For_Loop.ipynb',\n",
       " '18. For_Loop.ipynb',\n",
       " '19. Functions.ipynb',\n",
       " '2. Data_Type.ipynb',\n",
       " '20. Functions.ipynb',\n",
       " '21. Functions.ipynb',\n",
       " '22. Functions.ipynb',\n",
       " '23. Functions.ipynb',\n",
       " '24. Functions.ipynb',\n",
       " '25. Closures_Decorators.ipynb',\n",
       " '26. Decorators.ipynb',\n",
       " '3. Data_Type.ipynb',\n",
       " '4. Data_Type.ipynb',\n",
       " '5. Data_Type.ipynb',\n",
       " '6. Data_Type.ipynb',\n",
       " '7. Data_Type.ipynb',\n",
       " '8. Sets.ipynb',\n",
       " '9. Frozen_Set_Assignment.ipynb',\n",
       " 'Bank_Application.ipynb',\n",
       " 'Class_1.ipynb',\n",
       " 'Commands.ipynb',\n",
       " 'File_Handling',\n",
       " 'matrix.py',\n",
       " 'one.txt',\n",
       " 'one.txt~',\n",
       " 'stone_paper_scissor_game.py',\n",
       " '__pycache__']"
      ]
     },
     "execution_count": 85,
     "metadata": {},
     "output_type": "execute_result"
    }
   ],
   "source": [
    "os.listdir(\"..\")"
   ]
  },
  {
   "cell_type": "code",
   "execution_count": 103,
   "metadata": {},
   "outputs": [],
   "source": [
    "os.chdir(\"C://batches/online_batch/pythonbatch10_15am/File_Handling/\")"
   ]
  },
  {
   "cell_type": "code",
   "execution_count": 106,
   "metadata": {},
   "outputs": [
    {
     "name": "stdout",
     "output_type": "stream",
     "text": [
      "1. File_Handling.ipynb\n",
      "2. File_Handling.ipynb\n"
     ]
    }
   ],
   "source": [
    "def get_files(path=os.getcwd(), ftype=None):\n",
    "    if ftype:\n",
    "        data = os.listdir(path)\n",
    "        for i in data:\n",
    "            full_path = os.path.join(path,i)\n",
    "            #print(full_path)\n",
    "            if os.path.isfile(full_path):\n",
    "                if ftype == i.split(\".\")[-1]:\n",
    "                    print(i)\n",
    "                \n",
    "    else:\n",
    "        return \"No file type given\"\n",
    "    \n",
    "    \n",
    "get_files(ftype=\"ipynb\")"
   ]
  },
  {
   "cell_type": "code",
   "execution_count": 107,
   "metadata": {},
   "outputs": [
    {
     "name": "stdout",
     "output_type": "stream",
     "text": [
      "1.Descriptive_Stats - Copy.ipynb\n",
      "API.ipynb\n",
      "Corona_Movie_API.ipynb\n",
      "Corona_project.ipynb\n",
      "Data_vislualization_4.ipynb\n",
      "Data_Visualization_1.ipynb\n",
      "Data_Visualization_3.ipynb\n",
      "Doubts.ipynb\n",
      "Doubts_2.ipynb\n",
      "Ecommerce Purchases Exercise .ipynb\n",
      "flipkart_scraping_df.ipynb\n",
      "GIT.ipynb\n",
      "group_by_merge.ipynb\n",
      "H1B_project.ipynb\n",
      "Matplotlib_animation.ipynb\n",
      "Matplotlib_live.ipynb\n",
      "Numpy_1.ipynb\n",
      "Numpy_2.ipynb\n",
      "Numpy_3.ipynb\n",
      "numpy_images.ipynb\n",
      "Pandas_1.ipynb\n",
      "Pandas_2.ipynb\n",
      "pandas_3.ipynb\n",
      "Pandas_4.ipynb\n",
      "pandas_5_null_values.ipynb\n",
      "pandas_6.ipynb\n",
      "Pandas_merge.ipynb\n",
      "Regular_Expression.ipynb\n",
      "RE_2.ipynb\n",
      "Seaborn.ipynb\n",
      "Seaborn_2.ipynb\n",
      "Shape_of_data.ipynb\n",
      "SMTP_DB.ipynb\n",
      "SMTP_MIME.ipynb\n",
      "Sockets.ipynb\n",
      "Stats.ipynb\n",
      "Stats_2.ipynb\n",
      "tkinter_1.ipynb\n",
      "twitter_data.ipynb\n",
      "twitter_stream.ipynb\n",
      "twitter_stream_2.ipynb\n",
      "Untitled.ipynb\n",
      "Visualization_2.ipynb\n",
      "Web_Scraping.ipynb\n"
     ]
    }
   ],
   "source": [
    "get_files(\"C://batches//online_batch//batch9am\",\"ipynb\")"
   ]
  },
  {
   "cell_type": "code",
   "execution_count": 98,
   "metadata": {},
   "outputs": [],
   "source": [
    "os.chdir(\"C://batches/online_batch/batch9am/\")"
   ]
  },
  {
   "cell_type": "code",
   "execution_count": 99,
   "metadata": {},
   "outputs": [
    {
     "data": {
      "text/plain": [
       "['.ipynb_checkpoints',\n",
       " '.README.md.un~',\n",
       " '1.Descriptive_Stats - Copy.ipynb',\n",
       " 'API.ipynb',\n",
       " 'api3.png',\n",
       " 'Apple_Stock',\n",
       " 'basic_plot.jpg',\n",
       " 'Central Tendency.pptx',\n",
       " 'corona.jpg',\n",
       " 'Corona_Movie_API.ipynb',\n",
       " 'Corona_project.ipynb',\n",
       " 'dabba.jpg',\n",
       " 'Data_vislualization_4.ipynb',\n",
       " 'Data_Visualization_1.ipynb',\n",
       " 'Data_Visualization_3.ipynb',\n",
       " 'deliveries.csv',\n",
       " 'Doubts.ipynb',\n",
       " 'Doubts_2.ipynb',\n",
       " 'Ecommerce Purchases Exercise .ipynb',\n",
       " 'Ecommerce Purchases.csv',\n",
       " 'flask_ds_project',\n",
       " 'flask_ds_project (2).zip',\n",
       " 'flask_ds_project.zip',\n",
       " 'flipkart_scraping_df.ipynb',\n",
       " 'full_data.csv',\n",
       " 'GIT.ipynb',\n",
       " 'gitrepo',\n",
       " 'git_commands.txt',\n",
       " 'group_by_merge.ipynb',\n",
       " 'h1b.csv',\n",
       " 'H1B_project.ipynb',\n",
       " 'hello.txt',\n",
       " 'logger.log',\n",
       " 'Machine_Learning',\n",
       " 'matches.csv',\n",
       " 'Matplotlib_animation.ipynb',\n",
       " 'Matplotlib_live.ipynb',\n",
       " 'monsoon wedding.jpg',\n",
       " 'myplot.jpg',\n",
       " 'netflix_titles.csv',\n",
       " 'newcorona.jpg',\n",
       " 'Numpy_1.ipynb',\n",
       " 'Numpy_2.ipynb',\n",
       " 'Numpy_3.ipynb',\n",
       " 'numpy_images.ipynb',\n",
       " 'Pandas_1.ipynb',\n",
       " 'Pandas_2.ipynb',\n",
       " 'pandas_3.ipynb',\n",
       " 'Pandas_4.ipynb',\n",
       " 'pandas_5_null_values.ipynb',\n",
       " 'pandas_6.ipynb',\n",
       " 'Pandas_merge.ipynb',\n",
       " 'queries1.txt',\n",
       " 'README.md',\n",
       " 'Regular_Expression.ipynb',\n",
       " 'RE_2.ipynb',\n",
       " 'Seaborn.ipynb',\n",
       " 'Seaborn_2.ipynb',\n",
       " 'Shape_of_data.ipynb',\n",
       " 'SMTP_DB.ipynb',\n",
       " 'SMTP_MIME.ipynb',\n",
       " 'Sockets.ipynb',\n",
       " 'stats quiz answers.docx',\n",
       " 'Stats quiz.doc',\n",
       " 'Stats.ipynb',\n",
       " 'Stats_2.ipynb',\n",
       " 'students.csv',\n",
       " 'three.png',\n",
       " 'tipsdata.csv',\n",
       " 'tkinter_1.ipynb',\n",
       " 'tkinter_files',\n",
       " 'top50.csv',\n",
       " 'tweets.txt',\n",
       " 'twitter.log',\n",
       " 'twitter_data.ipynb',\n",
       " 'twitter_stream.ipynb',\n",
       " 'twitter_stream_2.ipynb',\n",
       " 'Untitled.ipynb',\n",
       " 'Uri.jpg',\n",
       " 'Visualization_2.ipynb',\n",
       " 'Web_Scraping.ipynb']"
      ]
     },
     "execution_count": 99,
     "metadata": {},
     "output_type": "execute_result"
    }
   ],
   "source": [
    "os.listdir()"
   ]
  },
  {
   "cell_type": "code",
   "execution_count": 89,
   "metadata": {},
   "outputs": [
    {
     "name": "stdout",
     "output_type": "stream",
     "text": [
      "ipynb_checkpoints\n",
      "ipynb\n",
      "ipynb\n",
      "abc\n",
      "txt\n",
      "py\n"
     ]
    }
   ],
   "source": [
    "for i in os.listdir():\n",
    "    print(i.split(\".\")[-1])"
   ]
  },
  {
   "cell_type": "code",
   "execution_count": 101,
   "metadata": {},
   "outputs": [
    {
     "data": {
      "text/plain": [
       "'C:\\\\batches\\\\online_batch\\\\batch9am'"
      ]
     },
     "execution_count": 101,
     "metadata": {},
     "output_type": "execute_result"
    }
   ],
   "source": [
    "os.path.join(\"C:\\\\batches\",\"online_batch\",\"batch9am\")"
   ]
  },
  {
   "cell_type": "code",
   "execution_count": 108,
   "metadata": {},
   "outputs": [
    {
     "name": "stdout",
     "output_type": "stream",
     "text": [
      "er-diagram-symbols.png\n",
      "ERD.png\n",
      "jab we met.png\n",
      "uri.png\n"
     ]
    }
   ],
   "source": [
    "get_files(\"C://batches/online_batch/advance_batch/\",\"png\")"
   ]
  },
  {
   "cell_type": "code",
   "execution_count": 110,
   "metadata": {},
   "outputs": [
    {
     "data": {
      "text/plain": [
       "'C:\\\\batches\\\\online_batch\\\\pythonbatch10_15am\\\\File_Handling'"
      ]
     },
     "execution_count": 110,
     "metadata": {},
     "output_type": "execute_result"
    }
   ],
   "source": [
    "os.getcwd()"
   ]
  },
  {
   "cell_type": "code",
   "execution_count": 109,
   "metadata": {},
   "outputs": [
    {
     "data": {
      "text/plain": [
       "('C:\\\\batches\\\\online_batch\\\\pythonbatch10_15am', 'File_Handling')"
      ]
     },
     "execution_count": 109,
     "metadata": {},
     "output_type": "execute_result"
    }
   ],
   "source": [
    "os.path.split(os.getcwd())"
   ]
  },
  {
   "cell_type": "code",
   "execution_count": 111,
   "metadata": {},
   "outputs": [
    {
     "data": {
      "text/plain": [
       "('C://batches/online_batch/batch1pm', '10. Operators.ipynb')"
      ]
     },
     "execution_count": 111,
     "metadata": {},
     "output_type": "execute_result"
    }
   ],
   "source": [
    "os.path.split(\"C://batches/online_batch/batch1pm/10. Operators.ipynb\")"
   ]
  },
  {
   "cell_type": "code",
   "execution_count": 112,
   "metadata": {},
   "outputs": [
    {
     "name": "stdout",
     "output_type": "stream",
     "text": [
      "*************************************FILES**************************************\n",
      "['1. File_Handling.ipynb', '2. File_Handling.ipynb', 'hello.txt', 'One.py']\n",
      "********************************************************************************\n",
      "**********************************DIRECTORIES***********************************\n",
      "['.ipynb_checkpoints', 'abc']\n",
      "********************************************************************************\n"
     ]
    }
   ],
   "source": [
    "def filtering(path=os.getcwd()):\n",
    "    if os.path.exists(path):\n",
    "        all_ = os.listdir(path)\n",
    "        files = []\n",
    "        dirs = []\n",
    "        for i in all_:\n",
    "            full_path = os.path.join(path,i)\n",
    "            if os.path.isfile(full_path):\n",
    "                files.append(i)\n",
    "            elif os.path.isdir(full_path):\n",
    "                dirs.append(i)\n",
    "        print(\"FILES\".center(80,\"*\"))\n",
    "        print(files)\n",
    "        print(\"*\"*80)\n",
    "        print(\"DIRECTORIES\".center(80,\"*\"))\n",
    "        print(dirs)\n",
    "        print(\"*\"*80)   \n",
    "    else:\n",
    "        return \"INCORRECT PATH\"\n",
    "    \n",
    "    \n",
    "filtering()"
   ]
  },
  {
   "cell_type": "code",
   "execution_count": 113,
   "metadata": {},
   "outputs": [
    {
     "name": "stdout",
     "output_type": "stream",
     "text": [
      "*************************************FILES**************************************\n",
      "['1_Introduction_new(1).pdf', 'data_science.ipynb', 'features.txt', 'Machine_Learning.ppt', 'ML.ipynb', 'one.py', 'Python_Seminar (1).ppt', 'two.py', 'workshop.txt']\n",
      "********************************************************************************\n",
      "**********************************DIRECTORIES***********************************\n",
      "['.ipynb_checkpoints', 'ml-100k']\n",
      "********************************************************************************\n"
     ]
    }
   ],
   "source": [
    "filtering(\"G://ML_workshop/\")"
   ]
  },
  {
   "cell_type": "code",
   "execution_count": 114,
   "metadata": {},
   "outputs": [
    {
     "name": "stdout",
     "output_type": "stream",
     "text": [
      "*************************************FILES**************************************\n",
      "                             1. File_Handling.ipynb                             \n",
      "                             2. File_Handling.ipynb                             \n",
      "                                   hello.txt                                    \n",
      "                                     One.py                                     \n",
      "********************************************************************************\n",
      "**********************************DIRECTORIES***********************************\n",
      "                               .ipynb_checkpoints                               \n",
      "                                      abc                                       \n",
      "********************************************************************************\n"
     ]
    }
   ],
   "source": [
    "def filtering(path=os.getcwd()):\n",
    "    if os.path.exists(path):\n",
    "        all_ = os.listdir(path)\n",
    "        files = []\n",
    "        dirs = []\n",
    "        for i in all_:\n",
    "            full_path = os.path.join(path,i)\n",
    "            if os.path.isfile(full_path):\n",
    "                files.append(i)\n",
    "            elif os.path.isdir(full_path):\n",
    "                dirs.append(i)\n",
    "        print(\"FILES\".center(80,\"*\"))\n",
    "        for i in files:\n",
    "            print(f\"{i}\".center(80))\n",
    "        print(\"*\"*80)\n",
    "        print(\"DIRECTORIES\".center(80,\"*\"))\n",
    "        for i in dirs:\n",
    "            print(f\"{i}\".center(80))\n",
    "        print(\"*\"*80)   \n",
    "    else:\n",
    "        return \"INCORRECT PATH\"\n",
    "    \n",
    "    \n",
    "filtering()"
   ]
  },
  {
   "cell_type": "code",
   "execution_count": 116,
   "metadata": {},
   "outputs": [
    {
     "name": "stdout",
     "output_type": "stream",
     "text": [
      "*************************************FILES**************************************\n",
      "                            1. Web_Scraping_1.ipynb                             \n",
      "                                 10. Sets.ipynb                                 \n",
      "                           11. Type_conversion.ipynb                            \n",
      "                              12. Operators.ipynb                               \n",
      "                          13.Control_Statements.ipynb                           \n",
      "                              14. if_else_2.ipynb                               \n",
      "                              15. if_else_3.ipynb                               \n",
      "                             16. While_Loop_1.ipynb                             \n",
      "                             17. While_loop_2.ipynb                             \n",
      "                             18. while_loop_3.ipynb                             \n",
      "                             19. nested_while.ipynb                             \n",
      "                                2. Strings.ipynb                                \n",
      "                            20. Nested_while_2.ipynb                            \n",
      "                              21. For_loop_1.ipynb                              \n",
      "                              22. For_loop_2.ipynb                              \n",
      "                          23. For_loop_practice.ipynb                           \n",
      "                             24. Functions_1.ipynb                              \n",
      "                             26. Functions_2.ipynb                              \n",
      "                             28. Functions_4.ipynb                              \n",
      "                           29. Special_Function.ipynb                           \n",
      "                                3. Strings.ipynb                                \n",
      "                       31. Closures and decorators.ipynb                        \n",
      "                                 4. Lists.ipynb                                 \n",
      "                              6. lists_tuple.ipynb                              \n",
      "                              7. Dictionary.ipynb                               \n",
      "                              8. Dictionary.ipynb                               \n",
      "                                 9. Sets.ipynb                                  \n",
      "                                    abc.txt                                     \n",
      "                                  API_1.ipynb                                   \n",
      "                                  API_2.ipynb                                   \n",
      "                                  API_3.ipynb                                   \n",
      "                                  API_4.ipynb                                   \n",
      "                                  bank_app.py                                   \n",
      "                         break_statement_flowchart.png                          \n",
      "                                   circles.py                                   \n",
      "                                  circles1.py                                   \n",
      "                                 Class_1.ipynb                                  \n",
      "                        continue-statement-flowchart.png                        \n",
      "                                Data_types.ipynb                                \n",
      "                                   debug.log                                    \n",
      "                                decorators.ipynb                                \n",
      "                                   delhi.jpg                                    \n",
      "                                  Doubts.ipynb                                  \n",
      "                              File_handling.ipynb                               \n",
      "                             flask_project (2).zip                              \n",
      "                               flask_project.zip                                \n",
      "                              Flask_sockets.ipynb                               \n",
      "                               Functions_2.ipynb                                \n",
      "                               Functions_3.ipynb                                \n",
      "                             Hacker_rank_ques.ipynb                             \n",
      "                                   jaipur.jpg                                   \n",
      "                                   jammu.jpg                                    \n",
      "                            json_encoding_python.png                            \n",
      "                                  kolkata.jpg                                   \n",
      "                                 Lists_2.ipynb                                  \n",
      "                                   london.jpg                                   \n",
      "                                   matrix.py                                    \n",
      "                                    mod1.py                                     \n",
      "                               modules_pkgs.ipynb                               \n",
      "                                   mumbai.jpg                                   \n",
      "                                   myfile.jpg                                   \n",
      "                                   myfile.py                                    \n",
      "                                   myfunc.py                                    \n",
      "                                     one.py                                     \n",
      "                                    one.txt                                     \n",
      "                                   patna.jpg                                    \n",
      "                                Recursion.ipynb                                 \n",
      "                                 Sockets.ipynb                                  \n",
      "                                  sockets.jpg                                   \n",
      "                                   square.py                                    \n",
      "                                    s_p_s.py                                    \n",
      "                                     t1.py                                      \n",
      "                                     t3.py                                      \n",
      "                                    two.jpg                                     \n",
      "                                 Untitled.ipynb                                 \n",
      "                                Untitled1.ipynb                                 \n",
      "                                Untitled2.ipynb                                 \n",
      "                                Untitled3.ipynb                                 \n",
      "                              Web_scraping_2.ipynb                              \n",
      "                                   wuhan.jpg                                    \n",
      "********************************************************************************\n",
      "**********************************DIRECTORIES***********************************\n",
      "                                      .git                                      \n",
      "                               .ipynb_checkpoints                               \n",
      "                                 Advance_python                                 \n",
      "                                     Backup                                     \n",
      "                                    Database                                    \n",
      "                                  Data_Science                                  \n",
      "                                     design                                     \n",
      "                                 djangoproject                                  \n",
      "                                 File_handling                                  \n",
      "                                 flask_project                                  \n",
      "                                Machine_Learning                                \n",
      "                                      OOPs                                      \n",
      "                                      pkg                                       \n",
      "                                      smtp                                      \n",
      "                                 Socket_scripts                                 \n",
      "                                 tkinter_files                                  \n",
      "                                  __pycache__                                   \n",
      "********************************************************************************\n"
     ]
    }
   ],
   "source": [
    "filtering(\"C://batches//online_batch/batch_7pm\")"
   ]
  },
  {
   "cell_type": "code",
   "execution_count": null,
   "metadata": {},
   "outputs": [],
   "source": [
    "#give data as input and write it in csv file\n",
    "#how to make csv file using python by giving our own input"
   ]
  }
 ],
 "metadata": {
  "kernelspec": {
   "display_name": "Python 3",
   "language": "python",
   "name": "python3"
  },
  "language_info": {
   "codemirror_mode": {
    "name": "ipython",
    "version": 3
   },
   "file_extension": ".py",
   "mimetype": "text/x-python",
   "name": "python",
   "nbconvert_exporter": "python",
   "pygments_lexer": "ipython3",
   "version": "3.7.4"
  }
 },
 "nbformat": 4,
 "nbformat_minor": 2
}
