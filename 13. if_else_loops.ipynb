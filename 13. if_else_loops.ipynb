{
 "cells": [
  {
   "cell_type": "code",
   "execution_count": 1,
   "metadata": {},
   "outputs": [
    {
     "name": "stdout",
     "output_type": "stream",
     "text": [
      "simran\n"
     ]
    }
   ],
   "source": [
    "d = {\"name\":\"simran\",\"city\":\"jaipur\",\"state\":\"raj\"}\n",
    "if d.pop(\"state\"):  #if \"raj\" --> True\n",
    "    print(d.pop(\"name\"))  #print(\"simran\")\n",
    "else:\n",
    "    print(d.pop(\"city\"))"
   ]
  },
  {
   "cell_type": "code",
   "execution_count": 2,
   "metadata": {},
   "outputs": [],
   "source": [
    "import random   #import module_name"
   ]
  },
  {
   "cell_type": "code",
   "execution_count": 3,
   "metadata": {},
   "outputs": [],
   "source": [
    "from random import randint"
   ]
  },
  {
   "cell_type": "code",
   "execution_count": 4,
   "metadata": {},
   "outputs": [
    {
     "data": {
      "text/plain": [
       "4"
      ]
     },
     "execution_count": 4,
     "metadata": {},
     "output_type": "execute_result"
    }
   ],
   "source": [
    "randint(1,10)"
   ]
  },
  {
   "cell_type": "code",
   "execution_count": 9,
   "metadata": {},
   "outputs": [
    {
     "data": {
      "text/plain": [
       "19"
      ]
     },
     "execution_count": 9,
     "metadata": {},
     "output_type": "execute_result"
    }
   ],
   "source": [
    "randint(1,20)"
   ]
  },
  {
   "cell_type": "code",
   "execution_count": 13,
   "metadata": {},
   "outputs": [
    {
     "name": "stdout",
     "output_type": "stream",
     "text": [
      "\n",
      " GUESS ANY NUMBER BETWEEN 1 to 10\n",
      "\n",
      " Choose any number : 8\n",
      "\n",
      " Sorry!!!! You didn't guessed right...The correct answer is 6\n"
     ]
    }
   ],
   "source": [
    "print(\"\\n GUESS ANY NUMBER BETWEEN 1 to 10\")\n",
    "c = randint(1,10)\n",
    "u = int(input(\"\\n Choose any number : \"))\n",
    "if c == u:\n",
    "    print(\"\\n YOu guessed right\")\n",
    "else:\n",
    "    print(f\"\\n Sorry!!!! You didn't guessed right...The correct answer is {c}\")"
   ]
  },
  {
   "cell_type": "code",
   "execution_count": 14,
   "metadata": {},
   "outputs": [],
   "source": [
    "import random"
   ]
  },
  {
   "cell_type": "code",
   "execution_count": 15,
   "metadata": {},
   "outputs": [
    {
     "data": {
      "text/plain": [
       "6"
      ]
     },
     "execution_count": 15,
     "metadata": {},
     "output_type": "execute_result"
    }
   ],
   "source": [
    "random.randint(1,10)"
   ]
  },
  {
   "cell_type": "markdown",
   "metadata": {},
   "source": [
    "#### Stone Paper Scissor\n",
    "\n",
    "        p1                p2                p1_win\n",
    "       paper             stone                p1\n",
    "       stone             scissor              p1\n",
    "       scissor           paper                p1\n",
    "       \n",
    "       p1                 p2                p2_win\n",
    "     stone              paper                 p2\n",
    "     scissor            stone                 p2\n",
    "     paper              scissor               p2"
   ]
  },
  {
   "cell_type": "code",
   "execution_count": 21,
   "metadata": {},
   "outputs": [
    {
     "name": "stdout",
     "output_type": "stream",
     "text": [
      "\n",
      " Player 1 : paper\n",
      "\n",
      " Player 2 :         PAPER\n",
      "\n",
      " TIE.....\n"
     ]
    }
   ],
   "source": [
    "p1_win = [(\"paper\",\"stone\"),(\"stone\",\"scissor\"),(\"scissor\",\"paper\")]  #these conditions are for winning of player1\n",
    "p1 = input(\"\\n Player 1 : \").strip().lower()\n",
    "choice = ['stone','paper','scissor']\n",
    "if p1 in choice:\n",
    "    p2 = input(\"\\n Player 2 : \").strip().lower()\n",
    "    if p2 in choice:\n",
    "        if (p1,p2) in p1_win:\n",
    "            print(\"\\n Player1 won......\")\n",
    "        elif p1 == p2:\n",
    "            print(\"\\n TIE.....\")\n",
    "        else:\n",
    "            print(\"\\n Player2 won.......\")\n",
    "    else:\n",
    "        print(\"\\n Incorrect choice by PLAYER 2\")\n",
    "else:\n",
    "    print(\"\\n Incorrect choice by PLAYER 1\")"
   ]
  },
  {
   "cell_type": "code",
   "execution_count": 22,
   "metadata": {},
   "outputs": [],
   "source": [
    "from random import choice"
   ]
  },
  {
   "cell_type": "code",
   "execution_count": 31,
   "metadata": {},
   "outputs": [
    {
     "data": {
      "text/plain": [
       "'c'"
      ]
     },
     "execution_count": 31,
     "metadata": {},
     "output_type": "execute_result"
    }
   ],
   "source": [
    "choice(['a','b','c','d'])"
   ]
  },
  {
   "cell_type": "code",
   "execution_count": 33,
   "metadata": {},
   "outputs": [],
   "source": [
    "choices = ['stone','paper','scissor']"
   ]
  },
  {
   "cell_type": "code",
   "execution_count": 39,
   "metadata": {},
   "outputs": [
    {
     "data": {
      "text/plain": [
       "'stone'"
      ]
     },
     "execution_count": 39,
     "metadata": {},
     "output_type": "execute_result"
    }
   ],
   "source": [
    "choice(choices)"
   ]
  },
  {
   "cell_type": "code",
   "execution_count": 47,
   "metadata": {},
   "outputs": [
    {
     "name": "stdout",
     "output_type": "stream",
     "text": [
      "\n",
      " Player  : scissor\n",
      "\n",
      " COMPUTER won......with choices \n",
      " Player -->SCISSOR and Computer --> STONE\n"
     ]
    }
   ],
   "source": [
    "p_win = [(\"paper\",\"stone\"),(\"stone\",\"scissor\"),(\"scissor\",\"paper\")]  #these conditions are for winning of player1\n",
    "p = input(\"\\n Player  : \").strip().lower()\n",
    "choices = ['stone','paper','scissor']\n",
    "comp = choice(choices)\n",
    "if p in choices:\n",
    "        if (p,comp) in p_win:\n",
    "            print(f\"\\n PLAYER won......with choices \\n Player --> {p.upper()} and Computer --> {comp.upper()}\")\n",
    "        elif p == comp:\n",
    "            print(\"\\n TIE.....\")\n",
    "        else:\n",
    "            print(f\"\\n COMPUTER won......with choices \\n Player -->{p.upper()} and Computer --> {comp.upper()}\")\n",
    "else:\n",
    "    print(\"\\n Incorrect choice by PLAYER\")"
   ]
  },
  {
   "cell_type": "code",
   "execution_count": 48,
   "metadata": {},
   "outputs": [],
   "source": [
    "from getpass import getpass"
   ]
  },
  {
   "cell_type": "code",
   "execution_count": 50,
   "metadata": {},
   "outputs": [
    {
     "name": "stdout",
     "output_type": "stream",
     "text": [
      "Enter your password········\n"
     ]
    }
   ],
   "source": [
    "p = getpass(\"Enter your password\")"
   ]
  },
  {
   "cell_type": "code",
   "execution_count": 52,
   "metadata": {},
   "outputs": [
    {
     "data": {
      "text/plain": [
       "str"
      ]
     },
     "execution_count": 52,
     "metadata": {},
     "output_type": "execute_result"
    }
   ],
   "source": [
    "type(p)"
   ]
  },
  {
   "cell_type": "code",
   "execution_count": 55,
   "metadata": {},
   "outputs": [
    {
     "name": "stdout",
     "output_type": "stream",
     "text": [
      "\n",
      " Player  : ········\n",
      "\n",
      " COMPUTER won......with choices \n",
      " Player -->STONE and Computer --> PAPER\n"
     ]
    }
   ],
   "source": [
    "p_win = [(\"paper\",\"stone\"),(\"stone\",\"scissor\"),(\"scissor\",\"paper\")]  #these conditions are for winning of player1\n",
    "p = getpass(\"\\n Player  : \").strip().lower()\n",
    "choices = ['stone','paper','scissor']\n",
    "comp = choice(choices)\n",
    "if p in choices:\n",
    "        if (p,comp) in p_win:\n",
    "            print(f\"\\n PLAYER won......with choices \\n Player --> {p.upper()} and Computer --> {comp.upper()}\")\n",
    "        elif p == comp:\n",
    "            print(\"\\n TIE.....\")\n",
    "        else:\n",
    "            print(f\"\\n COMPUTER won......with choices \\n Player -->{p.upper()} and Computer --> {comp.upper()}\")\n",
    "else:\n",
    "    print(\"\\n Incorrect choice by PLAYER\")"
   ]
  },
  {
   "cell_type": "code",
   "execution_count": 57,
   "metadata": {},
   "outputs": [
    {
     "name": "stdout",
     "output_type": "stream",
     "text": [
      "Overwriting stone_paper_scissor_game.py\n"
     ]
    }
   ],
   "source": [
    "%%writefile stone_paper_scissor_game.py\n",
    "\n",
    "from getpass import getpass\n",
    "from random import choice\n",
    "\n",
    "p_win = [(\"paper\",\"stone\"),(\"stone\",\"scissor\"),(\"scissor\",\"paper\")]  #these conditions are for winning of player1\n",
    "p = getpass(\"\\n Player  : \").strip().lower()\n",
    "choices = ['stone','paper','scissor']\n",
    "comp = choice(choices)\n",
    "if p in choices:\n",
    "        if (p,comp) in p_win:\n",
    "            print(f\"\\n PLAYER won......with choices \\n Player --> {p.upper()} and Computer --> {comp.upper()}\")\n",
    "        elif p == comp:\n",
    "            print(\"\\n TIE.....\")\n",
    "        else:\n",
    "            print(f\"\\n COMPUTER won......with choices \\n Player -->{p.upper()} and Computer --> {comp.upper()}\")\n",
    "else:\n",
    "    print(\"\\n Incorrect choice by PLAYER\")"
   ]
  },
  {
   "cell_type": "markdown",
   "metadata": {},
   "source": [
    "### Loops\n",
    "\n",
    "    Why to use loops????\n",
    "        To make our work easy and save time by not writing same statements again and again\n",
    "        \n",
    "    1. while\n",
    "    2. for"
   ]
  },
  {
   "cell_type": "code",
   "execution_count": 58,
   "metadata": {},
   "outputs": [
    {
     "name": "stdout",
     "output_type": "stream",
     "text": [
      "hello world\n",
      "hello world\n",
      "hello world\n",
      "hello world\n",
      "hello world\n"
     ]
    }
   ],
   "source": [
    "print(\"hello world\")\n",
    "print(\"hello world\")\n",
    "print(\"hello world\")\n",
    "print(\"hello world\")\n",
    "print(\"hello world\")"
   ]
  },
  {
   "cell_type": "markdown",
   "metadata": {},
   "source": [
    "##### While loop\n",
    "    1. Initialization\n",
    "    2. Condition\n",
    "    3. Increment/Decrement\n",
    "    \n",
    "    if the while condition get False then it will exit the loop"
   ]
  },
  {
   "cell_type": "code",
   "execution_count": 59,
   "metadata": {},
   "outputs": [
    {
     "name": "stdout",
     "output_type": "stream",
     "text": [
      "hello world\n",
      "hello world\n",
      "hello world\n",
      "hello world\n",
      "hello world\n",
      "hello world\n",
      "hello world\n",
      "hello world\n",
      "hello world\n",
      "hello world\n"
     ]
    }
   ],
   "source": [
    "i = 0 #initialization\n",
    "while i<10: #condition\n",
    "    print(\"hello world\")\n",
    "    i += 1 #increment\n",
    "    \n",
    "#i = 0, --> 0<10 --> True --> xecute, i += 1 --> i = 1\n",
    "# i = 1 --> 1<10 --> True --> execute , i += 1 --> 1 + 1 = 2\n",
    "# i = 2, 2<10 --> True\n",
    "#same procedure till i = 10\n",
    "#i = 10, 10<10 --> False"
   ]
  },
  {
   "cell_type": "markdown",
   "metadata": {},
   "source": [
    "###### While loop can be infinite"
   ]
  },
  {
   "cell_type": "code",
   "execution_count": 60,
   "metadata": {},
   "outputs": [
    {
     "ename": "KeyboardInterrupt",
     "evalue": "",
     "output_type": "error",
     "traceback": [
      "\u001b[1;31m---------------------------------------------------------------------------\u001b[0m",
      "\u001b[1;31mKeyboardInterrupt\u001b[0m                         Traceback (most recent call last)",
      "\u001b[1;32m<ipython-input-60-acf96912b3d2>\u001b[0m in \u001b[0;36m<module>\u001b[1;34m\u001b[0m\n\u001b[0;32m      1\u001b[0m \u001b[0mi\u001b[0m \u001b[1;33m=\u001b[0m \u001b[1;36m0\u001b[0m\u001b[1;33m\u001b[0m\u001b[1;33m\u001b[0m\u001b[0m\n\u001b[1;32m----> 2\u001b[1;33m \u001b[1;32mwhile\u001b[0m \u001b[0mi\u001b[0m\u001b[1;33m<\u001b[0m\u001b[1;36m1\u001b[0m\u001b[1;33m:\u001b[0m\u001b[1;33m\u001b[0m\u001b[1;33m\u001b[0m\u001b[0m\n\u001b[0m\u001b[0;32m      3\u001b[0m     \u001b[0mi\u001b[0m \u001b[1;33m-=\u001b[0m \u001b[1;36m1\u001b[0m\u001b[1;33m\u001b[0m\u001b[1;33m\u001b[0m\u001b[0m\n",
      "\u001b[1;31mKeyboardInterrupt\u001b[0m: "
     ]
    }
   ],
   "source": [
    "i = 0\n",
    "while i<1:\n",
    "    i -= 1"
   ]
  },
  {
   "cell_type": "raw",
   "metadata": {},
   "source": [
    "i = 0\n",
    "while i<1:\n",
    "    print(i)\n",
    "    i -= 1"
   ]
  },
  {
   "cell_type": "code",
   "execution_count": 62,
   "metadata": {},
   "outputs": [
    {
     "name": "stdout",
     "output_type": "stream",
     "text": [
      "0\n",
      "1\n",
      "2\n",
      "3\n",
      "4\n"
     ]
    }
   ],
   "source": [
    "i = 0\n",
    "while i<5:\n",
    "    print(i)\n",
    "    i += 1"
   ]
  },
  {
   "cell_type": "code",
   "execution_count": 63,
   "metadata": {},
   "outputs": [
    {
     "name": "stdout",
     "output_type": "stream",
     "text": [
      "0\n",
      "1\n",
      "2\n",
      "3\n",
      "4\n",
      "5\n"
     ]
    }
   ],
   "source": [
    "i = 0\n",
    "while i<=5:\n",
    "    print(i)\n",
    "    i += 1"
   ]
  },
  {
   "cell_type": "code",
   "execution_count": 64,
   "metadata": {},
   "outputs": [
    {
     "name": "stdout",
     "output_type": "stream",
     "text": [
      "0\n",
      "1\n",
      "2\n",
      "3\n",
      "4\n",
      "5\n",
      "\n",
      " Outside the while loop\n"
     ]
    }
   ],
   "source": [
    "i = 0\n",
    "while i<=5:\n",
    "    print(i)\n",
    "    i += 1\n",
    "print('\\n Outside the while loop')"
   ]
  },
  {
   "cell_type": "code",
   "execution_count": 65,
   "metadata": {},
   "outputs": [
    {
     "name": "stdout",
     "output_type": "stream",
     "text": [
      "1\n",
      "2\n",
      "3\n",
      "4\n",
      "5\n",
      "6\n",
      "7\n",
      "8\n",
      "9\n",
      "10\n",
      "11\n",
      "12\n",
      "13\n",
      "14\n",
      "15\n",
      "16\n",
      "17\n",
      "18\n",
      "19\n",
      "20\n",
      "21\n",
      "22\n",
      "23\n",
      "24\n",
      "25\n",
      "26\n",
      "27\n",
      "28\n",
      "29\n",
      "30\n",
      "31\n",
      "32\n",
      "33\n",
      "34\n",
      "35\n",
      "36\n",
      "37\n",
      "38\n",
      "39\n",
      "40\n",
      "41\n",
      "42\n",
      "43\n",
      "44\n",
      "45\n",
      "46\n",
      "47\n",
      "48\n",
      "49\n",
      "50\n",
      "51\n",
      "52\n",
      "53\n",
      "54\n",
      "55\n",
      "56\n",
      "57\n",
      "58\n",
      "59\n",
      "60\n",
      "61\n",
      "62\n",
      "63\n",
      "64\n",
      "65\n",
      "66\n",
      "67\n",
      "68\n",
      "69\n",
      "70\n",
      "71\n",
      "72\n",
      "73\n",
      "74\n",
      "75\n",
      "76\n",
      "77\n",
      "78\n",
      "79\n",
      "80\n",
      "81\n",
      "82\n",
      "83\n",
      "84\n",
      "85\n",
      "86\n",
      "87\n",
      "88\n",
      "89\n",
      "90\n",
      "91\n",
      "92\n",
      "93\n",
      "94\n",
      "95\n",
      "96\n",
      "97\n",
      "98\n",
      "99\n",
      "100\n"
     ]
    }
   ],
   "source": [
    "i = 1\n",
    "while i<=100:\n",
    "    print(i)\n",
    "    i += 1"
   ]
  },
  {
   "cell_type": "code",
   "execution_count": 66,
   "metadata": {},
   "outputs": [
    {
     "name": "stdout",
     "output_type": "stream",
     "text": [
      "hello world\n",
      "hi\n"
     ]
    }
   ],
   "source": [
    "print(\"hello world\")\n",
    "print(\"hi\")  #end = \"\\n\""
   ]
  },
  {
   "cell_type": "code",
   "execution_count": 67,
   "metadata": {},
   "outputs": [
    {
     "name": "stdout",
     "output_type": "stream",
     "text": [
      "hello world,hi\n"
     ]
    }
   ],
   "source": [
    "print(\"hello world\",end=\",\")\n",
    "print(\"hi\")"
   ]
  },
  {
   "cell_type": "code",
   "execution_count": 68,
   "metadata": {},
   "outputs": [
    {
     "name": "stdout",
     "output_type": "stream",
     "text": [
      "hello world,hi\n",
      "world hello\n"
     ]
    }
   ],
   "source": [
    "print(\"hello world\",end=\",\")\n",
    "print(\"hi\")\n",
    "print(\"world hello\")"
   ]
  },
  {
   "cell_type": "code",
   "execution_count": 69,
   "metadata": {},
   "outputs": [
    {
     "name": "stdout",
     "output_type": "stream",
     "text": [
      "1 2 3 4 5\n"
     ]
    }
   ],
   "source": [
    "print(1,2,3,4,5)"
   ]
  },
  {
   "cell_type": "code",
   "execution_count": 70,
   "metadata": {},
   "outputs": [
    {
     "name": "stdout",
     "output_type": "stream",
     "text": [
      "1*2*3*4*5\n"
     ]
    }
   ],
   "source": [
    "print(1,2,3,4,5,sep=\"*\")"
   ]
  },
  {
   "cell_type": "code",
   "execution_count": 71,
   "metadata": {},
   "outputs": [
    {
     "name": "stdout",
     "output_type": "stream",
     "text": [
      "1,2,3,4,5,6,7,8,9,10,11,12,13,14,15,16,17,18,19,20,21,22,23,24,25,26,27,28,29,30,31,32,33,34,35,36,37,38,39,40,41,42,43,44,45,46,47,48,49,50,51,52,53,54,55,56,57,58,59,60,61,62,63,64,65,66,67,68,69,70,71,72,73,74,75,76,77,78,79,80,81,82,83,84,85,86,87,88,89,90,91,92,93,94,95,96,97,98,99,100,"
     ]
    }
   ],
   "source": [
    "i = 1\n",
    "while i<=100:\n",
    "    print(i,end=\",\")\n",
    "    i += 1"
   ]
  },
  {
   "cell_type": "code",
   "execution_count": 72,
   "metadata": {},
   "outputs": [
    {
     "name": "stdout",
     "output_type": "stream",
     "text": [
      "1,3,5,7,9,11,13,15,17,19,21,23,25,27,29,31,33,35,37,39,41,43,45,47,49,51,53,55,57,59,61,63,65,67,69,71,73,75,77,79,81,83,85,87,89,91,93,95,97,99,"
     ]
    }
   ],
   "source": [
    "i = 1\n",
    "while i<=100:\n",
    "    print(i,end=\",\")\n",
    "    i += 2"
   ]
  },
  {
   "cell_type": "code",
   "execution_count": 73,
   "metadata": {},
   "outputs": [
    {
     "name": "stdout",
     "output_type": "stream",
     "text": [
      "\n",
      " EVEN NUMBERS\n",
      "2,4,6,8,10,12,14,16,18,20,22,24,26,28,30,32,34,36,38,40,42,44,46,48,50,52,54,56,58,60,62,64,66,68,70,72,74,76,78,80,82,84,86,88,90,92,94,96,98,100,"
     ]
    }
   ],
   "source": [
    "i = 2\n",
    "print(\"\\n EVEN NUMBERS\")\n",
    "while i<=100:\n",
    "    print(i,end=\",\")\n",
    "    i += 2"
   ]
  },
  {
   "cell_type": "code",
   "execution_count": 74,
   "metadata": {},
   "outputs": [
    {
     "name": "stdout",
     "output_type": "stream",
     "text": [
      "\n",
      " EVEN NUMBERS\n",
      "2,4,6,8,10,12,14,16,18,20,22,24,26,28,30,32,34,36,38,40,42,44,46,48,50,52,54,56,58,60,62,64,66,68,70,72,74,76,78,80,82,84,86,88,90,92,94,96,98,100."
     ]
    }
   ],
   "source": [
    "i = 2\n",
    "print(\"\\n EVEN NUMBERS\")\n",
    "while i<=100:\n",
    "    if i == 100:\n",
    "        print(i,end=\".\")\n",
    "    else:\n",
    "        print(i,end=\",\")\n",
    "    i += 2"
   ]
  },
  {
   "cell_type": "code",
   "execution_count": 77,
   "metadata": {},
   "outputs": [
    {
     "name": "stdout",
     "output_type": "stream",
     "text": [
      "\n",
      " EVEN NUMBERS\n",
      "\n",
      " Enter start : 40\n",
      "\n",
      " Enter end : 90\n",
      "40,42,44,46,48,50,52,54,56,58,60,62,64,66,68,70,72,74,76,78,80,82,84,86,88,90."
     ]
    }
   ],
   "source": [
    "print(\"\\n EVEN NUMBERS\")\n",
    "start = int(input(\"\\n Enter start : \"))\n",
    "end = int(input(\"\\n Enter end : \"))\n",
    "while start<=end:\n",
    "    if start%2 == 0:\n",
    "        if start == end:\n",
    "            print(start,end=\".\")\n",
    "        else:\n",
    "            print(start,end=\",\")\n",
    "    start += 1"
   ]
  },
  {
   "cell_type": "code",
   "execution_count": 78,
   "metadata": {},
   "outputs": [
    {
     "name": "stdout",
     "output_type": "stream",
     "text": [
      "10,20,30,40,50,60,70,80,90,100,"
     ]
    }
   ],
   "source": [
    "i = 1\n",
    "while i<=100:\n",
    "    if i%2 == 0 and i%5 == 0:\n",
    "        print(i,end=\",\")\n",
    "    i += 1"
   ]
  },
  {
   "cell_type": "code",
   "execution_count": 79,
   "metadata": {},
   "outputs": [
    {
     "name": "stdout",
     "output_type": "stream",
     "text": [
      "35,70,"
     ]
    }
   ],
   "source": [
    "i = 1\n",
    "while i<=100:\n",
    "    if i%5 == 0 and i%7 == 0:\n",
    "        print(i,end=\",\")\n",
    "    i += 1"
   ]
  },
  {
   "cell_type": "code",
   "execution_count": 80,
   "metadata": {},
   "outputs": [
    {
     "name": "stdout",
     "output_type": "stream",
     "text": [
      "5,7,10,14,15,20,21,25,28,30,35,40,42,45,49,50,55,56,60,63,65,70,75,77,80,84,85,90,91,95,98,100,"
     ]
    }
   ],
   "source": [
    "i = 1\n",
    "while i<=100:\n",
    "    if i%5 == 0 or i%7 == 0:\n",
    "        print(i,end=\",\")\n",
    "    i += 1"
   ]
  },
  {
   "cell_type": "code",
   "execution_count": 83,
   "metadata": {},
   "outputs": [
    {
     "name": "stdout",
     "output_type": "stream",
     "text": [
      "\n",
      " Enter the start : 20\n",
      "\n",
      " Enter the end : 50\n",
      "20,21,25,28,30,35,40,42,45,49,50,"
     ]
    }
   ],
   "source": [
    "start = int(input(\"\\n Enter the start : \"))\n",
    "end = int(input(\"\\n Enter the end : \"))\n",
    "while start<=end:\n",
    "    if start%5 == 0 or start%7 == 0:\n",
    "        print(start,end=\",\")\n",
    "    start += 1"
   ]
  },
  {
   "cell_type": "code",
   "execution_count": 85,
   "metadata": {},
   "outputs": [
    {
     "name": "stdout",
     "output_type": "stream",
     "text": [
      "\n",
      " Enter the start : 5\n",
      "\n",
      " Enter the end : 50\n",
      "\n",
      " Number 1 from which you want to divide : 5\n",
      "\n",
      " Number 2 from which you want to divide : 3\n",
      "5,6,9,10,12,15,18,20,21,24,25,27,30,33,35,36,39,40,42,45,48,50,"
     ]
    }
   ],
   "source": [
    "start = int(input(\"\\n Enter the start : \"))\n",
    "end = int(input(\"\\n Enter the end : \"))\n",
    "n1 = int(input(\"\\n Number 1 from which you want to divide : \"))\n",
    "n2 = int(input(\"\\n Number 2 from which you want to divide : \"))\n",
    "while start<=end:\n",
    "    if start%n1 == 0 or start%n2 == 0:\n",
    "        print(start,end=\",\")\n",
    "    start += 1"
   ]
  },
  {
   "cell_type": "code",
   "execution_count": 87,
   "metadata": {},
   "outputs": [
    {
     "name": "stdout",
     "output_type": "stream",
     "text": [
      "\n",
      " Enter the start : 40\n",
      "\n",
      " Enter the end : 90\n",
      "\n",
      " Number 1 from which you want to divide : 3\n",
      "\n",
      " Number 2 from which you want to divide : 6\n",
      "\n",
      " What do you want to perform 1. AND\n",
      " 2. OR1\n",
      "42,48,54,60,66,72,78,84,90,"
     ]
    }
   ],
   "source": [
    "start = int(input(\"\\n Enter the start : \"))\n",
    "end = int(input(\"\\n Enter the end : \"))\n",
    "n1 = int(input(\"\\n Number 1 from which you want to divide : \"))\n",
    "n2 = int(input(\"\\n Number 2 from which you want to divide : \"))\n",
    "ch = int(input(\"\\n What do you want to perform 1. AND\\n 2. OR\"))\n",
    "if ch == 1:\n",
    "    while start<=end:\n",
    "        if start%n1 == 0 and start%n2 == 0:\n",
    "            print(start,end=\",\")\n",
    "        start += 1\n",
    "elif ch == 2:\n",
    "    while start<=end:\n",
    "        if start%n1 == 0 or start%n2 == 0:\n",
    "            print(start,end=\",\")\n",
    "        start += 1"
   ]
  },
  {
   "cell_type": "code",
   "execution_count": 97,
   "metadata": {},
   "outputs": [
    {
     "name": "stdout",
     "output_type": "stream",
     "text": [
      "\n",
      " Enter any number : 1\n",
      "\n",
      " Enter another number : 20\n",
      "Number | Square |   Cube\n",
      "     1 |      1 |     1\n",
      "     2 |      4 |     8\n",
      "     3 |      9 |    27\n",
      "     4 |     16 |    64\n",
      "     5 |     25 |   125\n",
      "     6 |     36 |   216\n",
      "     7 |     49 |   343\n",
      "     8 |     64 |   512\n",
      "     9 |     81 |   729\n",
      "    10 |    100 |  1000\n",
      "    11 |    121 |  1331\n",
      "    12 |    144 |  1728\n",
      "    13 |    169 |  2197\n",
      "    14 |    196 |  2744\n",
      "    15 |    225 |  3375\n",
      "    16 |    256 |  4096\n",
      "    17 |    289 |  4913\n",
      "    18 |    324 |  5832\n",
      "    19 |    361 |  6859\n",
      "    20 |    400 |  8000\n"
     ]
    }
   ],
   "source": [
    "start = int(input(\"\\n Enter any number : \"))\n",
    "end = int(input(\"\\n Enter another number : \"))\n",
    "print(\"Number | Square |   Cube\")\n",
    "while start<=end:\n",
    "    print(f\"{start:>6} | {start**2:>6} | {start**3:>5}\")\n",
    "    start += 1"
   ]
  },
  {
   "cell_type": "markdown",
   "metadata": {},
   "source": [
    "##### Make a program which will print the table of a number"
   ]
  },
  {
   "cell_type": "code",
   "execution_count": 98,
   "metadata": {},
   "outputs": [
    {
     "name": "stdout",
     "output_type": "stream",
     "text": [
      "6\n",
      "6\n",
      "5\n",
      "4\n"
     ]
    }
   ],
   "source": [
    "l = [1,2,3,4,5,6,6]\n",
    "while len(l)>3:\n",
    "    print(l.pop())\n",
    "    \n",
    "#7>3 --> True --> 6\n",
    "#6>3 --> True --> 6\n",
    "#5>3 --> True --> 5\n",
    "#4>3 --> True --> 4\n",
    "#3>3 --> False"
   ]
  },
  {
   "cell_type": "code",
   "execution_count": 99,
   "metadata": {},
   "outputs": [
    {
     "name": "stdout",
     "output_type": "stream",
     "text": [
      "[1, 2, 3, 4, 5, 6, 6]\n",
      "6\n",
      "[1, 2, 3, 4, 5, 6]\n",
      "6\n",
      "[1, 2, 3, 4, 5]\n",
      "5\n",
      "[1, 2, 3, 4]\n",
      "4\n"
     ]
    }
   ],
   "source": [
    "l = [1,2,3,4,5,6,6]\n",
    "while len(l)>3:\n",
    "    print(l)\n",
    "    print(l.pop())\n",
    "    \n",
    "#7>3 --> True --> 6\n",
    "#6>3 --> True --> 6\n",
    "#5>3 --> True --> 5\n",
    "#4>3 --> True --> 4\n",
    "#3>3 --> False"
   ]
  },
  {
   "cell_type": "code",
   "execution_count": 100,
   "metadata": {},
   "outputs": [
    {
     "name": "stdout",
     "output_type": "stream",
     "text": [
      "hellohello\n",
      "hihi\n",
      "byebye\n",
      "heyhey\n",
      "2\n",
      "4\n",
      "6\n",
      "8\n",
      "10\n"
     ]
    }
   ],
   "source": [
    "l = ['hello','hi','bye','hey',1,2,3,4,5]\n",
    "i = 0\n",
    "while i<len(l):\n",
    "    print(l[i]*2)\n",
    "    i += 1\n",
    "#i = 0, l[0]\n",
    "#i = 1, l[1]\n",
    "#i = 2, l[2]\n",
    "#i = 3, l[3]"
   ]
  },
  {
   "cell_type": "code",
   "execution_count": null,
   "metadata": {},
   "outputs": [],
   "source": [
    "#nested while loop, break, continue,"
   ]
  }
 ],
 "metadata": {
  "kernelspec": {
   "display_name": "Python 3",
   "language": "python",
   "name": "python3"
  },
  "language_info": {
   "codemirror_mode": {
    "name": "ipython",
    "version": 3
   },
   "file_extension": ".py",
   "mimetype": "text/x-python",
   "name": "python",
   "nbconvert_exporter": "python",
   "pygments_lexer": "ipython3",
   "version": "3.7.4"
  }
 },
 "nbformat": 4,
 "nbformat_minor": 2
}
