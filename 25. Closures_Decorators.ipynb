{
 "cells": [
  {
   "cell_type": "code",
   "execution_count": 1,
   "metadata": {},
   "outputs": [
    {
     "name": "stdout",
     "output_type": "stream",
     "text": [
      "<function outer.<locals>.inner at 0x0000026F1E941948>\n"
     ]
    }
   ],
   "source": [
    "def outer(a):\n",
    "    def inner(b):\n",
    "        print(a+b)\n",
    "    return inner\n",
    "\n",
    "a = outer(10)\n",
    "print(a)"
   ]
  },
  {
   "cell_type": "code",
   "execution_count": 2,
   "metadata": {},
   "outputs": [
    {
     "ename": "TypeError",
     "evalue": "inner() missing 1 required positional argument: 'b'",
     "output_type": "error",
     "traceback": [
      "\u001b[1;31m---------------------------------------------------------------------------\u001b[0m",
      "\u001b[1;31mTypeError\u001b[0m                                 Traceback (most recent call last)",
      "\u001b[1;32m<ipython-input-2-8d7b4527e81d>\u001b[0m in \u001b[0;36m<module>\u001b[1;34m\u001b[0m\n\u001b[1;32m----> 1\u001b[1;33m \u001b[0ma\u001b[0m\u001b[1;33m(\u001b[0m\u001b[1;33m)\u001b[0m\u001b[1;33m\u001b[0m\u001b[1;33m\u001b[0m\u001b[0m\n\u001b[0m",
      "\u001b[1;31mTypeError\u001b[0m: inner() missing 1 required positional argument: 'b'"
     ]
    }
   ],
   "source": [
    "a()  #inner()"
   ]
  },
  {
   "cell_type": "code",
   "execution_count": 3,
   "metadata": {},
   "outputs": [
    {
     "name": "stdout",
     "output_type": "stream",
     "text": [
      "100\n"
     ]
    }
   ],
   "source": [
    "a(90)"
   ]
  },
  {
   "cell_type": "code",
   "execution_count": 4,
   "metadata": {},
   "outputs": [],
   "source": [
    "del outer"
   ]
  },
  {
   "cell_type": "code",
   "execution_count": 5,
   "metadata": {},
   "outputs": [
    {
     "ename": "NameError",
     "evalue": "name 'outer' is not defined",
     "output_type": "error",
     "traceback": [
      "\u001b[1;31m---------------------------------------------------------------------------\u001b[0m",
      "\u001b[1;31mNameError\u001b[0m                                 Traceback (most recent call last)",
      "\u001b[1;32m<ipython-input-5-286489be8f96>\u001b[0m in \u001b[0;36m<module>\u001b[1;34m\u001b[0m\n\u001b[1;32m----> 1\u001b[1;33m \u001b[0mouter\u001b[0m\u001b[1;33m(\u001b[0m\u001b[1;36m90\u001b[0m\u001b[1;33m)\u001b[0m\u001b[1;33m\u001b[0m\u001b[1;33m\u001b[0m\u001b[0m\n\u001b[0m",
      "\u001b[1;31mNameError\u001b[0m: name 'outer' is not defined"
     ]
    }
   ],
   "source": [
    "outer(90)"
   ]
  },
  {
   "cell_type": "code",
   "execution_count": 6,
   "metadata": {},
   "outputs": [
    {
     "name": "stdout",
     "output_type": "stream",
     "text": [
      "90\n"
     ]
    }
   ],
   "source": [
    "a(80)  #b = 80, a = 10"
   ]
  },
  {
   "cell_type": "code",
   "execution_count": 7,
   "metadata": {},
   "outputs": [
    {
     "name": "stdout",
     "output_type": "stream",
     "text": [
      "Square of a is :  100\n"
     ]
    }
   ],
   "source": [
    "def outer():\n",
    "    a = 10\n",
    "    def inner():\n",
    "        print(\"Square of a is : \",a**2)  #a = 10 the nested functions can access the variables in their outer function\n",
    "    return inner()\n",
    "outer()"
   ]
  },
  {
   "cell_type": "code",
   "execution_count": 8,
   "metadata": {},
   "outputs": [
    {
     "name": "stdout",
     "output_type": "stream",
     "text": [
      "\n",
      " The value of a in outer function is :  80\n",
      "\n",
      " The value of a in inner function is :  20\n",
      "\n",
      " The value of a in global space is :  90\n"
     ]
    }
   ],
   "source": [
    "a = 90\n",
    "def outer():\n",
    "    a = 80\n",
    "    print(\"\\n The value of a in outer function is : \",a)\n",
    "    def inner():\n",
    "        a = 20\n",
    "        print(\"\\n The value of a in inner function is : \",a)\n",
    "    return inner()\n",
    "\n",
    "outer()\n",
    "print(\"\\n The value of a in global space is : \",a)"
   ]
  },
  {
   "cell_type": "code",
   "execution_count": 9,
   "metadata": {},
   "outputs": [
    {
     "name": "stdout",
     "output_type": "stream",
     "text": [
      "\n",
      " The value of a in outer function is :  80 Id :  140733620136816\n",
      "\n",
      " The value of a in inner function is :  20 ID :  140733620134896\n",
      "\n",
      " The value of a in global space is :  90 ID :  140733620137136\n"
     ]
    }
   ],
   "source": [
    "a = 90\n",
    "def outer():\n",
    "    a = 80\n",
    "    print(\"\\n The value of a in outer function is : \",a,\"Id : \",id(a))\n",
    "    def inner():\n",
    "        a = 20\n",
    "        print(\"\\n The value of a in inner function is : \",a,\"ID : \",id(a))\n",
    "    return inner()\n",
    "\n",
    "outer()\n",
    "print(\"\\n The value of a in global space is : \",a,\"ID : \",id(a))"
   ]
  },
  {
   "cell_type": "code",
   "execution_count": 10,
   "metadata": {},
   "outputs": [
    {
     "name": "stdout",
     "output_type": "stream",
     "text": [
      "\n",
      " The square of a is :  6400 ID :  140733620136816\n",
      "\n",
      " ID :  140733620136816\n"
     ]
    }
   ],
   "source": [
    "a = 80\n",
    "def outer():\n",
    "    def inner():\n",
    "        print(\"\\n The square of a is : \",a**2,\"ID : \",id(a))\n",
    "    return inner()\n",
    "outer()\n",
    "print(\"\\n ID : \",id(a))"
   ]
  },
  {
   "cell_type": "code",
   "execution_count": 11,
   "metadata": {},
   "outputs": [
    {
     "name": "stdout",
     "output_type": "stream",
     "text": [
      "ID :  140733620134896\n",
      "\n",
      " The square of a is :  400 ID :  140733620134896\n",
      "\n",
      " ID :  140733620136816\n"
     ]
    }
   ],
   "source": [
    "a = 80\n",
    "def outer():\n",
    "    a = 20\n",
    "    print(\"ID : \",id(a))\n",
    "    def inner():\n",
    "        print(\"\\n The square of a is : \",a**2,\"ID : \",id(a))  #we are accessing the value of a\n",
    "    return inner()\n",
    "outer()\n",
    "print(\"\\n ID : \",id(a))"
   ]
  },
  {
   "cell_type": "code",
   "execution_count": 12,
   "metadata": {},
   "outputs": [
    {
     "ename": "UnboundLocalError",
     "evalue": "local variable 'a' referenced before assignment",
     "output_type": "error",
     "traceback": [
      "\u001b[1;31m---------------------------------------------------------------------------\u001b[0m",
      "\u001b[1;31mUnboundLocalError\u001b[0m                         Traceback (most recent call last)",
      "\u001b[1;32m<ipython-input-12-eec8025c5f1e>\u001b[0m in \u001b[0;36m<module>\u001b[1;34m\u001b[0m\n\u001b[0;32m      6\u001b[0m     \u001b[1;32mreturn\u001b[0m \u001b[0minner\u001b[0m\u001b[1;33m(\u001b[0m\u001b[1;33m)\u001b[0m\u001b[1;33m\u001b[0m\u001b[1;33m\u001b[0m\u001b[0m\n\u001b[0;32m      7\u001b[0m \u001b[1;33m\u001b[0m\u001b[0m\n\u001b[1;32m----> 8\u001b[1;33m \u001b[0mouter\u001b[0m\u001b[1;33m(\u001b[0m\u001b[1;33m)\u001b[0m\u001b[1;33m\u001b[0m\u001b[1;33m\u001b[0m\u001b[0m\n\u001b[0m",
      "\u001b[1;32m<ipython-input-12-eec8025c5f1e>\u001b[0m in \u001b[0;36mouter\u001b[1;34m()\u001b[0m\n\u001b[0;32m      4\u001b[0m         \u001b[0ma\u001b[0m \u001b[1;33m+=\u001b[0m \u001b[1;36m10\u001b[0m  \u001b[1;31m#we are trying to modify the value of a which is in outer space\u001b[0m\u001b[1;33m\u001b[0m\u001b[1;33m\u001b[0m\u001b[0m\n\u001b[0;32m      5\u001b[0m         \u001b[0mprint\u001b[0m\u001b[1;33m(\u001b[0m\u001b[1;34m\"\\n The value of a is : \"\u001b[0m\u001b[1;33m,\u001b[0m\u001b[0ma\u001b[0m\u001b[1;33m)\u001b[0m\u001b[1;33m\u001b[0m\u001b[1;33m\u001b[0m\u001b[0m\n\u001b[1;32m----> 6\u001b[1;33m     \u001b[1;32mreturn\u001b[0m \u001b[0minner\u001b[0m\u001b[1;33m(\u001b[0m\u001b[1;33m)\u001b[0m\u001b[1;33m\u001b[0m\u001b[1;33m\u001b[0m\u001b[0m\n\u001b[0m\u001b[0;32m      7\u001b[0m \u001b[1;33m\u001b[0m\u001b[0m\n\u001b[0;32m      8\u001b[0m \u001b[0mouter\u001b[0m\u001b[1;33m(\u001b[0m\u001b[1;33m)\u001b[0m\u001b[1;33m\u001b[0m\u001b[1;33m\u001b[0m\u001b[0m\n",
      "\u001b[1;32m<ipython-input-12-eec8025c5f1e>\u001b[0m in \u001b[0;36minner\u001b[1;34m()\u001b[0m\n\u001b[0;32m      2\u001b[0m     \u001b[0ma\u001b[0m \u001b[1;33m=\u001b[0m \u001b[1;36m90\u001b[0m\u001b[1;33m\u001b[0m\u001b[1;33m\u001b[0m\u001b[0m\n\u001b[0;32m      3\u001b[0m     \u001b[1;32mdef\u001b[0m \u001b[0minner\u001b[0m\u001b[1;33m(\u001b[0m\u001b[1;33m)\u001b[0m\u001b[1;33m:\u001b[0m\u001b[1;33m\u001b[0m\u001b[1;33m\u001b[0m\u001b[0m\n\u001b[1;32m----> 4\u001b[1;33m         \u001b[0ma\u001b[0m \u001b[1;33m+=\u001b[0m \u001b[1;36m10\u001b[0m  \u001b[1;31m#we are trying to modify the value of a which is in outer space\u001b[0m\u001b[1;33m\u001b[0m\u001b[1;33m\u001b[0m\u001b[0m\n\u001b[0m\u001b[0;32m      5\u001b[0m         \u001b[0mprint\u001b[0m\u001b[1;33m(\u001b[0m\u001b[1;34m\"\\n The value of a is : \"\u001b[0m\u001b[1;33m,\u001b[0m\u001b[0ma\u001b[0m\u001b[1;33m)\u001b[0m\u001b[1;33m\u001b[0m\u001b[1;33m\u001b[0m\u001b[0m\n\u001b[0;32m      6\u001b[0m     \u001b[1;32mreturn\u001b[0m \u001b[0minner\u001b[0m\u001b[1;33m(\u001b[0m\u001b[1;33m)\u001b[0m\u001b[1;33m\u001b[0m\u001b[1;33m\u001b[0m\u001b[0m\n",
      "\u001b[1;31mUnboundLocalError\u001b[0m: local variable 'a' referenced before assignment"
     ]
    }
   ],
   "source": [
    "def outer():\n",
    "    a = 90\n",
    "    def inner():\n",
    "        a += 10  #we are trying to modify the value of a which is in outer space \n",
    "        print(\"\\n The value of a is : \",a)\n",
    "        #it is finding the value of a in local space\n",
    "    return inner()\n",
    "\n",
    "outer()"
   ]
  },
  {
   "cell_type": "code",
   "execution_count": 13,
   "metadata": {},
   "outputs": [
    {
     "name": "stdout",
     "output_type": "stream",
     "text": [
      "100\n"
     ]
    }
   ],
   "source": [
    "a = 10\n",
    "def f():\n",
    "    print(a**2)\n",
    "f()"
   ]
  },
  {
   "cell_type": "code",
   "execution_count": 14,
   "metadata": {},
   "outputs": [
    {
     "ename": "UnboundLocalError",
     "evalue": "local variable 'a' referenced before assignment",
     "output_type": "error",
     "traceback": [
      "\u001b[1;31m---------------------------------------------------------------------------\u001b[0m",
      "\u001b[1;31mUnboundLocalError\u001b[0m                         Traceback (most recent call last)",
      "\u001b[1;32m<ipython-input-14-145635e1847f>\u001b[0m in \u001b[0;36m<module>\u001b[1;34m\u001b[0m\n\u001b[0;32m      3\u001b[0m     \u001b[0ma\u001b[0m \u001b[1;33m+=\u001b[0m \u001b[1;36m10\u001b[0m\u001b[1;33m\u001b[0m\u001b[1;33m\u001b[0m\u001b[0m\n\u001b[0;32m      4\u001b[0m     \u001b[0mprint\u001b[0m\u001b[1;33m(\u001b[0m\u001b[0ma\u001b[0m\u001b[1;33m**\u001b[0m\u001b[1;36m2\u001b[0m\u001b[1;33m)\u001b[0m\u001b[1;33m\u001b[0m\u001b[1;33m\u001b[0m\u001b[0m\n\u001b[1;32m----> 5\u001b[1;33m \u001b[0mf\u001b[0m\u001b[1;33m(\u001b[0m\u001b[1;33m)\u001b[0m\u001b[1;33m\u001b[0m\u001b[1;33m\u001b[0m\u001b[0m\n\u001b[0m",
      "\u001b[1;32m<ipython-input-14-145635e1847f>\u001b[0m in \u001b[0;36mf\u001b[1;34m()\u001b[0m\n\u001b[0;32m      1\u001b[0m \u001b[0ma\u001b[0m \u001b[1;33m=\u001b[0m \u001b[1;36m10\u001b[0m\u001b[1;33m\u001b[0m\u001b[1;33m\u001b[0m\u001b[0m\n\u001b[0;32m      2\u001b[0m \u001b[1;32mdef\u001b[0m \u001b[0mf\u001b[0m\u001b[1;33m(\u001b[0m\u001b[1;33m)\u001b[0m\u001b[1;33m:\u001b[0m\u001b[1;33m\u001b[0m\u001b[1;33m\u001b[0m\u001b[0m\n\u001b[1;32m----> 3\u001b[1;33m     \u001b[0ma\u001b[0m \u001b[1;33m+=\u001b[0m \u001b[1;36m10\u001b[0m\u001b[1;33m\u001b[0m\u001b[1;33m\u001b[0m\u001b[0m\n\u001b[0m\u001b[0;32m      4\u001b[0m     \u001b[0mprint\u001b[0m\u001b[1;33m(\u001b[0m\u001b[0ma\u001b[0m\u001b[1;33m**\u001b[0m\u001b[1;36m2\u001b[0m\u001b[1;33m)\u001b[0m\u001b[1;33m\u001b[0m\u001b[1;33m\u001b[0m\u001b[0m\n\u001b[0;32m      5\u001b[0m \u001b[0mf\u001b[0m\u001b[1;33m(\u001b[0m\u001b[1;33m)\u001b[0m\u001b[1;33m\u001b[0m\u001b[1;33m\u001b[0m\u001b[0m\n",
      "\u001b[1;31mUnboundLocalError\u001b[0m: local variable 'a' referenced before assignment"
     ]
    }
   ],
   "source": [
    "a = 10\n",
    "def f():\n",
    "    a += 10  \n",
    "    print(a**2)\n",
    "f()"
   ]
  },
  {
   "cell_type": "code",
   "execution_count": 16,
   "metadata": {},
   "outputs": [
    {
     "name": "stdout",
     "output_type": "stream",
     "text": [
      "20\n"
     ]
    }
   ],
   "source": [
    "a = 10\n",
    "def f():\n",
    "    global a\n",
    "    a += 10  \n",
    "    print(a)\n",
    "f()"
   ]
  },
  {
   "cell_type": "code",
   "execution_count": 17,
   "metadata": {},
   "outputs": [
    {
     "data": {
      "text/plain": [
       "20"
      ]
     },
     "execution_count": 17,
     "metadata": {},
     "output_type": "execute_result"
    }
   ],
   "source": [
    "a"
   ]
  },
  {
   "cell_type": "code",
   "execution_count": 18,
   "metadata": {},
   "outputs": [
    {
     "name": "stdout",
     "output_type": "stream",
     "text": [
      "30\n"
     ]
    }
   ],
   "source": [
    "f()"
   ]
  },
  {
   "cell_type": "code",
   "execution_count": 19,
   "metadata": {},
   "outputs": [
    {
     "name": "stdout",
     "output_type": "stream",
     "text": [
      "\n",
      " The value of a is :  90\n"
     ]
    }
   ],
   "source": [
    "def outer():\n",
    "    a = 90\n",
    "    def inner():\n",
    "        a = 80\n",
    "        a += 10  #we are trying to modify the value of a which is in outer space \n",
    "        print(\"\\n The value of a is : \",a)\n",
    "        #it is finding the value of a in local space\n",
    "    return inner()\n",
    "\n",
    "outer()"
   ]
  },
  {
   "cell_type": "code",
   "execution_count": 20,
   "metadata": {},
   "outputs": [
    {
     "name": "stdout",
     "output_type": "stream",
     "text": [
      "\n",
      " The value of a is :  100\n"
     ]
    }
   ],
   "source": [
    "def outer():\n",
    "    a = 90\n",
    "    def inner():\n",
    "        nonlocal a\n",
    "        a += 10  #we are trying to modify the value of a which is in outer space \n",
    "        print(\"\\n The value of a is : \",a)\n",
    "        #it is finding the value of a in non local space that is in outer \n",
    "    return inner()\n",
    "\n",
    "outer()"
   ]
  },
  {
   "cell_type": "code",
   "execution_count": 22,
   "metadata": {},
   "outputs": [
    {
     "name": "stdout",
     "output_type": "stream",
     "text": [
      "\n",
      " The value of s is :  helloworld\n"
     ]
    }
   ],
   "source": [
    "s = \"hello\"  #global \n",
    "def f():\n",
    "    def f1():\n",
    "        global s\n",
    "        s += \"world\"\n",
    "        print(\"\\n The value of s is : \",s)\n",
    "    return f1()\n",
    "f()"
   ]
  },
  {
   "cell_type": "code",
   "execution_count": 23,
   "metadata": {},
   "outputs": [
    {
     "name": "stdout",
     "output_type": "stream",
     "text": [
      "\n",
      " The value of a is :  30\n",
      "\n",
      " The value of b is :  160\n",
      "\n",
      " The value of a is :  60\n",
      "\n",
      " The value of s is :  helloworld\n"
     ]
    }
   ],
   "source": [
    "s = \"hello\"\n",
    "a = 10\n",
    "def outer():\n",
    "    global a\n",
    "    a += 20  #10 + 20 = 30\n",
    "    print(\"\\n The value of a is : \",a)\n",
    "    b = 80\n",
    "    def f1():\n",
    "        global s\n",
    "        nonlocal b\n",
    "        b += 80  #80 + 80 = 160\n",
    "        s += \"world\"  # hello + world\n",
    "        def f2():\n",
    "            global a \n",
    "            a += 30 # 30 + 30 = 60\n",
    "        return f2()\n",
    "    f1()\n",
    "    print(\"\\n The value of b is : \",b)\n",
    "outer()\n",
    "print(\"\\n The value of a is : \",a)\n",
    "print(\"\\n The value of s is : \",s)"
   ]
  },
  {
   "cell_type": "code",
   "execution_count": 26,
   "metadata": {},
   "outputs": [
    {
     "ename": "SyntaxError",
     "evalue": "no binding for nonlocal 'a' found (<ipython-input-26-4e87531902c1>, line 6)",
     "output_type": "error",
     "traceback": [
      "\u001b[1;36m  File \u001b[1;32m\"<ipython-input-26-4e87531902c1>\"\u001b[1;36m, line \u001b[1;32m6\u001b[0m\n\u001b[1;33m    nonlocal a\u001b[0m\n\u001b[1;37m    ^\u001b[0m\n\u001b[1;31mSyntaxError\u001b[0m\u001b[1;31m:\u001b[0m no binding for nonlocal 'a' found\n"
     ]
    }
   ],
   "source": [
    "a = 80\n",
    "def outer():\n",
    "    global a\n",
    "    a = 70\n",
    "    def inner():\n",
    "        nonlocal a \n",
    "        a += 60\n",
    "        b = 10\n",
    "        def f1():\n",
    "            nonlocal b\n",
    "            global a\n",
    "            a += 10\n",
    "            b += 80\n",
    "        f1()\n",
    "        print(\"\\n The value of b is : \",b)\n",
    "    inner()\n",
    "    print(\"\\n The value of a is : \",a)\n",
    "outer()\n",
    "print(\"\\n The value of a is : \",a)"
   ]
  },
  {
   "cell_type": "code",
   "execution_count": 27,
   "metadata": {},
   "outputs": [
    {
     "name": "stdout",
     "output_type": "stream",
     "text": [
      "\n",
      " The value of b is :  90\n",
      "\n",
      " The value of a is :  140\n",
      "\n",
      " The value of a is :  140\n"
     ]
    }
   ],
   "source": [
    "a = 80\n",
    "def outer():\n",
    "    global a\n",
    "    a = 70\n",
    "    def inner():\n",
    "        global a \n",
    "        a += 60\n",
    "        b = 10\n",
    "        def f1():\n",
    "            nonlocal b\n",
    "            global a\n",
    "            a += 10\n",
    "            b += 80\n",
    "        f1()\n",
    "        print(\"\\n The value of b is : \",b)\n",
    "    inner()\n",
    "    print(\"\\n The value of a is : \",a)\n",
    "outer()\n",
    "print(\"\\n The value of a is : \",a)"
   ]
  },
  {
   "cell_type": "markdown",
   "metadata": {},
   "source": [
    "#### Passing Functions as Arguments"
   ]
  },
  {
   "cell_type": "code",
   "execution_count": 28,
   "metadata": {},
   "outputs": [
    {
     "name": "stdout",
     "output_type": "stream",
     "text": [
      "\n",
      " Result is :  100\n"
     ]
    }
   ],
   "source": [
    "def sq(x):\n",
    "    return x**2\n",
    "\n",
    "def cube(x):\n",
    "    return x**3\n",
    "\n",
    "def common(func,x):\n",
    "    result = func(x)  #sq(10)\n",
    "    print(\"\\n Result is : \",result)\n",
    "\n",
    "common(sq,10) #func = sq, x = 10"
   ]
  },
  {
   "cell_type": "code",
   "execution_count": 29,
   "metadata": {},
   "outputs": [
    {
     "name": "stdout",
     "output_type": "stream",
     "text": [
      "\n",
      " Result is :  729000\n"
     ]
    }
   ],
   "source": [
    "common(cube,90)"
   ]
  },
  {
   "cell_type": "code",
   "execution_count": 30,
   "metadata": {},
   "outputs": [
    {
     "name": "stdout",
     "output_type": "stream",
     "text": [
      "\n",
      " Result is :  4900\n"
     ]
    }
   ],
   "source": [
    "common(sq,70)"
   ]
  },
  {
   "cell_type": "code",
   "execution_count": 32,
   "metadata": {},
   "outputs": [
    {
     "name": "stdout",
     "output_type": "stream",
     "text": [
      "\n",
      " Result is :  100\n",
      "\n",
      " Result is :  100\n",
      "\n",
      " Result is :  10\n"
     ]
    }
   ],
   "source": [
    "def sq(x):\n",
    "    return x**2\n",
    "\n",
    "def cube(x):\n",
    "    return x**3\n",
    "\n",
    "def add(a,b):\n",
    "    return a+b\n",
    "\n",
    "def sub(a,b):\n",
    "    return a-b\n",
    "\n",
    "def common(func,*args):\n",
    "    result = func(*args)  #sq(10)\n",
    "    print(\"\\n Result is : \",result)\n",
    "\n",
    "common(sq,10) #func = sq, x = 10\n",
    "common(add,10,90)\n",
    "common(sub,100,90)"
   ]
  },
  {
   "cell_type": "markdown",
   "metadata": {},
   "source": [
    "### Decorators\n",
    "    \n",
    "     Decorate????\n",
    "     \n",
    "     Additional Functionality in predefined things is decoration\n",
    "     \n",
    "     To decorate the functions or to make it attractive we can use decorators\n",
    "     \n",
    "     To add some addtional functionality we use decorators."
   ]
  },
  {
   "cell_type": "code",
   "execution_count": 33,
   "metadata": {},
   "outputs": [
    {
     "name": "stdout",
     "output_type": "stream",
     "text": [
      "********************************************************************************\n",
      "********************************************************************************\n",
      "                                  Result : 30                                   \n",
      "********************************************************************************\n",
      "********************************************************************************\n"
     ]
    }
   ],
   "source": [
    "def decorate(func):  #func = add\n",
    "    def inner(a,b):  #10,20\n",
    "        print(\"*\"*80)\n",
    "        print(\"*\"*80)\n",
    "        result = func(a,b)  #add(10,20)\n",
    "        print(f\"Result : {result}\".center(80))\n",
    "        print(\"*\"*80)\n",
    "        print(\"*\"*80)\n",
    "    return inner\n",
    "    \n",
    "def add(a,b):\n",
    "    return a+b\n",
    "\n",
    "i = decorate(add)\n",
    "i(10,20)  #inner(10,20)"
   ]
  },
  {
   "cell_type": "code",
   "execution_count": 34,
   "metadata": {},
   "outputs": [
    {
     "name": "stdout",
     "output_type": "stream",
     "text": [
      "********************************************************************************\n",
      "********************************************************************************\n",
      "                                  Result : 70                                   \n",
      "********************************************************************************\n",
      "********************************************************************************\n"
     ]
    }
   ],
   "source": [
    "def sub(a,b):\n",
    "    return a-b\n",
    "\n",
    "i = decorate(sub)    #func = sub\n",
    "i(80,10) #a = 80 , b = 10"
   ]
  },
  {
   "cell_type": "code",
   "execution_count": 36,
   "metadata": {},
   "outputs": [
    {
     "name": "stdout",
     "output_type": "stream",
     "text": [
      "681 ns ± 55.2 ns per loop (mean ± std. dev. of 7 runs, 1000000 loops each)\n"
     ]
    }
   ],
   "source": [
    "%%timeit\n",
    "\n",
    "a = 10\n",
    "for i in range(10):\n",
    "    a += i\n",
    "#681 + 55.2"
   ]
  },
  {
   "cell_type": "code",
   "execution_count": null,
   "metadata": {},
   "outputs": [],
   "source": [
    "# 210 +- 50 --> 210 + 50 , 210 - 50"
   ]
  },
  {
   "cell_type": "code",
   "execution_count": 37,
   "metadata": {},
   "outputs": [
    {
     "name": "stdout",
     "output_type": "stream",
     "text": [
      "739 ns ± 53.2 ns per loop (mean ± std. dev. of 7 runs, 1000000 loops each)\n"
     ]
    }
   ],
   "source": [
    "%%timeit\n",
    "\n",
    "a = 10\n",
    "i = 0\n",
    "while i<10:\n",
    "    a += i\n",
    "    i += 1"
   ]
  },
  {
   "cell_type": "code",
   "execution_count": 38,
   "metadata": {},
   "outputs": [
    {
     "name": "stdout",
     "output_type": "stream",
     "text": [
      "49.1 ns ± 3.31 ns per loop (mean ± std. dev. of 7 runs, 10000000 loops each)\n"
     ]
    }
   ],
   "source": [
    "%%timeit\n",
    "\n",
    "f = 1\n",
    "n = 5\n",
    "while n<1:\n",
    "    f = f * n\n",
    "    n = n - 1"
   ]
  },
  {
   "cell_type": "code",
   "execution_count": 39,
   "metadata": {},
   "outputs": [
    {
     "name": "stdout",
     "output_type": "stream",
     "text": [
      "763 ns ± 31.9 ns per loop (mean ± std. dev. of 7 runs, 1000000 loops each)\n"
     ]
    }
   ],
   "source": [
    "%%timeit\n",
    "\n",
    "def fact(n):\n",
    "    if n == 1:\n",
    "        return 1\n",
    "    return n * fact(n-1)\n",
    "\n",
    "fact(5)"
   ]
  },
  {
   "cell_type": "code",
   "execution_count": 41,
   "metadata": {},
   "outputs": [
    {
     "name": "stdout",
     "output_type": "stream",
     "text": [
      "********************************************************************************\n",
      "********************************************************************************\n",
      "                                  Result : 30                                   \n",
      "********************************************************************************\n",
      "********************************************************************************\n"
     ]
    },
    {
     "data": {
      "text/plain": [
       "10"
      ]
     },
     "execution_count": 41,
     "metadata": {},
     "output_type": "execute_result"
    }
   ],
   "source": [
    "def decorate(func):  #func = add\n",
    "    def inner(a,b):  #10,20\n",
    "        print(\"*\"*80)\n",
    "        print(\"*\"*80)\n",
    "        result = func(a,b)  #add(10,20)\n",
    "        print(f\"Result : {result}\".center(80))\n",
    "        print(\"*\"*80)\n",
    "        print(\"*\"*80)\n",
    "    return inner\n",
    "@decorate\n",
    "def add(a,b):\n",
    "    return a+b\n",
    "\n",
    "\n",
    "def sub(a,b):\n",
    "    return a-b\n",
    "\n",
    "add(10,20)\n",
    "sub(90,80)"
   ]
  },
  {
   "cell_type": "code",
   "execution_count": 42,
   "metadata": {},
   "outputs": [
    {
     "name": "stdout",
     "output_type": "stream",
     "text": [
      "********************************************************************************\n",
      "********************************************************************************\n",
      "                                  Result : 30                                   \n",
      "********************************************************************************\n",
      "********************************************************************************\n",
      "********************************************************************************\n",
      "********************************************************************************\n",
      "                                  Result : 10                                   \n",
      "********************************************************************************\n",
      "********************************************************************************\n"
     ]
    }
   ],
   "source": [
    "def decorate(func):  #func = add\n",
    "    def inner(a,b):  #10,20\n",
    "        print(\"*\"*80)\n",
    "        print(\"*\"*80)\n",
    "        result = func(a,b)  #add(10,20)\n",
    "        print(f\"Result : {result}\".center(80))\n",
    "        print(\"*\"*80)\n",
    "        print(\"*\"*80)\n",
    "    return inner\n",
    "@decorate\n",
    "def add(a,b):\n",
    "    return a+b\n",
    "\n",
    "@decorate\n",
    "def sub(a,b):\n",
    "    return a-b\n",
    "\n",
    "add(10,20)\n",
    "sub(90,80)"
   ]
  },
  {
   "cell_type": "code",
   "execution_count": null,
   "metadata": {},
   "outputs": [],
   "source": []
  }
 ],
 "metadata": {
  "kernelspec": {
   "display_name": "Python 3",
   "language": "python",
   "name": "python3"
  },
  "language_info": {
   "codemirror_mode": {
    "name": "ipython",
    "version": 3
   },
   "file_extension": ".py",
   "mimetype": "text/x-python",
   "name": "python",
   "nbconvert_exporter": "python",
   "pygments_lexer": "ipython3",
   "version": "3.7.4"
  }
 },
 "nbformat": 4,
 "nbformat_minor": 2
}
