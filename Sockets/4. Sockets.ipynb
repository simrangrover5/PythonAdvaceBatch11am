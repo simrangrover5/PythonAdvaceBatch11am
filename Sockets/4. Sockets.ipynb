{
 "cells": [
  {
   "cell_type": "code",
   "execution_count": 1,
   "metadata": {},
   "outputs": [],
   "source": [
    "import socket"
   ]
  },
  {
   "cell_type": "code",
   "execution_count": 2,
   "metadata": {},
   "outputs": [],
   "source": [
    "# network "
   ]
  },
  {
   "cell_type": "code",
   "execution_count": 3,
   "metadata": {},
   "outputs": [
    {
     "name": "stdout",
     "output_type": "stream",
     "text": [
      "192.168.1.0\n",
      "192.168.1.1\n",
      "192.168.1.2\n",
      "192.168.1.3\n",
      "192.168.1.4\n",
      "192.168.1.5\n",
      "192.168.1.6\n",
      "192.168.1.7\n",
      "192.168.1.8\n",
      "192.168.1.9\n"
     ]
    }
   ],
   "source": [
    "net = \"192.168.1\"\n",
    "\n",
    "for i in range(10): # 0 - 255 --> host \n",
    "    ip = net + \".\" + str(i)\n",
    "    print(ip)"
   ]
  },
  {
   "cell_type": "code",
   "execution_count": 4,
   "metadata": {},
   "outputs": [
    {
     "name": "stdout",
     "output_type": "stream",
     "text": [
      "\n",
      "Pinging 192.168.1.5 with 32 bytes of data:\n",
      "Reply from 192.168.1.4: Destination host unreachable.\n",
      "Reply from 192.168.1.4: Destination host unreachable.\n",
      "Reply from 192.168.1.4: Destination host unreachable.\n",
      "Reply from 192.168.1.4: Destination host unreachable.\n",
      "\n",
      "Ping statistics for 192.168.1.5:\n",
      "    Packets: Sent = 4, Received = 4, Lost = 0 (0% loss),\n"
     ]
    }
   ],
   "source": [
    "!ping 192.168.1.5"
   ]
  },
  {
   "cell_type": "code",
   "execution_count": 5,
   "metadata": {},
   "outputs": [
    {
     "name": "stdout",
     "output_type": "stream",
     "text": [
      "\n",
      "Pinging 192.168.1.4 with 32 bytes of data:\n",
      "Reply from 192.168.1.4: bytes=32 time<1ms TTL=128\n",
      "Reply from 192.168.1.4: bytes=32 time<1ms TTL=128\n",
      "Reply from 192.168.1.4: bytes=32 time<1ms TTL=128\n",
      "Reply from 192.168.1.4: bytes=32 time<1ms TTL=128\n",
      "\n",
      "Ping statistics for 192.168.1.4:\n",
      "    Packets: Sent = 4, Received = 4, Lost = 0 (0% loss),\n",
      "Approximate round trip times in milli-seconds:\n",
      "    Minimum = 0ms, Maximum = 0ms, Average = 0ms\n"
     ]
    }
   ],
   "source": [
    "!ping 192.168.1.4"
   ]
  },
  {
   "cell_type": "code",
   "execution_count": 6,
   "metadata": {},
   "outputs": [],
   "source": [
    "import os"
   ]
  },
  {
   "cell_type": "code",
   "execution_count": 11,
   "metadata": {},
   "outputs": [],
   "source": [
    "obj = os.popen(\"ping 192.168.1.4\")"
   ]
  },
  {
   "cell_type": "code",
   "execution_count": 12,
   "metadata": {},
   "outputs": [
    {
     "name": "stdout",
     "output_type": "stream",
     "text": [
      "\n",
      "Pinging 192.168.1.4 with 32 bytes of data:\n",
      "Reply from 192.168.1.4: bytes=32 time<1ms TTL=128\n",
      "Reply from 192.168.1.4: bytes=32 time<1ms TTL=128\n",
      "Reply from 192.168.1.4: bytes=32 time<1ms TTL=128\n",
      "Reply from 192.168.1.4: bytes=32 time<1ms TTL=128\n",
      "\n",
      "Ping statistics for 192.168.1.4:\n",
      "    Packets: Sent = 4, Received = 4, Lost = 0 (0% loss),\n",
      "Approximate round trip times in milli-seconds:\n",
      "    Minimum = 0ms, Maximum = 0ms, Average = 0ms\n",
      "\n"
     ]
    }
   ],
   "source": [
    "print(obj.read())"
   ]
  },
  {
   "cell_type": "code",
   "execution_count": 13,
   "metadata": {},
   "outputs": [
    {
     "data": {
      "text/plain": [
       "str"
      ]
     },
     "execution_count": 13,
     "metadata": {},
     "output_type": "execute_result"
    }
   ],
   "source": [
    "type(obj.read())"
   ]
  },
  {
   "cell_type": "code",
   "execution_count": 14,
   "metadata": {},
   "outputs": [
    {
     "data": {
      "text/plain": [
       "False"
      ]
     },
     "execution_count": 14,
     "metadata": {},
     "output_type": "execute_result"
    }
   ],
   "source": [
    "\"unreach\" in obj.read()"
   ]
  },
  {
   "cell_type": "code",
   "execution_count": 15,
   "metadata": {},
   "outputs": [
    {
     "name": "stdout",
     "output_type": "stream",
     "text": [
      "Writing networkscan.py\n"
     ]
    }
   ],
   "source": [
    "%%writefile networkscan.py\n",
    "\n",
    "import os\n",
    "\n",
    "NET = \"192.168.1\"\n",
    "\n",
    "for i in range(10): # 0 - 255 --> host \n",
    "    ip = NET + \".\" + str(i)\n",
    "    obj = os.popen(f\"ping {ip}\")\n",
    "    output = obj.read()\n",
    "    if not \"unreach\" in output:\n",
    "        print(f\"{ip} is active\")"
   ]
  },
  {
   "cell_type": "code",
   "execution_count": 16,
   "metadata": {},
   "outputs": [
    {
     "name": "stdout",
     "output_type": "stream",
     "text": [
      "\n",
      "Pinging 192.168.1.6 with 32 bytes of data:\n",
      "Reply from 192.168.1.6: bytes=32 time=52ms TTL=64\n",
      "Reply from 192.168.1.6: bytes=32 time=63ms TTL=64\n",
      "Reply from 192.168.1.6: bytes=32 time=213ms TTL=64\n",
      "Reply from 192.168.1.6: bytes=32 time=93ms TTL=64\n",
      "\n",
      "Ping statistics for 192.168.1.6:\n",
      "    Packets: Sent = 4, Received = 4, Lost = 0 (0% loss),\n",
      "Approximate round trip times in milli-seconds:\n",
      "    Minimum = 52ms, Maximum = 213ms, Average = 105ms\n"
     ]
    }
   ],
   "source": [
    "!ping 192.168.1.6"
   ]
  },
  {
   "cell_type": "code",
   "execution_count": 17,
   "metadata": {},
   "outputs": [
    {
     "name": "stdout",
     "output_type": "stream",
     "text": [
      "\n",
      "Pinging 192.168.1.1 with 32 bytes of data:\n",
      "Reply from 192.168.1.4: Destination host unreachable.\n",
      "Reply from 192.168.1.4: Destination host unreachable.\n",
      "Reply from 192.168.1.4: Destination host unreachable.\n",
      "Reply from 192.168.1.4: Destination host unreachable.\n",
      "\n",
      "Ping statistics for 192.168.1.1:\n",
      "    Packets: Sent = 4, Received = 4, Lost = 0 (0% loss),\n"
     ]
    }
   ],
   "source": [
    "!ping 192.168.1.1"
   ]
  },
  {
   "cell_type": "code",
   "execution_count": 19,
   "metadata": {},
   "outputs": [
    {
     "name": "stdout",
     "output_type": "stream",
     "text": [
      "\n",
      "Pinging 192.168.1.254 with 32 bytes of data:\n",
      "Reply from 192.168.1.254: bytes=32 time=2ms TTL=64\n",
      "Reply from 192.168.1.254: bytes=32 time=1ms TTL=64\n",
      "Reply from 192.168.1.254: bytes=32 time=2ms TTL=64\n",
      "Reply from 192.168.1.254: bytes=32 time=1ms TTL=64\n",
      "\n",
      "Ping statistics for 192.168.1.254:\n",
      "    Packets: Sent = 4, Received = 4, Lost = 0 (0% loss),\n",
      "Approximate round trip times in milli-seconds:\n",
      "    Minimum = 1ms, Maximum = 2ms, Average = 1ms\n"
     ]
    }
   ],
   "source": [
    "!ping 192.168.1.254"
   ]
  },
  {
   "cell_type": "markdown",
   "metadata": {},
   "source": [
    "    1. Data Types\n",
    "    2. Operators\n",
    "    3. Algorithm\n",
    "    4. if-else\n",
    "    5. while loop\n",
    "    6. for loop\n",
    "    7. functions\n",
    "    8. file handling , Serialization and Deserialization\n",
    "    9. OOPs\n",
    "    10. Iterators, generators, exception handling\n",
    "    11. Sockets"
   ]
  },
  {
   "cell_type": "markdown",
   "metadata": {},
   "source": [
    "    Projects\n",
    "    \n",
    "    1. Bank Application\n",
    "    2. Chat Application\n",
    "    3. File Sharing\n",
    "    4. Attendance Management using FH\n",
    "    5. Marks Taking using FH\n",
    "    6. Port Scanner/ Network Scanner"
   ]
  },
  {
   "cell_type": "markdown",
   "metadata": {},
   "source": [
    "#### Library Management Using Classes and File Handling or JSON\n",
    "\n",
    "    # 5-6 entries of books\n",
    "    books = {\n",
    "         \"Book_id\" : ['name', 'student_issues', 'total_copies', 'rating', 'author', [list of student ids who issued it],\n",
    "          \"101\" : [\"abc\", 4, 6, 4.5, 'xyz', [1001, 1002, 1003, 1004]\n",
    "       }\n",
    "    \n",
    "    # 3-4 entries of students\n",
    "    student = {\n",
    "        \"stu_id\" : [\"name\", \"no_of_book_issued\", 'passwd', [list of ids of book issued],\n",
    "        \"1001\" : [\"simran\", 3, 'admin', [101, 102, 1010]\n",
    "     }\n",
    "\n",
    "     1. Librarian Class\n",
    "         class attributes\n",
    "             librarian username\n",
    "             librarian password\n",
    "            \n",
    "         Method\n",
    "             Login\n",
    "                 you will ask for username and password of lib. and give options if both are correct\n",
    "                 1. Details of book by entering the book id \n",
    "                     Call details method\n",
    "                 2. Issue Book\n",
    "                     Issue_Book method call \n",
    "                     # check whether the student exists of student in student details if not then inform him/ her\n",
    "                 3. Check details of all the books\n",
    "                     Call All_Books\n",
    "                 4. Book deposit\n",
    "                     Call Book_Deposit\n",
    "                 5. Add New Book\n",
    "                     Call Add_Book\n",
    "                 5. Logout\n",
    "                     \n",
    "             Details\n",
    "             Issue_Book\n",
    "             All_books\n",
    "             Book_Deposit\n",
    "             Add_Book\n",
    "             __str__ ( object through username)\n",
    "             __repr__\n",
    "      \n",
    "     2. Student Class\n",
    "             Object_Attributes\n",
    "                 username\n",
    "                 password\n",
    "                 \n",
    "             Methods\n",
    "                 __init__\n",
    "                     student_user and password\n",
    "                     and check whether the student exists or not and have same password\n",
    "                     if student does not exists then give option create account or not\n",
    "                         if the student choose create account call add account method\n",
    "                 \n",
    "                 Check_Details\n",
    "                     Show details of its own\n",
    "                  \n",
    "                 Filter_By_Author\n",
    "                     Take author as an input/argument and show all the book names and rating with that author\n",
    "                     \n",
    "                 Filter_By_Rating\n",
    "                     Show all the books with the rating given as argument or input\n",
    "                     \n",
    "                 Change_Password\n",
    "                     Change the password\n",
    "                     \n",
    "                  Filter_By_Name\n",
    "                      Show all the name, author, rating of the books with that name\n",
    "                      \n",
    "                  add_account\n",
    "                      Add the student by asking its details and generate the id for the student which must\n",
    "                      be in serial order\n",
    "                      \n",
    "            if the username and password attribute is not made for objects then don't call the all these methods"
   ]
  },
  {
   "cell_type": "code",
   "execution_count": null,
   "metadata": {},
   "outputs": [],
   "source": []
  }
 ],
 "metadata": {
  "kernelspec": {
   "display_name": "Python 3",
   "language": "python",
   "name": "python3"
  },
  "language_info": {
   "codemirror_mode": {
    "name": "ipython",
    "version": 3
   },
   "file_extension": ".py",
   "mimetype": "text/x-python",
   "name": "python",
   "nbconvert_exporter": "python",
   "pygments_lexer": "ipython3",
   "version": "3.7.4"
  }
 },
 "nbformat": 4,
 "nbformat_minor": 2
}
