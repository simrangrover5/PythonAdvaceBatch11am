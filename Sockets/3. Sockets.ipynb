{
 "cells": [
  {
   "cell_type": "code",
   "execution_count": 1,
   "metadata": {},
   "outputs": [],
   "source": [
    "import socket"
   ]
  },
  {
   "cell_type": "code",
   "execution_count": 2,
   "metadata": {},
   "outputs": [
    {
     "name": "stdout",
     "output_type": "stream",
     "text": [
      "\n",
      "Windows IP Configuration\n",
      "\n",
      "\n",
      "Ethernet adapter Ethernet 2:\n",
      "\n",
      "   Media State . . . . . . . . . . . : Media disconnected\n",
      "   Connection-specific DNS Suffix  . : \n",
      "\n",
      "Ethernet adapter Npcap Loopback Adapter:\n",
      "\n",
      "   Connection-specific DNS Suffix  . : \n",
      "   Link-local IPv6 Address . . . . . : fe80::10f8:f6c5:c6b3:1ddf%9\n",
      "   Autoconfiguration IPv4 Address. . : 169.254.29.223\n",
      "   Subnet Mask . . . . . . . . . . . : 255.255.0.0\n",
      "   Default Gateway . . . . . . . . . : \n",
      "\n",
      "Wireless LAN adapter Local Area Connection* 1:\n",
      "\n",
      "   Media State . . . . . . . . . . . : Media disconnected\n",
      "   Connection-specific DNS Suffix  . : \n",
      "\n",
      "Wireless LAN adapter Local Area Connection* 11:\n",
      "\n",
      "   Media State . . . . . . . . . . . : Media disconnected\n",
      "   Connection-specific DNS Suffix  . : \n",
      "\n",
      "Ethernet adapter VMware Network Adapter VMnet1:\n",
      "\n",
      "   Connection-specific DNS Suffix  . : \n",
      "   Link-local IPv6 Address . . . . . : fe80::34b9:61ee:aa27:4ae6%14\n",
      "   IPv4 Address. . . . . . . . . . . : 192.168.226.1\n",
      "   Subnet Mask . . . . . . . . . . . : 255.255.255.0\n",
      "   Default Gateway . . . . . . . . . : \n",
      "\n",
      "Ethernet adapter VMware Network Adapter VMnet8:\n",
      "\n",
      "   Connection-specific DNS Suffix  . : \n",
      "   Link-local IPv6 Address . . . . . : fe80::d77:b06d:dcb4:49db%5\n",
      "   IPv4 Address. . . . . . . . . . . : 192.168.116.1\n",
      "   Subnet Mask . . . . . . . . . . . : 255.255.255.0\n",
      "   Default Gateway . . . . . . . . . : \n",
      "\n",
      "Wireless LAN adapter Wi-Fi:\n",
      "\n",
      "   Connection-specific DNS Suffix  . : \n",
      "   Link-local IPv6 Address . . . . . : fe80::b538:c1a0:3b6c:d403%10\n",
      "   IPv4 Address. . . . . . . . . . . : 192.168.1.4\n",
      "   Subnet Mask . . . . . . . . . . . : 255.255.255.0\n",
      "   Default Gateway . . . . . . . . . : 192.168.1.254\n"
     ]
    }
   ],
   "source": [
    "!ipconfig"
   ]
  },
  {
   "cell_type": "code",
   "execution_count": 3,
   "metadata": {},
   "outputs": [
    {
     "name": "stdout",
     "output_type": "stream",
     "text": [
      "Writing server_file.py\n"
     ]
    }
   ],
   "source": [
    "%%writefile server_file.py\n",
    "\n",
    "import socket\n",
    "\n",
    "server = socket.socket(socket.AF_INET, socket.SOCK_STREAM)\n",
    "host = input(\"\\n Enter the ip at which you want the server to run : \")\n",
    "port = 1234\n",
    "\n",
    "server.bind((host, port))\n",
    "\n",
    "server.listen()\n",
    "print(\"\\n Server is ready to listen......\")\n",
    "\n",
    "client_socket, client_addr = server.accept()\n",
    "print(f\"\\n Client is connected at ip {client_addr[0]} and port {client_addr[1]}\")\n",
    "\n"
   ]
  },
  {
   "cell_type": "code",
   "execution_count": 4,
   "metadata": {},
   "outputs": [
    {
     "name": "stdout",
     "output_type": "stream",
     "text": [
      "Writing client_file.py\n"
     ]
    }
   ],
   "source": [
    "%%writefile client_file.py\n",
    "\n",
    "import socket\n",
    "\n",
    "sock = socket.socket(socket.AF_INET, socket.SOCK_STREAM)\n",
    "host = input(\"\\n Enter the ip at which you want the server to run : \")\n",
    "port = 1234\n",
    "\n",
    "sock.connect((host, port))\n",
    "print(\"\\n Successfully Connected.....\")\n",
    "\n",
    "file = input(\"\\n Enter the file name : \")\n",
    "sock.send(file.encode())"
   ]
  },
  {
   "cell_type": "code",
   "execution_count": 5,
   "metadata": {},
   "outputs": [
    {
     "name": "stdout",
     "output_type": "stream",
     "text": [
      "Overwriting server_file.py\n"
     ]
    }
   ],
   "source": [
    "%%writefile server_file.py\n",
    "\n",
    "import socket\n",
    "import os\n",
    "\n",
    "server = socket.socket(socket.AF_INET, socket.SOCK_STREAM)\n",
    "host = input(\"\\n Enter the ip at which you want the server to run : \")\n",
    "port = 1234\n",
    "\n",
    "server.bind((host, port))\n",
    "\n",
    "server.listen()\n",
    "print(\"\\n Server is ready to listen......\")\n",
    "\n",
    "client_socket, client_addr = server.accept()\n",
    "print(f\"\\n Client is connected at ip {client_addr[0]} and port {client_addr[1]}\")\n",
    "\n",
    "file = client_socket.recv(1024).decode()\n",
    "if os.path.exists(file) and os.path.isfile(file):\n",
    "    msg = \"true\"\n",
    "    client_socket.send(msg.encode())\n",
    "else:\n",
    "    msg = \"false\"\n",
    "    client_socket.send(msg.encode())"
   ]
  },
  {
   "cell_type": "code",
   "execution_count": 6,
   "metadata": {},
   "outputs": [
    {
     "name": "stdout",
     "output_type": "stream",
     "text": [
      "Overwriting client_file.py\n"
     ]
    }
   ],
   "source": [
    "%%writefile client_file.py\n",
    "\n",
    "import socket\n",
    "\n",
    "sock = socket.socket(socket.AF_INET, socket.SOCK_STREAM)\n",
    "host = input(\"\\n Enter the ip at which you want the server to run : \")\n",
    "port = 1234\n",
    "\n",
    "sock.connect((host, port))\n",
    "print(\"\\n Successfully Connected.....\")\n",
    "\n",
    "file = input(\"\\n Enter the file name : \")\n",
    "sock.send(file.encode())\n",
    "\n",
    "msg = sock.recv(1024).decode()\n",
    "if msg == \"true\":\n",
    "    print(\"\\n SERVER IS SENDING THE FILE....\")\n",
    "else:\n",
    "    print(\"\\n NO SUCH FILE AVAILABLE....\")"
   ]
  },
  {
   "cell_type": "code",
   "execution_count": 9,
   "metadata": {},
   "outputs": [
    {
     "name": "stdout",
     "output_type": "stream",
     "text": [
      "Overwriting server_file.py\n"
     ]
    }
   ],
   "source": [
    "%%writefile server_file.py\n",
    "\n",
    "import socket\n",
    "import os\n",
    "\n",
    "server = socket.socket(socket.AF_INET, socket.SOCK_STREAM)\n",
    "host = input(\"\\n Enter the ip at which you want the server to run : \")\n",
    "port = 1234\n",
    "\n",
    "server.bind((host, port))\n",
    "\n",
    "server.listen()\n",
    "print(\"\\n Server is ready to listen......\")\n",
    "\n",
    "client_socket, client_addr = server.accept()\n",
    "print(f\"\\n Client is connected at ip {client_addr[0]} and port {client_addr[1]}\")\n",
    "\n",
    "file = client_socket.recv(1024).decode()\n",
    "if os.path.exists(file) and os.path.isfile(file):\n",
    "    msg = \"true\"\n",
    "    client_socket.send(msg.encode())\n",
    "    f = open(file, 'rb')\n",
    "    data = f.read()\n",
    "    client_socket.send(data)\n",
    "    print(\"\\n Successfully send the file...\")\n",
    "    f.close()\n",
    "else:\n",
    "    msg = \"false\"\n",
    "    client_socket.send(msg.encode())"
   ]
  },
  {
   "cell_type": "code",
   "execution_count": 8,
   "metadata": {},
   "outputs": [
    {
     "name": "stdout",
     "output_type": "stream",
     "text": [
      "Overwriting client_file.py\n"
     ]
    }
   ],
   "source": [
    "%%writefile client_file.py\n",
    "\n",
    "import socket\n",
    "\n",
    "sock = socket.socket(socket.AF_INET, socket.SOCK_STREAM)\n",
    "host = input(\"\\n Enter the ip at which you want the server to run : \")\n",
    "port = 1234\n",
    "\n",
    "sock.connect((host, port))\n",
    "print(\"\\n Successfully Connected.....\")\n",
    "\n",
    "file = input(\"\\n Enter the file name : \")\n",
    "sock.send(file.encode())\n",
    "\n",
    "msg = sock.recv(1024).decode()\n",
    "if msg == \"true\":\n",
    "    print(\"\\n SERVER IS SENDING THE FILE....\")\n",
    "    data = sock.recv(1024)\n",
    "    fname = input(\"\\n Enter the name of file where you want to save : \") \n",
    "    fp = open(fname, 'wb')\n",
    "    fp.write(data)\n",
    "    fp.close()\n",
    "    print(\"\\n Sucessfully Store The File....\")\n",
    "    \n",
    "else:\n",
    "    print(\"\\n NO SUCH FILE AVAILABLE....\")"
   ]
  },
  {
   "cell_type": "code",
   "execution_count": 24,
   "metadata": {},
   "outputs": [
    {
     "name": "stdout",
     "output_type": "stream",
     "text": [
      "Overwriting server_file.py\n"
     ]
    }
   ],
   "source": [
    "%%writefile server_file.py\n",
    "\n",
    "import socket\n",
    "import os\n",
    "\n",
    "server = socket.socket(socket.AF_INET, socket.SOCK_STREAM)\n",
    "host = input(\"\\n Enter the ip at which you want the server to run : \")\n",
    "port = 1234\n",
    "\n",
    "server.bind((host, port))\n",
    "\n",
    "server.listen()\n",
    "print(\"\\n Server is ready to listen......\")\n",
    "\n",
    "client_socket, client_addr = server.accept()\n",
    "print(f\"\\n Client is connected at ip {client_addr[0]} and port {client_addr[1]}\")\n",
    "\n",
    "file = client_socket.recv(1024).decode()\n",
    "if os.path.exists(file) and os.path.isfile(file):\n",
    "    msg = \"true\"\n",
    "    client_socket.send(msg.encode())\n",
    "    f = open(file, 'rb')\n",
    "    cont = f.readline()\n",
    "    while cont:\n",
    "        client_socket.send(cont)\n",
    "        cont = f.readline()\n",
    "    print(\"\\n Successfully Send The File....\")\n",
    "    f.close()\n",
    "        \n",
    "else:\n",
    "    msg = \"false\"\n",
    "    client_socket.send(msg.encode())"
   ]
  },
  {
   "cell_type": "code",
   "execution_count": 25,
   "metadata": {},
   "outputs": [
    {
     "name": "stdout",
     "output_type": "stream",
     "text": [
      "Overwriting client_file.py\n"
     ]
    }
   ],
   "source": [
    "%%writefile client_file.py\n",
    "\n",
    "import socket\n",
    "import os\n",
    "\n",
    "sock = socket.socket(socket.AF_INET, socket.SOCK_STREAM)\n",
    "host = input(\"\\n Enter the ip at which you want to connect with server  : \")\n",
    "port = 1234\n",
    "\n",
    "sock.connect((host, port))\n",
    "print(\"\\n Successfully Connected.....\")\n",
    "\n",
    "file = input(\"\\n Enter the file name : \")\n",
    "sock.send(file.encode())\n",
    "\n",
    "msg = sock.recv(1024).decode()\n",
    "if msg == \"true\":\n",
    "    print(\"\\n SERVER IS SENDING THE FILE....\")\n",
    "    path = input(\"\\n Enter the path where you want to save your file : \")\n",
    "    if os.path.exists(path):\n",
    "        fname = input(\"\\n Enter the filename : \")\n",
    "        full_path = os.path.join(path, fname)\n",
    "        fp = open(full_path, 'wb')\n",
    "        cont = sock.recv(1024)\n",
    "        while cont:\n",
    "            fp.write(cont)\n",
    "            cont = sock.recv(1024)\n",
    "\n",
    "        print(\"\\n Successfully Saved The File....\")\n",
    "        fp.close()\n",
    "    else:\n",
    "        print(\"\\n NO SUCH PATH... PLEASE ENTER CORRECT PATH!!!!!\")\n",
    "        \n",
    "else:\n",
    "    print(\"\\n NO SUCH FILE AVAILABLE....\")"
   ]
  },
  {
   "cell_type": "code",
   "execution_count": 20,
   "metadata": {},
   "outputs": [
    {
     "name": "stdout",
     "output_type": "stream",
     "text": [
      " Volume in drive C is Windows\n",
      " Volume Serial Number is E08D-DAD9\n",
      "\n",
      " Directory of C:\\batches\\online_batch\\pythonbatch10_15am\\Sockets\n",
      "\n",
      "26-10-2020  12:20    <DIR>          .\n",
      "26-10-2020  12:20    <DIR>          ..\n",
      "26-10-2020  11:37    <DIR>          .ipynb_checkpoints\n",
      "26-10-2020  12:20            13,243 3. Sockets.ipynb\n",
      "26-10-2020  12:13           165,407 api.png\n",
      "24-10-2020  11:25               284 client.py\n",
      "24-10-2020  11:36               825 client_chat.py\n",
      "26-10-2020  12:19               792 client_file.py\n",
      "26-10-2020  11:40               219 client1.py\n",
      "24-10-2020  11:26               495 server.py\n",
      "24-10-2020  11:33             1,132 server_chat.py\n",
      "26-10-2020  12:17               873 server_file.py\n",
      "26-10-2020  11:39               288 Server_Socket.py\n",
      "24-10-2020  11:40            15,113 Socket_1.ipynb\n",
      "24-10-2020  11:15            68,304 Sockets_Theory.ipynb\n",
      "26-10-2020  12:02                71 two.txt\n",
      "              13 File(s)        267,046 bytes\n",
      "               3 Dir(s)  28,628,946,944 bytes free\n"
     ]
    }
   ],
   "source": [
    "ls"
   ]
  },
  {
   "cell_type": "code",
   "execution_count": 36,
   "metadata": {},
   "outputs": [
    {
     "data": {
      "text/plain": [
       "'txt'"
      ]
     },
     "execution_count": 36,
     "metadata": {},
     "output_type": "execute_result"
    }
   ],
   "source": [
    "\"C://batches//online_batch.zip//one.txt\".split(\".\")[-1]"
   ]
  },
  {
   "cell_type": "code",
   "execution_count": 29,
   "metadata": {},
   "outputs": [
    {
     "data": {
      "text/plain": [
       "'txt'"
      ]
     },
     "execution_count": 29,
     "metadata": {},
     "output_type": "execute_result"
    }
   ],
   "source": [
    "\"C://batches//online_batch//one.py.txt\".split(\".\")[-1]"
   ]
  },
  {
   "cell_type": "code",
   "execution_count": 30,
   "metadata": {},
   "outputs": [],
   "source": [
    "import os"
   ]
  },
  {
   "cell_type": "code",
   "execution_count": 35,
   "metadata": {},
   "outputs": [
    {
     "data": {
      "text/plain": [
       "'txt'"
      ]
     },
     "execution_count": 35,
     "metadata": {},
     "output_type": "execute_result"
    }
   ],
   "source": [
    "os.path.split(\"C://batches//online_batch.zip//one.txt\")[-1].split(\".\")[-1]"
   ]
  },
  {
   "cell_type": "code",
   "execution_count": 37,
   "metadata": {},
   "outputs": [
    {
     "name": "stdout",
     "output_type": "stream",
     "text": [
      "Overwriting client_file.py\n"
     ]
    }
   ],
   "source": [
    "%%writefile client_file.py\n",
    "\n",
    "import socket\n",
    "import os\n",
    "\n",
    "sock = socket.socket(socket.AF_INET, socket.SOCK_STREAM)\n",
    "host = input(\"\\n Enter the ip at which you want to connect with server  : \")\n",
    "port = 1234\n",
    "\n",
    "sock.connect((host, port))\n",
    "print(\"\\n Successfully Connected.....\")\n",
    "\n",
    "file = input(\"\\n Enter the file name : \")\n",
    "sock.send(file.encode())\n",
    "\n",
    "msg = sock.recv(1024).decode()\n",
    "if msg == \"true\":\n",
    "    print(\"\\n SERVER IS SENDING THE FILE....\")\n",
    "    path = input(\"\\n Enter the path where you want to save your file : \")\n",
    "    if os.path.exists(path):\n",
    "        fname = input(\"\\n Enter the filename without ext : \")\n",
    "        ext = file.split(\".\")[-1]\n",
    "        fname = fname + \".\" +  ext\n",
    "        full_path = os.path.join(path, fname)\n",
    "        fp = open(full_path, 'wb')\n",
    "        cont = sock.recv(1024)\n",
    "        while cont:\n",
    "            fp.write(cont)\n",
    "            cont = sock.recv(1024)\n",
    "\n",
    "        print(\"\\n Successfully Saved The File....\")\n",
    "        fp.close()\n",
    "    else:\n",
    "        print(\"\\n NO SUCH PATH... PLEASE ENTER CORRECT PATH!!!!!\")\n",
    "        \n",
    "else:\n",
    "    print(\"\\n NO SUCH FILE AVAILABLE....\")"
   ]
  },
  {
   "cell_type": "code",
   "execution_count": 41,
   "metadata": {},
   "outputs": [
    {
     "name": "stdout",
     "output_type": "stream",
     "text": [
      "Overwriting portscan.py\n"
     ]
    }
   ],
   "source": [
    "%%writefile portscan.py\n",
    "\n",
    "import socket\n",
    "\n",
    "sock = socket.socket(socket.AF_INET, socket.SOCK_STREAM)\n",
    "host = input(\"\\n Enter the host ip : \")\n",
    "\n",
    "for i in range(80, 100):\n",
    "    try:\n",
    "        sock.connect((host, i))\n",
    "    except:\n",
    "        print(f\" {i} is available\")"
   ]
  },
  {
   "cell_type": "markdown",
   "metadata": {},
   "source": [
    "    Network scan --> 192.168.1 (Find the ips available currently at this network)"
   ]
  },
  {
   "cell_type": "code",
   "execution_count": null,
   "metadata": {},
   "outputs": [],
   "source": []
  }
 ],
 "metadata": {
  "kernelspec": {
   "display_name": "Python 3",
   "language": "python",
   "name": "python3"
  },
  "language_info": {
   "codemirror_mode": {
    "name": "ipython",
    "version": 3
   },
   "file_extension": ".py",
   "mimetype": "text/x-python",
   "name": "python",
   "nbconvert_exporter": "python",
   "pygments_lexer": "ipython3",
   "version": "3.7.4"
  }
 },
 "nbformat": 4,
 "nbformat_minor": 2
}
