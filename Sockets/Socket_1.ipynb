{
 "cells": [
  {
   "cell_type": "code",
   "execution_count": 1,
   "metadata": {},
   "outputs": [],
   "source": [
    "import socket"
   ]
  },
  {
   "cell_type": "code",
   "execution_count": 2,
   "metadata": {},
   "outputs": [
    {
     "name": "stdout",
     "output_type": "stream",
     "text": [
      "['AF_APPLETALK', 'AF_DECnet', 'AF_INET', 'AF_INET6', 'AF_IPX', 'AF_IRDA', 'AF_SNA', 'AF_UNSPEC', 'AI_ADDRCONFIG', 'AI_ALL', 'AI_CANONNAME', 'AI_NUMERICHOST', 'AI_NUMERICSERV', 'AI_PASSIVE', 'AI_V4MAPPED', 'AddressFamily', 'AddressInfo', 'CAPI', 'EAGAIN', 'EAI_AGAIN', 'EAI_BADFLAGS', 'EAI_FAIL', 'EAI_FAMILY', 'EAI_MEMORY', 'EAI_NODATA', 'EAI_NONAME', 'EAI_SERVICE', 'EAI_SOCKTYPE', 'EBADF', 'EWOULDBLOCK', 'INADDR_ALLHOSTS_GROUP', 'INADDR_ANY', 'INADDR_BROADCAST', 'INADDR_LOOPBACK', 'INADDR_MAX_LOCAL_GROUP', 'INADDR_NONE', 'INADDR_UNSPEC_GROUP', 'IPPORT_RESERVED', 'IPPORT_USERRESERVED', 'IPPROTO_ICMP', 'IPPROTO_IP', 'IPPROTO_RAW', 'IPPROTO_TCP', 'IPPROTO_UDP', 'IPV6_CHECKSUM', 'IPV6_DONTFRAG', 'IPV6_HOPLIMIT', 'IPV6_HOPOPTS', 'IPV6_JOIN_GROUP', 'IPV6_LEAVE_GROUP', 'IPV6_MULTICAST_HOPS', 'IPV6_MULTICAST_IF', 'IPV6_MULTICAST_LOOP', 'IPV6_PKTINFO', 'IPV6_RECVRTHDR', 'IPV6_RECVTCLASS', 'IPV6_RTHDR', 'IPV6_TCLASS', 'IPV6_UNICAST_HOPS', 'IPV6_V6ONLY', 'IP_ADD_MEMBERSHIP', 'IP_DROP_MEMBERSHIP', 'IP_HDRINCL', 'IP_MULTICAST_IF', 'IP_MULTICAST_LOOP', 'IP_MULTICAST_TTL', 'IP_OPTIONS', 'IP_RECVDSTADDR', 'IP_TOS', 'IP_TTL', 'IntEnum', 'IntFlag', 'MSG_BCAST', 'MSG_CTRUNC', 'MSG_DONTROUTE', 'MSG_ERRQUEUE', 'MSG_MCAST', 'MSG_OOB', 'MSG_PEEK', 'MSG_TRUNC', 'MSG_WAITALL', 'MsgFlag', 'NI_DGRAM', 'NI_MAXHOST', 'NI_MAXSERV', 'NI_NAMEREQD', 'NI_NOFQDN', 'NI_NUMERICHOST', 'NI_NUMERICSERV', 'RCVALL_MAX', 'RCVALL_OFF', 'RCVALL_ON', 'RCVALL_SOCKETLEVELONLY', 'SHUT_RD', 'SHUT_RDWR', 'SHUT_WR', 'SIO_KEEPALIVE_VALS', 'SIO_LOOPBACK_FAST_PATH', 'SIO_RCVALL', 'SOCK_DGRAM', 'SOCK_RAW', 'SOCK_RDM', 'SOCK_SEQPACKET', 'SOCK_STREAM', 'SOL_IP', 'SOL_SOCKET', 'SOL_TCP', 'SOL_UDP', 'SOMAXCONN', 'SO_ACCEPTCONN', 'SO_BROADCAST', 'SO_DEBUG', 'SO_DONTROUTE', 'SO_ERROR', 'SO_EXCLUSIVEADDRUSE', 'SO_KEEPALIVE', 'SO_LINGER', 'SO_OOBINLINE', 'SO_RCVBUF', 'SO_RCVLOWAT', 'SO_RCVTIMEO', 'SO_REUSEADDR', 'SO_SNDBUF', 'SO_SNDLOWAT', 'SO_SNDTIMEO', 'SO_TYPE', 'SO_USELOOPBACK', 'SocketIO', 'SocketKind', 'SocketType', 'TCP_FASTOPEN', 'TCP_KEEPCNT', 'TCP_KEEPIDLE', 'TCP_KEEPINTVL', 'TCP_MAXSEG', 'TCP_NODELAY', '_GLOBAL_DEFAULT_TIMEOUT', '_GiveupOnSendfile', '_LOCALHOST', '_LOCALHOST_V6', '__all__', '__builtins__', '__cached__', '__doc__', '__file__', '__loader__', '__name__', '__package__', '__spec__', '_blocking_errnos', '_intenum_converter', '_realsocket', '_socket', 'close', 'create_connection', 'dup', 'errno', 'error', 'errorTab', 'fromfd', 'fromshare', 'gaierror', 'getaddrinfo', 'getdefaulttimeout', 'getfqdn', 'gethostbyaddr', 'gethostbyname', 'gethostbyname_ex', 'gethostname', 'getnameinfo', 'getprotobyname', 'getservbyname', 'getservbyport', 'has_ipv6', 'herror', 'htonl', 'htons', 'inet_aton', 'inet_ntoa', 'inet_ntop', 'inet_pton', 'io', 'ntohl', 'ntohs', 'os', 'selectors', 'setdefaulttimeout', 'socket', 'socketpair', 'sys', 'timeout']\n"
     ]
    }
   ],
   "source": [
    "print(dir(socket))"
   ]
  },
  {
   "cell_type": "code",
   "execution_count": 3,
   "metadata": {},
   "outputs": [
    {
     "data": {
      "text/plain": [
       "'LAPTOP-JS358S5T'"
      ]
     },
     "execution_count": 3,
     "metadata": {},
     "output_type": "execute_result"
    }
   ],
   "source": [
    "socket.gethostname()"
   ]
  },
  {
   "cell_type": "code",
   "execution_count": 4,
   "metadata": {},
   "outputs": [
    {
     "name": "stdout",
     "output_type": "stream",
     "text": [
      "\n",
      "Windows IP Configuration\n",
      "\n",
      "\n",
      "Ethernet adapter Ethernet 2:\n",
      "\n",
      "   Media State . . . . . . . . . . . : Media disconnected\n",
      "   Connection-specific DNS Suffix  . : \n",
      "\n",
      "Ethernet adapter Npcap Loopback Adapter:\n",
      "\n",
      "   Connection-specific DNS Suffix  . : \n",
      "   Link-local IPv6 Address . . . . . : fe80::10f8:f6c5:c6b3:1ddf%9\n",
      "   Autoconfiguration IPv4 Address. . : 169.254.29.223\n",
      "   Subnet Mask . . . . . . . . . . . : 255.255.0.0\n",
      "   Default Gateway . . . . . . . . . : \n",
      "\n",
      "Wireless LAN adapter Local Area Connection* 1:\n",
      "\n",
      "   Media State . . . . . . . . . . . : Media disconnected\n",
      "   Connection-specific DNS Suffix  . : \n",
      "\n",
      "Wireless LAN adapter Local Area Connection* 11:\n",
      "\n",
      "   Media State . . . . . . . . . . . : Media disconnected\n",
      "   Connection-specific DNS Suffix  . : \n",
      "\n",
      "Ethernet adapter VMware Network Adapter VMnet1:\n",
      "\n",
      "   Connection-specific DNS Suffix  . : \n",
      "   Link-local IPv6 Address . . . . . : fe80::34b9:61ee:aa27:4ae6%14\n",
      "   IPv4 Address. . . . . . . . . . . : 192.168.226.1\n",
      "   Subnet Mask . . . . . . . . . . . : 255.255.255.0\n",
      "   Default Gateway . . . . . . . . . : \n",
      "\n",
      "Ethernet adapter VMware Network Adapter VMnet8:\n",
      "\n",
      "   Connection-specific DNS Suffix  . : \n",
      "   Link-local IPv6 Address . . . . . : fe80::d77:b06d:dcb4:49db%5\n",
      "   IPv4 Address. . . . . . . . . . . : 192.168.116.1\n",
      "   Subnet Mask . . . . . . . . . . . : 255.255.255.0\n",
      "   Default Gateway . . . . . . . . . : \n",
      "\n",
      "Wireless LAN adapter Wi-Fi:\n",
      "\n",
      "   Connection-specific DNS Suffix  . : \n",
      "   Link-local IPv6 Address . . . . . : fe80::b538:c1a0:3b6c:d403%10\n",
      "   IPv4 Address. . . . . . . . . . . : 192.168.1.4\n",
      "   Subnet Mask . . . . . . . . . . . : 255.255.255.0\n",
      "   Default Gateway . . . . . . . . . : 192.168.1.254\n"
     ]
    }
   ],
   "source": [
    "!ipconfig"
   ]
  },
  {
   "cell_type": "code",
   "execution_count": 5,
   "metadata": {},
   "outputs": [
    {
     "data": {
      "text/plain": [
       "'LAPTOP-JS358S5T'"
      ]
     },
     "execution_count": 5,
     "metadata": {},
     "output_type": "execute_result"
    }
   ],
   "source": [
    "socket.gethostname()"
   ]
  },
  {
   "cell_type": "code",
   "execution_count": 6,
   "metadata": {},
   "outputs": [
    {
     "data": {
      "text/plain": [
       "'169.254.29.223'"
      ]
     },
     "execution_count": 6,
     "metadata": {},
     "output_type": "execute_result"
    }
   ],
   "source": [
    "socket.gethostbyname('LAPTOP-JS358S5T')"
   ]
  },
  {
   "cell_type": "code",
   "execution_count": 7,
   "metadata": {},
   "outputs": [
    {
     "data": {
      "text/plain": [
       "'169.254.29.223'"
      ]
     },
     "execution_count": 7,
     "metadata": {},
     "output_type": "execute_result"
    }
   ],
   "source": [
    "socket.gethostbyname(socket.gethostname())"
   ]
  },
  {
   "cell_type": "code",
   "execution_count": 8,
   "metadata": {},
   "outputs": [
    {
     "name": "stdout",
     "output_type": "stream",
     "text": [
      "Writing server.py\n"
     ]
    }
   ],
   "source": [
    "%%writefile server.py\n",
    "\n",
    "import socket\n",
    "\n",
    "server = socket.socket(socket.AF_INET, socket.SOCK_STREAM)  # AF_INET --> IPv4, SOCK_STREAM --> TCP\n",
    "\n",
    "host = \"192.168.1.4\"  # change with your ip \n",
    "port = 1234\n",
    "\n",
    "server.bind((host, port))\n",
    "server.listen()\n",
    "print(f\"\\n SERVER IS READY TO LISTEN AT PORT {port} and HOST {host}\")\n",
    "\n",
    "client = server.accept()\n",
    "print(client)"
   ]
  },
  {
   "cell_type": "code",
   "execution_count": 9,
   "metadata": {},
   "outputs": [
    {
     "name": "stdout",
     "output_type": "stream",
     "text": [
      "Writing client.py\n"
     ]
    }
   ],
   "source": [
    "%%writefile client.py\n",
    "\n",
    "import socket\n",
    "\n",
    "client = socket.socket(socket.AF_INET, socket.SOCK_STREAM)\n",
    "\n",
    "host = \"192.168.1.4\"  # server ip\n",
    "port = 1234\n",
    "\n",
    "client.connect((host, port))\n",
    "print(\"\\n Sucessfully Connected....\")"
   ]
  },
  {
   "cell_type": "code",
   "execution_count": 12,
   "metadata": {},
   "outputs": [
    {
     "name": "stdout",
     "output_type": "stream",
     "text": [
      "Overwriting server.py\n"
     ]
    }
   ],
   "source": [
    "%%writefile server.py\n",
    "\n",
    "import socket\n",
    "\n",
    "server = socket.socket(socket.AF_INET, socket.SOCK_STREAM)  # AF_INET --> IPv4, SOCK_STREAM --> TCP\n",
    "\n",
    "host = \"192.168.1.4\"  # change with your ip \n",
    "port = 1234\n",
    "\n",
    "server.bind((host, port))\n",
    "server.listen()\n",
    "print(f\"\\n SERVER IS READY TO LISTEN AT PORT {port} and HOST {host}\")\n",
    "\n",
    "client_socket, client_addr = server.accept()\n",
    "\n",
    "msg = \"Successfully Accepted the request\"\n",
    "client_socket.send(msg.encode())"
   ]
  },
  {
   "cell_type": "code",
   "execution_count": 10,
   "metadata": {},
   "outputs": [
    {
     "data": {
      "text/plain": [
       "b'hello'"
      ]
     },
     "execution_count": 10,
     "metadata": {},
     "output_type": "execute_result"
    }
   ],
   "source": [
    "\"hello\".encode()"
   ]
  },
  {
   "cell_type": "code",
   "execution_count": 11,
   "metadata": {},
   "outputs": [
    {
     "data": {
      "text/plain": [
       "'hello'"
      ]
     },
     "execution_count": 11,
     "metadata": {},
     "output_type": "execute_result"
    }
   ],
   "source": [
    "b'hello'.decode()"
   ]
  },
  {
   "cell_type": "code",
   "execution_count": 13,
   "metadata": {},
   "outputs": [
    {
     "name": "stdout",
     "output_type": "stream",
     "text": [
      "Overwriting client.py\n"
     ]
    }
   ],
   "source": [
    "%%writefile client.py\n",
    "\n",
    "import socket\n",
    "\n",
    "sock = socket.socket(socket.AF_INET, socket.SOCK_STREAM)\n",
    "\n",
    "host = \"192.168.1.4\"  # server ip\n",
    "port = 1234\n",
    "\n",
    "sock.connect((host, port))\n",
    "\n",
    "msg = sock.recv(1024).decode()\n",
    "print(\"Server --> \", msg)\n",
    "\n",
    "m = \"Thankyou For Accepting My Request\"\n",
    "sock.send(m.encode())"
   ]
  },
  {
   "cell_type": "code",
   "execution_count": 14,
   "metadata": {},
   "outputs": [
    {
     "name": "stdout",
     "output_type": "stream",
     "text": [
      "Overwriting server.py\n"
     ]
    }
   ],
   "source": [
    "%%writefile server.py\n",
    "\n",
    "import socket\n",
    "\n",
    "server = socket.socket(socket.AF_INET, socket.SOCK_STREAM)  # AF_INET --> IPv4, SOCK_STREAM --> TCP\n",
    "\n",
    "host = \"192.168.1.4\"  # change with your ip \n",
    "port = 1234\n",
    "\n",
    "server.bind((host, port))\n",
    "server.listen()\n",
    "print(f\"\\n SERVER IS READY TO LISTEN AT PORT {port} and HOST {host}\")\n",
    "\n",
    "client_socket, client_addr = server.accept()\n",
    "\n",
    "msg = \"Successfully Accepted the request\"\n",
    "client_socket.send(msg.encode())\n",
    "\n",
    "msg = client_socket.recv(1024).decode()\n",
    "print(\"Client --> \", msg)"
   ]
  },
  {
   "cell_type": "code",
   "execution_count": 15,
   "metadata": {},
   "outputs": [
    {
     "name": "stdout",
     "output_type": "stream",
     "text": [
      "Writing server_chat.py\n"
     ]
    }
   ],
   "source": [
    "%%writefile server_chat.py\n",
    "\n",
    "import socket\n",
    "\n",
    "server = socket.socket(socket.AF_INET, socket.SOCK_STREAM)  # AF_INET --> IPv4, SOCK_STREAM --> TCP\n",
    "\n",
    "host = \"192.168.1.4\"  # change with your ip \n",
    "port = 1234\n",
    "\n",
    "server.bind((host, port))\n",
    "server.listen()\n",
    "print(f\"\\n SERVER IS READY TO LISTEN AT PORT {port} and HOST {host}\")\n",
    "\n",
    "client_socket, client_addr = server.accept()\n",
    "\n",
    "msg = \"Successfully Accepted the request\"\n",
    "client_socket.send(msg.encode())\n",
    "\n",
    "msg = client_socket.recv(1024).decode()\n",
    "print(\"Client --> \", msg)\n",
    "\n",
    "while True:\n",
    "    smsg = input(\"Server --> \")\n",
    "    client_socket.send(smsg.encode())\n",
    "    if \"bye\" in smsg.strip().lower() or \"byebye\" in smsg.strip().lower() or \"bubye\" in smsg.strip().lower():\n",
    "        print(\"Server has closed the connection\")\n",
    "        client_socket.close()\n",
    "        server.close()\n",
    "        break\n",
    "        \n",
    "    cmsg = client_socket.recv(1024).decode()\n",
    "    print(\"Client --> \", cmsg)\n",
    "    if \"bye\" in cmsg.strip().lower() or \"byebye\" in cmsg.strip().lower() or \"bubye\" in cmsg.strip().lower():\n",
    "        print(\"Client has closed the connection\")\n",
    "        client_socket.close()\n",
    "        server.close()\n",
    "        break"
   ]
  },
  {
   "cell_type": "code",
   "execution_count": 17,
   "metadata": {},
   "outputs": [
    {
     "name": "stdout",
     "output_type": "stream",
     "text": [
      "Overwriting client_chat.py\n"
     ]
    }
   ],
   "source": [
    "%%writefile client_chat.py\n",
    "\n",
    "import socket\n",
    "\n",
    "sock = socket.socket(socket.AF_INET, socket.SOCK_STREAM)\n",
    "\n",
    "host = \"192.168.1.4\"  # server ip\n",
    "port = 1234\n",
    "\n",
    "sock.connect((host, port))\n",
    "\n",
    "msg = sock.recv(1024).decode()\n",
    "print(\"Server --> \", msg)\n",
    "\n",
    "m = \"Thankyou For Accepting My Request\"\n",
    "sock.send(m.encode())\n",
    "\n",
    "while True:\n",
    "    smsg = sock.recv(1024).decode()\n",
    "    print(\"Server --> \", smsg)\n",
    "    if \"bye\" in smsg.strip().lower() or \"byebye\" in smsg.strip().lower() or \"bubye\" in smsg.strip().lower():\n",
    "        print(\"Server Closed the connection\")\n",
    "        sock.close()\n",
    "        break\n",
    "    \n",
    "    cmsg = input(\"Client --> \")\n",
    "    sock.send(cmsg.encode())\n",
    "    if \"bye\" in cmsg.strip().lower() or \"byebye\" in cmsg.strip().lower() or \"bubye\" in cmsg.strip().lower():\n",
    "        print(\"Client Closed the connection\")\n",
    "        sock.close()\n",
    "        break"
   ]
  },
  {
   "cell_type": "code",
   "execution_count": 18,
   "metadata": {},
   "outputs": [],
   "source": [
    "### file exhange between server and client (file handling + socket)"
   ]
  },
  {
   "cell_type": "code",
   "execution_count": null,
   "metadata": {},
   "outputs": [],
   "source": []
  }
 ],
 "metadata": {
  "kernelspec": {
   "display_name": "Python 3",
   "language": "python",
   "name": "python3"
  },
  "language_info": {
   "codemirror_mode": {
    "name": "ipython",
    "version": 3
   },
   "file_extension": ".py",
   "mimetype": "text/x-python",
   "name": "python",
   "nbconvert_exporter": "python",
   "pygments_lexer": "ipython3",
   "version": "3.7.4"
  }
 },
 "nbformat": 4,
 "nbformat_minor": 2
}
