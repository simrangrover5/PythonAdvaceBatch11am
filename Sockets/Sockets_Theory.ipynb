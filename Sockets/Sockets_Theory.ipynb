{
 "cells": [
  {
   "cell_type": "markdown",
   "metadata": {},
   "source": [
    "    Network ???\n",
    "        Collection of computers/systems\n",
    "    Local Network  --> The systems are in the same network\n",
    "    \n",
    "    IP --> Internet Protocol\n",
    "    Every system is uniquely identified by their IP\n",
    "    Ip are of 2 types\n",
    "    \n",
    "    1. Private Ip\n",
    "        Local Network\n",
    "        Every system has its private Ip\n",
    "    2. Public Ip\n",
    "        Publically available people can request at this ip \n",
    "        \n",
    "    Domain is only for us to remember the websites\n",
    "    In comparison of ip\n",
    "    Every domain in reality is identified by its Public IP"
   ]
  },
  {
   "cell_type": "code",
   "execution_count": 1,
   "metadata": {},
   "outputs": [
    {
     "name": "stdout",
     "output_type": "stream",
     "text": [
      "\n",
      "Windows IP Configuration\n",
      "\n",
      "\n",
      "Ethernet adapter Ethernet 2:\n",
      "\n",
      "   Media State . . . . . . . . . . . : Media disconnected\n",
      "   Connection-specific DNS Suffix  . : \n",
      "\n",
      "Ethernet adapter Npcap Loopback Adapter:\n",
      "\n",
      "   Connection-specific DNS Suffix  . : \n",
      "   Link-local IPv6 Address . . . . . : fe80::10f8:f6c5:c6b3:1ddf%9\n",
      "   Autoconfiguration IPv4 Address. . : 169.254.29.223\n",
      "   Subnet Mask . . . . . . . . . . . : 255.255.0.0\n",
      "   Default Gateway . . . . . . . . . : \n",
      "\n",
      "Wireless LAN adapter Local Area Connection* 1:\n",
      "\n",
      "   Media State . . . . . . . . . . . : Media disconnected\n",
      "   Connection-specific DNS Suffix  . : \n",
      "\n",
      "Wireless LAN adapter Local Area Connection* 11:\n",
      "\n",
      "   Media State . . . . . . . . . . . : Media disconnected\n",
      "   Connection-specific DNS Suffix  . : \n",
      "\n",
      "Ethernet adapter VMware Network Adapter VMnet1:\n",
      "\n",
      "   Connection-specific DNS Suffix  . : \n",
      "   Link-local IPv6 Address . . . . . : fe80::34b9:61ee:aa27:4ae6%14\n",
      "   IPv4 Address. . . . . . . . . . . : 192.168.226.1\n",
      "   Subnet Mask . . . . . . . . . . . : 255.255.255.0\n",
      "   Default Gateway . . . . . . . . . : \n",
      "\n",
      "Ethernet adapter VMware Network Adapter VMnet8:\n",
      "\n",
      "   Connection-specific DNS Suffix  . : \n",
      "   Link-local IPv6 Address . . . . . : fe80::d77:b06d:dcb4:49db%5\n",
      "   IPv4 Address. . . . . . . . . . . : 192.168.116.1\n",
      "   Subnet Mask . . . . . . . . . . . : 255.255.255.0\n",
      "   Default Gateway . . . . . . . . . : \n",
      "\n",
      "Wireless LAN adapter Wi-Fi:\n",
      "\n",
      "   Connection-specific DNS Suffix  . : \n",
      "   Link-local IPv6 Address . . . . . : fe80::b538:c1a0:3b6c:d403%10\n",
      "   IPv4 Address. . . . . . . . . . . : 192.168.1.4\n",
      "   Subnet Mask . . . . . . . . . . . : 255.255.255.0\n",
      "   Default Gateway . . . . . . . . . : 192.168.1.254\n"
     ]
    }
   ],
   "source": [
    "!ipconfig"
   ]
  },
  {
   "cell_type": "code",
   "execution_count": 2,
   "metadata": {},
   "outputs": [
    {
     "name": "stdout",
     "output_type": "stream",
     "text": [
      "\n",
      "Pinging www.google.com [172.217.167.164] with 32 bytes of data:\n",
      "Reply from 172.217.167.164: bytes=32 time=22ms TTL=118\n",
      "Reply from 172.217.167.164: bytes=32 time=24ms TTL=118\n",
      "Reply from 172.217.167.164: bytes=32 time=22ms TTL=118\n",
      "Reply from 172.217.167.164: bytes=32 time=23ms TTL=118\n",
      "\n",
      "Ping statistics for 172.217.167.164:\n",
      "    Packets: Sent = 4, Received = 4, Lost = 0 (0% loss),\n",
      "Approximate round trip times in milli-seconds:\n",
      "    Minimum = 22ms, Maximum = 24ms, Average = 22ms\n"
     ]
    }
   ],
   "source": [
    "!ping www.google.com"
   ]
  },
  {
   "cell_type": "code",
   "execution_count": 3,
   "metadata": {},
   "outputs": [
    {
     "name": "stdout",
     "output_type": "stream",
     "text": [
      "\n",
      "Pinging star-mini.c10r.facebook.com [157.240.16.35] with 32 bytes of data:\n",
      "Reply from 157.240.16.35: bytes=32 time=25ms TTL=58\n",
      "Reply from 157.240.16.35: bytes=32 time=27ms TTL=58\n",
      "Reply from 157.240.16.35: bytes=32 time=23ms TTL=58\n",
      "Reply from 157.240.16.35: bytes=32 time=22ms TTL=58\n",
      "\n",
      "Ping statistics for 157.240.16.35:\n",
      "    Packets: Sent = 4, Received = 4, Lost = 0 (0% loss),\n",
      "Approximate round trip times in milli-seconds:\n",
      "    Minimum = 22ms, Maximum = 27ms, Average = 24ms\n"
     ]
    }
   ],
   "source": [
    "!ping www.facebook.com"
   ]
  },
  {
   "cell_type": "code",
   "execution_count": 4,
   "metadata": {},
   "outputs": [
    {
     "name": "stdout",
     "output_type": "stream",
     "text": [
      "\n",
      "Tracing route to www.google.com [172.217.167.164]\n",
      "over a maximum of 30 hops:\n",
      "\n",
      "  1     1 ms     1 ms     1 ms  dsldevice.lan [192.168.1.254] \n",
      "  2     3 ms     3 ms     3 ms  100.106.0.1 \n",
      "  3    22 ms    24 ms    20 ms  172.26.4.242 \n",
      "  4    21 ms    23 ms    27 ms  72.14.198.2 \n",
      "  5    21 ms    22 ms    24 ms  209.85.245.197 \n",
      "  6    27 ms    24 ms    24 ms  108.170.232.203 \n",
      "  7    24 ms    23 ms    23 ms  bom12s01-in-f4.1e100.net [172.217.167.164] \n",
      "\n",
      "Trace complete.\n"
     ]
    }
   ],
   "source": [
    "!tracert www.google.com"
   ]
  },
  {
   "cell_type": "code",
   "execution_count": 5,
   "metadata": {},
   "outputs": [
    {
     "name": "stdout",
     "output_type": "stream",
     "text": [
      "\n",
      "Pinging 198.168.43.77 with 32 bytes of data:\n",
      "Reply from 152.179.246.182: Destination net unreachable.\n",
      "Reply from 152.179.246.182: Destination net unreachable.\n",
      "Reply from 152.179.246.182: Destination net unreachable.\n",
      "Reply from 152.179.246.182: Destination net unreachable.\n",
      "\n",
      "Ping statistics for 198.168.43.77:\n",
      "    Packets: Sent = 4, Received = 4, Lost = 0 (0% loss),\n"
     ]
    }
   ],
   "source": [
    "!ping 198.168.43.77"
   ]
  },
  {
   "cell_type": "code",
   "execution_count": 6,
   "metadata": {},
   "outputs": [
    {
     "name": "stdout",
     "output_type": "stream",
     "text": [
      "\n",
      "Pinging 192.168.1.5 with 32 bytes of data:\n",
      "Reply from 192.168.1.4: Destination host unreachable.\n",
      "Reply from 192.168.1.4: Destination host unreachable.\n",
      "Reply from 192.168.1.4: Destination host unreachable.\n",
      "Reply from 192.168.1.4: Destination host unreachable.\n",
      "\n",
      "Ping statistics for 192.168.1.5:\n",
      "    Packets: Sent = 4, Received = 4, Lost = 0 (0% loss),\n"
     ]
    }
   ],
   "source": [
    "!ping 192.168.1.5"
   ]
  },
  {
   "cell_type": "markdown",
   "metadata": {},
   "source": [
    "    Internet =  Inter + net (Network) (Multiple Systems Are connected together which are in different network)\n",
    "    Intranet = Intra + net (Network) (Systems are connected which are in same network)\n",
    "    \n",
    "    ISP (Internet Service Provider) (Airtel, Idea, Jio etc)\n",
    "    ISP provides internet (cabel or wireless)\n",
    "    Optical fibres( bcz its speed is more)\n",
    "    \n",
    "    Ips --> IANA\n",
    "    "
   ]
  },
  {
   "cell_type": "markdown",
   "metadata": {},
   "source": [
    "    OSI Model\n",
    "   \n",
    "    1. Physical Layer  (Please)\n",
    "    2. Data Layer      (Do)\n",
    "    3. Network Layer   (Not)\n",
    "    4. Transport Layer  (Touch)\n",
    "    5. Session Layer    (Simran's)\n",
    "    6. Presentation Layer  (Pet)\n",
    "    7. Application       (Alligator)"
   ]
  },
  {
   "cell_type": "markdown",
   "metadata": {},
   "source": [
    "    What is sockets??"
   ]
  },
  {
   "cell_type": "markdown",
   "metadata": {},
   "source": [
    "    Sockets --> Interface\n",
    "    Which helps to communicate between servers(2 or more hosts) or in between application\n",
    "    \n",
    "    \n",
    "    Socket --> Bind --> IP, PORT\n",
    "    \n",
    "    IPv4 Classes \n",
    "     32 bits\n",
    "     8.8.8.8 (binary form)\n",
    "     0-255.0-255.0-255.0-255\n",
    "     \n",
    "    1. A ---> 1 - 126   --> N.H.H.H\n",
    "    2. B --> 128 - 191  --> N.N.H.H \n",
    "    3. C --> 192 - 223  --> N.N.N.H\n",
    "    4. D --> 224 - 239  --> N.N.N.N\n",
    "    5. E --> 239 - 254  --> undefined "
   ]
  },
  {
   "cell_type": "markdown",
   "metadata": {},
   "source": [
    "    172.121.1.10     172.122.2.11  Different\n",
    "    \n",
    "    172 --> B --> N.N --> 172.121, 172.122 \n",
    "    \n",
    "    192.168.1.10   192.168.1.20\n",
    "    \n",
    "    192 --> C --> N.N.N --> 192.168.1    192.168.1  (Same)"
   ]
  },
  {
   "cell_type": "markdown",
   "metadata": {},
   "source": [
    "    Port --> It is number for each service which you want to send requests\n",
    "    \n",
    "    Port --> 0 - 65353"
   ]
  },
  {
   "cell_type": "code",
   "execution_count": 1,
   "metadata": {},
   "outputs": [],
   "source": [
    "from IPython.display import Image"
   ]
  },
  {
   "cell_type": "code",
   "execution_count": 2,
   "metadata": {},
   "outputs": [
    {
     "data": {
      "image/png": "[encoded data removed]",
      "text/plain": [
       "<IPython.core.display.Image object>"
      ]
     },
     "execution_count": 2,
     "metadata": {},
     "output_type": "execute_result"
    }
   ],
   "source": [
    "Image(\"../../job_oriented_development/Sockets.png\")"
   ]
  },
  {
   "cell_type": "markdown",
   "metadata": {},
   "source": [
    "    Server\n",
    "    \n",
    "    1. Socket  Create\n",
    "        a. Address Family (Ipv4, Ipv6)\n",
    "        b. Protocol (TCP or UDP)\n",
    "    2. Define Host and Port (At which server will run)\n",
    "    3. Binding Socket at Host and port defined\n",
    "    4. Listen \n",
    "    5. Accept (Accept the request of client)\n",
    "    6. Send and Recv\n",
    "    \n",
    "    \n",
    "    Client\n",
    "    \n",
    "    1. Socket Create\n",
    "    2. Host and port define (at which server is running)\n",
    "    3. Connect (Host and port defined in 2 step to which you want to connect)\n",
    "    4. Send and recv"
   ]
  },
  {
   "cell_type": "markdown",
   "metadata": {},
   "source": [
    "    TCP  --> Connection Oriented  (Need for both the device to be connected)\n",
    "            Reliable\n",
    "            3 - Way handshaking\n",
    "            More time (Waiting for ack)\n",
    "            \n",
    "    UDP --> Connection Less\n",
    "            Less Reliable (Chances of losing packet is more)\n",
    "            No 3-way handshaking\n",
    "            Less time "
   ]
  },
  {
   "cell_type": "code",
   "execution_count": null,
   "metadata": {},
   "outputs": [],
   "source": []
  }
 ],
 "metadata": {
  "kernelspec": {
   "display_name": "Python 3",
   "language": "python",
   "name": "python3"
  },
  "language_info": {
   "codemirror_mode": {
    "name": "ipython",
    "version": 3
   },
   "file_extension": ".py",
   "mimetype": "text/x-python",
   "name": "python",
   "nbconvert_exporter": "python",
   "pygments_lexer": "ipython3",
   "version": "3.7.4"
  }
 },
 "nbformat": 4,
 "nbformat_minor": 2
}
