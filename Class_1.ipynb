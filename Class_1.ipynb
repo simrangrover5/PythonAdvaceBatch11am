{
 "cells": [
  {
   "cell_type": "markdown",
   "metadata": {},
   "source": [
    "            Environment Variable\n",
    "            \n",
    "              Environment --> System Work\n",
    "              \n",
    "                  name = \"simran\"\n",
    "                  x = 10\n",
    "                  y = 20\n",
    "                  \n",
    "                  Value of system variables are the path of executable application"
   ]
  },
  {
   "cell_type": "markdown",
   "metadata": {},
   "source": [
    "https://www.anaconda.com/products/individual"
   ]
  },
  {
   "cell_type": "markdown",
   "metadata": {},
   "source": [
    "https://www.vim.org/download.php"
   ]
  },
  {
   "cell_type": "markdown",
   "metadata": {},
   "source": [
    "        VIM????\n",
    "                VIM is an editor like notepad\n",
    "                \n",
    "                notepad --> GUI \n",
    "                VIM --> command line\n",
    "                \n",
    "         We want to run vim from powershell for that we have to add the path of vim in system environment\n",
    "         variable\n",
    "         \n",
    "         \n",
    "         to open powershell --> windows + R \n",
    "         \n",
    "         to use vim write on powershell\n",
    "         \n",
    "         vim filename (it will open the file using vim)"
   ]
  },
  {
   "cell_type": "markdown",
   "metadata": {},
   "source": [
    "        Three modes\n",
    "                             i\n",
    "            1. command mode --> insert mode\n",
    "                           esc\n",
    "            2. insert mode --> command mode\n",
    "            \n",
    "        Commands :\n",
    "        \n",
    "            1. a (append)\n",
    "            2. yy (copy) *yanked\n",
    "            3. dd (delete)\n",
    "            4. p (paste) (it will paste 1 line below the cursor)\n",
    "            5. w (save)\n",
    "            6. q (quit)\n",
    "            \n",
    "            \n",
    "            num_of_lines yy (then it will copy those number of lines)\n",
    "            2 yy (it will copy 2 lines)"
   ]
  },
  {
   "cell_type": "markdown",
   "metadata": {},
   "source": [
    "    Anaconda ---> Jupyter-notebook, Jupyter-lab, spyder, python shell, qtconsole etc"
   ]
  },
  {
   "cell_type": "markdown",
   "metadata": {},
   "source": [
    "    Ipython --> Iteractive Python"
   ]
  },
  {
   "cell_type": "code",
   "execution_count": null,
   "metadata": {},
   "outputs": [],
   "source": []
  }
 ],
 "metadata": {
  "kernelspec": {
   "display_name": "Python 3",
   "language": "python",
   "name": "python3"
  },
  "language_info": {
   "codemirror_mode": {
    "name": "ipython",
    "version": 3
   },
   "file_extension": ".py",
   "mimetype": "text/x-python",
   "name": "python",
   "nbconvert_exporter": "python",
   "pygments_lexer": "ipython3",
   "version": "3.7.4"
  }
 },
 "nbformat": 4,
 "nbformat_minor": 2
}
