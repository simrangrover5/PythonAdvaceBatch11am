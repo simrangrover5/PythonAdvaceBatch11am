{
 "cells": [
  {
   "cell_type": "markdown",
   "metadata": {},
   "source": [
    "    pip install ipython-sql"
   ]
  },
  {
   "cell_type": "markdown",
   "metadata": {},
   "source": [
    "    Design\n",
    "    \n",
    "        Design gives the interface to your user \n",
    "        Design -- Frontend\n",
    "        \n",
    "    Types Of languages\n",
    "    \n",
    "        1. Programming Language\n",
    "            It is used to perform some task from machine.\n",
    "        2. Scripting Language\n",
    "            Client-Server architecture\n",
    "            Or can work in real time applications\n",
    "            like php, .net, python, javascript\n",
    "        3. Markup Language\n",
    "            The languages which can be understand by your browser is markup language.\n",
    "            HTML, XML\n",
    "            HTML --> Hyper Text Markup Language\n",
    "            XML --> Extensible Markup Language\n",
    "            \n",
    "            Javascript works at a client side and server side"
   ]
  },
  {
   "cell_type": "markdown",
   "metadata": {},
   "source": [
    "    Use Editors for Design and Development\n",
    "    \n",
    "    1. Atom\n",
    "    2. Pycharm\n",
    "    3. Vs Code\n",
    "    4. Sublime"
   ]
  },
  {
   "cell_type": "markdown",
   "metadata": {},
   "source": [
    "    HTML --> Hyper Text Markup Language\n",
    "    \n",
    "    \n",
    "                            HTML\n",
    "                  Head                Body\n",
    "                  \n",
    "                  title                p, li, a, img, video, h1, h2, h3, h4, h5, h6 etc \n",
    "                  link\n",
    "                  style\n",
    "                  script\n",
    "                  meta\n",
    "                  \n",
    "                  \n",
    "     <html>\n",
    "         <head> --> opening tag\n",
    "         </head> --> closing tag\n",
    "         <body>\n",
    "         </body>\n",
    "     </html>"
   ]
  },
  {
   "cell_type": "markdown",
   "metadata": {},
   "source": [
    "    Each tag have their own properties known as attributes\n",
    "    \n",
    "    P tag properties that whenever we use it, it will be in next line"
   ]
  },
  {
   "cell_type": "markdown",
   "metadata": {},
   "source": [
    "Lists\n",
    "    1. Ordered List\n",
    "    2. Unordered List"
   ]
  },
  {
   "cell_type": "markdown",
   "metadata": {},
   "source": [
    "     Difference Between Px and %"
   ]
  },
  {
   "cell_type": "code",
   "execution_count": null,
   "metadata": {},
   "outputs": [],
   "source": []
  }
 ],
 "metadata": {
  "kernelspec": {
   "display_name": "Python 3",
   "language": "python",
   "name": "python3"
  },
  "language_info": {
   "codemirror_mode": {
    "name": "ipython",
    "version": 3
   },
   "file_extension": ".py",
   "mimetype": "text/x-python",
   "name": "python",
   "nbconvert_exporter": "python",
   "pygments_lexer": "ipython3",
   "version": "3.7.4"
  }
 },
 "nbformat": 4,
 "nbformat_minor": 2
}
