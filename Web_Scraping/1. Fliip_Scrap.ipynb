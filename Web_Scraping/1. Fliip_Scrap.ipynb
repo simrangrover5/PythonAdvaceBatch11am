{
 "cells": [
  {
   "cell_type": "code",
   "execution_count": 1,
   "metadata": {},
   "outputs": [],
   "source": [
    "import requests\n",
    "from bs4 import BeautifulSoup"
   ]
  },
  {
   "cell_type": "code",
   "execution_count": 3,
   "metadata": {},
   "outputs": [],
   "source": [
    "url = \"https://www.flipkart.com/search?q=laptop&sid=6bo%2Cb5g&as=on&as-show=on&otracker=AS_QueryStore_OrganicAutoSuggest_3_2_na_na_na&otracker1=AS_QueryStore_OrganicAutoSuggest_3_2_na_na_na&as-pos=3&as-type=HISTORY&suggestionId=laptop%7CLaptops&requestId=591d6710-5e15-45f1-9b2d-852c5f51a43a&as-backfill=on\"\n",
    "resp = requests.get(url)\n",
    "if resp.status_code == 200:\n",
    "    flip = BeautifulSoup(resp.text, 'lxml')"
   ]
  },
  {
   "cell_type": "code",
   "execution_count": 8,
   "metadata": {},
   "outputs": [],
   "source": [
    "names = []\n",
    "for name in flip.select(\"._4rR01T\"):\n",
    "    names.append(name.text)"
   ]
  },
  {
   "cell_type": "code",
   "execution_count": 9,
   "metadata": {},
   "outputs": [
    {
     "data": {
      "text/plain": [
       "['Acer Aspire 7 Ryzen 5 Quad Core 3550H - (8 GB/512 GB SSD/Windows 10 Home/4 GB Graphics/NVIDIA Geforce ...',\n",
       " 'Lenovo Ideapad S145 Core i3 7th Gen - (4 GB/1 TB HDD/Windows 10 Home) S145-15IKB Laptop',\n",
       " 'Asus VivoBook 14 Ryzen 5 Hexa Core 4500U - (8 GB/512 GB SSD/Windows 10 Home) M413IA-EK582T Thin and Li...',\n",
       " 'HP 15s Ryzen 5 Quad Core 3450U - (8 GB/1 TB HDD/Windows 10 Home) 15s-GR0010AU Thin and Light Laptop',\n",
       " 'HP 14s Core i3 10th Gen - (8 GB/256 GB SSD/Windows 10 Home) 14s-cf3074TU Thin and Light Laptop',\n",
       " 'Acer One 14 Pentium Gold - (4 GB/1 TB HDD/Windows 10 Home) Z2-485 Thin and Light Laptop',\n",
       " 'HP 15 Ryzen 3 Dual Core 3200U - (4 GB/1 TB HDD/Windows 10 Home) 15-db1069AU Laptop',\n",
       " 'Asus Celeron Dual Core - (4 GB/1 TB HDD/Windows 10 Home) X543MA-GQ1015T Laptop',\n",
       " 'HP 14 Core i5 10th Gen - (8 GB/512 GB SSD/Windows 10 Home) 14-ck2018TU Thin and Light Laptop',\n",
       " 'MSI Alpha 15 Ryzen 7 Quad Core 3750H - (16 GB/1 TB HDD/256 GB SSD/Windows 10 Home/4 GB Graphics/AMD Ra...',\n",
       " 'Acer Aspire 7 Ryzen 7 Quad Core 3750H - (8 GB/512 GB SSD/Windows 10 Home/4 GB Graphics/NVIDIA Geforce ...',\n",
       " 'Asus VivoBook 15 Core i3 7th Gen - (4 GB/1 TB HDD/Windows 10 Home) X543UA-DM342T Laptop',\n",
       " 'Asus TUF Ryzen 5 Quad Core 3550H - (8 GB/512 GB SSD/Windows 10 Home/4 GB Graphics/NVIDIA Geforce GTX 1...',\n",
       " 'HP 15s Ryzen 5 Quad Core 3450U - (8 GB/512 GB SSD/Windows 10 Home) 15s-EQ0144AU Thin and Light Laptop',\n",
       " 'Acer Aspire 7 Core i5 9th Gen - (8 GB/512 GB SSD/Windows 10 Home/4 GB Graphics/NVIDIA Geforce GTX 1650...',\n",
       " 'Asus TUF Ryzen 7 Quad Core 3750H - (8 GB/512 GB SSD/Windows 10 Home/4 GB Graphics/NVIDIA Geforce GTX 1...',\n",
       " 'Asus VivoBook 14 Ryzen 5 Quad Core 3500U - (8 GB/512 GB SSD/Windows 10 Home) X412DA-EK501T Thin and Li...',\n",
       " 'HP Pavilion Gaming Ryzen 5 Quad Core 3550H - (8 GB/1 TB HDD/Windows 10 Home/4 GB Graphics/NVIDIA Gefor...',\n",
       " 'Apple MacBook Air Core i5 5th Gen - (8 GB/128 GB SSD/Mac OS Sierra) MQD32HN/A A1466',\n",
       " 'HP 14s Core i5 11th Gen - (8 GB/512 GB SSD/Windows 10 Home) 14s-DR2006TU Thin and Light Laptop',\n",
       " 'HP Pavilion x360 Core i5 10th Gen - (8 GB/512 GB SSD/Windows 10 Home) 14-dh1179TU 2 in 1 Laptop',\n",
       " 'Asus VivoBook 14 Ryzen 7 Octa Core 4700U - (8 GB/512 GB SSD/Windows 10 Home) M413IA-EK585T Thin and Li...',\n",
       " 'HP Pavilion 14 Core i5 10th Gen - (8 GB/1 TB HDD/256 GB SSD/Windows 10 Home) 14-ce3065TU Thin and Ligh...',\n",
       " 'Lenovo Ideapad S145 Ryzen 5 Quad Core 3500U - (8 GB/1 TB HDD/Windows 10 Home) S145-15API Laptop']"
      ]
     },
     "execution_count": 9,
     "metadata": {},
     "output_type": "execute_result"
    }
   ],
   "source": [
    "names"
   ]
  },
  {
   "cell_type": "code",
   "execution_count": 14,
   "metadata": {},
   "outputs": [
    {
     "data": {
      "text/plain": [
       "[<div class=\"_30jeq3 _1_WHN1\">₹49,990</div>,\n",
       " <div class=\"_30jeq3 _1_WHN1\">₹30,990</div>,\n",
       " <div class=\"_30jeq3 _1_WHN1\">₹50,991</div>,\n",
       " <div class=\"_30jeq3 _1_WHN1\">₹39,990</div>,\n",
       " <div class=\"_30jeq3 _1_WHN1\">₹35,990</div>,\n",
       " <div class=\"_30jeq3 _1_WHN1\">₹23,990</div>,\n",
       " <div class=\"_30jeq3 _1_WHN1\">₹30,000</div>,\n",
       " <div class=\"_30jeq3 _1_WHN1\">₹20,990</div>,\n",
       " <div class=\"_30jeq3 _1_WHN1\">₹47,490</div>,\n",
       " <div class=\"_30jeq3 _1_WHN1\">₹69,990</div>,\n",
       " <div class=\"_30jeq3 _1_WHN1\">₹57,990</div>,\n",
       " <div class=\"_30jeq3 _1_WHN1\">₹30,990</div>,\n",
       " <div class=\"_30jeq3 _1_WHN1\">₹59,990</div>,\n",
       " <div class=\"_30jeq3 _1_WHN1\">₹50,314</div>,\n",
       " <div class=\"_30jeq3 _1_WHN1\">₹56,990</div>,\n",
       " <div class=\"_30jeq3 _1_WHN1\">₹64,990</div>,\n",
       " <div class=\"_30jeq3 _1_WHN1\">₹44,550</div>,\n",
       " <div class=\"_30jeq3 _1_WHN1\">₹54,990</div>,\n",
       " <div class=\"_30jeq3 _1_WHN1\">₹67,990</div>,\n",
       " <div class=\"_30jeq3 _1_WHN1\">₹58,990</div>,\n",
       " <div class=\"_30jeq3 _1_WHN1\">₹61,990</div>,\n",
       " <div class=\"_30jeq3 _1_WHN1\">₹55,591</div>,\n",
       " <div class=\"_30jeq3 _1_WHN1\">₹58,450</div>,\n",
       " <div class=\"_30jeq3 _1_WHN1\">₹38,990</div>]"
      ]
     },
     "execution_count": 14,
     "metadata": {},
     "output_type": "execute_result"
    }
   ],
   "source": [
    "flip.select(\"._30jeq3._1_WHN1\")"
   ]
  },
  {
   "cell_type": "code",
   "execution_count": 17,
   "metadata": {},
   "outputs": [],
   "source": [
    "dis = []\n",
    "for d in flip.findAll(\"div\", attrs={\"class\":'_30jeq3 _1_WHN1'}):\n",
    "    dis.append(d.text)"
   ]
  },
  {
   "cell_type": "code",
   "execution_count": 18,
   "metadata": {},
   "outputs": [
    {
     "data": {
      "text/plain": [
       "['₹49,990',\n",
       " '₹30,990',\n",
       " '₹50,991',\n",
       " '₹39,990',\n",
       " '₹35,990',\n",
       " '₹23,990',\n",
       " '₹30,000',\n",
       " '₹20,990',\n",
       " '₹47,490',\n",
       " '₹69,990',\n",
       " '₹57,990',\n",
       " '₹30,990',\n",
       " '₹59,990',\n",
       " '₹50,314',\n",
       " '₹56,990',\n",
       " '₹64,990',\n",
       " '₹44,550',\n",
       " '₹54,990',\n",
       " '₹67,990',\n",
       " '₹58,990',\n",
       " '₹61,990',\n",
       " '₹55,591',\n",
       " '₹58,450',\n",
       " '₹38,990']"
      ]
     },
     "execution_count": 18,
     "metadata": {},
     "output_type": "execute_result"
    }
   ],
   "source": [
    "dis"
   ]
  },
  {
   "cell_type": "code",
   "execution_count": 20,
   "metadata": {},
   "outputs": [],
   "source": [
    "actual = []\n",
    "for i in flip.findAll(\"div\", attrs={\"class\" : \"_3I9_wc _27UcVY\"}):\n",
    "    actual.append(i.text)"
   ]
  },
  {
   "cell_type": "code",
   "execution_count": 21,
   "metadata": {},
   "outputs": [
    {
     "data": {
      "text/plain": [
       "['₹72,990',\n",
       " '₹37,690',\n",
       " '₹42,554',\n",
       " '₹39,039',\n",
       " '₹37,500',\n",
       " '₹32,182',\n",
       " '₹24,390',\n",
       " '₹50,098',\n",
       " '₹89,990',\n",
       " '₹79,999',\n",
       " '₹35,061',\n",
       " '₹67,990',\n",
       " '₹84,999',\n",
       " '₹72,990',\n",
       " '₹44,551',\n",
       " '₹56,144',\n",
       " '₹84,900',\n",
       " '₹60,218',\n",
       " '₹74,875',\n",
       " '₹67,153',\n",
       " '₹53,090']"
      ]
     },
     "execution_count": 21,
     "metadata": {},
     "output_type": "execute_result"
    }
   ],
   "source": [
    "actual"
   ]
  },
  {
   "cell_type": "code",
   "execution_count": 23,
   "metadata": {},
   "outputs": [],
   "source": [
    "ratings = []\n",
    "for i in flip.select(\"._3LWZlK\"):\n",
    "    ratings.append(i.text)"
   ]
  },
  {
   "cell_type": "code",
   "execution_count": 24,
   "metadata": {},
   "outputs": [
    {
     "data": {
      "text/plain": [
       "['4.5',\n",
       " '4.2',\n",
       " '4.5',\n",
       " '4.4',\n",
       " '4.2',\n",
       " '4',\n",
       " '4.1',\n",
       " '4',\n",
       " '4.3',\n",
       " '4.6',\n",
       " '4.3',\n",
       " '4.1',\n",
       " '4.4',\n",
       " '4.6',\n",
       " '4.4',\n",
       " '4.6',\n",
       " '4.4',\n",
       " '4.2',\n",
       " '4.7',\n",
       " '4.6',\n",
       " '4.4',\n",
       " '4.4',\n",
       " '4.5',\n",
       " '4.1',\n",
       " '4.1',\n",
       " '5',\n",
       " '4',\n",
       " '4.1',\n",
       " '4',\n",
       " '4',\n",
       " '4.6',\n",
       " '4',\n",
       " '4',\n",
       " '4.2',\n",
       " '5',\n",
       " '5',\n",
       " '4.3',\n",
       " '5',\n",
       " '5']"
      ]
     },
     "execution_count": 24,
     "metadata": {},
     "output_type": "execute_result"
    }
   ],
   "source": [
    "ratings"
   ]
  },
  {
   "cell_type": "code",
   "execution_count": 27,
   "metadata": {},
   "outputs": [
    {
     "data": {
      "text/plain": [
       "24"
      ]
     },
     "execution_count": 27,
     "metadata": {},
     "output_type": "execute_result"
    }
   ],
   "source": [
    "len(names)"
   ]
  },
  {
   "cell_type": "code",
   "execution_count": 28,
   "metadata": {},
   "outputs": [
    {
     "data": {
      "text/plain": [
       "21"
      ]
     },
     "execution_count": 28,
     "metadata": {},
     "output_type": "execute_result"
    }
   ],
   "source": [
    "len(actual)"
   ]
  },
  {
   "cell_type": "code",
   "execution_count": 29,
   "metadata": {},
   "outputs": [
    {
     "data": {
      "text/plain": [
       "24"
      ]
     },
     "execution_count": 29,
     "metadata": {},
     "output_type": "execute_result"
    }
   ],
   "source": [
    "len(dis)"
   ]
  },
  {
   "cell_type": "code",
   "execution_count": 30,
   "metadata": {},
   "outputs": [
    {
     "data": {
      "text/plain": [
       "39"
      ]
     },
     "execution_count": 30,
     "metadata": {},
     "output_type": "execute_result"
    }
   ],
   "source": [
    "len(ratings)"
   ]
  },
  {
   "cell_type": "code",
   "execution_count": 31,
   "metadata": {},
   "outputs": [
    {
     "data": {
      "text/plain": [
       "['4.5',\n",
       " '4.2',\n",
       " '4.5',\n",
       " '4.4',\n",
       " '4.2',\n",
       " '4',\n",
       " '4.1',\n",
       " '4',\n",
       " '4.3',\n",
       " '4.6',\n",
       " '4.3',\n",
       " '4.1',\n",
       " '4.4',\n",
       " '4.6',\n",
       " '4.4',\n",
       " '4.6',\n",
       " '4.4',\n",
       " '4.2',\n",
       " '4.7',\n",
       " '4.6',\n",
       " '4.4',\n",
       " '4.4',\n",
       " '4.5',\n",
       " '4.1']"
      ]
     },
     "execution_count": 31,
     "metadata": {},
     "output_type": "execute_result"
    }
   ],
   "source": [
    "ratings[:24]"
   ]
  },
  {
   "cell_type": "code",
   "execution_count": 32,
   "metadata": {},
   "outputs": [],
   "source": [
    "### improve the code such that if there is actual price i get the actual price else I get None"
   ]
  },
  {
   "cell_type": "code",
   "execution_count": null,
   "metadata": {},
   "outputs": [],
   "source": []
  }
 ],
 "metadata": {
  "kernelspec": {
   "display_name": "Python 3",
   "language": "python",
   "name": "python3"
  },
  "language_info": {
   "codemirror_mode": {
    "name": "ipython",
    "version": 3
   },
   "file_extension": ".py",
   "mimetype": "text/x-python",
   "name": "python",
   "nbconvert_exporter": "python",
   "pygments_lexer": "ipython3",
   "version": "3.8.5"
  }
 },
 "nbformat": 4,
 "nbformat_minor": 4
}
