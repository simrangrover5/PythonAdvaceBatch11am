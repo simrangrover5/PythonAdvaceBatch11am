{
 "cells": [
  {
   "cell_type": "markdown",
   "metadata": {},
   "source": [
    "#### Variables???\n",
    "\n",
    "\n",
    "    Variables --> storing , change\n",
    "    In coding we need to access the data later for that we have to store the data first"
   ]
  },
  {
   "cell_type": "code",
   "execution_count": 1,
   "metadata": {},
   "outputs": [],
   "source": [
    "a = 10\n",
    "# a --> variable, identifier"
   ]
  },
  {
   "cell_type": "code",
   "execution_count": 2,
   "metadata": {},
   "outputs": [],
   "source": [
    "b = 20"
   ]
  },
  {
   "cell_type": "code",
   "execution_count": 3,
   "metadata": {},
   "outputs": [
    {
     "data": {
      "text/plain": [
       "20"
      ]
     },
     "execution_count": 3,
     "metadata": {},
     "output_type": "execute_result"
    }
   ],
   "source": [
    "b"
   ]
  },
  {
   "cell_type": "code",
   "execution_count": 4,
   "metadata": {},
   "outputs": [
    {
     "data": {
      "text/plain": [
       "10"
      ]
     },
     "execution_count": 4,
     "metadata": {},
     "output_type": "execute_result"
    }
   ],
   "source": [
    "a"
   ]
  },
  {
   "cell_type": "code",
   "execution_count": 5,
   "metadata": {},
   "outputs": [
    {
     "data": {
      "text/plain": [
       "30"
      ]
     },
     "execution_count": 5,
     "metadata": {},
     "output_type": "execute_result"
    }
   ],
   "source": [
    "a + b"
   ]
  },
  {
   "cell_type": "code",
   "execution_count": 6,
   "metadata": {},
   "outputs": [
    {
     "ename": "SyntaxError",
     "evalue": "can't assign to literal (<ipython-input-6-2ff01c849171>, line 1)",
     "output_type": "error",
     "traceback": [
      "\u001b[1;36m  File \u001b[1;32m\"<ipython-input-6-2ff01c849171>\"\u001b[1;36m, line \u001b[1;32m1\u001b[0m\n\u001b[1;33m    123 = 10\u001b[0m\n\u001b[1;37m            ^\u001b[0m\n\u001b[1;31mSyntaxError\u001b[0m\u001b[1;31m:\u001b[0m can't assign to literal\n"
     ]
    }
   ],
   "source": [
    "123 = 10"
   ]
  },
  {
   "cell_type": "code",
   "execution_count": 8,
   "metadata": {},
   "outputs": [
    {
     "ename": "SyntaxError",
     "evalue": "invalid syntax (<ipython-input-8-3a0ff716b960>, line 1)",
     "output_type": "error",
     "traceback": [
      "\u001b[1;36m  File \u001b[1;32m\"<ipython-input-8-3a0ff716b960>\"\u001b[1;36m, line \u001b[1;32m1\u001b[0m\n\u001b[1;33m    1ab = 23\u001b[0m\n\u001b[1;37m      ^\u001b[0m\n\u001b[1;31mSyntaxError\u001b[0m\u001b[1;31m:\u001b[0m invalid syntax\n"
     ]
    }
   ],
   "source": [
    "1ab = 23"
   ]
  },
  {
   "cell_type": "markdown",
   "metadata": {},
   "source": [
    "### Rules for identifiers Naming\n",
    "\n",
    "    1. it should start with alphabets or _\n",
    "    2.  no special character should be there except for _\n",
    "    3. Identifer can have alphabtes, numbers or _"
   ]
  },
  {
   "cell_type": "code",
   "execution_count": 9,
   "metadata": {},
   "outputs": [],
   "source": [
    "_123 = 10"
   ]
  },
  {
   "cell_type": "code",
   "execution_count": 10,
   "metadata": {},
   "outputs": [],
   "source": [
    "a12 = 23"
   ]
  },
  {
   "cell_type": "code",
   "execution_count": 11,
   "metadata": {},
   "outputs": [
    {
     "data": {
      "text/plain": [
       "23"
      ]
     },
     "execution_count": 11,
     "metadata": {},
     "output_type": "execute_result"
    }
   ],
   "source": [
    "a12"
   ]
  },
  {
   "cell_type": "code",
   "execution_count": 12,
   "metadata": {},
   "outputs": [
    {
     "ename": "SyntaxError",
     "evalue": "can't assign to operator (<ipython-input-12-410ac0a4c39c>, line 1)",
     "output_type": "error",
     "traceback": [
      "\u001b[1;36m  File \u001b[1;32m\"<ipython-input-12-410ac0a4c39c>\"\u001b[1;36m, line \u001b[1;32m1\u001b[0m\n\u001b[1;33m    a@123 = 34\u001b[0m\n\u001b[1;37m              ^\u001b[0m\n\u001b[1;31mSyntaxError\u001b[0m\u001b[1;31m:\u001b[0m can't assign to operator\n"
     ]
    }
   ],
   "source": [
    "a@123 = 34"
   ]
  },
  {
   "cell_type": "code",
   "execution_count": 13,
   "metadata": {},
   "outputs": [
    {
     "ename": "SyntaxError",
     "evalue": "invalid syntax (<ipython-input-13-4fc6e1de706d>, line 1)",
     "output_type": "error",
     "traceback": [
      "\u001b[1;36m  File \u001b[1;32m\"<ipython-input-13-4fc6e1de706d>\"\u001b[1;36m, line \u001b[1;32m1\u001b[0m\n\u001b[1;33m    a$abc = 12\u001b[0m\n\u001b[1;37m     ^\u001b[0m\n\u001b[1;31mSyntaxError\u001b[0m\u001b[1;31m:\u001b[0m invalid syntax\n"
     ]
    }
   ],
   "source": [
    "a$abc = 12"
   ]
  },
  {
   "cell_type": "code",
   "execution_count": 14,
   "metadata": {},
   "outputs": [],
   "source": [
    "a = 1234"
   ]
  },
  {
   "cell_type": "code",
   "execution_count": 15,
   "metadata": {},
   "outputs": [],
   "source": [
    "b = \"piefpiejfpijefpj\""
   ]
  },
  {
   "cell_type": "markdown",
   "metadata": {},
   "source": [
    "## Data Types\n",
    "\n",
    "    Data  --> Anything raw fact or figure\n",
    "        Simran   Jaipur    Trainer   Python \n",
    "        Simran lives in jaipur and she is trainer of python\n",
    "       \n",
    "       object --> Data\n",
    "     Information --> Collection of data\n",
    "    Type --> Will tell the category in which the data is"
   ]
  },
  {
   "cell_type": "markdown",
   "metadata": {},
   "source": [
    "    Data = comedy --> categories = show, movie"
   ]
  },
  {
   "cell_type": "markdown",
   "metadata": {},
   "source": [
    "         alphabtes --> data types --> english\n",
    "         numbers --> properties --> maths\n",
    "         \n",
    "         \n",
    "         Every data types or category has its own properties or rules\n",
    "         \n",
    "             english = is, am, are \n",
    "             rules = past,present and future\n",
    "             \n",
    "             maths = arithemetic\n",
    "             \n",
    "             simran - grover\n",
    "             \n",
    "         Every data has properties which will decide the type of data and after knowing the type of data\n",
    "         we get to know the rules that we can apply on that data\n",
    "         \n",
    "         \n",
    "         PYTHON IS OPENSOURCE we can see the code and modify it \n",
    "         \n",
    "         Every data in python is object and the rules for the object is written in a class"
   ]
  },
  {
   "cell_type": "markdown",
   "metadata": {},
   "source": [
    "### Data Types or Data Structures\n",
    "\n",
    "    1. Number\n",
    "    2. Strings\n",
    "    3. List\n",
    "    4. Tuple\n",
    "    5. Dictionary\n",
    "    6. Sets"
   ]
  },
  {
   "cell_type": "markdown",
   "metadata": {},
   "source": [
    "##### Number\n",
    "    1. Integer --> it is without decimal number\n",
    "    2. Float --> with decimal\n",
    "    3. Complex --> consists of real and imaginery data"
   ]
  },
  {
   "cell_type": "code",
   "execution_count": 16,
   "metadata": {},
   "outputs": [],
   "source": [
    "a = 10  #integer"
   ]
  },
  {
   "cell_type": "code",
   "execution_count": 17,
   "metadata": {},
   "outputs": [
    {
     "data": {
      "text/plain": [
       "10"
      ]
     },
     "execution_count": 17,
     "metadata": {},
     "output_type": "execute_result"
    }
   ],
   "source": [
    "a"
   ]
  },
  {
   "cell_type": "code",
   "execution_count": 18,
   "metadata": {},
   "outputs": [],
   "source": [
    "b = 23.45  #decimal"
   ]
  },
  {
   "cell_type": "code",
   "execution_count": 19,
   "metadata": {},
   "outputs": [
    {
     "data": {
      "text/plain": [
       "23.45"
      ]
     },
     "execution_count": 19,
     "metadata": {},
     "output_type": "execute_result"
    }
   ],
   "source": [
    "b"
   ]
  },
  {
   "cell_type": "code",
   "execution_count": 21,
   "metadata": {},
   "outputs": [],
   "source": [
    "c = 3 + 4j #complex"
   ]
  },
  {
   "cell_type": "code",
   "execution_count": 22,
   "metadata": {},
   "outputs": [
    {
     "data": {
      "text/plain": [
       "(3+4j)"
      ]
     },
     "execution_count": 22,
     "metadata": {},
     "output_type": "execute_result"
    }
   ],
   "source": [
    "c"
   ]
  },
  {
   "cell_type": "code",
   "execution_count": 23,
   "metadata": {},
   "outputs": [
    {
     "data": {
      "text/plain": [
       "int"
      ]
     },
     "execution_count": 23,
     "metadata": {},
     "output_type": "execute_result"
    }
   ],
   "source": [
    "type(123)"
   ]
  },
  {
   "cell_type": "code",
   "execution_count": 24,
   "metadata": {},
   "outputs": [
    {
     "data": {
      "text/plain": [
       "int"
      ]
     },
     "execution_count": 24,
     "metadata": {},
     "output_type": "execute_result"
    }
   ],
   "source": [
    "type(a)"
   ]
  },
  {
   "cell_type": "code",
   "execution_count": 25,
   "metadata": {},
   "outputs": [
    {
     "data": {
      "text/plain": [
       "float"
      ]
     },
     "execution_count": 25,
     "metadata": {},
     "output_type": "execute_result"
    }
   ],
   "source": [
    "type(34.9080808)"
   ]
  },
  {
   "cell_type": "code",
   "execution_count": 26,
   "metadata": {},
   "outputs": [
    {
     "data": {
      "text/plain": [
       "float"
      ]
     },
     "execution_count": 26,
     "metadata": {},
     "output_type": "execute_result"
    }
   ],
   "source": [
    "type(b)"
   ]
  },
  {
   "cell_type": "code",
   "execution_count": 27,
   "metadata": {},
   "outputs": [
    {
     "data": {
      "text/plain": [
       "complex"
      ]
     },
     "execution_count": 27,
     "metadata": {},
     "output_type": "execute_result"
    }
   ],
   "source": [
    "type(c)"
   ]
  },
  {
   "cell_type": "code",
   "execution_count": 28,
   "metadata": {},
   "outputs": [
    {
     "data": {
      "text/plain": [
       "3.0"
      ]
     },
     "execution_count": 28,
     "metadata": {},
     "output_type": "execute_result"
    }
   ],
   "source": [
    "c.real"
   ]
  },
  {
   "cell_type": "code",
   "execution_count": 29,
   "metadata": {},
   "outputs": [
    {
     "data": {
      "text/plain": [
       "4.0"
      ]
     },
     "execution_count": 29,
     "metadata": {},
     "output_type": "execute_result"
    }
   ],
   "source": [
    "c.imag"
   ]
  },
  {
   "cell_type": "code",
   "execution_count": 30,
   "metadata": {},
   "outputs": [
    {
     "data": {
      "text/plain": [
       "140708306199216"
      ]
     },
     "execution_count": 30,
     "metadata": {},
     "output_type": "execute_result"
    }
   ],
   "source": [
    "id(a)"
   ]
  },
  {
   "cell_type": "code",
   "execution_count": 31,
   "metadata": {},
   "outputs": [
    {
     "data": {
      "text/plain": [
       "2118451790288"
      ]
     },
     "execution_count": 31,
     "metadata": {},
     "output_type": "execute_result"
    }
   ],
   "source": [
    "id(b)"
   ]
  },
  {
   "cell_type": "code",
   "execution_count": 32,
   "metadata": {},
   "outputs": [
    {
     "data": {
      "text/plain": [
       "2118451792016"
      ]
     },
     "execution_count": 32,
     "metadata": {},
     "output_type": "execute_result"
    }
   ],
   "source": [
    "id(c)"
   ]
  },
  {
   "cell_type": "code",
   "execution_count": 33,
   "metadata": {},
   "outputs": [],
   "source": [
    "a = 10"
   ]
  },
  {
   "cell_type": "code",
   "execution_count": 34,
   "metadata": {},
   "outputs": [],
   "source": [
    "d = 10"
   ]
  },
  {
   "cell_type": "code",
   "execution_count": 35,
   "metadata": {},
   "outputs": [
    {
     "data": {
      "text/plain": [
       "140708306199216"
      ]
     },
     "execution_count": 35,
     "metadata": {},
     "output_type": "execute_result"
    }
   ],
   "source": [
    "id(a)"
   ]
  },
  {
   "cell_type": "code",
   "execution_count": 36,
   "metadata": {},
   "outputs": [
    {
     "data": {
      "text/plain": [
       "140708306199216"
      ]
     },
     "execution_count": 36,
     "metadata": {},
     "output_type": "execute_result"
    }
   ],
   "source": [
    "id(d)"
   ]
  },
  {
   "cell_type": "code",
   "execution_count": 37,
   "metadata": {},
   "outputs": [
    {
     "data": {
      "text/plain": [
       "140708306207088"
      ]
     },
     "execution_count": 37,
     "metadata": {},
     "output_type": "execute_result"
    }
   ],
   "source": [
    "a = 256\n",
    "b = 256\n",
    "id(a)"
   ]
  },
  {
   "cell_type": "code",
   "execution_count": 38,
   "metadata": {},
   "outputs": [
    {
     "data": {
      "text/plain": [
       "140708306207088"
      ]
     },
     "execution_count": 38,
     "metadata": {},
     "output_type": "execute_result"
    }
   ],
   "source": [
    "id(b)"
   ]
  },
  {
   "cell_type": "code",
   "execution_count": 39,
   "metadata": {},
   "outputs": [
    {
     "data": {
      "text/plain": [
       "2118485276720"
      ]
     },
     "execution_count": 39,
     "metadata": {},
     "output_type": "execute_result"
    }
   ],
   "source": [
    "a = 257\n",
    "b = 257\n",
    "id(a)"
   ]
  },
  {
   "cell_type": "code",
   "execution_count": 40,
   "metadata": {},
   "outputs": [
    {
     "data": {
      "text/plain": [
       "257"
      ]
     },
     "execution_count": 40,
     "metadata": {},
     "output_type": "execute_result"
    }
   ],
   "source": [
    "a"
   ]
  },
  {
   "cell_type": "code",
   "execution_count": 41,
   "metadata": {},
   "outputs": [
    {
     "data": {
      "text/plain": [
       "257"
      ]
     },
     "execution_count": 41,
     "metadata": {},
     "output_type": "execute_result"
    }
   ],
   "source": [
    "b"
   ]
  },
  {
   "cell_type": "code",
   "execution_count": 42,
   "metadata": {},
   "outputs": [
    {
     "data": {
      "text/plain": [
       "2118485276816"
      ]
     },
     "execution_count": 42,
     "metadata": {},
     "output_type": "execute_result"
    }
   ],
   "source": [
    "id(b)"
   ]
  },
  {
   "cell_type": "code",
   "execution_count": 43,
   "metadata": {},
   "outputs": [
    {
     "data": {
      "text/plain": [
       "256"
      ]
     },
     "execution_count": 43,
     "metadata": {},
     "output_type": "execute_result"
    }
   ],
   "source": [
    "2**8"
   ]
  },
  {
   "cell_type": "code",
   "execution_count": 44,
   "metadata": {},
   "outputs": [],
   "source": [
    "a = 987654321\n",
    "d = 987654321"
   ]
  },
  {
   "cell_type": "code",
   "execution_count": 45,
   "metadata": {},
   "outputs": [
    {
     "data": {
      "text/plain": [
       "2118485277360"
      ]
     },
     "execution_count": 45,
     "metadata": {},
     "output_type": "execute_result"
    }
   ],
   "source": [
    "id(a)"
   ]
  },
  {
   "cell_type": "code",
   "execution_count": 46,
   "metadata": {},
   "outputs": [
    {
     "data": {
      "text/plain": [
       "2118485277456"
      ]
     },
     "execution_count": 46,
     "metadata": {},
     "output_type": "execute_result"
    }
   ],
   "source": [
    "id(d)"
   ]
  },
  {
   "cell_type": "markdown",
   "metadata": {},
   "source": [
    "#### Strings\n",
    "    character = alphabets + special character\n",
    "    Collection of character\n",
    "    \"\" --> quotes \n",
    "    It can be in single quotes, double quotes, triple quotes"
   ]
  },
  {
   "cell_type": "code",
   "execution_count": 47,
   "metadata": {},
   "outputs": [],
   "source": [
    "s1 = 'single quotes'\n",
    "s2 = \"double quotes\"\n",
    "s3 = \"\"\"triple quotes\"\"\""
   ]
  },
  {
   "cell_type": "code",
   "execution_count": 48,
   "metadata": {},
   "outputs": [
    {
     "data": {
      "text/plain": [
       "'single quotes'"
      ]
     },
     "execution_count": 48,
     "metadata": {},
     "output_type": "execute_result"
    }
   ],
   "source": [
    "s1"
   ]
  },
  {
   "cell_type": "code",
   "execution_count": 49,
   "metadata": {},
   "outputs": [
    {
     "data": {
      "text/plain": [
       "'double quotes'"
      ]
     },
     "execution_count": 49,
     "metadata": {},
     "output_type": "execute_result"
    }
   ],
   "source": [
    "s2"
   ]
  },
  {
   "cell_type": "code",
   "execution_count": 50,
   "metadata": {},
   "outputs": [
    {
     "data": {
      "text/plain": [
       "'triple quotes'"
      ]
     },
     "execution_count": 50,
     "metadata": {},
     "output_type": "execute_result"
    }
   ],
   "source": [
    "s3"
   ]
  },
  {
   "cell_type": "code",
   "execution_count": 51,
   "metadata": {},
   "outputs": [
    {
     "data": {
      "text/plain": [
       "str"
      ]
     },
     "execution_count": 51,
     "metadata": {},
     "output_type": "execute_result"
    }
   ],
   "source": [
    "type(s1)"
   ]
  },
  {
   "cell_type": "code",
   "execution_count": 52,
   "metadata": {},
   "outputs": [
    {
     "data": {
      "text/plain": [
       "str"
      ]
     },
     "execution_count": 52,
     "metadata": {},
     "output_type": "execute_result"
    }
   ],
   "source": [
    "type(s2)"
   ]
  },
  {
   "cell_type": "code",
   "execution_count": 53,
   "metadata": {},
   "outputs": [
    {
     "data": {
      "text/plain": [
       "str"
      ]
     },
     "execution_count": 53,
     "metadata": {},
     "output_type": "execute_result"
    }
   ],
   "source": [
    "type(s3)"
   ]
  },
  {
   "cell_type": "code",
   "execution_count": 54,
   "metadata": {},
   "outputs": [
    {
     "data": {
      "text/plain": [
       "str"
      ]
     },
     "execution_count": 54,
     "metadata": {},
     "output_type": "execute_result"
    }
   ],
   "source": [
    "type(\"a\")"
   ]
  },
  {
   "cell_type": "markdown",
   "metadata": {},
   "source": [
    "    1. Sequential/non sequential\n",
    "    2. Ordered/ un-ordered\n",
    "    3. mutable/immutable\n",
    "    \n",
    "    \n",
    "    Numbers --> non sequential, unordered, immutable\n",
    "    strings --> Sequential --> indexing \n",
    "                ordered, \n",
    "                immutable --> that cannot be changed"
   ]
  },
  {
   "cell_type": "code",
   "execution_count": 55,
   "metadata": {},
   "outputs": [
    {
     "data": {
      "text/plain": [
       "'single quotes'"
      ]
     },
     "execution_count": 55,
     "metadata": {},
     "output_type": "execute_result"
    }
   ],
   "source": [
    "s1"
   ]
  },
  {
   "cell_type": "code",
   "execution_count": 56,
   "metadata": {},
   "outputs": [
    {
     "data": {
      "text/plain": [
       "'s'"
      ]
     },
     "execution_count": 56,
     "metadata": {},
     "output_type": "execute_result"
    }
   ],
   "source": [
    "s1[0] #indexing"
   ]
  },
  {
   "cell_type": "code",
   "execution_count": 57,
   "metadata": {},
   "outputs": [
    {
     "data": {
      "text/plain": [
       "'i'"
      ]
     },
     "execution_count": 57,
     "metadata": {},
     "output_type": "execute_result"
    }
   ],
   "source": [
    "s1[1]"
   ]
  },
  {
   "cell_type": "code",
   "execution_count": 58,
   "metadata": {},
   "outputs": [
    {
     "data": {
      "text/plain": [
       "'n'"
      ]
     },
     "execution_count": 58,
     "metadata": {},
     "output_type": "execute_result"
    }
   ],
   "source": [
    "s1[2]"
   ]
  },
  {
   "cell_type": "code",
   "execution_count": 60,
   "metadata": {},
   "outputs": [
    {
     "ename": "TypeError",
     "evalue": "'str' object does not support item assignment",
     "output_type": "error",
     "traceback": [
      "\u001b[1;31m---------------------------------------------------------------------------\u001b[0m",
      "\u001b[1;31mTypeError\u001b[0m                                 Traceback (most recent call last)",
      "\u001b[1;32m<ipython-input-60-7c29b9df3394>\u001b[0m in \u001b[0;36m<module>\u001b[1;34m\u001b[0m\n\u001b[1;32m----> 1\u001b[1;33m \u001b[0ms1\u001b[0m\u001b[1;33m[\u001b[0m\u001b[1;36m3\u001b[0m\u001b[1;33m]\u001b[0m \u001b[1;33m=\u001b[0m \u001b[1;34m\"h\"\u001b[0m\u001b[1;33m\u001b[0m\u001b[1;33m\u001b[0m\u001b[0m\n\u001b[0m",
      "\u001b[1;31mTypeError\u001b[0m: 'str' object does not support item assignment"
     ]
    }
   ],
   "source": [
    "s1[3] = \"h\" #immutable"
   ]
  },
  {
   "cell_type": "code",
   "execution_count": 61,
   "metadata": {},
   "outputs": [],
   "source": [
    "s = \"sinhle quotes\""
   ]
  },
  {
   "cell_type": "code",
   "execution_count": 62,
   "metadata": {},
   "outputs": [
    {
     "ename": "SyntaxError",
     "evalue": "EOL while scanning string literal (<ipython-input-62-5af2b3ce2491>, line 1)",
     "output_type": "error",
     "traceback": [
      "\u001b[1;36m  File \u001b[1;32m\"<ipython-input-62-5af2b3ce2491>\"\u001b[1;36m, line \u001b[1;32m1\u001b[0m\n\u001b[1;33m    s = \"Hello\u001b[0m\n\u001b[1;37m              ^\u001b[0m\n\u001b[1;31mSyntaxError\u001b[0m\u001b[1;31m:\u001b[0m EOL while scanning string literal\n"
     ]
    }
   ],
   "source": [
    "s = \"Hello\n",
    "hi\n",
    "how are you??\n",
    "are you going good??\""
   ]
  },
  {
   "cell_type": "code",
   "execution_count": 63,
   "metadata": {},
   "outputs": [],
   "source": [
    "s = \"\"\"hi\n",
    "hello\n",
    "how are you??\n",
    "are you doing good???\"\"\""
   ]
  },
  {
   "cell_type": "code",
   "execution_count": 64,
   "metadata": {},
   "outputs": [
    {
     "data": {
      "text/plain": [
       "'hi\\nhello\\nhow are you??\\nare you doing good???'"
      ]
     },
     "execution_count": 64,
     "metadata": {},
     "output_type": "execute_result"
    }
   ],
   "source": [
    "s"
   ]
  },
  {
   "cell_type": "code",
   "execution_count": 65,
   "metadata": {},
   "outputs": [
    {
     "name": "stdout",
     "output_type": "stream",
     "text": [
      "hi\n",
      "hello\n",
      "how are you??\n",
      "are you doing good???\n"
     ]
    }
   ],
   "source": [
    "print(s)"
   ]
  },
  {
   "cell_type": "code",
   "execution_count": 66,
   "metadata": {},
   "outputs": [
    {
     "name": "stdout",
     "output_type": "stream",
     "text": [
      "simran\n"
     ]
    }
   ],
   "source": [
    "a = input()"
   ]
  },
  {
   "cell_type": "code",
   "execution_count": 67,
   "metadata": {},
   "outputs": [
    {
     "data": {
      "text/plain": [
       "'simran'"
      ]
     },
     "execution_count": 67,
     "metadata": {},
     "output_type": "execute_result"
    }
   ],
   "source": [
    "a"
   ]
  },
  {
   "cell_type": "code",
   "execution_count": 68,
   "metadata": {},
   "outputs": [
    {
     "name": "stdout",
     "output_type": "stream",
     "text": [
      "Enter your name : simran\n"
     ]
    }
   ],
   "source": [
    "name = input(\"Enter your name : \")"
   ]
  },
  {
   "cell_type": "code",
   "execution_count": 69,
   "metadata": {},
   "outputs": [
    {
     "data": {
      "text/plain": [
       "'simran'"
      ]
     },
     "execution_count": 69,
     "metadata": {},
     "output_type": "execute_result"
    }
   ],
   "source": [
    "name"
   ]
  },
  {
   "cell_type": "markdown",
   "metadata": {},
   "source": [
    "        Escape Characters --> \\n, \\t\n",
    "        \n",
    "            \\n --> new line\n",
    "            \\t --> tab"
   ]
  },
  {
   "cell_type": "code",
   "execution_count": 70,
   "metadata": {},
   "outputs": [
    {
     "ename": "SyntaxError",
     "evalue": "unexpected character after line continuation character (<ipython-input-70-506ece28f33b>, line 1)",
     "output_type": "error",
     "traceback": [
      "\u001b[1;36m  File \u001b[1;32m\"<ipython-input-70-506ece28f33b>\"\u001b[1;36m, line \u001b[1;32m1\u001b[0m\n\u001b[1;33m    print(\\n)\u001b[0m\n\u001b[1;37m             ^\u001b[0m\n\u001b[1;31mSyntaxError\u001b[0m\u001b[1;31m:\u001b[0m unexpected character after line continuation character\n"
     ]
    }
   ],
   "source": [
    "print(\\n)"
   ]
  },
  {
   "cell_type": "code",
   "execution_count": 71,
   "metadata": {},
   "outputs": [
    {
     "name": "stdout",
     "output_type": "stream",
     "text": [
      "hello world\n",
      "hi\n"
     ]
    }
   ],
   "source": [
    "print(\"hello world\\nhi\")"
   ]
  },
  {
   "cell_type": "code",
   "execution_count": 72,
   "metadata": {},
   "outputs": [
    {
     "name": "stdout",
     "output_type": "stream",
     "text": [
      "hello world hi\n"
     ]
    }
   ],
   "source": [
    "print('hello world hi')"
   ]
  },
  {
   "cell_type": "code",
   "execution_count": 73,
   "metadata": {},
   "outputs": [
    {
     "name": "stdout",
     "output_type": "stream",
     "text": [
      "hello world\tBye world\n"
     ]
    }
   ],
   "source": [
    "print(\"hello world\\tBye world\")"
   ]
  },
  {
   "cell_type": "code",
   "execution_count": 74,
   "metadata": {},
   "outputs": [
    {
     "name": "stdout",
     "output_type": "stream",
     "text": [
      "Welcome to my home!!!\n",
      "We are pleasured to have you\n",
      "Have a great time!!!\n"
     ]
    }
   ],
   "source": [
    "print(\"Welcome to my home!!!\\nWe are pleasured to have you\\nHave a great time!!!\")"
   ]
  },
  {
   "cell_type": "markdown",
   "metadata": {},
   "source": [
    "#### Operations to perform on Data Types which are Sequential\n",
    "\n",
    "    1. Concatenation(+)\n",
    "    2. Repitition(*)\n",
    "    3. Indexing"
   ]
  },
  {
   "cell_type": "code",
   "execution_count": 75,
   "metadata": {},
   "outputs": [
    {
     "data": {
      "text/plain": [
       "'helloworld'"
      ]
     },
     "execution_count": 75,
     "metadata": {},
     "output_type": "execute_result"
    }
   ],
   "source": [
    "\"hello\" + \"world\""
   ]
  },
  {
   "cell_type": "code",
   "execution_count": 76,
   "metadata": {},
   "outputs": [
    {
     "data": {
      "text/plain": [
       "'hello world'"
      ]
     },
     "execution_count": 76,
     "metadata": {},
     "output_type": "execute_result"
    }
   ],
   "source": [
    "\"hello\" + \" \" + \"world\""
   ]
  },
  {
   "cell_type": "code",
   "execution_count": 78,
   "metadata": {},
   "outputs": [
    {
     "name": "stdout",
     "output_type": "stream",
     "text": [
      "hi\thow\tare\tyou???\n"
     ]
    }
   ],
   "source": [
    "print(\"hi\" + \"\\t\" + \"how\" + \"\\t\" + \"are\" + \"\\t\" + \"you???\")"
   ]
  },
  {
   "cell_type": "code",
   "execution_count": 79,
   "metadata": {},
   "outputs": [
    {
     "name": "stdout",
     "output_type": "stream",
     "text": [
      "hello world\n",
      "Welcome to my world\n"
     ]
    }
   ],
   "source": [
    "print(\"hello world\" + \"\\n\" + \"Welcome to my world\")"
   ]
  },
  {
   "cell_type": "code",
   "execution_count": 80,
   "metadata": {},
   "outputs": [
    {
     "ename": "TypeError",
     "evalue": "can only concatenate str (not \"int\") to str",
     "output_type": "error",
     "traceback": [
      "\u001b[1;31m---------------------------------------------------------------------------\u001b[0m",
      "\u001b[1;31mTypeError\u001b[0m                                 Traceback (most recent call last)",
      "\u001b[1;32m<ipython-input-80-e8992ec33927>\u001b[0m in \u001b[0;36m<module>\u001b[1;34m\u001b[0m\n\u001b[1;32m----> 1\u001b[1;33m \u001b[1;34m\"hello\"\u001b[0m \u001b[1;33m+\u001b[0m \u001b[1;36m12\u001b[0m\u001b[1;33m\u001b[0m\u001b[1;33m\u001b[0m\u001b[0m\n\u001b[0m",
      "\u001b[1;31mTypeError\u001b[0m: can only concatenate str (not \"int\") to str"
     ]
    }
   ],
   "source": [
    "\"hello\" + 12"
   ]
  },
  {
   "cell_type": "code",
   "execution_count": 81,
   "metadata": {},
   "outputs": [
    {
     "data": {
      "text/plain": [
       "'hello12'"
      ]
     },
     "execution_count": 81,
     "metadata": {},
     "output_type": "execute_result"
    }
   ],
   "source": [
    "\"hello\" + \"12\""
   ]
  },
  {
   "cell_type": "code",
   "execution_count": 82,
   "metadata": {},
   "outputs": [
    {
     "data": {
      "text/plain": [
       "'11'"
      ]
     },
     "execution_count": 82,
     "metadata": {},
     "output_type": "execute_result"
    }
   ],
   "source": [
    "\"1\" + \"1\""
   ]
  },
  {
   "cell_type": "code",
   "execution_count": 83,
   "metadata": {},
   "outputs": [
    {
     "data": {
      "text/plain": [
       "'hellohellohellohellohellohellohellohellohellohello'"
      ]
     },
     "execution_count": 83,
     "metadata": {},
     "output_type": "execute_result"
    }
   ],
   "source": [
    "\"hello\"*10"
   ]
  },
  {
   "cell_type": "code",
   "execution_count": 84,
   "metadata": {},
   "outputs": [
    {
     "data": {
      "text/plain": [
       "'********************************************************************************'"
      ]
     },
     "execution_count": 84,
     "metadata": {},
     "output_type": "execute_result"
    }
   ],
   "source": [
    "\"*\"*80"
   ]
  },
  {
   "cell_type": "code",
   "execution_count": 85,
   "metadata": {},
   "outputs": [
    {
     "data": {
      "text/plain": [
       "'################################################################################'"
      ]
     },
     "execution_count": 85,
     "metadata": {},
     "output_type": "execute_result"
    }
   ],
   "source": [
    "\"##\"*40"
   ]
  },
  {
   "cell_type": "code",
   "execution_count": 88,
   "metadata": {},
   "outputs": [],
   "source": [
    "#*90\n",
    "# it is used for comment"
   ]
  },
  {
   "cell_type": "code",
   "execution_count": 90,
   "metadata": {},
   "outputs": [
    {
     "data": {
      "text/plain": [
       "{'__name__': '__main__',\n",
       " '__doc__': 'Automatically created module for IPython interactive environment',\n",
       " '__package__': None,\n",
       " '__loader__': None,\n",
       " '__spec__': None,\n",
       " '__builtin__': <module 'builtins' (built-in)>,\n",
       " '__builtins__': <module 'builtins' (built-in)>,\n",
       " '_ih': ['',\n",
       "  'a = 10\\n# a --> variable, identifier',\n",
       "  'b = 20',\n",
       "  'b',\n",
       "  'a',\n",
       "  'a + b',\n",
       "  '123 = 10',\n",
       "  '1ab',\n",
       "  '1ab = 23',\n",
       "  '_123 = 10',\n",
       "  'a12 = 23',\n",
       "  'a12',\n",
       "  'a@123 = 34',\n",
       "  'a$abc = 12',\n",
       "  'a = 1234',\n",
       "  'b = \"piefpiejfpijefpj\"',\n",
       "  'a = 10',\n",
       "  'a',\n",
       "  'b = 23.45  #decimal',\n",
       "  'b',\n",
       "  'c = 3 + 4j',\n",
       "  'c = 3 + 4j #complex',\n",
       "  'c',\n",
       "  'type(123)',\n",
       "  'type(a)',\n",
       "  'type(34.9080808)',\n",
       "  'type(b)',\n",
       "  'type(c)',\n",
       "  'c.real',\n",
       "  'c.imag',\n",
       "  'id(a)',\n",
       "  'id(b)',\n",
       "  'id(c)',\n",
       "  'a = 10',\n",
       "  'd = 10',\n",
       "  'id(a)',\n",
       "  'id(d)',\n",
       "  'a = 256\\nb = 256\\nid(a)',\n",
       "  'id(b)',\n",
       "  'a = 257\\nb = 257\\nid(a)',\n",
       "  'a',\n",
       "  'b',\n",
       "  'id(b)',\n",
       "  '2**8',\n",
       "  'a = 987654321\\nd = 987654321',\n",
       "  'id(a)',\n",
       "  'id(d)',\n",
       "  's1 = \\'single quotes\\'\\ns2 = \"double quotes\"\\ns3 = \"\"\"triple quotes\"\"\"',\n",
       "  's1',\n",
       "  's2',\n",
       "  's3',\n",
       "  'type(s1)',\n",
       "  'type(s2)',\n",
       "  'type(s3)',\n",
       "  'type(\"a\")',\n",
       "  's1',\n",
       "  's1[0]',\n",
       "  's1[1]',\n",
       "  's1[2]',\n",
       "  's1[3]',\n",
       "  's1[3] = \"h\"',\n",
       "  's = \"sinhle quotes\"',\n",
       "  's = \"Hello\\nhi\\nget_ipython().run_line_magic(\\'pinfo2\\', \\'you\\')\\nare you going good??\"',\n",
       "  's = \"\"\"hi\\nhello\\nhow are you??\\nare you doing good???\"\"\"',\n",
       "  's',\n",
       "  'print(s)',\n",
       "  'a = input()',\n",
       "  'a',\n",
       "  'name = input(\"Enter your name : \")',\n",
       "  'name',\n",
       "  'print(\\\\n)',\n",
       "  'print(\"hello world\\\\nhi\")',\n",
       "  \"print('hello world hi')\",\n",
       "  'print(\"hello world\\\\tBye world\")',\n",
       "  'print(\"Welcome to my home!!!\\\\nWe are pleasured to have you\\\\nHave a great time!!!\")',\n",
       "  '\"hello\" + \"world\"',\n",
       "  '\"hello\" + \" \" + \"world\"',\n",
       "  '\"hi\" + \"\\\\t\" + \"how\" + \"\\\\t\" + \"are\" + \"\\\\t\" + \"you???\" ',\n",
       "  'print(\"hi\" + \"\\\\t\" + \"how\" + \"\\\\t\" + \"are\" + \"\\\\t\" + \"you???\")',\n",
       "  'print(\"hello world\" + \"\\\\n\" + \"Welcome to my world\")',\n",
       "  '\"hello\" + 12',\n",
       "  '\"hello\" + \"12\"',\n",
       "  '\"1\" + \"1\"',\n",
       "  '\"hello\"*10',\n",
       "  '\"*\"*80',\n",
       "  '\"##\"*40',\n",
       "  '__*90',\n",
       "  '__*90',\n",
       "  '#*90',\n",
       "  'vars',\n",
       "  'vars()'],\n",
       " '_oh': {3: 20,\n",
       "  4: 10,\n",
       "  5: 30,\n",
       "  11: 23,\n",
       "  17: 10,\n",
       "  19: 23.45,\n",
       "  22: (3+4j),\n",
       "  23: int,\n",
       "  24: int,\n",
       "  25: float,\n",
       "  26: float,\n",
       "  27: complex,\n",
       "  28: 3.0,\n",
       "  29: 4.0,\n",
       "  30: 140708306199216,\n",
       "  31: 2118451790288,\n",
       "  32: 2118451792016,\n",
       "  35: 140708306199216,\n",
       "  36: 140708306199216,\n",
       "  37: 140708306207088,\n",
       "  38: 140708306207088,\n",
       "  39: 2118485276720,\n",
       "  40: 257,\n",
       "  41: 257,\n",
       "  42: 2118485276816,\n",
       "  43: 256,\n",
       "  45: 2118485277360,\n",
       "  46: 2118485277456,\n",
       "  48: 'single quotes',\n",
       "  49: 'double quotes',\n",
       "  50: 'triple quotes',\n",
       "  51: str,\n",
       "  52: str,\n",
       "  53: str,\n",
       "  54: str,\n",
       "  55: 'single quotes',\n",
       "  56: 's',\n",
       "  57: 'i',\n",
       "  58: 'n',\n",
       "  59: 'g',\n",
       "  64: 'hi\\nhello\\nhow are you??\\nare you doing good???',\n",
       "  67: 'simran',\n",
       "  69: 'simran',\n",
       "  75: 'helloworld',\n",
       "  76: 'hello world',\n",
       "  77: 'hi\\thow\\tare\\tyou???',\n",
       "  81: 'hello12',\n",
       "  82: '11',\n",
       "  83: 'hellohellohellohellohellohellohellohellohellohello',\n",
       "  84: '********************************************************************************',\n",
       "  85: '################################################################################',\n",
       "  86: '************************************************************************************************************************************************************************************************************************************************************************************************************************************************************************************************************************************************************************************************************************************************************************************************************************************************************************************************************************************************************************************************************************************************************************************************************************************************************************************************************************************************************************************************************************************************************************************************************************************************************************************************************************************************************************************************************************************************************************************************************************************************************************************************************************************************************************************************************************************************************************************************************************************************************************************************************************************************************************************************************************************************************************************************************************************************************************************************************************************************************************************************************************************************************************************************************************************************************************************************************************************************************************************************************************************************************************************************************************************************************************************************************************************************************************************************************************************************************************************************************************************************************************************************************************************************************************************************************************************************************************************************************************************************************************************************************************************************************************************************************************************************************************************************************************************************************************************************************************************************************************************************************************************************************************************************************************************************************************************************************************************************************************************************************************************************************************************************************************************************************************************************************************************************************************************************************************************************************************************************************************************************************************************************************************************************************************************************************************************************************************************************************************************************************************************************************************************************************************************************************************************************************************************************************************************************************************************************************************************************************************************************************************************************************************************************************************************************************************************************************************************************************************************************************************************************************************************************************************************************************************************************************************************************************************************************************************************************************************************************************************************************************************************************************************************************************************************************************************************************************************************************************************************************************************************************************************************************************************************************************************************************************************************************************************************************************************************************************************************************************************************************************************************************************************************************************************************************************************************************************************************************************************************************************************************************************************************************************************************************************************************************************************************************************************************************************************************************************************************************',\n",
       "  87: '################################################################################################################################################################################################################################################################################################################################################################################################################################################################################################################################################################################################################################################################################################################################################################################################################################################################################################################################################################################################################################################################################################################################################################################################################################################################################################################################################################################################################################################################################################################################################################################################################################################################################################################################################################################################################################################################################################################################################################################################################################################################################################################################################################################################################################################################################################################################################################################################################################################################################################################################################################################################################################################################################################################################################################################################################################################################################################################################################################################################################################################################################################################################################################################################################################################################################################################################################################################################################################################################################################################################################################################################################################################################################################################################################################################################################################################################################################################################################################################################################################################################################################################################################################################################################################################################################################################################################################################################################################################################################################################################################################################################################################################################################################################################################################################################################################################################################################################################################################################################################################################################################################################################################################################################################################################################################################################################################################################################################################################################################################################################################################################################################################################################################################################################################################################################################################################################################################################################################################################################################################################################################################################################################################################################################################################################################################################################################################################################################################################################################################################################################################################################################################################################################################################################################################################################################################################################################################################################################################################################################################################################################################################################################################################################################################################################################################################################################################################################################################################################################################',\n",
       "  89: <function vars>},\n",
       " '_dh': ['C:\\\\batches\\\\online_batch\\\\pythonbatch10_15am'],\n",
       " 'In': ['',\n",
       "  'a = 10\\n# a --> variable, identifier',\n",
       "  'b = 20',\n",
       "  'b',\n",
       "  'a',\n",
       "  'a + b',\n",
       "  '123 = 10',\n",
       "  '1ab',\n",
       "  '1ab = 23',\n",
       "  '_123 = 10',\n",
       "  'a12 = 23',\n",
       "  'a12',\n",
       "  'a@123 = 34',\n",
       "  'a$abc = 12',\n",
       "  'a = 1234',\n",
       "  'b = \"piefpiejfpijefpj\"',\n",
       "  'a = 10',\n",
       "  'a',\n",
       "  'b = 23.45  #decimal',\n",
       "  'b',\n",
       "  'c = 3 + 4j',\n",
       "  'c = 3 + 4j #complex',\n",
       "  'c',\n",
       "  'type(123)',\n",
       "  'type(a)',\n",
       "  'type(34.9080808)',\n",
       "  'type(b)',\n",
       "  'type(c)',\n",
       "  'c.real',\n",
       "  'c.imag',\n",
       "  'id(a)',\n",
       "  'id(b)',\n",
       "  'id(c)',\n",
       "  'a = 10',\n",
       "  'd = 10',\n",
       "  'id(a)',\n",
       "  'id(d)',\n",
       "  'a = 256\\nb = 256\\nid(a)',\n",
       "  'id(b)',\n",
       "  'a = 257\\nb = 257\\nid(a)',\n",
       "  'a',\n",
       "  'b',\n",
       "  'id(b)',\n",
       "  '2**8',\n",
       "  'a = 987654321\\nd = 987654321',\n",
       "  'id(a)',\n",
       "  'id(d)',\n",
       "  's1 = \\'single quotes\\'\\ns2 = \"double quotes\"\\ns3 = \"\"\"triple quotes\"\"\"',\n",
       "  's1',\n",
       "  's2',\n",
       "  's3',\n",
       "  'type(s1)',\n",
       "  'type(s2)',\n",
       "  'type(s3)',\n",
       "  'type(\"a\")',\n",
       "  's1',\n",
       "  's1[0]',\n",
       "  's1[1]',\n",
       "  's1[2]',\n",
       "  's1[3]',\n",
       "  's1[3] = \"h\"',\n",
       "  's = \"sinhle quotes\"',\n",
       "  's = \"Hello\\nhi\\nget_ipython().run_line_magic(\\'pinfo2\\', \\'you\\')\\nare you going good??\"',\n",
       "  's = \"\"\"hi\\nhello\\nhow are you??\\nare you doing good???\"\"\"',\n",
       "  's',\n",
       "  'print(s)',\n",
       "  'a = input()',\n",
       "  'a',\n",
       "  'name = input(\"Enter your name : \")',\n",
       "  'name',\n",
       "  'print(\\\\n)',\n",
       "  'print(\"hello world\\\\nhi\")',\n",
       "  \"print('hello world hi')\",\n",
       "  'print(\"hello world\\\\tBye world\")',\n",
       "  'print(\"Welcome to my home!!!\\\\nWe are pleasured to have you\\\\nHave a great time!!!\")',\n",
       "  '\"hello\" + \"world\"',\n",
       "  '\"hello\" + \" \" + \"world\"',\n",
       "  '\"hi\" + \"\\\\t\" + \"how\" + \"\\\\t\" + \"are\" + \"\\\\t\" + \"you???\" ',\n",
       "  'print(\"hi\" + \"\\\\t\" + \"how\" + \"\\\\t\" + \"are\" + \"\\\\t\" + \"you???\")',\n",
       "  'print(\"hello world\" + \"\\\\n\" + \"Welcome to my world\")',\n",
       "  '\"hello\" + 12',\n",
       "  '\"hello\" + \"12\"',\n",
       "  '\"1\" + \"1\"',\n",
       "  '\"hello\"*10',\n",
       "  '\"*\"*80',\n",
       "  '\"##\"*40',\n",
       "  '__*90',\n",
       "  '__*90',\n",
       "  '#*90',\n",
       "  'vars',\n",
       "  'vars()'],\n",
       " 'Out': {3: 20,\n",
       "  4: 10,\n",
       "  5: 30,\n",
       "  11: 23,\n",
       "  17: 10,\n",
       "  19: 23.45,\n",
       "  22: (3+4j),\n",
       "  23: int,\n",
       "  24: int,\n",
       "  25: float,\n",
       "  26: float,\n",
       "  27: complex,\n",
       "  28: 3.0,\n",
       "  29: 4.0,\n",
       "  30: 140708306199216,\n",
       "  31: 2118451790288,\n",
       "  32: 2118451792016,\n",
       "  35: 140708306199216,\n",
       "  36: 140708306199216,\n",
       "  37: 140708306207088,\n",
       "  38: 140708306207088,\n",
       "  39: 2118485276720,\n",
       "  40: 257,\n",
       "  41: 257,\n",
       "  42: 2118485276816,\n",
       "  43: 256,\n",
       "  45: 2118485277360,\n",
       "  46: 2118485277456,\n",
       "  48: 'single quotes',\n",
       "  49: 'double quotes',\n",
       "  50: 'triple quotes',\n",
       "  51: str,\n",
       "  52: str,\n",
       "  53: str,\n",
       "  54: str,\n",
       "  55: 'single quotes',\n",
       "  56: 's',\n",
       "  57: 'i',\n",
       "  58: 'n',\n",
       "  59: 'g',\n",
       "  64: 'hi\\nhello\\nhow are you??\\nare you doing good???',\n",
       "  67: 'simran',\n",
       "  69: 'simran',\n",
       "  75: 'helloworld',\n",
       "  76: 'hello world',\n",
       "  77: 'hi\\thow\\tare\\tyou???',\n",
       "  81: 'hello12',\n",
       "  82: '11',\n",
       "  83: 'hellohellohellohellohellohellohellohellohellohello',\n",
       "  84: '********************************************************************************',\n",
       "  85: '################################################################################',\n",
       "  86: '************************************************************************************************************************************************************************************************************************************************************************************************************************************************************************************************************************************************************************************************************************************************************************************************************************************************************************************************************************************************************************************************************************************************************************************************************************************************************************************************************************************************************************************************************************************************************************************************************************************************************************************************************************************************************************************************************************************************************************************************************************************************************************************************************************************************************************************************************************************************************************************************************************************************************************************************************************************************************************************************************************************************************************************************************************************************************************************************************************************************************************************************************************************************************************************************************************************************************************************************************************************************************************************************************************************************************************************************************************************************************************************************************************************************************************************************************************************************************************************************************************************************************************************************************************************************************************************************************************************************************************************************************************************************************************************************************************************************************************************************************************************************************************************************************************************************************************************************************************************************************************************************************************************************************************************************************************************************************************************************************************************************************************************************************************************************************************************************************************************************************************************************************************************************************************************************************************************************************************************************************************************************************************************************************************************************************************************************************************************************************************************************************************************************************************************************************************************************************************************************************************************************************************************************************************************************************************************************************************************************************************************************************************************************************************************************************************************************************************************************************************************************************************************************************************************************************************************************************************************************************************************************************************************************************************************************************************************************************************************************************************************************************************************************************************************************************************************************************************************************************************************************************************************************************************************************************************************************************************************************************************************************************************************************************************************************************************************************************************************************************************************************************************************************************************************************************************************************************************************************************************************************************************************************************************************************************************************************************************************************************************************************************************************************************************************************************************************************************************************************',\n",
       "  87: '################################################################################################################################################################################################################################################################################################################################################################################################################################################################################################################################################################################################################################################################################################################################################################################################################################################################################################################################################################################################################################################################################################################################################################################################################################################################################################################################################################################################################################################################################################################################################################################################################################################################################################################################################################################################################################################################################################################################################################################################################################################################################################################################################################################################################################################################################################################################################################################################################################################################################################################################################################################################################################################################################################################################################################################################################################################################################################################################################################################################################################################################################################################################################################################################################################################################################################################################################################################################################################################################################################################################################################################################################################################################################################################################################################################################################################################################################################################################################################################################################################################################################################################################################################################################################################################################################################################################################################################################################################################################################################################################################################################################################################################################################################################################################################################################################################################################################################################################################################################################################################################################################################################################################################################################################################################################################################################################################################################################################################################################################################################################################################################################################################################################################################################################################################################################################################################################################################################################################################################################################################################################################################################################################################################################################################################################################################################################################################################################################################################################################################################################################################################################################################################################################################################################################################################################################################################################################################################################################################################################################################################################################################################################################################################################################################################################################################################################################################################################################################################################################################',\n",
       "  89: <function vars>},\n",
       " 'get_ipython': <bound method InteractiveShell.get_ipython of <ipykernel.zmqshell.ZMQInteractiveShell object at 0x000001ED3D7C2588>>,\n",
       " 'exit': <IPython.core.autocall.ZMQExitAutocall at 0x1ed3d7ee388>,\n",
       " 'quit': <IPython.core.autocall.ZMQExitAutocall at 0x1ed3d7ee388>,\n",
       " '_': <function vars>,\n",
       " '__': '################################################################################################################################################################################################################################################################################################################################################################################################################################################################################################################################################################################################################################################################################################################################################################################################################################################################################################################################################################################################################################################################################################################################################################################################################################################################################################################################################################################################################################################################################################################################################################################################################################################################################################################################################################################################################################################################################################################################################################################################################################################################################################################################################################################################################################################################################################################################################################################################################################################################################################################################################################################################################################################################################################################################################################################################################################################################################################################################################################################################################################################################################################################################################################################################################################################################################################################################################################################################################################################################################################################################################################################################################################################################################################################################################################################################################################################################################################################################################################################################################################################################################################################################################################################################################################################################################################################################################################################################################################################################################################################################################################################################################################################################################################################################################################################################################################################################################################################################################################################################################################################################################################################################################################################################################################################################################################################################################################################################################################################################################################################################################################################################################################################################################################################################################################################################################################################################################################################################################################################################################################################################################################################################################################################################################################################################################################################################################################################################################################################################################################################################################################################################################################################################################################################################################################################################################################################################################################################################################################################################################################################################################################################################################################################################################################################################################################################################################################################################################################################################################################',\n",
       " '___': '************************************************************************************************************************************************************************************************************************************************************************************************************************************************************************************************************************************************************************************************************************************************************************************************************************************************************************************************************************************************************************************************************************************************************************************************************************************************************************************************************************************************************************************************************************************************************************************************************************************************************************************************************************************************************************************************************************************************************************************************************************************************************************************************************************************************************************************************************************************************************************************************************************************************************************************************************************************************************************************************************************************************************************************************************************************************************************************************************************************************************************************************************************************************************************************************************************************************************************************************************************************************************************************************************************************************************************************************************************************************************************************************************************************************************************************************************************************************************************************************************************************************************************************************************************************************************************************************************************************************************************************************************************************************************************************************************************************************************************************************************************************************************************************************************************************************************************************************************************************************************************************************************************************************************************************************************************************************************************************************************************************************************************************************************************************************************************************************************************************************************************************************************************************************************************************************************************************************************************************************************************************************************************************************************************************************************************************************************************************************************************************************************************************************************************************************************************************************************************************************************************************************************************************************************************************************************************************************************************************************************************************************************************************************************************************************************************************************************************************************************************************************************************************************************************************************************************************************************************************************************************************************************************************************************************************************************************************************************************************************************************************************************************************************************************************************************************************************************************************************************************************************************************************************************************************************************************************************************************************************************************************************************************************************************************************************************************************************************************************************************************************************************************************************************************************************************************************************************************************************************************************************************************************************************************************************************************************************************************************************************************************************************************************************************************************************************************************************************************************************',\n",
       " '_i': 'vars',\n",
       " '_ii': '#*90',\n",
       " '_iii': '__*90',\n",
       " '_i1': 'a = 10\\n# a --> variable, identifier',\n",
       " 'a': 'simran',\n",
       " '_i2': 'b = 20',\n",
       " 'b': 257,\n",
       " '_i3': 'b',\n",
       " '_3': 20,\n",
       " '_i4': 'a',\n",
       " '_4': 10,\n",
       " '_i5': 'a + b',\n",
       " '_5': 30,\n",
       " '_i6': '123 = 10',\n",
       " '_i7': '1ab',\n",
       " '_i8': '1ab = 23',\n",
       " '_i9': '_123 = 10',\n",
       " '_123': 10,\n",
       " '_i10': 'a12 = 23',\n",
       " 'a12': 23,\n",
       " '_i11': 'a12',\n",
       " '_11': 23,\n",
       " '_i12': 'a@123 = 34',\n",
       " '_i13': 'a$abc = 12',\n",
       " '_i14': 'a = 1234',\n",
       " '_i15': 'b = \"piefpiejfpijefpj\"',\n",
       " '_i16': 'a = 10',\n",
       " '_i17': 'a',\n",
       " '_17': 10,\n",
       " '_i18': 'b = 23.45  #decimal',\n",
       " '_i19': 'b',\n",
       " '_19': 23.45,\n",
       " '_i20': 'c = 3 + 4j',\n",
       " 'c': (3+4j),\n",
       " '_i21': 'c = 3 + 4j #complex',\n",
       " '_i22': 'c',\n",
       " '_22': (3+4j),\n",
       " '_i23': 'type(123)',\n",
       " '_23': int,\n",
       " '_i24': 'type(a)',\n",
       " '_24': int,\n",
       " '_i25': 'type(34.9080808)',\n",
       " '_25': float,\n",
       " '_i26': 'type(b)',\n",
       " '_26': float,\n",
       " '_i27': 'type(c)',\n",
       " '_27': complex,\n",
       " '_i28': 'c.real',\n",
       " '_28': 3.0,\n",
       " '_i29': 'c.imag',\n",
       " '_29': 4.0,\n",
       " '_i30': 'id(a)',\n",
       " '_30': 140708306199216,\n",
       " '_i31': 'id(b)',\n",
       " '_31': 2118451790288,\n",
       " '_i32': 'id(c)',\n",
       " '_32': 2118451792016,\n",
       " '_i33': 'a = 10',\n",
       " '_i34': 'd = 10',\n",
       " 'd': 987654321,\n",
       " '_i35': 'id(a)',\n",
       " '_35': 140708306199216,\n",
       " '_i36': 'id(d)',\n",
       " '_36': 140708306199216,\n",
       " '_i37': 'a = 256\\nb = 256\\nid(a)',\n",
       " '_37': 140708306207088,\n",
       " '_i38': 'id(b)',\n",
       " '_38': 140708306207088,\n",
       " '_i39': 'a = 257\\nb = 257\\nid(a)',\n",
       " '_39': 2118485276720,\n",
       " '_i40': 'a',\n",
       " '_40': 257,\n",
       " '_i41': 'b',\n",
       " '_41': 257,\n",
       " '_i42': 'id(b)',\n",
       " '_42': 2118485276816,\n",
       " '_i43': '2**8',\n",
       " '_43': 256,\n",
       " '_i44': 'a = 987654321\\nd = 987654321',\n",
       " '_i45': 'id(a)',\n",
       " '_45': 2118485277360,\n",
       " '_i46': 'id(d)',\n",
       " '_46': 2118485277456,\n",
       " '_i47': 's1 = \\'single quotes\\'\\ns2 = \"double quotes\"\\ns3 = \"\"\"triple quotes\"\"\"',\n",
       " 's1': 'single quotes',\n",
       " 's2': 'double quotes',\n",
       " 's3': 'triple quotes',\n",
       " '_i48': 's1',\n",
       " '_48': 'single quotes',\n",
       " '_i49': 's2',\n",
       " '_49': 'double quotes',\n",
       " '_i50': 's3',\n",
       " '_50': 'triple quotes',\n",
       " '_i51': 'type(s1)',\n",
       " '_51': str,\n",
       " '_i52': 'type(s2)',\n",
       " '_52': str,\n",
       " '_i53': 'type(s3)',\n",
       " '_53': str,\n",
       " '_i54': 'type(\"a\")',\n",
       " '_54': str,\n",
       " '_i55': 's1',\n",
       " '_55': 'single quotes',\n",
       " '_i56': 's1[0]',\n",
       " '_56': 's',\n",
       " '_i57': 's1[1]',\n",
       " '_57': 'i',\n",
       " '_i58': 's1[2]',\n",
       " '_58': 'n',\n",
       " '_i59': 's1[3]',\n",
       " '_59': 'g',\n",
       " '_i60': 's1[3] = \"h\"',\n",
       " '_i61': 's = \"sinhle quotes\"',\n",
       " 's': 'hi\\nhello\\nhow are you??\\nare you doing good???',\n",
       " '_i62': 's = \"Hello\\nhi\\nhow are you??\\nare you going good??\"',\n",
       " '_i63': 's = \"\"\"hi\\nhello\\nhow are you??\\nare you doing good???\"\"\"',\n",
       " '_i64': 's',\n",
       " '_64': 'hi\\nhello\\nhow are you??\\nare you doing good???',\n",
       " '_i65': 'print(s)',\n",
       " '_i66': 'a = input()',\n",
       " '_i67': 'a',\n",
       " '_67': 'simran',\n",
       " '_i68': 'name = input(\"Enter your name : \")',\n",
       " 'name': 'simran',\n",
       " '_i69': 'name',\n",
       " '_69': 'simran',\n",
       " '_i70': 'print(\\\\n)',\n",
       " '_i71': 'print(\"hello world\\\\nhi\")',\n",
       " '_i72': \"print('hello world hi')\",\n",
       " '_i73': 'print(\"hello world\\\\tBye world\")',\n",
       " '_i74': 'print(\"Welcome to my home!!!\\\\nWe are pleasured to have you\\\\nHave a great time!!!\")',\n",
       " '_i75': '\"hello\" + \"world\"',\n",
       " '_75': 'helloworld',\n",
       " '_i76': '\"hello\" + \" \" + \"world\"',\n",
       " '_76': 'hello world',\n",
       " '_i77': '\"hi\" + \"\\\\t\" + \"how\" + \"\\\\t\" + \"are\" + \"\\\\t\" + \"you???\" ',\n",
       " '_77': 'hi\\thow\\tare\\tyou???',\n",
       " '_i78': 'print(\"hi\" + \"\\\\t\" + \"how\" + \"\\\\t\" + \"are\" + \"\\\\t\" + \"you???\")',\n",
       " '_i79': 'print(\"hello world\" + \"\\\\n\" + \"Welcome to my world\")',\n",
       " '_i80': '\"hello\" + 12',\n",
       " '_i81': '\"hello\" + \"12\"',\n",
       " '_81': 'hello12',\n",
       " '_i82': '\"1\" + \"1\"',\n",
       " '_82': '11',\n",
       " '_i83': '\"hello\"*10',\n",
       " '_83': 'hellohellohellohellohellohellohellohellohellohello',\n",
       " '_i84': '\"*\"*80',\n",
       " '_84': '********************************************************************************',\n",
       " '_i85': '\"##\"*40',\n",
       " '_85': '################################################################################',\n",
       " '_i86': '__*90',\n",
       " '_86': '************************************************************************************************************************************************************************************************************************************************************************************************************************************************************************************************************************************************************************************************************************************************************************************************************************************************************************************************************************************************************************************************************************************************************************************************************************************************************************************************************************************************************************************************************************************************************************************************************************************************************************************************************************************************************************************************************************************************************************************************************************************************************************************************************************************************************************************************************************************************************************************************************************************************************************************************************************************************************************************************************************************************************************************************************************************************************************************************************************************************************************************************************************************************************************************************************************************************************************************************************************************************************************************************************************************************************************************************************************************************************************************************************************************************************************************************************************************************************************************************************************************************************************************************************************************************************************************************************************************************************************************************************************************************************************************************************************************************************************************************************************************************************************************************************************************************************************************************************************************************************************************************************************************************************************************************************************************************************************************************************************************************************************************************************************************************************************************************************************************************************************************************************************************************************************************************************************************************************************************************************************************************************************************************************************************************************************************************************************************************************************************************************************************************************************************************************************************************************************************************************************************************************************************************************************************************************************************************************************************************************************************************************************************************************************************************************************************************************************************************************************************************************************************************************************************************************************************************************************************************************************************************************************************************************************************************************************************************************************************************************************************************************************************************************************************************************************************************************************************************************************************************************************************************************************************************************************************************************************************************************************************************************************************************************************************************************************************************************************************************************************************************************************************************************************************************************************************************************************************************************************************************************************************************************************************************************************************************************************************************************************************************************************************************************************************************************************************************************************************************',\n",
       " '_i87': '__*90',\n",
       " '_87': '################################################################################################################################################################################################################################################################################################################################################################################################################################################################################################################################################################################################################################################################################################################################################################################################################################################################################################################################################################################################################################################################################################################################################################################################################################################################################################################################################################################################################################################################################################################################################################################################################################################################################################################################################################################################################################################################################################################################################################################################################################################################################################################################################################################################################################################################################################################################################################################################################################################################################################################################################################################################################################################################################################################################################################################################################################################################################################################################################################################################################################################################################################################################################################################################################################################################################################################################################################################################################################################################################################################################################################################################################################################################################################################################################################################################################################################################################################################################################################################################################################################################################################################################################################################################################################################################################################################################################################################################################################################################################################################################################################################################################################################################################################################################################################################################################################################################################################################################################################################################################################################################################################################################################################################################################################################################################################################################################################################################################################################################################################################################################################################################################################################################################################################################################################################################################################################################################################################################################################################################################################################################################################################################################################################################################################################################################################################################################################################################################################################################################################################################################################################################################################################################################################################################################################################################################################################################################################################################################################################################################################################################################################################################################################################################################################################################################################################################################################################################################################################################################################',\n",
       " '_i88': '#*90',\n",
       " '_i89': 'vars',\n",
       " '_89': <function vars>,\n",
       " '_i90': 'vars()'}"
      ]
     },
     "execution_count": 90,
     "metadata": {},
     "output_type": "execute_result"
    }
   ],
   "source": [
    "vars()"
   ]
  },
  {
   "cell_type": "code",
   "execution_count": 91,
   "metadata": {},
   "outputs": [
    {
     "ename": "SyntaxError",
     "evalue": "invalid syntax (<ipython-input-91-f19eb1938af9>, line 1)",
     "output_type": "error",
     "traceback": [
      "\u001b[1;36m  File \u001b[1;32m\"<ipython-input-91-f19eb1938af9>\"\u001b[1;36m, line \u001b[1;32m1\u001b[0m\n\u001b[1;33m    @*80\u001b[0m\n\u001b[1;37m     ^\u001b[0m\n\u001b[1;31mSyntaxError\u001b[0m\u001b[1;31m:\u001b[0m invalid syntax\n"
     ]
    }
   ],
   "source": [
    "@*80"
   ]
  },
  {
   "cell_type": "code",
   "execution_count": 92,
   "metadata": {},
   "outputs": [
    {
     "data": {
      "text/plain": [
       "'@@@@@@@@@@@@@@@@@@@@@@@@@@@@@@@@@@@@@@@@@@@@@@@@@@@@@@@@@@@@@@@@@@@@@@@@@@@@@@@@'"
      ]
     },
     "execution_count": 92,
     "metadata": {},
     "output_type": "execute_result"
    }
   ],
   "source": [
    "\"@\"*80"
   ]
  },
  {
   "cell_type": "code",
   "execution_count": 93,
   "metadata": {},
   "outputs": [
    {
     "ename": "NameError",
     "evalue": "name 'h' is not defined",
     "output_type": "error",
     "traceback": [
      "\u001b[1;31m---------------------------------------------------------------------------\u001b[0m",
      "\u001b[1;31mNameError\u001b[0m                                 Traceback (most recent call last)",
      "\u001b[1;32m<ipython-input-93-1102f18182e1>\u001b[0m in \u001b[0;36m<module>\u001b[1;34m\u001b[0m\n\u001b[1;32m----> 1\u001b[1;33m \u001b[0mh\u001b[0m\u001b[1;33m*\u001b[0m\u001b[1;36m80\u001b[0m\u001b[1;33m\u001b[0m\u001b[1;33m\u001b[0m\u001b[0m\n\u001b[0m",
      "\u001b[1;31mNameError\u001b[0m: name 'h' is not defined"
     ]
    }
   ],
   "source": [
    "h*80"
   ]
  },
  {
   "cell_type": "code",
   "execution_count": 94,
   "metadata": {},
   "outputs": [],
   "source": [
    "h = 23"
   ]
  },
  {
   "cell_type": "code",
   "execution_count": 95,
   "metadata": {},
   "outputs": [
    {
     "data": {
      "text/plain": [
       "1840"
      ]
     },
     "execution_count": 95,
     "metadata": {},
     "output_type": "execute_result"
    }
   ],
   "source": [
    "h*80"
   ]
  },
  {
   "cell_type": "code",
   "execution_count": 96,
   "metadata": {},
   "outputs": [],
   "source": [
    "h = \"simran\""
   ]
  },
  {
   "cell_type": "code",
   "execution_count": 97,
   "metadata": {},
   "outputs": [
    {
     "data": {
      "text/plain": [
       "'simransimransimransimransimransimransimransimransimransimransimransimransimransimransimransimransimransimransimransimransimransimransimransimransimransimransimransimransimransimransimransimransimransimransimransimransimransimransimransimransimransimransimransimransimransimransimransimransimransimransimransimransimransimransimransimransimransimransimransimransimransimransimransimransimransimransimransimransimransimransimransimransimransimransimransimransimransimransimransimran'"
      ]
     },
     "execution_count": 97,
     "metadata": {},
     "output_type": "execute_result"
    }
   ],
   "source": [
    "h*80"
   ]
  },
  {
   "cell_type": "code",
   "execution_count": 4,
   "metadata": {},
   "outputs": [],
   "source": [
    "s = \"simran\"\n",
    "#    012345"
   ]
  },
  {
   "cell_type": "code",
   "execution_count": 99,
   "metadata": {},
   "outputs": [
    {
     "data": {
      "text/plain": [
       "'s'"
      ]
     },
     "execution_count": 99,
     "metadata": {},
     "output_type": "execute_result"
    }
   ],
   "source": [
    "s[0]"
   ]
  },
  {
   "cell_type": "code",
   "execution_count": 100,
   "metadata": {},
   "outputs": [
    {
     "data": {
      "text/plain": [
       "'i'"
      ]
     },
     "execution_count": 100,
     "metadata": {},
     "output_type": "execute_result"
    }
   ],
   "source": [
    "s[1]"
   ]
  },
  {
   "cell_type": "code",
   "execution_count": 101,
   "metadata": {},
   "outputs": [
    {
     "data": {
      "text/plain": [
       "'m'"
      ]
     },
     "execution_count": 101,
     "metadata": {},
     "output_type": "execute_result"
    }
   ],
   "source": [
    "s[2]"
   ]
  },
  {
   "cell_type": "code",
   "execution_count": 103,
   "metadata": {},
   "outputs": [
    {
     "data": {
      "text/plain": [
       "'n'"
      ]
     },
     "execution_count": 103,
     "metadata": {},
     "output_type": "execute_result"
    }
   ],
   "source": [
    "s[5]"
   ]
  },
  {
   "cell_type": "code",
   "execution_count": 104,
   "metadata": {},
   "outputs": [
    {
     "name": "stdout",
     "output_type": "stream",
     "text": [
      "ojojoe\n",
      "upihiip\n"
     ]
    }
   ],
   "source": [
    "a = input()\n",
    "b = input()"
   ]
  },
  {
   "cell_type": "code",
   "execution_count": 105,
   "metadata": {},
   "outputs": [
    {
     "data": {
      "text/plain": [
       "'ojojoe'"
      ]
     },
     "execution_count": 105,
     "metadata": {},
     "output_type": "execute_result"
    }
   ],
   "source": [
    "a"
   ]
  },
  {
   "cell_type": "code",
   "execution_count": 106,
   "metadata": {},
   "outputs": [
    {
     "data": {
      "text/plain": [
       "'upihiip'"
      ]
     },
     "execution_count": 106,
     "metadata": {},
     "output_type": "execute_result"
    }
   ],
   "source": [
    "b"
   ]
  },
  {
   "cell_type": "code",
   "execution_count": null,
   "metadata": {},
   "outputs": [],
   "source": [
    "a = input()\n",
    "b = input()\n",
    "print(a,b)"
   ]
  },
  {
   "cell_type": "code",
   "execution_count": 1,
   "metadata": {},
   "outputs": [
    {
     "ename": "NameError",
     "evalue": "name 'a' is not defined",
     "output_type": "error",
     "traceback": [
      "\u001b[1;31m---------------------------------------------------------------------------\u001b[0m",
      "\u001b[1;31mNameError\u001b[0m                                 Traceback (most recent call last)",
      "\u001b[1;32m<ipython-input-1-3f786850e387>\u001b[0m in \u001b[0;36m<module>\u001b[1;34m\u001b[0m\n\u001b[1;32m----> 1\u001b[1;33m \u001b[0ma\u001b[0m\u001b[1;33m\u001b[0m\u001b[1;33m\u001b[0m\u001b[0m\n\u001b[0m",
      "\u001b[1;31mNameError\u001b[0m: name 'a' is not defined"
     ]
    }
   ],
   "source": [
    "a"
   ]
  },
  {
   "cell_type": "code",
   "execution_count": 2,
   "metadata": {},
   "outputs": [
    {
     "ename": "NameError",
     "evalue": "name 'b' is not defined",
     "output_type": "error",
     "traceback": [
      "\u001b[1;31m---------------------------------------------------------------------------\u001b[0m",
      "\u001b[1;31mNameError\u001b[0m                                 Traceback (most recent call last)",
      "\u001b[1;32m<ipython-input-2-89e6c98d9288>\u001b[0m in \u001b[0;36m<module>\u001b[1;34m\u001b[0m\n\u001b[1;32m----> 1\u001b[1;33m \u001b[0mb\u001b[0m\u001b[1;33m\u001b[0m\u001b[1;33m\u001b[0m\u001b[0m\n\u001b[0m",
      "\u001b[1;31mNameError\u001b[0m: name 'b' is not defined"
     ]
    }
   ],
   "source": [
    "b"
   ]
  },
  {
   "cell_type": "code",
   "execution_count": 3,
   "metadata": {},
   "outputs": [
    {
     "ename": "NameError",
     "evalue": "name 's' is not defined",
     "output_type": "error",
     "traceback": [
      "\u001b[1;31m---------------------------------------------------------------------------\u001b[0m",
      "\u001b[1;31mNameError\u001b[0m                                 Traceback (most recent call last)",
      "\u001b[1;32m<ipython-input-3-ded5ba42480f>\u001b[0m in \u001b[0;36m<module>\u001b[1;34m\u001b[0m\n\u001b[1;32m----> 1\u001b[1;33m \u001b[0ms\u001b[0m\u001b[1;33m\u001b[0m\u001b[1;33m\u001b[0m\u001b[0m\n\u001b[0m",
      "\u001b[1;31mNameError\u001b[0m: name 's' is not defined"
     ]
    }
   ],
   "source": [
    "s"
   ]
  },
  {
   "cell_type": "code",
   "execution_count": 5,
   "metadata": {},
   "outputs": [
    {
     "data": {
      "text/plain": [
       "'simran'"
      ]
     },
     "execution_count": 5,
     "metadata": {},
     "output_type": "execute_result"
    }
   ],
   "source": [
    "s"
   ]
  },
  {
   "cell_type": "markdown",
   "metadata": {},
   "source": [
    "        Whenever you restart the kernel the kernel will remove all the variables defined at current time\n",
    "        and if you want to use it again you have to define it again"
   ]
  },
  {
   "cell_type": "markdown",
   "metadata": {},
   "source": [
    "#### Slicing\n",
    "     \n",
    "     Dividing the strings or data into pieces\n",
    "     \n",
    "     string_object[start:stop:step]\n",
    "     \n",
    "     by default step = 1, start = 0, stop = till end\n",
    "     \n",
    "     step is added always"
   ]
  },
  {
   "cell_type": "code",
   "execution_count": 6,
   "metadata": {},
   "outputs": [],
   "source": [
    "s = \"hello world\""
   ]
  },
  {
   "cell_type": "markdown",
   "metadata": {},
   "source": [
    "                 -11-10-9-8-7-6-5-4-3-2-1 (-ve indexing)\n",
    "                    h e l l o  w o r l d\n",
    "                    0 1 2 3 4 5 6 7 8 9 10 (+ve indexing)"
   ]
  },
  {
   "cell_type": "code",
   "execution_count": 7,
   "metadata": {},
   "outputs": [
    {
     "data": {
      "text/plain": [
       "'hello world'"
      ]
     },
     "execution_count": 7,
     "metadata": {},
     "output_type": "execute_result"
    }
   ],
   "source": [
    "s[::]\n",
    "#default step = 1, start = 0, stop = end\n",
    "#0 --> h\n",
    "#0 + 1 = 1 --> e\n",
    "#1 + 1 = 2 --> l\n",
    "#2 + 1 = 3 --> l\n",
    "#3 + 1 = 4 --> o\n",
    "#4 + 1 = 5 --> space\n",
    "#5 + 1 = 6 --> w\n",
    "#6 + 1 = 7 --> o\n",
    "#7 + 1 = 8 --> r\n",
    "#8 + 1 = 9 --> l\n",
    "#9 + 1 = 10 --> d"
   ]
  },
  {
   "cell_type": "code",
   "execution_count": 8,
   "metadata": {},
   "outputs": [
    {
     "data": {
      "text/plain": [
       "'o world'"
      ]
     },
     "execution_count": 8,
     "metadata": {},
     "output_type": "execute_result"
    }
   ],
   "source": [
    "s[4::]\n",
    "#4,4+1=5,5+1=6,6+1=7,7+1=8,8+1=9,9+1=10"
   ]
  },
  {
   "cell_type": "code",
   "execution_count": 9,
   "metadata": {},
   "outputs": [
    {
     "data": {
      "text/plain": [
       "'hlowrd'"
      ]
     },
     "execution_count": 9,
     "metadata": {},
     "output_type": "execute_result"
    }
   ],
   "source": [
    "s[::2]\n",
    "#step = 2, start = 0, stop = end\n",
    "#0 = h\n",
    "# 0 + 2 = 2 --> l\n",
    "# 2 + 2 = 4 --> o\n",
    "# 4 + 2 = 6 --> w\n",
    "# 6 + 2 = 8 --> r\n",
    "# 8 + 2 = 10 --> d"
   ]
  },
  {
   "cell_type": "code",
   "execution_count": null,
   "metadata": {},
   "outputs": [],
   "source": []
  }
 ],
 "metadata": {
  "kernelspec": {
   "display_name": "Python 3",
   "language": "python",
   "name": "python3"
  },
  "language_info": {
   "codemirror_mode": {
    "name": "ipython",
    "version": 3
   },
   "file_extension": ".py",
   "mimetype": "text/x-python",
   "name": "python",
   "nbconvert_exporter": "python",
   "pygments_lexer": "ipython3",
   "version": "3.7.4"
  }
 },
 "nbformat": 4,
 "nbformat_minor": 2
}
