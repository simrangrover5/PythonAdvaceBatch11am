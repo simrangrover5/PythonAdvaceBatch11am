{
 "cells": [
  {
   "cell_type": "markdown",
   "metadata": {},
   "source": [
    "    Exception Handling\n",
    "    \n",
    "    Error --> Which makes your program stop\n",
    "    If a statement involves error then the whole program will be stop and it will not read the statements\n",
    "    after that statement\n",
    "    \n",
    "    Error Are of 2 Types:\n",
    "    1. Logical Errors / Syntax Error\n",
    "    2. Exceptions (Are the errors which can be handled)\n",
    "        So that the program does not stop"
   ]
  },
  {
   "cell_type": "code",
   "execution_count": 1,
   "metadata": {},
   "outputs": [
    {
     "ename": "NameError",
     "evalue": "name 's' is not defined",
     "output_type": "error",
     "traceback": [
      "\u001b[1;31m---------------------------------------------------------------------------\u001b[0m",
      "\u001b[1;31mNameError\u001b[0m                                 Traceback (most recent call last)",
      "\u001b[1;32m<ipython-input-1-ce0d0fd5f89b>\u001b[0m in \u001b[0;36m<module>\u001b[1;34m\u001b[0m\n\u001b[1;32m----> 1\u001b[1;33m \u001b[0ms\u001b[0m \u001b[1;33m+=\u001b[0m \u001b[1;36m10\u001b[0m\u001b[1;33m\u001b[0m\u001b[1;33m\u001b[0m\u001b[0m\n\u001b[0m",
      "\u001b[1;31mNameError\u001b[0m: name 's' is not defined"
     ]
    }
   ],
   "source": [
    "s += 10  #This is exception"
   ]
  },
  {
   "cell_type": "code",
   "execution_count": 2,
   "metadata": {},
   "outputs": [
    {
     "ename": "SyntaxError",
     "evalue": "invalid syntax (<ipython-input-2-9d3319983efe>, line 1)",
     "output_type": "error",
     "traceback": [
      "\u001b[1;36m  File \u001b[1;32m\"<ipython-input-2-9d3319983efe>\"\u001b[1;36m, line \u001b[1;32m1\u001b[0m\n\u001b[1;33m    while :\u001b[0m\n\u001b[1;37m          ^\u001b[0m\n\u001b[1;31mSyntaxError\u001b[0m\u001b[1;31m:\u001b[0m invalid syntax\n"
     ]
    }
   ],
   "source": [
    "while :\n",
    "    print(\"hello world\")"
   ]
  },
  {
   "cell_type": "code",
   "execution_count": 4,
   "metadata": {},
   "outputs": [
    {
     "name": "stdout",
     "output_type": "stream",
     "text": [
      "pojfpije\n"
     ]
    },
    {
     "ename": "ValueError",
     "evalue": "invalid literal for int() with base 10: 'pojfpije'",
     "output_type": "error",
     "traceback": [
      "\u001b[1;31m---------------------------------------------------------------------------\u001b[0m",
      "\u001b[1;31mValueError\u001b[0m                                Traceback (most recent call last)",
      "\u001b[1;32m<ipython-input-4-2ad52a4b3ef5>\u001b[0m in \u001b[0;36m<module>\u001b[1;34m\u001b[0m\n\u001b[1;32m----> 1\u001b[1;33m \u001b[0mint\u001b[0m\u001b[1;33m(\u001b[0m\u001b[0minput\u001b[0m\u001b[1;33m(\u001b[0m\u001b[1;33m)\u001b[0m\u001b[1;33m)\u001b[0m\u001b[1;33m\u001b[0m\u001b[1;33m\u001b[0m\u001b[0m\n\u001b[0m",
      "\u001b[1;31mValueError\u001b[0m: invalid literal for int() with base 10: 'pojfpije'"
     ]
    }
   ],
   "source": [
    "int(input())"
   ]
  },
  {
   "cell_type": "code",
   "execution_count": 5,
   "metadata": {},
   "outputs": [
    {
     "ename": "TypeError",
     "evalue": "can only concatenate str (not \"int\") to str",
     "output_type": "error",
     "traceback": [
      "\u001b[1;31m---------------------------------------------------------------------------\u001b[0m",
      "\u001b[1;31mTypeError\u001b[0m                                 Traceback (most recent call last)",
      "\u001b[1;32m<ipython-input-5-4554db3f682c>\u001b[0m in \u001b[0;36m<module>\u001b[1;34m\u001b[0m\n\u001b[1;32m----> 1\u001b[1;33m \u001b[1;34m\"a\"\u001b[0m \u001b[1;33m+\u001b[0m \u001b[1;36m12\u001b[0m\u001b[1;33m\u001b[0m\u001b[1;33m\u001b[0m\u001b[0m\n\u001b[0m",
      "\u001b[1;31mTypeError\u001b[0m: can only concatenate str (not \"int\") to str"
     ]
    }
   ],
   "source": [
    "\"a\" + 12"
   ]
  },
  {
   "cell_type": "code",
   "execution_count": 6,
   "metadata": {},
   "outputs": [
    {
     "ename": "FileNotFoundError",
     "evalue": "[Errno 2] No such file or directory: 'pihiepije'",
     "output_type": "error",
     "traceback": [
      "\u001b[1;31m---------------------------------------------------------------------------\u001b[0m",
      "\u001b[1;31mFileNotFoundError\u001b[0m                         Traceback (most recent call last)",
      "\u001b[1;32m<ipython-input-6-70267256d7bc>\u001b[0m in \u001b[0;36m<module>\u001b[1;34m\u001b[0m\n\u001b[1;32m----> 1\u001b[1;33m \u001b[0mf\u001b[0m \u001b[1;33m=\u001b[0m \u001b[0mopen\u001b[0m\u001b[1;33m(\u001b[0m\u001b[1;34m\"pihiepije\"\u001b[0m\u001b[1;33m)\u001b[0m\u001b[1;33m\u001b[0m\u001b[1;33m\u001b[0m\u001b[0m\n\u001b[0m",
      "\u001b[1;31mFileNotFoundError\u001b[0m: [Errno 2] No such file or directory: 'pihiepije'"
     ]
    }
   ],
   "source": [
    "f = open(\"pihiepije\")"
   ]
  },
  {
   "cell_type": "code",
   "execution_count": 7,
   "metadata": {},
   "outputs": [
    {
     "ename": "ModuleNotFoundError",
     "evalue": "No module named 'pihpipj'",
     "output_type": "error",
     "traceback": [
      "\u001b[1;31m---------------------------------------------------------------------------\u001b[0m",
      "\u001b[1;31mModuleNotFoundError\u001b[0m                       Traceback (most recent call last)",
      "\u001b[1;32m<ipython-input-7-e0e145300ae1>\u001b[0m in \u001b[0;36m<module>\u001b[1;34m\u001b[0m\n\u001b[1;32m----> 1\u001b[1;33m \u001b[1;32mimport\u001b[0m \u001b[0mpihpipj\u001b[0m\u001b[1;33m\u001b[0m\u001b[1;33m\u001b[0m\u001b[0m\n\u001b[0m",
      "\u001b[1;31mModuleNotFoundError\u001b[0m: No module named 'pihpipj'"
     ]
    }
   ],
   "source": [
    "import pihpipj"
   ]
  },
  {
   "cell_type": "markdown",
   "metadata": {},
   "source": [
    "    try:\n",
    "        s1\n",
    "        s2\n",
    "        (These are the statements which will be handled if error will occur)\n",
    "    except:\n",
    "        s1\n",
    "        s2\n",
    "        (Statements which you want to execute if there will be error)"
   ]
  },
  {
   "cell_type": "code",
   "execution_count": 8,
   "metadata": {},
   "outputs": [
    {
     "name": "stdout",
     "output_type": "stream",
     "text": [
      "\n",
      " There is an error\n"
     ]
    }
   ],
   "source": [
    "try:\n",
    "    s += 10\n",
    "except:\n",
    "    print(\"\\n There is an error\")"
   ]
  },
  {
   "cell_type": "code",
   "execution_count": 9,
   "metadata": {},
   "outputs": [
    {
     "name": "stdout",
     "output_type": "stream",
     "text": [
      "\n",
      " There is an error\n"
     ]
    },
    {
     "ename": "NameError",
     "evalue": "name 's' is not defined",
     "output_type": "error",
     "traceback": [
      "\u001b[1;31m---------------------------------------------------------------------------\u001b[0m",
      "\u001b[1;31mNameError\u001b[0m                                 Traceback (most recent call last)",
      "\u001b[1;32m<ipython-input-9-1d867a8006b5>\u001b[0m in \u001b[0;36m<module>\u001b[1;34m\u001b[0m\n\u001b[0;32m      3\u001b[0m \u001b[1;32mexcept\u001b[0m\u001b[1;33m:\u001b[0m\u001b[1;33m\u001b[0m\u001b[1;33m\u001b[0m\u001b[0m\n\u001b[0;32m      4\u001b[0m     \u001b[0mprint\u001b[0m\u001b[1;33m(\u001b[0m\u001b[1;34m\"\\n There is an error\"\u001b[0m\u001b[1;33m)\u001b[0m\u001b[1;33m\u001b[0m\u001b[1;33m\u001b[0m\u001b[0m\n\u001b[1;32m----> 5\u001b[1;33m \u001b[0ms\u001b[0m \u001b[1;33m+=\u001b[0m \u001b[1;36m10\u001b[0m\u001b[1;33m\u001b[0m\u001b[1;33m\u001b[0m\u001b[0m\n\u001b[0m",
      "\u001b[1;31mNameError\u001b[0m: name 's' is not defined"
     ]
    }
   ],
   "source": [
    "try:\n",
    "    s += 10\n",
    "except:\n",
    "    print(\"\\n There is an error\")\n",
    "s += 10"
   ]
  },
  {
   "cell_type": "code",
   "execution_count": 10,
   "metadata": {},
   "outputs": [
    {
     "name": "stdout",
     "output_type": "stream",
     "text": [
      "\n",
      " There is an error\n",
      "Hello world\n"
     ]
    },
    {
     "ename": "NameError",
     "evalue": "name 's' is not defined",
     "output_type": "error",
     "traceback": [
      "\u001b[1;31m---------------------------------------------------------------------------\u001b[0m",
      "\u001b[1;31mNameError\u001b[0m                                 Traceback (most recent call last)",
      "\u001b[1;32m<ipython-input-10-7dd3433a4c6a>\u001b[0m in \u001b[0;36m<module>\u001b[1;34m\u001b[0m\n\u001b[0;32m      4\u001b[0m     \u001b[0mprint\u001b[0m\u001b[1;33m(\u001b[0m\u001b[1;34m\"\\n There is an error\"\u001b[0m\u001b[1;33m)\u001b[0m\u001b[1;33m\u001b[0m\u001b[1;33m\u001b[0m\u001b[0m\n\u001b[0;32m      5\u001b[0m \u001b[0mprint\u001b[0m\u001b[1;33m(\u001b[0m\u001b[1;34m\"Hello world\"\u001b[0m\u001b[1;33m)\u001b[0m\u001b[1;33m\u001b[0m\u001b[1;33m\u001b[0m\u001b[0m\n\u001b[1;32m----> 6\u001b[1;33m \u001b[0ms\u001b[0m \u001b[1;33m+=\u001b[0m \u001b[1;36m10\u001b[0m\u001b[1;33m\u001b[0m\u001b[1;33m\u001b[0m\u001b[0m\n\u001b[0m\u001b[0;32m      7\u001b[0m \u001b[0mprint\u001b[0m\u001b[1;33m(\u001b[0m\u001b[1;34m\"Bye world\"\u001b[0m\u001b[1;33m)\u001b[0m\u001b[1;33m\u001b[0m\u001b[1;33m\u001b[0m\u001b[0m\n",
      "\u001b[1;31mNameError\u001b[0m: name 's' is not defined"
     ]
    }
   ],
   "source": [
    "try:\n",
    "    s += 10\n",
    "except:\n",
    "    print(\"\\n There is an error\")\n",
    "print(\"Hello world\")\n",
    "s += 10\n",
    "print(\"Bye world\")"
   ]
  },
  {
   "cell_type": "code",
   "execution_count": 13,
   "metadata": {},
   "outputs": [
    {
     "name": "stdout",
     "output_type": "stream",
     "text": [
      "\n",
      " Enter something : 12\n",
      "\n",
      " Enter something : pijpo\n",
      "\n",
      " You have an error\n"
     ]
    }
   ],
   "source": [
    "try:\n",
    "    x = int(input(\"\\n Enter something : \"))\n",
    "    y = int(input(\"\\n Enter something : \"))\n",
    "except:\n",
    "    print(\"\\n You have an error\")\n"
   ]
  },
  {
   "cell_type": "code",
   "execution_count": 15,
   "metadata": {},
   "outputs": [
    {
     "name": "stdout",
     "output_type": "stream",
     "text": [
      "\n",
      " Enter something : 12\n",
      "\n",
      " Enter something : oei\n",
      "\n",
      " You have an error....\n"
     ]
    }
   ],
   "source": [
    "try:\n",
    "    x = int(input(\"\\n Enter something : \"))\n",
    "    y = int(input(\"\\n Enter something : \"))\n",
    "except ValueError:\n",
    "    print(\"\\n You have an error....\")"
   ]
  },
  {
   "cell_type": "code",
   "execution_count": 16,
   "metadata": {},
   "outputs": [
    {
     "ename": "ZeroDivisionError",
     "evalue": "division by zero",
     "output_type": "error",
     "traceback": [
      "\u001b[1;31m---------------------------------------------------------------------------\u001b[0m",
      "\u001b[1;31mZeroDivisionError\u001b[0m                         Traceback (most recent call last)",
      "\u001b[1;32m<ipython-input-16-898e9759c56e>\u001b[0m in \u001b[0;36m<module>\u001b[1;34m\u001b[0m\n\u001b[1;32m----> 1\u001b[1;33m \u001b[1;36m12\u001b[0m\u001b[1;33m/\u001b[0m\u001b[1;36m0\u001b[0m\u001b[1;33m\u001b[0m\u001b[1;33m\u001b[0m\u001b[0m\n\u001b[0m",
      "\u001b[1;31mZeroDivisionError\u001b[0m: division by zero"
     ]
    }
   ],
   "source": [
    "12/0"
   ]
  },
  {
   "cell_type": "code",
   "execution_count": 18,
   "metadata": {},
   "outputs": [
    {
     "name": "stdout",
     "output_type": "stream",
     "text": [
      "\n",
      " Enter something : 12\n",
      "\n",
      " Enter something : 0\n"
     ]
    },
    {
     "ename": "ZeroDivisionError",
     "evalue": "division by zero",
     "output_type": "error",
     "traceback": [
      "\u001b[1;31m---------------------------------------------------------------------------\u001b[0m",
      "\u001b[1;31mZeroDivisionError\u001b[0m                         Traceback (most recent call last)",
      "\u001b[1;32m<ipython-input-18-6f50e5388e34>\u001b[0m in \u001b[0;36m<module>\u001b[1;34m\u001b[0m\n\u001b[0;32m      2\u001b[0m     \u001b[0mx\u001b[0m \u001b[1;33m=\u001b[0m \u001b[0mint\u001b[0m\u001b[1;33m(\u001b[0m\u001b[0minput\u001b[0m\u001b[1;33m(\u001b[0m\u001b[1;34m\"\\n Enter something : \"\u001b[0m\u001b[1;33m)\u001b[0m\u001b[1;33m)\u001b[0m\u001b[1;33m\u001b[0m\u001b[1;33m\u001b[0m\u001b[0m\n\u001b[0;32m      3\u001b[0m     \u001b[0my\u001b[0m \u001b[1;33m=\u001b[0m \u001b[0mint\u001b[0m\u001b[1;33m(\u001b[0m\u001b[0minput\u001b[0m\u001b[1;33m(\u001b[0m\u001b[1;34m\"\\n Enter something : \"\u001b[0m\u001b[1;33m)\u001b[0m\u001b[1;33m)\u001b[0m\u001b[1;33m\u001b[0m\u001b[1;33m\u001b[0m\u001b[0m\n\u001b[1;32m----> 4\u001b[1;33m     \u001b[0mprint\u001b[0m\u001b[1;33m(\u001b[0m\u001b[0mx\u001b[0m\u001b[1;33m/\u001b[0m\u001b[0my\u001b[0m\u001b[1;33m)\u001b[0m\u001b[1;33m\u001b[0m\u001b[1;33m\u001b[0m\u001b[0m\n\u001b[0m\u001b[0;32m      5\u001b[0m \u001b[1;32mexcept\u001b[0m \u001b[0mValueError\u001b[0m\u001b[1;33m:\u001b[0m\u001b[1;33m\u001b[0m\u001b[1;33m\u001b[0m\u001b[0m\n\u001b[0;32m      6\u001b[0m     \u001b[0mprint\u001b[0m\u001b[1;33m(\u001b[0m\u001b[1;34m\"\\n You have an error....\"\u001b[0m\u001b[1;33m)\u001b[0m\u001b[1;33m\u001b[0m\u001b[1;33m\u001b[0m\u001b[0m\n",
      "\u001b[1;31mZeroDivisionError\u001b[0m: division by zero"
     ]
    }
   ],
   "source": [
    "try:\n",
    "    x = int(input(\"\\n Enter something : \"))\n",
    "    y = int(input(\"\\n Enter something : \"))\n",
    "    print(x/y)\n",
    "except ValueError:\n",
    "    print(\"\\n You have an error....\")"
   ]
  },
  {
   "cell_type": "code",
   "execution_count": 19,
   "metadata": {},
   "outputs": [
    {
     "name": "stdout",
     "output_type": "stream",
     "text": [
      "\n",
      " Enter something : ouhpo\n",
      "\n",
      " Enter Non decimal number please\n",
      "\n",
      " Enter something : 12\n",
      "\n",
      " Enter something : pir\n",
      "\n",
      " Enter Non decimal number please\n",
      "\n",
      " Enter something : 12\n",
      "\n",
      " Enter something : 0\n",
      "\n",
      " Number is not divided by zero\n",
      "\n",
      " Enter something : 12\n",
      "\n",
      " Enter something : 45\n",
      "0.26666666666666666\n"
     ]
    }
   ],
   "source": [
    "while True:\n",
    "    try:\n",
    "        x = int(input(\"\\n Enter something : \"))\n",
    "        y = int(input(\"\\n Enter something : \"))\n",
    "        print(x/y)\n",
    "        break\n",
    "    except ValueError:\n",
    "        print(\"\\n Enter Non decimal number please\")\n",
    "    except ZeroDivisionError:\n",
    "        print(\"\\n Number is not divided by zero\")"
   ]
  },
  {
   "cell_type": "code",
   "execution_count": 20,
   "metadata": {},
   "outputs": [
    {
     "name": "stdout",
     "output_type": "stream",
     "text": [
      "\n",
      " Enter something : pipip\n",
      "\n",
      " ERROR -->  invalid literal for int() with base 10: 'pipip'\n",
      "\n",
      " Enter something : 12\n",
      "\n",
      " Enter something : pi\n",
      "\n",
      " ERROR -->  invalid literal for int() with base 10: 'pi'\n",
      "\n",
      " Enter something : 12\n",
      "\n",
      " Enter something : 0\n",
      "\n",
      " ERROR -->  division by zero\n",
      "\n",
      " Enter something : 12\n",
      "\n",
      " Enter something : 7\n",
      "1.7142857142857142\n"
     ]
    }
   ],
   "source": [
    "while True:\n",
    "    try:\n",
    "        x = int(input(\"\\n Enter something : \"))\n",
    "        y = int(input(\"\\n Enter something : \"))\n",
    "        print(x/y)\n",
    "        break\n",
    "    except ValueError as err:\n",
    "        print(\"\\n ERROR --> \", err)\n",
    "    except ZeroDivisionError as e:\n",
    "        print(\"\\n ERROR --> \", e)"
   ]
  },
  {
   "cell_type": "code",
   "execution_count": 21,
   "metadata": {},
   "outputs": [],
   "source": [
    "#### Exception Class --> Super class (which consists of all the exceptions)"
   ]
  },
  {
   "cell_type": "code",
   "execution_count": 22,
   "metadata": {},
   "outputs": [
    {
     "ename": "SyntaxError",
     "evalue": "unexpected EOF while parsing (<ipython-input-22-20c0e3af252d>, line 1)",
     "output_type": "error",
     "traceback": [
      "\u001b[1;36m  File \u001b[1;32m\"<ipython-input-22-20c0e3af252d>\"\u001b[1;36m, line \u001b[1;32m1\u001b[0m\n\u001b[1;33m    input(\u001b[0m\n\u001b[1;37m          ^\u001b[0m\n\u001b[1;31mSyntaxError\u001b[0m\u001b[1;31m:\u001b[0m unexpected EOF while parsing\n"
     ]
    }
   ],
   "source": [
    "input("
   ]
  },
  {
   "cell_type": "code",
   "execution_count": 25,
   "metadata": {},
   "outputs": [
    {
     "ename": "IndentationError",
     "evalue": "unexpected indent (<ipython-input-25-bb7466c1990c>, line 2)",
     "output_type": "error",
     "traceback": [
      "\u001b[1;36m  File \u001b[1;32m\"<ipython-input-25-bb7466c1990c>\"\u001b[1;36m, line \u001b[1;32m2\u001b[0m\n\u001b[1;33m    print(\"hi\")\u001b[0m\n\u001b[1;37m    ^\u001b[0m\n\u001b[1;31mIndentationError\u001b[0m\u001b[1;31m:\u001b[0m unexpected indent\n"
     ]
    }
   ],
   "source": [
    "a = input()\n",
    " print(\"hi\")"
   ]
  },
  {
   "cell_type": "code",
   "execution_count": 26,
   "metadata": {},
   "outputs": [
    {
     "ename": "IndentationError",
     "evalue": "unexpected indent (<ipython-input-26-30e9dc4a0ed0>, line 3)",
     "output_type": "error",
     "traceback": [
      "\u001b[1;36m  File \u001b[1;32m\"<ipython-input-26-30e9dc4a0ed0>\"\u001b[1;36m, line \u001b[1;32m3\u001b[0m\n\u001b[1;33m    print(\"hi\")\u001b[0m\n\u001b[1;37m    ^\u001b[0m\n\u001b[1;31mIndentationError\u001b[0m\u001b[1;31m:\u001b[0m unexpected indent\n"
     ]
    }
   ],
   "source": [
    "try:\n",
    "    a = input()\n",
    "     print(\"hi\")\n",
    "except SyntaxError as e:\n",
    "    print(e)"
   ]
  },
  {
   "cell_type": "code",
   "execution_count": 27,
   "metadata": {},
   "outputs": [
    {
     "name": "stdout",
     "output_type": "stream",
     "text": [
      "\n",
      " Enter something : oihi\n",
      "\n",
      " ERROR -->  invalid literal for int() with base 10: 'oihi'\n",
      "\n",
      " Enter something : 12\n",
      "\n",
      " Enter something : 0\n",
      "\n",
      " ERROR -->  division by zero\n",
      "\n",
      " Enter something : 12\n",
      "\n",
      " Enter something : 45\n",
      "0.26666666666666666\n"
     ]
    }
   ],
   "source": [
    "while True:\n",
    "    try:\n",
    "        x = int(input(\"\\n Enter something : \"))\n",
    "        y = int(input(\"\\n Enter something : \"))\n",
    "        print(x/y)\n",
    "        break\n",
    "    except Exception as err:\n",
    "        print(\"\\n ERROR --> \", err)\n",
    "   "
   ]
  },
  {
   "cell_type": "code",
   "execution_count": 28,
   "metadata": {},
   "outputs": [
    {
     "name": "stdout",
     "output_type": "stream",
     "text": [
      "Writing file1.py\n"
     ]
    }
   ],
   "source": [
    "%%writefile file1.py\n",
    "\n",
    "a = input(\"\\n Enter any number : \")\n",
    "b = input(\"\\n Enter any number : \")\n",
    "print(a+b)"
   ]
  },
  {
   "cell_type": "code",
   "execution_count": 29,
   "metadata": {},
   "outputs": [
    {
     "name": "stdout",
     "output_type": "stream",
     "text": [
      "Overwriting file1.py\n"
     ]
    }
   ],
   "source": [
    "%%writefile file1.py\n",
    "try:\n",
    "    a = input(\"\\n Enter any number : \")\n",
    "    b = input(\"\\n Enter any number : \")\n",
    "except Exception as e:\n",
    "    print(\"ERROR --> \",e)\n",
    "print(\"hello world\")"
   ]
  },
  {
   "cell_type": "code",
   "execution_count": 30,
   "metadata": {},
   "outputs": [
    {
     "name": "stdout",
     "output_type": "stream",
     "text": [
      "Overwriting file1.py\n"
     ]
    }
   ],
   "source": [
    "%%writefile file1.py\n",
    "try:\n",
    "    a = input(\"\\n Enter any number : \")\n",
    "    b = input(\"\\n Enter any number : \")\n",
    "except KeyboardInterrupt as e:\n",
    "    print(\"ERROR --> \",e)\n",
    "print(\"hello world\")"
   ]
  },
  {
   "cell_type": "code",
   "execution_count": 33,
   "metadata": {},
   "outputs": [
    {
     "name": "stdout",
     "output_type": "stream",
     "text": [
      "\n",
      " ERROR -->  [Errno 2] No such file or directory: 'xyz.py'\n",
      "\n",
      " File is created now....\n"
     ]
    }
   ],
   "source": [
    "try:\n",
    "    f = open(\"xyz.py\")\n",
    "except OSError as err:\n",
    "    print(\"\\n ERROR --> \",err)\n",
    "    f = open(\"xyz.py\",\"x\")\n",
    "    print(\"\\n File is created now....\")\n",
    "f.close()"
   ]
  },
  {
   "cell_type": "code",
   "execution_count": 34,
   "metadata": {},
   "outputs": [
    {
     "name": "stdout",
     "output_type": "stream",
     "text": [
      " Volume in drive C is Windows\n",
      " Volume Serial Number is E08D-DAD9\n",
      "\n",
      " Directory of C:\\batches\\online_batch\\pythonbatch10_15am\\OOPs\n",
      "\n",
      "21-10-2020  11:43    <DIR>          .\n",
      "21-10-2020  11:43    <DIR>          ..\n",
      "21-10-2020  11:09    <DIR>          .ipynb_checkpoints\n",
      "08-10-2020  11:59            11,113 1. OOPs.ipynb\n",
      "09-10-2020  12:47            60,360 2. OOPs.ipynb\n",
      "12-10-2020  12:34            29,884 3. OOPs_.ipynb\n",
      "13-10-2020  12:44            34,689 4. OOPs.ipynb\n",
      "14-10-2020  12:31            52,967 5. OOPs.ipynb\n",
      "15-10-2020  12:36            32,226 6. OOPs.ipynb\n",
      "16-10-2020  12:35            46,582 7. OOPs.ipynb\n",
      "14-10-2020  12:25             1,109 cls1.py\n",
      "21-10-2020  11:42            21,604 Exception_Handling.ipynb\n",
      "21-10-2020  11:40               169 file1.py\n",
      "20-10-2020  12:34            32,841 Searching_Iterators_Generators.ipynb\n",
      "19-10-2020  12:51            28,464 Stack_Queue.ipynb\n",
      "21-10-2020  11:43                 0 xyz.py\n",
      "              13 File(s)        352,008 bytes\n",
      "               3 Dir(s)  30,727,073,792 bytes free\n"
     ]
    }
   ],
   "source": [
    "ls"
   ]
  },
  {
   "cell_type": "markdown",
   "metadata": {},
   "source": [
    "https://docs.python.org/3/library/exceptions.html"
   ]
  },
  {
   "cell_type": "code",
   "execution_count": 35,
   "metadata": {},
   "outputs": [
    {
     "name": "stdout",
     "output_type": "stream",
     "text": [
      "\n"
     ]
    }
   ],
   "source": [
    "try:\n",
    "    f = open(\"xyz.py\")\n",
    "except Exception as e: #if error will come\n",
    "    print(\"\\n File does not exits creating it\")\n",
    "    f = open(\"xyz.py\",\"x\")\n",
    "else: #if error will not come\n",
    "    print(f.read())\n",
    "f.close()"
   ]
  },
  {
   "cell_type": "code",
   "execution_count": 36,
   "metadata": {},
   "outputs": [
    {
     "name": "stdout",
     "output_type": "stream",
     "text": [
      "try:\n",
      "    a = input(\"\\n Enter any number : \")\n",
      "    b = input(\"\\n Enter any number : \")\n",
      "except KeyboardInterrupt as e:\n",
      "    print(\"ERROR --> \",e)\n",
      "print(\"hello world\")\n",
      "\n"
     ]
    }
   ],
   "source": [
    "try:\n",
    "    f = open(\"file1.py\")\n",
    "except Exception as e: #if error will come\n",
    "    print(\"\\n File does not exits creating it\")\n",
    "    f = open(\"file1.py\",\"x\")\n",
    "else: #if error will not come\n",
    "    print(f.read())\n",
    "f.close()"
   ]
  },
  {
   "cell_type": "code",
   "execution_count": 45,
   "metadata": {},
   "outputs": [
    {
     "name": "stdout",
     "output_type": "stream",
     "text": [
      "\n",
      " Enter any number : 34\n",
      "\n",
      " Enter another number : 800\n",
      "0.0425\n"
     ]
    }
   ],
   "source": [
    "try:\n",
    "    n1 = int(input(\"\\n Enter any number : \"))\n",
    "    n2 = int(input(\"\\n Enter another number : \"))\n",
    "except Exception as e:\n",
    "    print(\"\\n Error --> \",e)\n",
    "else: #it will only execute when there is no error\n",
    "    try:\n",
    "        print(n1/n2)\n",
    "    except Exception as e:\n",
    "        print(\"\\n ERROR --> \",e)"
   ]
  },
  {
   "cell_type": "code",
   "execution_count": 46,
   "metadata": {},
   "outputs": [],
   "source": [
    "#finally --> statements which you want to execute if the error comes or not"
   ]
  },
  {
   "cell_type": "code",
   "execution_count": 48,
   "metadata": {},
   "outputs": [
    {
     "name": "stdout",
     "output_type": "stream",
     "text": [
      "try:\n",
      "    a = input(\"\\n Enter any number : \")\n",
      "    b = input(\"\\n Enter any number : \")\n",
      "except KeyboardInterrupt as e:\n",
      "    print(\"ERROR --> \",e)\n",
      "print(\"hello world\")\n",
      "\n",
      "\n",
      " File is closed finally\n"
     ]
    }
   ],
   "source": [
    "try:\n",
    "    f = open(\"file1.py\")\n",
    "except Exception as e:\n",
    "    f = open(\"file1.py\",'x')\n",
    "    print(\"\\n File is created now....\")\n",
    "else:\n",
    "    print(f.read())\n",
    "finally:\n",
    "    print(\"\\n File is closed finally\")\n",
    "    f.close()"
   ]
  },
  {
   "cell_type": "code",
   "execution_count": 50,
   "metadata": {},
   "outputs": [
    {
     "ename": "ValueError",
     "evalue": "I/O operation on closed file.",
     "output_type": "error",
     "traceback": [
      "\u001b[1;31m---------------------------------------------------------------------------\u001b[0m",
      "\u001b[1;31mValueError\u001b[0m                                Traceback (most recent call last)",
      "\u001b[1;32m<ipython-input-50-571e9fb02258>\u001b[0m in \u001b[0;36m<module>\u001b[1;34m\u001b[0m\n\u001b[1;32m----> 1\u001b[1;33m \u001b[0mf\u001b[0m\u001b[1;33m.\u001b[0m\u001b[0mread\u001b[0m\u001b[1;33m(\u001b[0m\u001b[1;33m)\u001b[0m\u001b[1;33m\u001b[0m\u001b[1;33m\u001b[0m\u001b[0m\n\u001b[0m",
      "\u001b[1;31mValueError\u001b[0m: I/O operation on closed file."
     ]
    }
   ],
   "source": [
    "f.read()"
   ]
  },
  {
   "cell_type": "code",
   "execution_count": 51,
   "metadata": {},
   "outputs": [
    {
     "name": "stdout",
     "output_type": "stream",
     "text": [
      "\n",
      " Enter any filename : simran.py\n",
      "\n",
      " File is created now....\n",
      "\n",
      " File is closed finally\n"
     ]
    }
   ],
   "source": [
    "try:\n",
    "    filename = input(\"\\n Enter any filename : \")\n",
    "    f = open(filename)\n",
    "except Exception as e:\n",
    "    f = open(filename,'x')\n",
    "    print(\"\\n File is created now....\")\n",
    "else:\n",
    "    print(f.read())\n",
    "finally:\n",
    "    print(\"\\n File is closed finally\")\n",
    "    f.close()"
   ]
  },
  {
   "cell_type": "code",
   "execution_count": 53,
   "metadata": {},
   "outputs": [
    {
     "name": "stdout",
     "output_type": "stream",
     "text": [
      "\n",
      " Enter any number : -10\n"
     ]
    },
    {
     "ename": "ValueError",
     "evalue": "Number is negative.....",
     "output_type": "error",
     "traceback": [
      "\u001b[1;31m---------------------------------------------------------------------------\u001b[0m",
      "\u001b[1;31mValueError\u001b[0m                                Traceback (most recent call last)",
      "\u001b[1;32m<ipython-input-53-096bea8f7349>\u001b[0m in \u001b[0;36m<module>\u001b[1;34m\u001b[0m\n\u001b[0;32m      1\u001b[0m \u001b[0mn\u001b[0m \u001b[1;33m=\u001b[0m \u001b[0mint\u001b[0m\u001b[1;33m(\u001b[0m\u001b[0minput\u001b[0m\u001b[1;33m(\u001b[0m\u001b[1;34m\"\\n Enter any number : \"\u001b[0m\u001b[1;33m)\u001b[0m\u001b[1;33m)\u001b[0m\u001b[1;33m\u001b[0m\u001b[1;33m\u001b[0m\u001b[0m\n\u001b[0;32m      2\u001b[0m \u001b[1;32mif\u001b[0m \u001b[0mn\u001b[0m\u001b[1;33m<\u001b[0m\u001b[1;36m0\u001b[0m\u001b[1;33m:\u001b[0m\u001b[1;33m\u001b[0m\u001b[1;33m\u001b[0m\u001b[0m\n\u001b[1;32m----> 3\u001b[1;33m     \u001b[1;32mraise\u001b[0m \u001b[0mValueError\u001b[0m\u001b[1;33m(\u001b[0m\u001b[1;34m\"Number is negative.....\"\u001b[0m\u001b[1;33m)\u001b[0m\u001b[1;33m\u001b[0m\u001b[1;33m\u001b[0m\u001b[0m\n\u001b[0m\u001b[0;32m      4\u001b[0m \u001b[1;32melse\u001b[0m\u001b[1;33m:\u001b[0m\u001b[1;33m\u001b[0m\u001b[1;33m\u001b[0m\u001b[0m\n\u001b[0;32m      5\u001b[0m     \u001b[0mprint\u001b[0m\u001b[1;33m(\u001b[0m\u001b[1;34m\"\\n Number is positive\"\u001b[0m\u001b[1;33m)\u001b[0m\u001b[1;33m\u001b[0m\u001b[1;33m\u001b[0m\u001b[0m\n",
      "\u001b[1;31mValueError\u001b[0m: Number is negative....."
     ]
    }
   ],
   "source": [
    "n = int(input(\"\\n Enter any number : \"))\n",
    "if n<0:\n",
    "    raise ValueError(\"Number is negative.....\")\n",
    "else:\n",
    "    print(\"\\n Number is positive\")\n",
    "    print(n**2)"
   ]
  },
  {
   "cell_type": "code",
   "execution_count": 54,
   "metadata": {},
   "outputs": [
    {
     "name": "stdout",
     "output_type": "stream",
     "text": [
      "\n",
      " Enter any number : 90\n",
      "\n",
      " Number is positive\n",
      "8100\n"
     ]
    }
   ],
   "source": [
    "n = int(input(\"\\n Enter any number : \"))\n",
    "if n<0:\n",
    "    raise ValueError(\"Number is negative.....\")\n",
    "else:\n",
    "    print(\"\\n Number is positive\")\n",
    "    print(n**2)"
   ]
  },
  {
   "cell_type": "code",
   "execution_count": 59,
   "metadata": {},
   "outputs": [
    {
     "name": "stdout",
     "output_type": "stream",
     "text": [
      "\n",
      " Enter any number : -10\n",
      "\n",
      " Error :  Number is negative.....\n"
     ]
    }
   ],
   "source": [
    "try:\n",
    "    n = int(input(\"\\n Enter any number : \"))\n",
    "    if n<0:\n",
    "        raise ValueError(\"Number is negative.....\")\n",
    "except Exception as e:\n",
    "    print(\"\\n Error : \", e)\n",
    "else:\n",
    "    print(\"\\n Number is positive\")\n",
    "    print(n**2)"
   ]
  },
  {
   "cell_type": "code",
   "execution_count": 61,
   "metadata": {},
   "outputs": [
    {
     "name": "stdout",
     "output_type": "stream",
     "text": [
      "Number : -10\n"
     ]
    },
    {
     "ename": "AssertionError",
     "evalue": "Number is Negative",
     "output_type": "error",
     "traceback": [
      "\u001b[1;31m---------------------------------------------------------------------------\u001b[0m",
      "\u001b[1;31mAssertionError\u001b[0m                            Traceback (most recent call last)",
      "\u001b[1;32m<ipython-input-61-5d53db0e0110>\u001b[0m in \u001b[0;36m<module>\u001b[1;34m\u001b[0m\n\u001b[0;32m      1\u001b[0m \u001b[0mn\u001b[0m \u001b[1;33m=\u001b[0m \u001b[0mint\u001b[0m\u001b[1;33m(\u001b[0m\u001b[0minput\u001b[0m\u001b[1;33m(\u001b[0m\u001b[1;34m\"Number : \"\u001b[0m\u001b[1;33m)\u001b[0m\u001b[1;33m)\u001b[0m\u001b[1;33m\u001b[0m\u001b[1;33m\u001b[0m\u001b[0m\n\u001b[1;32m----> 2\u001b[1;33m \u001b[1;32massert\u001b[0m \u001b[0mn\u001b[0m\u001b[1;33m>\u001b[0m\u001b[1;36m0\u001b[0m\u001b[1;33m,\u001b[0m \u001b[1;34m\"Number is Negative\"\u001b[0m\u001b[1;33m\u001b[0m\u001b[1;33m\u001b[0m\u001b[0m\n\u001b[0m\u001b[0;32m      3\u001b[0m \u001b[0mprint\u001b[0m\u001b[1;33m(\u001b[0m\u001b[0mn\u001b[0m\u001b[1;33m**\u001b[0m\u001b[1;36m2\u001b[0m\u001b[1;33m)\u001b[0m\u001b[1;33m\u001b[0m\u001b[1;33m\u001b[0m\u001b[0m\n",
      "\u001b[1;31mAssertionError\u001b[0m: Number is Negative"
     ]
    }
   ],
   "source": [
    "n = int(input(\"Number : \"))\n",
    "assert n>0, \"Number is Negative\"\n",
    "print(n**2)"
   ]
  },
  {
   "cell_type": "code",
   "execution_count": 63,
   "metadata": {},
   "outputs": [
    {
     "name": "stdout",
     "output_type": "stream",
     "text": [
      "Number : -190\n",
      "\n",
      " Error :  Number is Negative\n"
     ]
    }
   ],
   "source": [
    "try:\n",
    "    n = int(input(\"Number : \"))\n",
    "    assert n>0, \"Number is Negative\"\n",
    "    print(n**2)\n",
    "except AssertionError as e:\n",
    "    print(\"\\n Error : \",e)"
   ]
  },
  {
   "cell_type": "code",
   "execution_count": 64,
   "metadata": {},
   "outputs": [],
   "source": [
    "class Myerror(Exception):  #Custom Exception\n",
    "    def __init__(self,msg=None):\n",
    "        super().__init__(msg)"
   ]
  },
  {
   "cell_type": "code",
   "execution_count": 66,
   "metadata": {},
   "outputs": [
    {
     "name": "stdout",
     "output_type": "stream",
     "text": [
      "\n",
      " Enter your name : Aman\n"
     ]
    },
    {
     "ename": "Myerror",
     "evalue": "Word has no s in it",
     "output_type": "error",
     "traceback": [
      "\u001b[1;31m---------------------------------------------------------------------------\u001b[0m",
      "\u001b[1;31mMyerror\u001b[0m                                   Traceback (most recent call last)",
      "\u001b[1;32m<ipython-input-66-5b76acf4638c>\u001b[0m in \u001b[0;36m<module>\u001b[1;34m\u001b[0m\n\u001b[0;32m      3\u001b[0m     \u001b[0mprint\u001b[0m\u001b[1;33m(\u001b[0m\u001b[0mn\u001b[0m\u001b[1;33m.\u001b[0m\u001b[0mupper\u001b[0m\u001b[1;33m(\u001b[0m\u001b[1;33m)\u001b[0m\u001b[1;33m)\u001b[0m\u001b[1;33m\u001b[0m\u001b[1;33m\u001b[0m\u001b[0m\n\u001b[0;32m      4\u001b[0m \u001b[1;32melse\u001b[0m\u001b[1;33m:\u001b[0m\u001b[1;33m\u001b[0m\u001b[1;33m\u001b[0m\u001b[0m\n\u001b[1;32m----> 5\u001b[1;33m     \u001b[1;32mraise\u001b[0m \u001b[0mMyerror\u001b[0m\u001b[1;33m(\u001b[0m\u001b[1;34m\"Word has no s in it\"\u001b[0m\u001b[1;33m)\u001b[0m\u001b[1;33m\u001b[0m\u001b[1;33m\u001b[0m\u001b[0m\n\u001b[0m",
      "\u001b[1;31mMyerror\u001b[0m: Word has no s in it"
     ]
    }
   ],
   "source": [
    "n = input(\"\\n Enter your name : \")\n",
    "if \"s\" in n.lower():\n",
    "    print(n.upper())\n",
    "else:\n",
    "    raise Myerror(\"Word has no s in it\")"
   ]
  },
  {
   "cell_type": "code",
   "execution_count": null,
   "metadata": {},
   "outputs": [],
   "source": []
  }
 ],
 "metadata": {
  "kernelspec": {
   "display_name": "Python 3",
   "language": "python",
   "name": "python3"
  },
  "language_info": {
   "codemirror_mode": {
    "name": "ipython",
    "version": 3
   },
   "file_extension": ".py",
   "mimetype": "text/x-python",
   "name": "python",
   "nbconvert_exporter": "python",
   "pygments_lexer": "ipython3",
   "version": "3.7.4"
  }
 },
 "nbformat": 4,
 "nbformat_minor": 2
}
