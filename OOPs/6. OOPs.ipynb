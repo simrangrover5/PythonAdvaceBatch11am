{
 "cells": [
  {
   "cell_type": "code",
   "execution_count": 8,
   "metadata": {},
   "outputs": [],
   "source": [
    "class Polynomial:\n",
    "    def __init__(self,noofsides):\n",
    "        self.noofsides = noofsides\n",
    "        self.sides = [None for i in range(noofsides)]\n",
    "        \n",
    "    def setsides(self):\n",
    "        \"\"\"\n",
    "            This method is used to set or store the sides for the given noofsides in cm\n",
    "        \"\"\"\n",
    "        self.sides = [int(input()) for i in range(self.noofsides)]\n",
    "    \n",
    "    def getsides(self):\n",
    "        \"\"\"\n",
    "            This method is used to get the value of sides which are stored \n",
    "        \"\"\"\n",
    "        for i in range(self.noofsides):\n",
    "            print(f\"\\n Side {i+1} : {self.sides[i]} cm\")\n",
    "            \n"
   ]
  },
  {
   "cell_type": "code",
   "execution_count": 9,
   "metadata": {},
   "outputs": [],
   "source": [
    "p1 = Polynomial(5)"
   ]
  },
  {
   "cell_type": "code",
   "execution_count": 10,
   "metadata": {},
   "outputs": [
    {
     "name": "stdout",
     "output_type": "stream",
     "text": [
      "\n",
      " Side 1 : None cm\n",
      "\n",
      " Side 2 : None cm\n",
      "\n",
      " Side 3 : None cm\n",
      "\n",
      " Side 4 : None cm\n",
      "\n",
      " Side 5 : None cm\n"
     ]
    }
   ],
   "source": [
    "p1.getsides()"
   ]
  },
  {
   "cell_type": "code",
   "execution_count": 11,
   "metadata": {},
   "outputs": [
    {
     "name": "stdout",
     "output_type": "stream",
     "text": [
      "3\n",
      "4\n",
      "5\n",
      "6\n",
      "1\n"
     ]
    }
   ],
   "source": [
    "p1.setsides()"
   ]
  },
  {
   "cell_type": "code",
   "execution_count": 12,
   "metadata": {},
   "outputs": [
    {
     "name": "stdout",
     "output_type": "stream",
     "text": [
      "\n",
      " Side 1 : 3 cm\n",
      "\n",
      " Side 2 : 4 cm\n",
      "\n",
      " Side 3 : 5 cm\n",
      "\n",
      " Side 4 : 6 cm\n",
      "\n",
      " Side 5 : 1 cm\n"
     ]
    }
   ],
   "source": [
    "p1.getsides()"
   ]
  },
  {
   "cell_type": "code",
   "execution_count": 13,
   "metadata": {},
   "outputs": [],
   "source": [
    "class Rectangle(Polynomial):\n",
    "    def __init__(self):\n",
    "        super().__init__(2)\n",
    "    \n",
    "    def perimeter(self):\n",
    "        return (self.sides[0]*2) + (self.sides[1]*2)"
   ]
  },
  {
   "cell_type": "code",
   "execution_count": 14,
   "metadata": {},
   "outputs": [],
   "source": [
    "r1 = Rectangle()"
   ]
  },
  {
   "cell_type": "code",
   "execution_count": 15,
   "metadata": {},
   "outputs": [
    {
     "name": "stdout",
     "output_type": "stream",
     "text": [
      "\n",
      " Side 1 : None cm\n",
      "\n",
      " Side 2 : None cm\n"
     ]
    }
   ],
   "source": [
    "r1.getsides()"
   ]
  },
  {
   "cell_type": "code",
   "execution_count": 16,
   "metadata": {},
   "outputs": [
    {
     "name": "stdout",
     "output_type": "stream",
     "text": [
      "3\n",
      "4\n"
     ]
    }
   ],
   "source": [
    "r1.setsides()"
   ]
  },
  {
   "cell_type": "code",
   "execution_count": 17,
   "metadata": {},
   "outputs": [
    {
     "name": "stdout",
     "output_type": "stream",
     "text": [
      "\n",
      " Side 1 : 3 cm\n",
      "\n",
      " Side 2 : 4 cm\n"
     ]
    }
   ],
   "source": [
    "r1.getsides()"
   ]
  },
  {
   "cell_type": "code",
   "execution_count": 18,
   "metadata": {},
   "outputs": [
    {
     "data": {
      "text/plain": [
       "14"
      ]
     },
     "execution_count": 18,
     "metadata": {},
     "output_type": "execute_result"
    }
   ],
   "source": [
    "r1.perimeter()"
   ]
  },
  {
   "cell_type": "markdown",
   "metadata": {},
   "source": [
    "#### Multiple Inheritance"
   ]
  },
  {
   "cell_type": "markdown",
   "metadata": {},
   "source": [
    "            Parent1            Parent2\n",
    "               \\                  /\n",
    "                       Child"
   ]
  },
  {
   "cell_type": "code",
   "execution_count": 19,
   "metadata": {},
   "outputs": [],
   "source": [
    "class Father:\n",
    "    def __init__(self,fname,lname):\n",
    "        self.fname = fname\n",
    "        self.lname = lname\n",
    "class Mother:\n",
    "    def __init__(self,mname,lname):\n",
    "        self.mname = mname\n",
    "        self.lname = lname\n",
    "class Child(Father,Mother):  #MRO --> Method Resolution Order --> Left to right\n",
    "    def __init__(self,fname,mname,cname,lname):\n",
    "        super().__init__(fname,lname) #super always is the first class , super --> father\n",
    "        super().__init__(mname,lname)\n",
    "        self.cname = cname\n",
    "    \n",
    "    def show_values(self):\n",
    "        print(\"\\n Name of Father is \",self.fname.title(),self.lname.title())\n",
    "        print(\"\\n Name of Mother is : \",self.mname.title(),self.lname.title())\n",
    "        print(\"\\n Name of Child is : \",self.cname.title(),self.lname.title())"
   ]
  },
  {
   "cell_type": "code",
   "execution_count": 20,
   "metadata": {},
   "outputs": [],
   "source": [
    "c = Child(\"Rajesh\",\"Jyoti\",\"Sahil\",\"Grover\")\n",
    "\n",
    "#1. super calling results into fname = Rajesh, lname= Grover\n",
    "#2. super(Father--> init) calling results into fname=Jyoti, lname=Grover \n",
    "#mother class __init__ is not called in this case hence no attribute mname"
   ]
  },
  {
   "cell_type": "code",
   "execution_count": 21,
   "metadata": {},
   "outputs": [
    {
     "name": "stdout",
     "output_type": "stream",
     "text": [
      "\n",
      " Name of Father is  Jyoti Grover\n"
     ]
    },
    {
     "ename": "AttributeError",
     "evalue": "'Child' object has no attribute 'mname'",
     "output_type": "error",
     "traceback": [
      "\u001b[1;31m---------------------------------------------------------------------------\u001b[0m",
      "\u001b[1;31mAttributeError\u001b[0m                            Traceback (most recent call last)",
      "\u001b[1;32m<ipython-input-21-e089ecf40ab3>\u001b[0m in \u001b[0;36m<module>\u001b[1;34m\u001b[0m\n\u001b[1;32m----> 1\u001b[1;33m \u001b[0mc\u001b[0m\u001b[1;33m.\u001b[0m\u001b[0mshow_values\u001b[0m\u001b[1;33m(\u001b[0m\u001b[1;33m)\u001b[0m\u001b[1;33m\u001b[0m\u001b[1;33m\u001b[0m\u001b[0m\n\u001b[0m",
      "\u001b[1;32m<ipython-input-19-1c30a2a02cb5>\u001b[0m in \u001b[0;36mshow_values\u001b[1;34m(self)\u001b[0m\n\u001b[0;32m     15\u001b[0m     \u001b[1;32mdef\u001b[0m \u001b[0mshow_values\u001b[0m\u001b[1;33m(\u001b[0m\u001b[0mself\u001b[0m\u001b[1;33m)\u001b[0m\u001b[1;33m:\u001b[0m\u001b[1;33m\u001b[0m\u001b[1;33m\u001b[0m\u001b[0m\n\u001b[0;32m     16\u001b[0m         \u001b[0mprint\u001b[0m\u001b[1;33m(\u001b[0m\u001b[1;34m\"\\n Name of Father is \"\u001b[0m\u001b[1;33m,\u001b[0m\u001b[0mself\u001b[0m\u001b[1;33m.\u001b[0m\u001b[0mfname\u001b[0m\u001b[1;33m.\u001b[0m\u001b[0mtitle\u001b[0m\u001b[1;33m(\u001b[0m\u001b[1;33m)\u001b[0m\u001b[1;33m,\u001b[0m\u001b[0mself\u001b[0m\u001b[1;33m.\u001b[0m\u001b[0mlname\u001b[0m\u001b[1;33m.\u001b[0m\u001b[0mtitle\u001b[0m\u001b[1;33m(\u001b[0m\u001b[1;33m)\u001b[0m\u001b[1;33m)\u001b[0m\u001b[1;33m\u001b[0m\u001b[1;33m\u001b[0m\u001b[0m\n\u001b[1;32m---> 17\u001b[1;33m         \u001b[0mprint\u001b[0m\u001b[1;33m(\u001b[0m\u001b[1;34m\"\\n Name of Mother is : \"\u001b[0m\u001b[1;33m,\u001b[0m\u001b[0mself\u001b[0m\u001b[1;33m.\u001b[0m\u001b[0mmname\u001b[0m\u001b[1;33m.\u001b[0m\u001b[0mtitle\u001b[0m\u001b[1;33m(\u001b[0m\u001b[1;33m)\u001b[0m\u001b[1;33m,\u001b[0m\u001b[0mself\u001b[0m\u001b[1;33m.\u001b[0m\u001b[0mlname\u001b[0m\u001b[1;33m.\u001b[0m\u001b[0mtitle\u001b[0m\u001b[1;33m(\u001b[0m\u001b[1;33m)\u001b[0m\u001b[1;33m)\u001b[0m\u001b[1;33m\u001b[0m\u001b[1;33m\u001b[0m\u001b[0m\n\u001b[0m\u001b[0;32m     18\u001b[0m         \u001b[0mprint\u001b[0m\u001b[1;33m(\u001b[0m\u001b[1;34m\"\\n Name of Child is : \"\u001b[0m\u001b[1;33m,\u001b[0m\u001b[0mself\u001b[0m\u001b[1;33m.\u001b[0m\u001b[0mcname\u001b[0m\u001b[1;33m.\u001b[0m\u001b[0mtitle\u001b[0m\u001b[1;33m(\u001b[0m\u001b[1;33m)\u001b[0m\u001b[1;33m,\u001b[0m\u001b[0mself\u001b[0m\u001b[1;33m.\u001b[0m\u001b[0mlname\u001b[0m\u001b[1;33m.\u001b[0m\u001b[0mtitle\u001b[0m\u001b[1;33m(\u001b[0m\u001b[1;33m)\u001b[0m\u001b[1;33m)\u001b[0m\u001b[1;33m\u001b[0m\u001b[1;33m\u001b[0m\u001b[0m\n",
      "\u001b[1;31mAttributeError\u001b[0m: 'Child' object has no attribute 'mname'"
     ]
    }
   ],
   "source": [
    "c.show_values()"
   ]
  },
  {
   "cell_type": "code",
   "execution_count": 22,
   "metadata": {},
   "outputs": [],
   "source": [
    "class Father:\n",
    "    def __init__(self,fname,lname):\n",
    "        self.fname = fname\n",
    "        self.lname = lname\n",
    "class Mother:\n",
    "    def __init__(self,mname,lname):\n",
    "        self.mname = mname\n",
    "        self.lname = lname\n",
    "class Child(Mother,Father):  #MRO --> Method Resolution Order --> Left to right\n",
    "    def __init__(self,fname,mname,cname,lname):\n",
    "        super().__init__(fname,lname) #super always is the first class , super --> Mother\n",
    "        super().__init__(mname,lname)\n",
    "        self.cname = cname\n",
    "    \n",
    "    def show_values(self):\n",
    "        print(\"\\n Name of Mother is : \",self.mname.title(),self.lname.title())\n",
    "        print(\"\\n Name of Father is \",self.fname.title(),self.lname.title())\n",
    "        print(\"\\n Name of Child is : \",self.cname.title(),self.lname.title())"
   ]
  },
  {
   "cell_type": "code",
   "execution_count": 23,
   "metadata": {},
   "outputs": [],
   "source": [
    "c = Child(\"Rajesh\",\"Jyoti\",\"Sahil\",\"Grover\")\n"
   ]
  },
  {
   "cell_type": "code",
   "execution_count": 24,
   "metadata": {},
   "outputs": [
    {
     "name": "stdout",
     "output_type": "stream",
     "text": [
      "\n",
      " Name of Mother is :  Jyoti Grover\n"
     ]
    },
    {
     "ename": "AttributeError",
     "evalue": "'Child' object has no attribute 'fname'",
     "output_type": "error",
     "traceback": [
      "\u001b[1;31m---------------------------------------------------------------------------\u001b[0m",
      "\u001b[1;31mAttributeError\u001b[0m                            Traceback (most recent call last)",
      "\u001b[1;32m<ipython-input-24-e089ecf40ab3>\u001b[0m in \u001b[0;36m<module>\u001b[1;34m\u001b[0m\n\u001b[1;32m----> 1\u001b[1;33m \u001b[0mc\u001b[0m\u001b[1;33m.\u001b[0m\u001b[0mshow_values\u001b[0m\u001b[1;33m(\u001b[0m\u001b[1;33m)\u001b[0m\u001b[1;33m\u001b[0m\u001b[1;33m\u001b[0m\u001b[0m\n\u001b[0m",
      "\u001b[1;32m<ipython-input-22-a2b18fa21767>\u001b[0m in \u001b[0;36mshow_values\u001b[1;34m(self)\u001b[0m\n\u001b[0;32m     15\u001b[0m     \u001b[1;32mdef\u001b[0m \u001b[0mshow_values\u001b[0m\u001b[1;33m(\u001b[0m\u001b[0mself\u001b[0m\u001b[1;33m)\u001b[0m\u001b[1;33m:\u001b[0m\u001b[1;33m\u001b[0m\u001b[1;33m\u001b[0m\u001b[0m\n\u001b[0;32m     16\u001b[0m         \u001b[0mprint\u001b[0m\u001b[1;33m(\u001b[0m\u001b[1;34m\"\\n Name of Mother is : \"\u001b[0m\u001b[1;33m,\u001b[0m\u001b[0mself\u001b[0m\u001b[1;33m.\u001b[0m\u001b[0mmname\u001b[0m\u001b[1;33m.\u001b[0m\u001b[0mtitle\u001b[0m\u001b[1;33m(\u001b[0m\u001b[1;33m)\u001b[0m\u001b[1;33m,\u001b[0m\u001b[0mself\u001b[0m\u001b[1;33m.\u001b[0m\u001b[0mlname\u001b[0m\u001b[1;33m.\u001b[0m\u001b[0mtitle\u001b[0m\u001b[1;33m(\u001b[0m\u001b[1;33m)\u001b[0m\u001b[1;33m)\u001b[0m\u001b[1;33m\u001b[0m\u001b[1;33m\u001b[0m\u001b[0m\n\u001b[1;32m---> 17\u001b[1;33m         \u001b[0mprint\u001b[0m\u001b[1;33m(\u001b[0m\u001b[1;34m\"\\n Name of Father is \"\u001b[0m\u001b[1;33m,\u001b[0m\u001b[0mself\u001b[0m\u001b[1;33m.\u001b[0m\u001b[0mfname\u001b[0m\u001b[1;33m.\u001b[0m\u001b[0mtitle\u001b[0m\u001b[1;33m(\u001b[0m\u001b[1;33m)\u001b[0m\u001b[1;33m,\u001b[0m\u001b[0mself\u001b[0m\u001b[1;33m.\u001b[0m\u001b[0mlname\u001b[0m\u001b[1;33m.\u001b[0m\u001b[0mtitle\u001b[0m\u001b[1;33m(\u001b[0m\u001b[1;33m)\u001b[0m\u001b[1;33m)\u001b[0m\u001b[1;33m\u001b[0m\u001b[1;33m\u001b[0m\u001b[0m\n\u001b[0m\u001b[0;32m     18\u001b[0m         \u001b[0mprint\u001b[0m\u001b[1;33m(\u001b[0m\u001b[1;34m\"\\n Name of Child is : \"\u001b[0m\u001b[1;33m,\u001b[0m\u001b[0mself\u001b[0m\u001b[1;33m.\u001b[0m\u001b[0mcname\u001b[0m\u001b[1;33m.\u001b[0m\u001b[0mtitle\u001b[0m\u001b[1;33m(\u001b[0m\u001b[1;33m)\u001b[0m\u001b[1;33m,\u001b[0m\u001b[0mself\u001b[0m\u001b[1;33m.\u001b[0m\u001b[0mlname\u001b[0m\u001b[1;33m.\u001b[0m\u001b[0mtitle\u001b[0m\u001b[1;33m(\u001b[0m\u001b[1;33m)\u001b[0m\u001b[1;33m)\u001b[0m\u001b[1;33m\u001b[0m\u001b[1;33m\u001b[0m\u001b[0m\n",
      "\u001b[1;31mAttributeError\u001b[0m: 'Child' object has no attribute 'fname'"
     ]
    }
   ],
   "source": [
    "c.show_values()"
   ]
  },
  {
   "cell_type": "code",
   "execution_count": 25,
   "metadata": {},
   "outputs": [],
   "source": [
    "class Father:\n",
    "    def __init__(self,fname,lname):\n",
    "        self.fname = fname\n",
    "        self.lname = lname\n",
    "class Mother:\n",
    "    def __init__(self,mname,lname):\n",
    "        self.mname = mname\n",
    "        self.lname = lname\n",
    "class Child(Mother,Father):  \n",
    "    def __init__(self,fname,mname,cname,lname):\n",
    "        Father.__init__(self,fname,lname) \n",
    "        Mother.__init__(self,mname,lname)\n",
    "        self.cname = cname\n",
    "    \n",
    "    def show_values(self):\n",
    "        print(\"\\n Name of Mother is : \",self.mname.title(),self.lname.title())\n",
    "        print(\"\\n Name of Father is \",self.fname.title(),self.lname.title())\n",
    "        print(\"\\n Name of Child is : \",self.cname.title(),self.lname.title())"
   ]
  },
  {
   "cell_type": "code",
   "execution_count": 26,
   "metadata": {},
   "outputs": [],
   "source": [
    "c = Child(\"Rajesh\",\"Jyoti\",\"Sahil\",\"Grover\")"
   ]
  },
  {
   "cell_type": "code",
   "execution_count": 27,
   "metadata": {},
   "outputs": [
    {
     "name": "stdout",
     "output_type": "stream",
     "text": [
      "\n",
      " Name of Mother is :  Jyoti Grover\n",
      "\n",
      " Name of Father is  Rajesh Grover\n",
      "\n",
      " Name of Child is :  Sahil Grover\n"
     ]
    }
   ],
   "source": [
    "c.show_values()"
   ]
  },
  {
   "cell_type": "code",
   "execution_count": 28,
   "metadata": {},
   "outputs": [],
   "source": [
    "class Fname:\n",
    "    def __init__(self,fname):\n",
    "        self.fname = fname\n",
    "    \n",
    "class Lname:\n",
    "    def __init__(self,lname):\n",
    "        self.lname = lname\n",
    "\n",
    "class Name(Fname,Lname):\n",
    "    def __init__(self,fname,lname):\n",
    "        Fname.__init__(self,fname)\n",
    "        Lname.__init__(self,lname)\n",
    "        \n",
    "    def show(self):\n",
    "        print(\"\\n Name : \",self.fname,self.lname)\n",
    "        \n",
    "        \n",
    "n1 = Name(\"SIMRAN\",\"GROVER\")\n",
    "n2 = Name(\"Haresh\",\"Parmar\")"
   ]
  },
  {
   "cell_type": "code",
   "execution_count": 29,
   "metadata": {},
   "outputs": [
    {
     "name": "stdout",
     "output_type": "stream",
     "text": [
      "\n",
      " Name :  SIMRAN GROVER\n"
     ]
    }
   ],
   "source": [
    "n1.show()"
   ]
  },
  {
   "cell_type": "code",
   "execution_count": 30,
   "metadata": {},
   "outputs": [
    {
     "name": "stdout",
     "output_type": "stream",
     "text": [
      "\n",
      " Name :  Haresh Parmar\n"
     ]
    }
   ],
   "source": [
    "n2.show()"
   ]
  },
  {
   "cell_type": "code",
   "execution_count": 40,
   "metadata": {},
   "outputs": [],
   "source": [
    "class Mylist(list):\n",
    "    def __init__(self,l=[]):\n",
    "        super().__init__(l)\n",
    "        \n",
    "    def show(self):\n",
    "        return self\n",
    "        \n",
    "#every methods in list class can be access now by the Mylist object also"
   ]
  },
  {
   "cell_type": "code",
   "execution_count": 32,
   "metadata": {},
   "outputs": [],
   "source": [
    "obj = Mylist()"
   ]
  },
  {
   "cell_type": "code",
   "execution_count": 33,
   "metadata": {},
   "outputs": [
    {
     "data": {
      "text/plain": [
       "[]"
      ]
     },
     "execution_count": 33,
     "metadata": {},
     "output_type": "execute_result"
    }
   ],
   "source": [
    "obj"
   ]
  },
  {
   "cell_type": "code",
   "execution_count": 34,
   "metadata": {},
   "outputs": [
    {
     "data": {
      "text/plain": [
       "<__main__.Name at 0x205426a4848>"
      ]
     },
     "execution_count": 34,
     "metadata": {},
     "output_type": "execute_result"
    }
   ],
   "source": [
    "n1"
   ]
  },
  {
   "cell_type": "code",
   "execution_count": 35,
   "metadata": {},
   "outputs": [],
   "source": [
    "obj.append(10)"
   ]
  },
  {
   "cell_type": "code",
   "execution_count": 36,
   "metadata": {},
   "outputs": [
    {
     "name": "stdout",
     "output_type": "stream",
     "text": [
      "[10]\n"
     ]
    }
   ],
   "source": [
    "print(obj)"
   ]
  },
  {
   "cell_type": "code",
   "execution_count": 37,
   "metadata": {},
   "outputs": [
    {
     "data": {
      "text/plain": [
       "[10]"
      ]
     },
     "execution_count": 37,
     "metadata": {},
     "output_type": "execute_result"
    }
   ],
   "source": [
    "obj"
   ]
  },
  {
   "cell_type": "code",
   "execution_count": 38,
   "metadata": {},
   "outputs": [],
   "source": [
    "obj.extend([1,2,3,4,5])"
   ]
  },
  {
   "cell_type": "code",
   "execution_count": 39,
   "metadata": {},
   "outputs": [
    {
     "data": {
      "text/plain": [
       "[10, 1, 2, 3, 4, 5]"
      ]
     },
     "execution_count": 39,
     "metadata": {},
     "output_type": "execute_result"
    }
   ],
   "source": [
    "obj"
   ]
  },
  {
   "cell_type": "code",
   "execution_count": 41,
   "metadata": {},
   "outputs": [],
   "source": [
    "obj = Mylist([2,3,4,5,6])"
   ]
  },
  {
   "cell_type": "code",
   "execution_count": 43,
   "metadata": {},
   "outputs": [
    {
     "data": {
      "text/plain": [
       "[2, 3, 4, 5, 6]"
      ]
     },
     "execution_count": 43,
     "metadata": {},
     "output_type": "execute_result"
    }
   ],
   "source": [
    "obj.show()"
   ]
  },
  {
   "cell_type": "code",
   "execution_count": 55,
   "metadata": {},
   "outputs": [],
   "source": [
    "class Mylist(list):\n",
    "    def __init__(self,l=[]):\n",
    "        super().__init__(l)\n",
    "        \n",
    "    def show(self):\n",
    "        return self\n",
    "    \n",
    "    def find_index_max_ele(self):\n",
    "        \"\"\"\n",
    "            Return the index of maximum element in list\n",
    "        \"\"\"\n",
    "        index = 0\n",
    "        maxi = self[0]\n",
    "        for j in range(len(self)):\n",
    "            if maxi < self[j]:\n",
    "                maxi = self[j]\n",
    "                index = j\n",
    "        return index\n",
    "#every methods in list class can be access now by the Mylist object also"
   ]
  },
  {
   "cell_type": "code",
   "execution_count": 56,
   "metadata": {},
   "outputs": [],
   "source": [
    "l1 = Mylist([1,2,3,4,5])"
   ]
  },
  {
   "cell_type": "code",
   "execution_count": 57,
   "metadata": {},
   "outputs": [
    {
     "data": {
      "text/plain": [
       "4"
      ]
     },
     "execution_count": 57,
     "metadata": {},
     "output_type": "execute_result"
    }
   ],
   "source": [
    "l1.find_index_max_ele()"
   ]
  },
  {
   "cell_type": "code",
   "execution_count": 50,
   "metadata": {},
   "outputs": [],
   "source": [
    "l = [1,2,10,34,12,190,67,80,140]"
   ]
  },
  {
   "cell_type": "code",
   "execution_count": 48,
   "metadata": {},
   "outputs": [],
   "source": [
    "l.sort()"
   ]
  },
  {
   "cell_type": "code",
   "execution_count": 49,
   "metadata": {},
   "outputs": [
    {
     "data": {
      "text/plain": [
       "[1, 2, 10, 12, 34, 67, 80, 140, 190]"
      ]
     },
     "execution_count": 49,
     "metadata": {},
     "output_type": "execute_result"
    }
   ],
   "source": [
    "l"
   ]
  },
  {
   "cell_type": "code",
   "execution_count": 51,
   "metadata": {},
   "outputs": [
    {
     "data": {
      "text/plain": [
       "190"
      ]
     },
     "execution_count": 51,
     "metadata": {},
     "output_type": "execute_result"
    }
   ],
   "source": [
    "max(l)"
   ]
  },
  {
   "cell_type": "code",
   "execution_count": 52,
   "metadata": {},
   "outputs": [
    {
     "data": {
      "text/plain": [
       "[1, 2, 10, 34, 12, 190, 67, 80, 140]"
      ]
     },
     "execution_count": 52,
     "metadata": {},
     "output_type": "execute_result"
    }
   ],
   "source": [
    "l"
   ]
  },
  {
   "cell_type": "code",
   "execution_count": 54,
   "metadata": {},
   "outputs": [
    {
     "data": {
      "text/plain": [
       "5"
      ]
     },
     "execution_count": 54,
     "metadata": {},
     "output_type": "execute_result"
    }
   ],
   "source": [
    "l.index(max(l))"
   ]
  },
  {
   "cell_type": "markdown",
   "metadata": {},
   "source": [
    "#### Multilevel Inheritance\n",
    "\n",
    "\n",
    "                    GrandParent\n",
    "                        |\n",
    "                      Parent\n",
    "                        |\n",
    "                      Child"
   ]
  },
  {
   "cell_type": "code",
   "execution_count": 58,
   "metadata": {},
   "outputs": [],
   "source": [
    "class Grandparent:\n",
    "    def __init__(self,gname,gage):\n",
    "        self.gname = gname\n",
    "        self.gage = gage\n",
    "        \n",
    "class Parent(Grandparent):\n",
    "    def __init__(self,pname,page,gname,gage):\n",
    "        super().__init__(gname,gage)\n",
    "        self.pname = pname\n",
    "        self.page = page\n",
    "        \n",
    "class Child(Parent):\n",
    "    def __init__(self,gname,gage,pname,page,cname,cage):\n",
    "        super().__init__(pname,page,gname,gage)\n",
    "        self.cname = cname\n",
    "        self.cage = cage\n",
    "        \n",
    "    def show(self):\n",
    "        print(\"\\n Grand Parent Name : \",self.gname,\"and age is : \",self.gage)\n",
    "        print(\"\\n Parent Name : \",self.pname,\"and age is : \",self.page)\n",
    "        print(\"\\n Child Name : \",self.cname,\"and age is : \",self.cage)"
   ]
  },
  {
   "cell_type": "code",
   "execution_count": 59,
   "metadata": {},
   "outputs": [],
   "source": [
    "obj = Child(\"Rajesh\",70,\"Sonu\",50,\"Sahil\",20)"
   ]
  },
  {
   "cell_type": "code",
   "execution_count": 60,
   "metadata": {},
   "outputs": [
    {
     "name": "stdout",
     "output_type": "stream",
     "text": [
      "\n",
      " Grand Parent Name :  Rajesh and age is :  70\n",
      "\n",
      " Parent Name :  Sonu and age is :  50\n",
      "\n",
      " Child Name :  Sahil and age is :  20\n"
     ]
    }
   ],
   "source": [
    "obj.show()"
   ]
  },
  {
   "cell_type": "markdown",
   "metadata": {},
   "source": [
    "#### Heirarchical Inheritance\n",
    "\n",
    "                        Parent   \n",
    "                     /          \\\n",
    "                 Child1           Child2"
   ]
  },
  {
   "cell_type": "code",
   "execution_count": 67,
   "metadata": {},
   "outputs": [],
   "source": [
    "class Mobile:\n",
    "    def __init__(self,brand,model):\n",
    "        self.brand = brand\n",
    "        self.model = model\n",
    "        \n",
    "class Samsung(Mobile):\n",
    "    def __init__(self,model,price):\n",
    "        super().__init__(\"Samsung\",model)\n",
    "        self.price = price\n",
    "    \n",
    "    def show(self):\n",
    "        print(\"\\n Brand : \",self.brand)\n",
    "        print(\"\\n Model : \",self.model)\n",
    "        print(\"\\n Price : \",self.price)\n",
    "        \n",
    "        \n",
    "class Apple(Mobile):\n",
    "    def __init__(self,model,price):\n",
    "        super().__init__(\"Apple\",model)\n",
    "        self.price = price\n",
    "        \n",
    "    def show(self):\n",
    "        print(\"\\n Brand : \",self.brand)\n",
    "        print(\"\\n Model : \",self.model)\n",
    "        print(\"\\n Price : \",self.price)"
   ]
  },
  {
   "cell_type": "code",
   "execution_count": 68,
   "metadata": {},
   "outputs": [],
   "source": [
    "s1 = Samsung(\"M21\",15000)\n",
    "s2 = Apple(\"i7\",40000)"
   ]
  },
  {
   "cell_type": "code",
   "execution_count": 69,
   "metadata": {},
   "outputs": [
    {
     "name": "stdout",
     "output_type": "stream",
     "text": [
      "\n",
      " Brand :  Samsung\n",
      "\n",
      " Model :  M21\n",
      "\n",
      " Price :  15000\n"
     ]
    }
   ],
   "source": [
    "s1.show()"
   ]
  },
  {
   "cell_type": "code",
   "execution_count": 70,
   "metadata": {},
   "outputs": [
    {
     "name": "stdout",
     "output_type": "stream",
     "text": [
      "\n",
      " Brand :  Apple\n",
      "\n",
      " Model :  i7\n",
      "\n",
      " Price :  40000\n"
     ]
    }
   ],
   "source": [
    "s2.show()"
   ]
  },
  {
   "cell_type": "markdown",
   "metadata": {},
   "source": [
    "#### Hybrid Inheritance\n",
    "\n",
    "                    A\n",
    "                  /   \\\n",
    "                 B     C\n",
    "                 \\    /\n",
    "                    D"
   ]
  },
  {
   "cell_type": "markdown",
   "metadata": {},
   "source": [
    "    Class Mobile\n",
    "    \n",
    "        Attributes\n",
    "            model\n",
    "            brand\n",
    "            price\n",
    "        Method\n",
    "            __init__\n",
    "            __str__\n",
    "            __repr__\n",
    "            showmodel\n",
    "            showprice\n",
    "            showbrand\n",
    "            discount\n",
    "                1. brand = samsung , 10% dis on original price and change the value of price for customer\n",
    "                2. brand = apple, 20% dis\n",
    "                3. brand = oneplus , 15% dis\n",
    "                4. else give 25% dis"
   ]
  },
  {
   "cell_type": "code",
   "execution_count": 72,
   "metadata": {},
   "outputs": [],
   "source": [
    "class Rectangle:\n",
    "    def __init__(self,height,width,color=None,pos=[0,0]):\n",
    "        self.height = height\n",
    "        self.width = width\n",
    "        self.color = color\n",
    "        self.pos = pos\n"
   ]
  },
  {
   "cell_type": "code",
   "execution_count": 73,
   "metadata": {},
   "outputs": [],
   "source": [
    "r1 = Rectangle(20,20)\n",
    "r2 = Rectangle(30,40,\"red\")"
   ]
  },
  {
   "cell_type": "code",
   "execution_count": 74,
   "metadata": {},
   "outputs": [
    {
     "data": {
      "text/plain": [
       "True"
      ]
     },
     "execution_count": 74,
     "metadata": {},
     "output_type": "execute_result"
    }
   ],
   "source": [
    "hasattr(r1,\"height\")  #(object,attr_name)"
   ]
  },
  {
   "cell_type": "code",
   "execution_count": 75,
   "metadata": {},
   "outputs": [
    {
     "data": {
      "text/plain": [
       "[1, 2, 10, 34, 12, 190, 67, 80, 140]"
      ]
     },
     "execution_count": 75,
     "metadata": {},
     "output_type": "execute_result"
    }
   ],
   "source": [
    "l"
   ]
  },
  {
   "cell_type": "code",
   "execution_count": 76,
   "metadata": {},
   "outputs": [
    {
     "data": {
      "text/plain": [
       "False"
      ]
     },
     "execution_count": 76,
     "metadata": {},
     "output_type": "execute_result"
    }
   ],
   "source": [
    "hasattr(l,\"abc\")"
   ]
  },
  {
   "cell_type": "code",
   "execution_count": 77,
   "metadata": {},
   "outputs": [
    {
     "data": {
      "text/plain": [
       "True"
      ]
     },
     "execution_count": 77,
     "metadata": {},
     "output_type": "execute_result"
    }
   ],
   "source": [
    "hasattr(l,\"append\")"
   ]
  },
  {
   "cell_type": "code",
   "execution_count": 78,
   "metadata": {},
   "outputs": [],
   "source": [
    "getattr(r1,\"color\")"
   ]
  },
  {
   "cell_type": "code",
   "execution_count": 79,
   "metadata": {},
   "outputs": [
    {
     "data": {
      "text/plain": [
       "[0, 0]"
      ]
     },
     "execution_count": 79,
     "metadata": {},
     "output_type": "execute_result"
    }
   ],
   "source": [
    "getattr(r1,\"pos\")"
   ]
  },
  {
   "cell_type": "code",
   "execution_count": 80,
   "metadata": {},
   "outputs": [
    {
     "data": {
      "text/plain": [
       "30"
      ]
     },
     "execution_count": 80,
     "metadata": {},
     "output_type": "execute_result"
    }
   ],
   "source": [
    "getattr(r2,\"height\")"
   ]
  },
  {
   "cell_type": "code",
   "execution_count": 81,
   "metadata": {},
   "outputs": [],
   "source": [
    "setattr(r1,\"color\",\"blue\")"
   ]
  },
  {
   "cell_type": "code",
   "execution_count": 82,
   "metadata": {},
   "outputs": [
    {
     "data": {
      "text/plain": [
       "'blue'"
      ]
     },
     "execution_count": 82,
     "metadata": {},
     "output_type": "execute_result"
    }
   ],
   "source": [
    "getattr(r1,\"color\")"
   ]
  },
  {
   "cell_type": "code",
   "execution_count": 83,
   "metadata": {},
   "outputs": [],
   "source": [
    "setattr(r1,\"color2\",\"white\")"
   ]
  },
  {
   "cell_type": "code",
   "execution_count": 84,
   "metadata": {},
   "outputs": [
    {
     "data": {
      "text/plain": [
       "'white'"
      ]
     },
     "execution_count": 84,
     "metadata": {},
     "output_type": "execute_result"
    }
   ],
   "source": [
    "getattr(r1,\"color2\")"
   ]
  },
  {
   "cell_type": "code",
   "execution_count": 85,
   "metadata": {},
   "outputs": [
    {
     "data": {
      "text/plain": [
       "True"
      ]
     },
     "execution_count": 85,
     "metadata": {},
     "output_type": "execute_result"
    }
   ],
   "source": [
    "hasattr(r1,\"color2\")"
   ]
  },
  {
   "cell_type": "code",
   "execution_count": 86,
   "metadata": {},
   "outputs": [],
   "source": [
    "delattr(r1,\"color2\")  #(object,attribute)"
   ]
  },
  {
   "cell_type": "code",
   "execution_count": 87,
   "metadata": {},
   "outputs": [
    {
     "data": {
      "text/plain": [
       "False"
      ]
     },
     "execution_count": 87,
     "metadata": {},
     "output_type": "execute_result"
    }
   ],
   "source": [
    "hasattr(r1,\"color2\")"
   ]
  },
  {
   "cell_type": "code",
   "execution_count": 88,
   "metadata": {},
   "outputs": [
    {
     "ename": "AttributeError",
     "evalue": "'Rectangle' object has no attribute 'color2'",
     "output_type": "error",
     "traceback": [
      "\u001b[1;31m---------------------------------------------------------------------------\u001b[0m",
      "\u001b[1;31mAttributeError\u001b[0m                            Traceback (most recent call last)",
      "\u001b[1;32m<ipython-input-88-5983fe1f8789>\u001b[0m in \u001b[0;36m<module>\u001b[1;34m\u001b[0m\n\u001b[1;32m----> 1\u001b[1;33m \u001b[0mgetattr\u001b[0m\u001b[1;33m(\u001b[0m\u001b[0mr1\u001b[0m\u001b[1;33m,\u001b[0m\u001b[1;34m\"color2\"\u001b[0m\u001b[1;33m)\u001b[0m\u001b[1;33m\u001b[0m\u001b[1;33m\u001b[0m\u001b[0m\n\u001b[0m",
      "\u001b[1;31mAttributeError\u001b[0m: 'Rectangle' object has no attribute 'color2'"
     ]
    }
   ],
   "source": [
    "getattr(r1,\"color2\")"
   ]
  },
  {
   "cell_type": "code",
   "execution_count": null,
   "metadata": {},
   "outputs": [],
   "source": []
  }
 ],
 "metadata": {
  "kernelspec": {
   "display_name": "Python 3",
   "language": "python",
   "name": "python3"
  },
  "language_info": {
   "codemirror_mode": {
    "name": "ipython",
    "version": 3
   },
   "file_extension": ".py",
   "mimetype": "text/x-python",
   "name": "python",
   "nbconvert_exporter": "python",
   "pygments_lexer": "ipython3",
   "version": "3.7.4"
  }
 },
 "nbformat": 4,
 "nbformat_minor": 2
}
