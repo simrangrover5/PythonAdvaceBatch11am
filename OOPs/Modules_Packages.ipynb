{
 "cells": [
  {
   "cell_type": "markdown",
   "metadata": {},
   "source": [
    "### Modules \n",
    "    They are the python files\n",
    "### Packages \n",
    "    Collection of py files"
   ]
  },
  {
   "cell_type": "code",
   "execution_count": 1,
   "metadata": {},
   "outputs": [],
   "source": [
    "import os"
   ]
  },
  {
   "cell_type": "code",
   "execution_count": 2,
   "metadata": {},
   "outputs": [],
   "source": [
    "os.chdir(\"..\")"
   ]
  },
  {
   "cell_type": "code",
   "execution_count": 3,
   "metadata": {},
   "outputs": [
    {
     "name": "stdout",
     "output_type": "stream",
     "text": [
      " Volume in drive C is Windows\n",
      " Volume Serial Number is E08D-DAD9\n",
      "\n",
      " Directory of C:\\batches\\online_batch\\pythonbatch10_15am\n",
      "\n",
      "13-10-2020  11:57    <DIR>          .\n",
      "13-10-2020  11:57    <DIR>          ..\n",
      "13-10-2020  11:57             8,985 .file1.py.un~\n",
      "01-10-2020  11:25    <DIR>          .ipynb_checkpoints\n",
      "18-08-2020  11:08            16,791 .one.txt.un~\n",
      "15-09-2020  11:52    <DIR>          __pycache__\n",
      "31-08-2020  12:35            33,906 10. Type_Conversion.ipynb\n",
      "01-09-2020  12:23            52,980 11. Operators.ipynb\n",
      "02-09-2020  13:32            22,018 12. Control_Statements.ipynb\n",
      "03-09-2020  12:31            27,409 13. if_else_loops.ipynb\n",
      "04-09-2020  12:09            32,651 14. While_Loop.ipynb\n",
      "08-09-2020  11:22           569,816 15. Nested_While_Loop.ipynb\n",
      "08-09-2020  12:32            17,969 16. While_Loop_Continue.ipynb\n",
      "09-09-2020  12:28            43,372 17. For_Loop.ipynb\n",
      "10-09-2020  11:03            25,994 18. For_Loop.ipynb\n",
      "11-09-2020  12:20            25,753 19. Functions.ipynb\n",
      "19-08-2020  11:42           114,628 2. Data_Type.ipynb\n",
      "15-09-2020  12:29            26,578 20. Functions.ipynb\n",
      "16-09-2020  13:01            25,392 21. Functions.ipynb\n",
      "17-09-2020  12:42            41,885 22. Functions.ipynb\n",
      "18-09-2020  12:26            16,054 23. Functions.ipynb\n",
      "21-09-2020  13:03            19,788 24. Functions.ipynb\n",
      "22-09-2020  12:43            27,639 25. Closures_Decorators.ipynb\n",
      "01-10-2020  12:07            31,068 26. Decorators.ipynb\n",
      "20-08-2020  11:48            24,480 3. Data_Type.ipynb\n",
      "21-08-2020  11:49            49,306 4. Data_Type.ipynb\n",
      "24-08-2020  12:37            42,853 5. Data_Type.ipynb\n",
      "25-08-2020  12:34            41,526 6. Data_Type.ipynb\n",
      "26-08-2020  12:29            62,429 7. Data_Type.ipynb\n",
      "27-08-2020  12:35            48,912 8. Sets.ipynb\n",
      "28-08-2020  12:33            36,981 9. Frozen_Set_Assignment.ipynb\n",
      "18-09-2020  11:35            21,102 Bank_Application.ipynb\n",
      "18-08-2020  11:36             2,985 Class_1.ipynb\n",
      "18-08-2020  11:33             2,645 Commands.ipynb\n",
      "19-10-2020  11:32               812 debug.log\n",
      "08-10-2020  11:08    <DIR>          File_Handling\n",
      "13-10-2020  11:57               246 file1.py\n",
      "13-10-2020  11:56               239 file1.py~\n",
      "15-09-2020  11:52                92 matrix.py\n",
      "18-08-2020  11:08               229 one.txt\n",
      "18-08-2020  10:58                88 one.txt~\n",
      "21-10-2020  12:17    <DIR>          OOPs\n",
      "03-09-2020  11:46               685 stone_paper_scissor_game.py\n",
      "              37 File(s)      1,516,286 bytes\n",
      "               6 Dir(s)  29,758,574,592 bytes free\n"
     ]
    }
   ],
   "source": [
    "ls"
   ]
  },
  {
   "cell_type": "code",
   "execution_count": 5,
   "metadata": {},
   "outputs": [
    {
     "ename": "FileExistsError",
     "evalue": "[WinError 183] Cannot create a file when that file already exists: 'module_pkgs'",
     "output_type": "error",
     "traceback": [
      "\u001b[1;31m---------------------------------------------------------------------------\u001b[0m",
      "\u001b[1;31mFileExistsError\u001b[0m                           Traceback (most recent call last)",
      "\u001b[1;32m<ipython-input-5-3a78c42bddae>\u001b[0m in \u001b[0;36m<module>\u001b[1;34m\u001b[0m\n\u001b[1;32m----> 1\u001b[1;33m \u001b[0mos\u001b[0m\u001b[1;33m.\u001b[0m\u001b[0mmkdir\u001b[0m\u001b[1;33m(\u001b[0m\u001b[1;34m\"module_pkgs\"\u001b[0m\u001b[1;33m)\u001b[0m\u001b[1;33m\u001b[0m\u001b[1;33m\u001b[0m\u001b[0m\n\u001b[0m",
      "\u001b[1;31mFileExistsError\u001b[0m: [WinError 183] Cannot create a file when that file already exists: 'module_pkgs'"
     ]
    }
   ],
   "source": [
    "os.mkdir(\"module_pkgs\")"
   ]
  },
  {
   "cell_type": "code",
   "execution_count": 5,
   "metadata": {},
   "outputs": [
    {
     "name": "stdout",
     "output_type": "stream",
     "text": [
      " Volume in drive C is Windows\n",
      " Volume Serial Number is E08D-DAD9\n",
      "\n",
      " Directory of C:\\batches\\online_batch\\pythonbatch10_15am\n",
      "\n",
      "21-10-2020  12:18    <DIR>          .\n",
      "21-10-2020  12:18    <DIR>          ..\n",
      "13-10-2020  11:57             8,985 .file1.py.un~\n",
      "01-10-2020  11:25    <DIR>          .ipynb_checkpoints\n",
      "18-08-2020  11:08            16,791 .one.txt.un~\n",
      "15-09-2020  11:52    <DIR>          __pycache__\n",
      "31-08-2020  12:35            33,906 10. Type_Conversion.ipynb\n",
      "01-09-2020  12:23            52,980 11. Operators.ipynb\n",
      "02-09-2020  13:32            22,018 12. Control_Statements.ipynb\n",
      "03-09-2020  12:31            27,409 13. if_else_loops.ipynb\n",
      "04-09-2020  12:09            32,651 14. While_Loop.ipynb\n",
      "08-09-2020  11:22           569,816 15. Nested_While_Loop.ipynb\n",
      "08-09-2020  12:32            17,969 16. While_Loop_Continue.ipynb\n",
      "09-09-2020  12:28            43,372 17. For_Loop.ipynb\n",
      "10-09-2020  11:03            25,994 18. For_Loop.ipynb\n",
      "11-09-2020  12:20            25,753 19. Functions.ipynb\n",
      "19-08-2020  11:42           114,628 2. Data_Type.ipynb\n",
      "15-09-2020  12:29            26,578 20. Functions.ipynb\n",
      "16-09-2020  13:01            25,392 21. Functions.ipynb\n",
      "17-09-2020  12:42            41,885 22. Functions.ipynb\n",
      "18-09-2020  12:26            16,054 23. Functions.ipynb\n",
      "21-09-2020  13:03            19,788 24. Functions.ipynb\n",
      "22-09-2020  12:43            27,639 25. Closures_Decorators.ipynb\n",
      "01-10-2020  12:07            31,068 26. Decorators.ipynb\n",
      "20-08-2020  11:48            24,480 3. Data_Type.ipynb\n",
      "21-08-2020  11:49            49,306 4. Data_Type.ipynb\n",
      "24-08-2020  12:37            42,853 5. Data_Type.ipynb\n",
      "25-08-2020  12:34            41,526 6. Data_Type.ipynb\n",
      "26-08-2020  12:29            62,429 7. Data_Type.ipynb\n",
      "27-08-2020  12:35            48,912 8. Sets.ipynb\n",
      "28-08-2020  12:33            36,981 9. Frozen_Set_Assignment.ipynb\n",
      "18-09-2020  11:35            21,102 Bank_Application.ipynb\n",
      "18-08-2020  11:36             2,985 Class_1.ipynb\n",
      "18-08-2020  11:33             2,645 Commands.ipynb\n",
      "19-10-2020  11:32               812 debug.log\n",
      "08-10-2020  11:08    <DIR>          File_Handling\n",
      "13-10-2020  11:57               246 file1.py\n",
      "13-10-2020  11:56               239 file1.py~\n",
      "15-09-2020  11:52                92 matrix.py\n",
      "21-10-2020  12:18    <DIR>          module_pkgs\n",
      "18-08-2020  11:08               229 one.txt\n",
      "18-08-2020  10:58                88 one.txt~\n",
      "21-10-2020  12:17    <DIR>          OOPs\n",
      "03-09-2020  11:46               685 stone_paper_scissor_game.py\n",
      "              37 File(s)      1,516,286 bytes\n",
      "               7 Dir(s)  29,758,664,704 bytes free\n"
     ]
    }
   ],
   "source": [
    "ls"
   ]
  },
  {
   "cell_type": "code",
   "execution_count": 3,
   "metadata": {},
   "outputs": [],
   "source": [
    "os.chdir(\"module_pkgs/\")"
   ]
  },
  {
   "cell_type": "code",
   "execution_count": 7,
   "metadata": {},
   "outputs": [
    {
     "name": "stdout",
     "output_type": "stream",
     "text": [
      " Volume in drive C is Windows\n",
      " Volume Serial Number is E08D-DAD9\n",
      "\n",
      " Directory of C:\\batches\\online_batch\\pythonbatch10_15am\\module_pkgs\n",
      "\n",
      "21-10-2020  12:18    <DIR>          .\n",
      "21-10-2020  12:18    <DIR>          ..\n",
      "               0 File(s)              0 bytes\n",
      "               2 Dir(s)  29,758,656,512 bytes free\n"
     ]
    }
   ],
   "source": [
    "ls"
   ]
  },
  {
   "cell_type": "code",
   "execution_count": 8,
   "metadata": {},
   "outputs": [
    {
     "name": "stdout",
     "output_type": "stream",
     "text": [
      "Writing f1.py\n"
     ]
    }
   ],
   "source": [
    "%%writefile f1.py\n",
    "\n",
    "def add(a,b):\n",
    "    print(a+b)"
   ]
  },
  {
   "cell_type": "code",
   "execution_count": 9,
   "metadata": {},
   "outputs": [
    {
     "name": "stdout",
     "output_type": "stream",
     "text": [
      " Volume in drive C is Windows\n",
      " Volume Serial Number is E08D-DAD9\n",
      "\n",
      " Directory of C:\\batches\\online_batch\\pythonbatch10_15am\\module_pkgs\n",
      "\n",
      "21-10-2020  12:18    <DIR>          .\n",
      "21-10-2020  12:18    <DIR>          ..\n",
      "21-10-2020  12:18                33 f1.py\n",
      "               1 File(s)             33 bytes\n",
      "               2 Dir(s)  29,758,918,656 bytes free\n"
     ]
    }
   ],
   "source": [
    "ls"
   ]
  },
  {
   "cell_type": "code",
   "execution_count": 10,
   "metadata": {},
   "outputs": [],
   "source": [
    "import f1  #it will find f1 in current dir and other paths also"
   ]
  },
  {
   "cell_type": "code",
   "execution_count": 11,
   "metadata": {},
   "outputs": [
    {
     "ename": "ModuleNotFoundError",
     "evalue": "No module named 'f2'",
     "output_type": "error",
     "traceback": [
      "\u001b[1;31m---------------------------------------------------------------------------\u001b[0m",
      "\u001b[1;31mModuleNotFoundError\u001b[0m                       Traceback (most recent call last)",
      "\u001b[1;32m<ipython-input-11-1c8035936266>\u001b[0m in \u001b[0;36m<module>\u001b[1;34m\u001b[0m\n\u001b[1;32m----> 1\u001b[1;33m \u001b[1;32mimport\u001b[0m \u001b[0mf2\u001b[0m\u001b[1;33m\u001b[0m\u001b[1;33m\u001b[0m\u001b[0m\n\u001b[0m",
      "\u001b[1;31mModuleNotFoundError\u001b[0m: No module named 'f2'"
     ]
    }
   ],
   "source": [
    "import f2"
   ]
  },
  {
   "cell_type": "code",
   "execution_count": 12,
   "metadata": {},
   "outputs": [
    {
     "name": "stdout",
     "output_type": "stream",
     "text": [
      "30\n"
     ]
    }
   ],
   "source": [
    "f1.add(10,20)"
   ]
  },
  {
   "cell_type": "code",
   "execution_count": 13,
   "metadata": {},
   "outputs": [
    {
     "name": "stdout",
     "output_type": "stream",
     "text": [
      "70\n"
     ]
    }
   ],
   "source": [
    "f1.add(30,40)"
   ]
  },
  {
   "cell_type": "code",
   "execution_count": 14,
   "metadata": {},
   "outputs": [
    {
     "data": {
      "text/plain": [
       "'__main__'"
      ]
     },
     "execution_count": 14,
     "metadata": {},
     "output_type": "execute_result"
    }
   ],
   "source": [
    "__name__  #namespace"
   ]
  },
  {
   "cell_type": "code",
   "execution_count": 15,
   "metadata": {},
   "outputs": [
    {
     "name": "stdout",
     "output_type": "stream",
     "text": [
      "Writing f2.py\n"
     ]
    }
   ],
   "source": [
    "%%writefile f2.py\n",
    "\n",
    "print(\"This is file f2\")\n",
    "print(__name__)"
   ]
  },
  {
   "cell_type": "code",
   "execution_count": 16,
   "metadata": {},
   "outputs": [
    {
     "name": "stdout",
     "output_type": "stream",
     "text": [
      "This is file f2\n",
      "__main__\n"
     ]
    }
   ],
   "source": [
    "!python f2.py"
   ]
  },
  {
   "cell_type": "code",
   "execution_count": 17,
   "metadata": {},
   "outputs": [
    {
     "name": "stdout",
     "output_type": "stream",
     "text": [
      "This is file f2\n",
      "f2\n"
     ]
    }
   ],
   "source": [
    "import f2"
   ]
  },
  {
   "cell_type": "code",
   "execution_count": 21,
   "metadata": {},
   "outputs": [
    {
     "name": "stdout",
     "output_type": "stream",
     "text": [
      "Overwriting f2.py\n"
     ]
    }
   ],
   "source": [
    "%%writefile f2.py\n",
    "\n",
    "def sub(a, b):\n",
    "    return a-b\n",
    "\n",
    "\n",
    "print(sub(80, 90))\n",
    "print(\"\\n Space : \", __name__)"
   ]
  },
  {
   "cell_type": "code",
   "execution_count": 22,
   "metadata": {},
   "outputs": [
    {
     "name": "stdout",
     "output_type": "stream",
     "text": [
      "-10\n",
      "\n",
      " Space :  __main__\n"
     ]
    }
   ],
   "source": [
    "!python f2.py"
   ]
  },
  {
   "cell_type": "code",
   "execution_count": 7,
   "metadata": {},
   "outputs": [
    {
     "name": "stdout",
     "output_type": "stream",
     "text": [
      "-10\n",
      "\n",
      " Space :  f2\n"
     ]
    }
   ],
   "source": [
    "import f2"
   ]
  },
  {
   "cell_type": "code",
   "execution_count": 8,
   "metadata": {},
   "outputs": [
    {
     "name": "stdout",
     "output_type": "stream",
     "text": [
      "Overwriting f2.py\n"
     ]
    }
   ],
   "source": [
    "%%writefile f2.py\n",
    "\n",
    "def sub(a, b):\n",
    "    return a-b\n",
    "\n",
    "if __name__ == \"__main__\":\n",
    "    print(sub(80, 90))\n",
    "    print(\"\\n Space : \", __name__)"
   ]
  },
  {
   "cell_type": "code",
   "execution_count": 9,
   "metadata": {},
   "outputs": [
    {
     "name": "stdout",
     "output_type": "stream",
     "text": [
      "Writing mod1.py\n"
     ]
    }
   ],
   "source": [
    "%%writefile mod1.py\n",
    "\n",
    "\n",
    "def add(a, b):\n",
    "    return a + b\n",
    "\n",
    "def sub(a, b):\n",
    "    return a - b\n",
    "\n",
    "s = \"string\"\n"
   ]
  },
  {
   "cell_type": "code",
   "execution_count": 10,
   "metadata": {},
   "outputs": [
    {
     "name": "stdout",
     "output_type": "stream",
     "text": [
      "Writing mod2.py\n"
     ]
    }
   ],
   "source": [
    "%%writefile mod2.py\n",
    "\n",
    "class Person:\n",
    "    def __init__(self, name, age):\n",
    "        self.name = name\n",
    "        self.age = age\n",
    "        \n",
    "    def show(self):\n",
    "        print(\"\\n Name : \", self.name)\n",
    "        print(\"\\n Age : \", self.age)"
   ]
  },
  {
   "cell_type": "code",
   "execution_count": 11,
   "metadata": {},
   "outputs": [],
   "source": [
    "import mod1\n",
    "import mod2"
   ]
  },
  {
   "cell_type": "code",
   "execution_count": 12,
   "metadata": {},
   "outputs": [
    {
     "data": {
      "text/plain": [
       "'string'"
      ]
     },
     "execution_count": 12,
     "metadata": {},
     "output_type": "execute_result"
    }
   ],
   "source": [
    "mod1.s"
   ]
  },
  {
   "cell_type": "code",
   "execution_count": 13,
   "metadata": {},
   "outputs": [
    {
     "data": {
      "text/plain": [
       "-10"
      ]
     },
     "execution_count": 13,
     "metadata": {},
     "output_type": "execute_result"
    }
   ],
   "source": [
    "mod1.sub(80,90)"
   ]
  },
  {
   "cell_type": "code",
   "execution_count": 14,
   "metadata": {},
   "outputs": [
    {
     "data": {
      "text/plain": [
       "150"
      ]
     },
     "execution_count": 14,
     "metadata": {},
     "output_type": "execute_result"
    }
   ],
   "source": [
    "mod1.add(70,80)"
   ]
  },
  {
   "cell_type": "code",
   "execution_count": 15,
   "metadata": {},
   "outputs": [],
   "source": [
    "obj = mod2.Person(\"Simran\", 20)"
   ]
  },
  {
   "cell_type": "code",
   "execution_count": 16,
   "metadata": {},
   "outputs": [
    {
     "name": "stdout",
     "output_type": "stream",
     "text": [
      "\n",
      " Name :  Simran\n",
      "\n",
      " Age :  20\n"
     ]
    }
   ],
   "source": [
    "obj.show()"
   ]
  },
  {
   "cell_type": "code",
   "execution_count": 4,
   "metadata": {},
   "outputs": [],
   "source": [
    "from mod1 import *\n",
    "from mod2 import *"
   ]
  },
  {
   "cell_type": "code",
   "execution_count": 5,
   "metadata": {},
   "outputs": [
    {
     "data": {
      "text/plain": [
       "'string'"
      ]
     },
     "execution_count": 5,
     "metadata": {},
     "output_type": "execute_result"
    }
   ],
   "source": [
    "s"
   ]
  },
  {
   "cell_type": "code",
   "execution_count": 6,
   "metadata": {},
   "outputs": [
    {
     "data": {
      "text/plain": [
       "170"
      ]
     },
     "execution_count": 6,
     "metadata": {},
     "output_type": "execute_result"
    }
   ],
   "source": [
    "add(80, 90)"
   ]
  },
  {
   "cell_type": "code",
   "execution_count": 7,
   "metadata": {},
   "outputs": [
    {
     "data": {
      "text/plain": [
       "290"
      ]
     },
     "execution_count": 7,
     "metadata": {},
     "output_type": "execute_result"
    }
   ],
   "source": [
    "sub(340, 50)"
   ]
  },
  {
   "cell_type": "code",
   "execution_count": 9,
   "metadata": {},
   "outputs": [],
   "source": [
    "obj = Person(\"Simran\", 20)"
   ]
  },
  {
   "cell_type": "code",
   "execution_count": 10,
   "metadata": {},
   "outputs": [
    {
     "data": {
      "text/plain": [
       "<mod2.Person at 0x292ba0fbe08>"
      ]
     },
     "execution_count": 10,
     "metadata": {},
     "output_type": "execute_result"
    }
   ],
   "source": [
    "obj"
   ]
  },
  {
   "cell_type": "code",
   "execution_count": 11,
   "metadata": {},
   "outputs": [],
   "source": [
    "class One:\n",
    "    pass"
   ]
  },
  {
   "cell_type": "code",
   "execution_count": 12,
   "metadata": {},
   "outputs": [],
   "source": [
    "obj = One()"
   ]
  },
  {
   "cell_type": "code",
   "execution_count": 13,
   "metadata": {},
   "outputs": [
    {
     "data": {
      "text/plain": [
       "<__main__.One at 0x292ba13aa48>"
      ]
     },
     "execution_count": 13,
     "metadata": {},
     "output_type": "execute_result"
    }
   ],
   "source": [
    "obj"
   ]
  },
  {
   "cell_type": "code",
   "execution_count": 14,
   "metadata": {},
   "outputs": [],
   "source": [
    "### packages, sockets"
   ]
  },
  {
   "cell_type": "code",
   "execution_count": null,
   "metadata": {},
   "outputs": [],
   "source": []
  }
 ],
 "metadata": {
  "kernelspec": {
   "display_name": "Python 3",
   "language": "python",
   "name": "python3"
  },
  "language_info": {
   "codemirror_mode": {
    "name": "ipython",
    "version": 3
   },
   "file_extension": ".py",
   "mimetype": "text/x-python",
   "name": "python",
   "nbconvert_exporter": "python",
   "pygments_lexer": "ipython3",
   "version": "3.7.4"
  }
 },
 "nbformat": 4,
 "nbformat_minor": 2
}
