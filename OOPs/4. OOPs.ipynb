{
 "cells": [
  {
   "cell_type": "code",
   "execution_count": 7,
   "metadata": {},
   "outputs": [],
   "source": [
    "class Myclass:\n",
    "    def __init__(self,chairs,tables,comp,fan,lights):\n",
    "        self.chairs = chairs\n",
    "        self.tables = tables\n",
    "        self.comp = comp\n",
    "        self.fan = fan\n",
    "        self.lights = lights\n",
    "        \n",
    "    def show_attr(self):\n",
    "        for key,value in self.__dict__.items():\n",
    "            print(key,\"=\",value)\n",
    "    \n",
    "    def change_attr(self):\n",
    "        while True:\n",
    "            print(\"\\n WHAT DO YOU WANT TO CHANGE?????\")\n",
    "            print(\"1. Chair\\n2. Table\\n3. Fan\\n4. Lights\\n5. Computer\\n6. Exit\")\n",
    "            ch = int(input(\"\\n Choose any option from above : \"))\n",
    "            if ch == 1:\n",
    "                self.chairs = int(input(\"\\n Enter new number of chairs : \"))\n",
    "            elif ch == 2:\n",
    "                self.tables = int(input(\"\\n Enter new number of tables : \"))\n",
    "            elif ch == 3:\n",
    "                self.fan = int(input(\"\\n Enter new number of fans : \"))\n",
    "            elif ch == 4:\n",
    "                self.lights = int(input(\"\\n Enter new number of lights : \"))\n",
    "            elif ch == 5:\n",
    "                self.comp = int(input(\"\\n ENter new number of computers : \"))\n",
    "            elif ch == 6:\n",
    "                print(\"\\n THANKYOU!!!!\")\n",
    "                break\n",
    "            else:\n",
    "                print(\"\\n Invalid choice.....\")\n",
    "            "
   ]
  },
  {
   "cell_type": "code",
   "execution_count": 8,
   "metadata": {},
   "outputs": [],
   "source": [
    "cls1 = Myclass(10,10,7,4,5)"
   ]
  },
  {
   "cell_type": "code",
   "execution_count": 9,
   "metadata": {},
   "outputs": [],
   "source": [
    "cls2 = Myclass(20,10,10,4,9)"
   ]
  },
  {
   "cell_type": "code",
   "execution_count": 10,
   "metadata": {},
   "outputs": [
    {
     "name": "stdout",
     "output_type": "stream",
     "text": [
      "chairs = 10\n",
      "tables = 10\n",
      "comp = 7\n",
      "fan = 4\n",
      "lights = 5\n"
     ]
    }
   ],
   "source": [
    "cls1.show_attr()"
   ]
  },
  {
   "cell_type": "code",
   "execution_count": 11,
   "metadata": {},
   "outputs": [
    {
     "name": "stdout",
     "output_type": "stream",
     "text": [
      "chairs = 20\n",
      "tables = 10\n",
      "comp = 10\n",
      "fan = 4\n",
      "lights = 9\n"
     ]
    }
   ],
   "source": [
    "cls2.show_attr()"
   ]
  },
  {
   "cell_type": "code",
   "execution_count": 12,
   "metadata": {},
   "outputs": [
    {
     "name": "stdout",
     "output_type": "stream",
     "text": [
      "\n",
      " WHAT DO YOU WANT TO CHANGE?????\n",
      "1. Chair\n",
      "2. Table\n",
      "3. Fan\n",
      "4. Lights\n",
      "5. Computer\n",
      "6. Exit\n",
      "\n",
      " Choose any option from above : 1\n",
      "\n",
      " Enter new number of chairs : 3\n",
      "\n",
      " WHAT DO YOU WANT TO CHANGE?????\n",
      "1. Chair\n",
      "2. Table\n",
      "3. Fan\n",
      "4. Lights\n",
      "5. Computer\n",
      "6. Exit\n",
      "\n",
      " Choose any option from above : 4\n",
      "\n",
      " Enter new number of lights : 6\n",
      "\n",
      " WHAT DO YOU WANT TO CHANGE?????\n",
      "1. Chair\n",
      "2. Table\n",
      "3. Fan\n",
      "4. Lights\n",
      "5. Computer\n",
      "6. Exit\n",
      "\n",
      " Choose any option from above : 6\n",
      "\n",
      " THANKYOU!!!!\n"
     ]
    }
   ],
   "source": [
    "cls1.change_attr()"
   ]
  },
  {
   "cell_type": "code",
   "execution_count": 13,
   "metadata": {},
   "outputs": [
    {
     "name": "stdout",
     "output_type": "stream",
     "text": [
      "chairs = 3\n",
      "tables = 10\n",
      "comp = 7\n",
      "fan = 4\n",
      "lights = 6\n"
     ]
    }
   ],
   "source": [
    "cls1.show_attr()"
   ]
  },
  {
   "cell_type": "code",
   "execution_count": 14,
   "metadata": {},
   "outputs": [
    {
     "data": {
      "text/plain": [
       "4"
      ]
     },
     "execution_count": 14,
     "metadata": {},
     "output_type": "execute_result"
    }
   ],
   "source": [
    "cls1.fan"
   ]
  },
  {
   "cell_type": "code",
   "execution_count": 15,
   "metadata": {},
   "outputs": [],
   "source": [
    "cls1.fan = 10"
   ]
  },
  {
   "cell_type": "code",
   "execution_count": 16,
   "metadata": {},
   "outputs": [
    {
     "data": {
      "text/plain": [
       "10"
      ]
     },
     "execution_count": 16,
     "metadata": {},
     "output_type": "execute_result"
    }
   ],
   "source": [
    "cls1.fan"
   ]
  },
  {
   "cell_type": "code",
   "execution_count": 19,
   "metadata": {},
   "outputs": [
    {
     "name": "stdout",
     "output_type": "stream",
     "text": [
      "\n",
      " WHAT DO YOU WANT TO CHANGE?????\n",
      "1. Chair\n",
      "2. Table\n",
      "3. Fan\n",
      "4. Lights\n",
      "5. Computer\n",
      "6. Exit\n",
      "\n",
      " Choose any option from above : 4\n",
      "\n",
      " Enter new number of lights : 20\n",
      "\n",
      " WHAT DO YOU WANT TO CHANGE?????\n",
      "1. Chair\n",
      "2. Table\n",
      "3. Fan\n",
      "4. Lights\n",
      "5. Computer\n",
      "6. Exit\n",
      "\n",
      " Choose any option from above : 3\n",
      "\n",
      " Enter new number of fans : 10\n",
      "\n",
      " WHAT DO YOU WANT TO CHANGE?????\n",
      "1. Chair\n",
      "2. Table\n",
      "3. Fan\n",
      "4. Lights\n",
      "5. Computer\n",
      "6. Exit\n",
      "\n",
      " Choose any option from above : 6\n",
      "\n",
      " THANKYOU!!!!\n"
     ]
    }
   ],
   "source": [
    "cls1.change_attr()"
   ]
  },
  {
   "cell_type": "code",
   "execution_count": 18,
   "metadata": {},
   "outputs": [
    {
     "data": {
      "text/plain": [
       "5"
      ]
     },
     "execution_count": 18,
     "metadata": {},
     "output_type": "execute_result"
    }
   ],
   "source": [
    "cls1.fan"
   ]
  },
  {
   "cell_type": "code",
   "execution_count": 21,
   "metadata": {},
   "outputs": [
    {
     "name": "stdout",
     "output_type": "stream",
     "text": [
      "chairs = 3\n",
      "tables = 10\n",
      "comp = 7\n",
      "fan = 10\n",
      "lights = 20\n"
     ]
    }
   ],
   "source": [
    "cls1.show_attr()"
   ]
  },
  {
   "cell_type": "code",
   "execution_count": 22,
   "metadata": {},
   "outputs": [],
   "source": [
    "s = \"simran\""
   ]
  },
  {
   "cell_type": "code",
   "execution_count": 23,
   "metadata": {},
   "outputs": [
    {
     "name": "stdout",
     "output_type": "stream",
     "text": [
      "<class 'str'>\n"
     ]
    }
   ],
   "source": [
    "print(type(s))"
   ]
  },
  {
   "cell_type": "code",
   "execution_count": 24,
   "metadata": {},
   "outputs": [
    {
     "data": {
      "text/plain": [
       "'simran'"
      ]
     },
     "execution_count": 24,
     "metadata": {},
     "output_type": "execute_result"
    }
   ],
   "source": [
    "s"
   ]
  },
  {
   "cell_type": "code",
   "execution_count": 25,
   "metadata": {},
   "outputs": [
    {
     "data": {
      "text/plain": [
       "<__main__.Myclass at 0x23aad6a13c8>"
      ]
     },
     "execution_count": 25,
     "metadata": {},
     "output_type": "execute_result"
    }
   ],
   "source": [
    "cls1"
   ]
  },
  {
   "cell_type": "code",
   "execution_count": 26,
   "metadata": {},
   "outputs": [
    {
     "data": {
      "text/plain": [
       "<__main__.Myclass at 0x23aad6a1c08>"
      ]
     },
     "execution_count": 26,
     "metadata": {},
     "output_type": "execute_result"
    }
   ],
   "source": [
    "cls2"
   ]
  },
  {
   "cell_type": "code",
   "execution_count": 36,
   "metadata": {},
   "outputs": [],
   "source": [
    "class Myclass:\n",
    "    def __init__(self,chairs,tables,comp,fan,lights,name):\n",
    "        self.chairs = chairs\n",
    "        self.tables = tables\n",
    "        self.comp = comp\n",
    "        self.fan = fan\n",
    "        self.lights = lights\n",
    "        self.name = name\n",
    "        \n",
    "    def show_attr(self):\n",
    "        for key,value in self.__dict__.items():\n",
    "            print(key,\"=\",value)\n",
    "    \n",
    "    def change_attr(self):\n",
    "        while True:\n",
    "            print(\"\\n WHAT DO YOU WANT TO CHANGE?????\")\n",
    "            print(\"1. Chair\\n2. Table\\n3. Fan\\n4. Lights\\n5. Computer\\n6. Exit\")\n",
    "            ch = int(input(\"\\n Choose any option from above : \"))\n",
    "            if ch == 1:\n",
    "                self.chairs = int(input(\"\\n Enter new number of chairs : \"))\n",
    "            elif ch == 2:\n",
    "                self.tables = int(input(\"\\n Enter new number of tables : \"))\n",
    "            elif ch == 3:\n",
    "                self.fan = int(input(\"\\n Enter new number of fans : \"))\n",
    "            elif ch == 4:\n",
    "                self.lights = int(input(\"\\n Enter new number of lights : \"))\n",
    "            elif ch == 5:\n",
    "                self.comp = int(input(\"\\n ENter new number of computers : \"))\n",
    "            elif ch == 6:\n",
    "                print(\"\\n THANKYOU!!!!\")\n",
    "                break\n",
    "            else:\n",
    "                print(\"\\n Invalid choice.....\")\n",
    "            \n",
    "        def __repr__(self):\n",
    "            return f\"{self.name}\"\n",
    "        "
   ]
  },
  {
   "cell_type": "code",
   "execution_count": 28,
   "metadata": {},
   "outputs": [],
   "source": [
    "cls1 = Myclass(12,12,12,4,5,\"Class1\")\n",
    "cls2 = Myclass(34,30,30,5,10,\"Class2\")"
   ]
  },
  {
   "cell_type": "code",
   "execution_count": 29,
   "metadata": {},
   "outputs": [
    {
     "data": {
      "text/plain": [
       "<__main__.Myclass at 0x23aad708088>"
      ]
     },
     "execution_count": 29,
     "metadata": {},
     "output_type": "execute_result"
    }
   ],
   "source": [
    "cls1"
   ]
  },
  {
   "cell_type": "code",
   "execution_count": 30,
   "metadata": {},
   "outputs": [
    {
     "data": {
      "text/plain": [
       "<__main__.Myclass at 0x23aad708908>"
      ]
     },
     "execution_count": 30,
     "metadata": {},
     "output_type": "execute_result"
    }
   ],
   "source": [
    "cls2"
   ]
  },
  {
   "cell_type": "code",
   "execution_count": 31,
   "metadata": {},
   "outputs": [
    {
     "data": {
      "text/plain": [
       "'simran'"
      ]
     },
     "execution_count": 31,
     "metadata": {},
     "output_type": "execute_result"
    }
   ],
   "source": [
    "s   #shell output  __repr__"
   ]
  },
  {
   "cell_type": "code",
   "execution_count": 32,
   "metadata": {},
   "outputs": [
    {
     "name": "stdout",
     "output_type": "stream",
     "text": [
      "simran\n"
     ]
    }
   ],
   "source": [
    "print(s)  #stdoutput"
   ]
  },
  {
   "cell_type": "code",
   "execution_count": 37,
   "metadata": {},
   "outputs": [],
   "source": [
    "cls1 = Myclass(12,12,12,4,5,\"Class1\")\n",
    "cls2 = Myclass(34,30,30,5,10,\"Class2\")"
   ]
  },
  {
   "cell_type": "code",
   "execution_count": 38,
   "metadata": {},
   "outputs": [
    {
     "data": {
      "text/plain": [
       "<__main__.Myclass at 0x23aad6c1548>"
      ]
     },
     "execution_count": 38,
     "metadata": {},
     "output_type": "execute_result"
    }
   ],
   "source": [
    "cls1"
   ]
  },
  {
   "cell_type": "code",
   "execution_count": 39,
   "metadata": {},
   "outputs": [
    {
     "data": {
      "text/plain": [
       "<__main__.Myclass at 0x23aad612b08>"
      ]
     },
     "execution_count": 39,
     "metadata": {},
     "output_type": "execute_result"
    }
   ],
   "source": [
    "cls2"
   ]
  },
  {
   "cell_type": "code",
   "execution_count": 40,
   "metadata": {},
   "outputs": [
    {
     "name": "stdout",
     "output_type": "stream",
     "text": [
      "<__main__.Myclass object at 0x0000023AAD6C1548>\n"
     ]
    }
   ],
   "source": [
    "print(cls1)"
   ]
  },
  {
   "cell_type": "code",
   "execution_count": 41,
   "metadata": {},
   "outputs": [
    {
     "name": "stdout",
     "output_type": "stream",
     "text": [
      "<__main__.Myclass object at 0x0000023AAD612B08>\n"
     ]
    }
   ],
   "source": [
    "print(cls2)"
   ]
  },
  {
   "cell_type": "code",
   "execution_count": 42,
   "metadata": {},
   "outputs": [],
   "source": [
    "class Myclass:\n",
    "    def __init__(self,chairs,tables,comp,fan,lights,name):\n",
    "        self.chairs = chairs\n",
    "        self.tables = tables\n",
    "        self.comp = comp\n",
    "        self.fan = fan\n",
    "        self.lights = lights\n",
    "        self.name = name\n",
    "        \n",
    "    def show_attr(self):\n",
    "        for key,value in self.__dict__.items():\n",
    "            print(key,\"=\",value)\n",
    "    \n",
    "    def change_attr(self):\n",
    "        while True:\n",
    "            print(\"\\n WHAT DO YOU WANT TO CHANGE?????\")\n",
    "            print(\"1. Chair\\n2. Table\\n3. Fan\\n4. Lights\\n5. Computer\\n6. Exit\")\n",
    "            ch = int(input(\"\\n Choose any option from above : \"))\n",
    "            if ch == 1:\n",
    "                self.chairs = int(input(\"\\n Enter new number of chairs : \"))\n",
    "            elif ch == 2:\n",
    "                self.tables = int(input(\"\\n Enter new number of tables : \"))\n",
    "            elif ch == 3:\n",
    "                self.fan = int(input(\"\\n Enter new number of fans : \"))\n",
    "            elif ch == 4:\n",
    "                self.lights = int(input(\"\\n Enter new number of lights : \"))\n",
    "            elif ch == 5:\n",
    "                self.comp = int(input(\"\\n ENter new number of computers : \"))\n",
    "            elif ch == 6:\n",
    "                print(\"\\n THANKYOU!!!!\")\n",
    "                break\n",
    "            else:\n",
    "                print(\"\\n Invalid choice.....\")\n",
    "            \n",
    "    def __repr__(self):\n",
    "        return f\"{self.name}\"\n",
    "        "
   ]
  },
  {
   "cell_type": "code",
   "execution_count": 43,
   "metadata": {},
   "outputs": [],
   "source": [
    "cls1 = Myclass(12,12,12,4,5,\"Class1\")\n",
    "cls2 = Myclass(34,30,30,5,10,\"Class2\")"
   ]
  },
  {
   "cell_type": "code",
   "execution_count": 44,
   "metadata": {},
   "outputs": [
    {
     "data": {
      "text/plain": [
       "Class1"
      ]
     },
     "execution_count": 44,
     "metadata": {},
     "output_type": "execute_result"
    }
   ],
   "source": [
    "cls1  #__repr__(cls1) --> shell output"
   ]
  },
  {
   "cell_type": "code",
   "execution_count": 45,
   "metadata": {},
   "outputs": [
    {
     "data": {
      "text/plain": [
       "Class2"
      ]
     },
     "execution_count": 45,
     "metadata": {},
     "output_type": "execute_result"
    }
   ],
   "source": [
    "cls2  #__repr__(cls2)"
   ]
  },
  {
   "cell_type": "code",
   "execution_count": 46,
   "metadata": {},
   "outputs": [
    {
     "name": "stdout",
     "output_type": "stream",
     "text": [
      "Class1\n"
     ]
    }
   ],
   "source": [
    "print(cls1)   #stdoutput --> __repr__"
   ]
  },
  {
   "cell_type": "code",
   "execution_count": 47,
   "metadata": {},
   "outputs": [
    {
     "name": "stdout",
     "output_type": "stream",
     "text": [
      "Class1\n"
     ]
    }
   ],
   "source": [
    "print(cls1)"
   ]
  },
  {
   "cell_type": "code",
   "execution_count": 48,
   "metadata": {},
   "outputs": [],
   "source": [
    "class Myclass:\n",
    "    def __init__(self,chairs,tables,comp,fan,lights,name):\n",
    "        self.chairs = chairs\n",
    "        self.tables = tables\n",
    "        self.comp = comp\n",
    "        self.fan = fan\n",
    "        self.lights = lights\n",
    "        self.name = name\n",
    "        \n",
    "    def show_attr(self):\n",
    "        for key,value in self.__dict__.items():\n",
    "            print(key,\"=\",value)\n",
    "    \n",
    "    def change_attr(self):\n",
    "        while True:\n",
    "            print(\"\\n WHAT DO YOU WANT TO CHANGE?????\")\n",
    "            print(\"1. Chair\\n2. Table\\n3. Fan\\n4. Lights\\n5. Computer\\n6. Exit\")\n",
    "            ch = int(input(\"\\n Choose any option from above : \"))\n",
    "            if ch == 1:\n",
    "                self.chairs = int(input(\"\\n Enter new number of chairs : \"))\n",
    "            elif ch == 2:\n",
    "                self.tables = int(input(\"\\n Enter new number of tables : \"))\n",
    "            elif ch == 3:\n",
    "                self.fan = int(input(\"\\n Enter new number of fans : \"))\n",
    "            elif ch == 4:\n",
    "                self.lights = int(input(\"\\n Enter new number of lights : \"))\n",
    "            elif ch == 5:\n",
    "                self.comp = int(input(\"\\n ENter new number of computers : \"))\n",
    "            elif ch == 6:\n",
    "                print(\"\\n THANKYOU!!!!\")\n",
    "                break\n",
    "            else:\n",
    "                print(\"\\n Invalid choice.....\")\n",
    "            \n",
    "    def __str__(self):\n",
    "        return f\"{self.name}\"\n",
    "        "
   ]
  },
  {
   "cell_type": "code",
   "execution_count": 49,
   "metadata": {},
   "outputs": [],
   "source": [
    "cls1 = Myclass(12,12,12,4,5,\"Class1\")\n",
    "cls2 = Myclass(34,30,30,5,10,\"Class2\")"
   ]
  },
  {
   "cell_type": "code",
   "execution_count": 50,
   "metadata": {},
   "outputs": [
    {
     "data": {
      "text/plain": [
       "<__main__.Myclass at 0x23aad5d7288>"
      ]
     },
     "execution_count": 50,
     "metadata": {},
     "output_type": "execute_result"
    }
   ],
   "source": [
    "cls1"
   ]
  },
  {
   "cell_type": "code",
   "execution_count": 51,
   "metadata": {},
   "outputs": [
    {
     "name": "stdout",
     "output_type": "stream",
     "text": [
      "Class1\n"
     ]
    }
   ],
   "source": [
    "print(cls1)  # stdoutput --> __str__(cls1)"
   ]
  },
  {
   "cell_type": "code",
   "execution_count": 52,
   "metadata": {},
   "outputs": [
    {
     "name": "stdout",
     "output_type": "stream",
     "text": [
      "Class2\n"
     ]
    }
   ],
   "source": [
    "print(cls2)  #stdoutput --> __str__(cls2)"
   ]
  },
  {
   "cell_type": "code",
   "execution_count": 54,
   "metadata": {},
   "outputs": [],
   "source": [
    "cls1 = Myclass(12,12,10,4,5,\"Lab1\")"
   ]
  },
  {
   "cell_type": "code",
   "execution_count": 55,
   "metadata": {},
   "outputs": [
    {
     "name": "stdout",
     "output_type": "stream",
     "text": [
      "Lab1\n"
     ]
    }
   ],
   "source": [
    "print(cls1)"
   ]
  },
  {
   "cell_type": "code",
   "execution_count": 53,
   "metadata": {},
   "outputs": [],
   "source": [
    "import sys"
   ]
  },
  {
   "cell_type": "code",
   "execution_count": 59,
   "metadata": {},
   "outputs": [],
   "source": [
    "a = sys.stdout"
   ]
  },
  {
   "cell_type": "code",
   "execution_count": 61,
   "metadata": {},
   "outputs": [
    {
     "name": "stdout",
     "output_type": "stream",
     "text": [
      "HELLO WORLD"
     ]
    }
   ],
   "source": [
    "a.write(\"HELLO WORLD\")"
   ]
  },
  {
   "cell_type": "code",
   "execution_count": 62,
   "metadata": {},
   "outputs": [],
   "source": [
    "import sys"
   ]
  },
  {
   "cell_type": "code",
   "execution_count": 63,
   "metadata": {},
   "outputs": [
    {
     "data": {
      "text/plain": [
       "['C:\\\\Anaconda\\\\lib\\\\site-packages\\\\ipykernel_launcher.py',\n",
       " '-f',\n",
       " 'C:\\\\Users\\\\Simran Grover\\\\AppData\\\\Roaming\\\\jupyter\\\\runtime\\\\kernel-e9d23fdf-15de-49e8-b1d5-71c54b782d06.json']"
      ]
     },
     "execution_count": 63,
     "metadata": {},
     "output_type": "execute_result"
    }
   ],
   "source": [
    "sys.argv"
   ]
  },
  {
   "cell_type": "code",
   "execution_count": 65,
   "metadata": {},
   "outputs": [
    {
     "data": {
      "text/plain": [
       "''"
      ]
     },
     "execution_count": 65,
     "metadata": {},
     "output_type": "execute_result"
    }
   ],
   "source": [
    "sys.stdin.readline()"
   ]
  },
  {
   "cell_type": "code",
   "execution_count": 66,
   "metadata": {},
   "outputs": [
    {
     "name": "stdout",
     "output_type": "stream",
     "text": [
      "['__breakpointhook__', '__displayhook__', '__doc__', '__excepthook__', '__interactivehook__', '__loader__', '__name__', '__package__', '__spec__', '__stderr__', '__stdin__', '__stdout__', '_base_executable', '_clear_type_cache', '_current_frames', '_debugmallocstats', '_enablelegacywindowsfsencoding', '_framework', '_getframe', '_git', '_home', '_xoptions', 'api_version', 'argv', 'base_exec_prefix', 'base_prefix', 'breakpointhook', 'builtin_module_names', 'byteorder', 'call_tracing', 'callstats', 'copyright', 'displayhook', 'dllhandle', 'dont_write_bytecode', 'exc_info', 'excepthook', 'exec_prefix', 'executable', 'exit', 'flags', 'float_info', 'float_repr_style', 'get_asyncgen_hooks', 'get_coroutine_origin_tracking_depth', 'get_coroutine_wrapper', 'getallocatedblocks', 'getcheckinterval', 'getdefaultencoding', 'getfilesystemencodeerrors', 'getfilesystemencoding', 'getprofile', 'getrecursionlimit', 'getrefcount', 'getsizeof', 'getswitchinterval', 'gettrace', 'getwindowsversion', 'hash_info', 'hexversion', 'implementation', 'int_info', 'intern', 'is_finalizing', 'last_traceback', 'last_type', 'last_value', 'maxsize', 'maxunicode', 'meta_path', 'modules', 'path', 'path_hooks', 'path_importer_cache', 'platform', 'prefix', 'ps1', 'ps2', 'ps3', 'set_asyncgen_hooks', 'set_coroutine_origin_tracking_depth', 'set_coroutine_wrapper', 'setcheckinterval', 'setprofile', 'setrecursionlimit', 'setswitchinterval', 'settrace', 'stderr', 'stdin', 'stdout', 'thread_info', 'version', 'version_info', 'warnoptions', 'winver']\n"
     ]
    }
   ],
   "source": [
    "print(dir(sys))"
   ]
  },
  {
   "cell_type": "code",
   "execution_count": 67,
   "metadata": {},
   "outputs": [
    {
     "data": {
      "text/plain": [
       "'3.7.4 (default, Aug  9 2019, 18:34:13) [MSC v.1915 64 bit (AMD64)]'"
      ]
     },
     "execution_count": 67,
     "metadata": {},
     "output_type": "execute_result"
    }
   ],
   "source": [
    "sys.version"
   ]
  },
  {
   "cell_type": "code",
   "execution_count": 68,
   "metadata": {},
   "outputs": [
    {
     "data": {
      "text/plain": [
       "sys.version_info(major=3, minor=7, micro=4, releaselevel='final', serial=0)"
      ]
     },
     "execution_count": 68,
     "metadata": {},
     "output_type": "execute_result"
    }
   ],
   "source": [
    "sys.version_info"
   ]
  },
  {
   "cell_type": "code",
   "execution_count": 107,
   "metadata": {},
   "outputs": [],
   "source": [
    "class Person:\n",
    "    def __init__(self,fname,lname,phno,email):\n",
    "        self.fname = fname\n",
    "        self.lname = lname\n",
    "        self.phno = phno\n",
    "        self.email = email\n",
    "        \n",
    "    def __str__(self):\n",
    "        if type(self.email) == str:\n",
    "            return f\"\"\"{self.fname.title()}, {self.lname.title()} -- Phone Number : {self.phno} -- Email Address(es) : {self.email}\"\"\"\n",
    "        else:\n",
    "            s = \"\"\n",
    "            for i in self.email:\n",
    "                s += i + \",\" + \"\\n\"\n",
    "            return f\"\"\"{self.fname.title()}, {self.lname.title()} -- Phone Number : {self.phno} -- Email Address(es) : {s[:-2]}\"\"\""
   ]
  },
  {
   "cell_type": "code",
   "execution_count": 101,
   "metadata": {},
   "outputs": [],
   "source": [
    "p1 = Person(\"Simran\",\"grover\",9876543210,\"simrangrover@mail.com\")"
   ]
  },
  {
   "cell_type": "code",
   "execution_count": 102,
   "metadata": {},
   "outputs": [
    {
     "name": "stdout",
     "output_type": "stream",
     "text": [
      "Simran, Grover -- Phone Number : 9876543210 -- Email Address(es) : simrangrover@mail.com\n"
     ]
    }
   ],
   "source": [
    "print(p1)"
   ]
  },
  {
   "cell_type": "code",
   "execution_count": 103,
   "metadata": {},
   "outputs": [],
   "source": [
    "p2 = Person(\"Mihir\",\"Prajapati\",9876543210,[\"mihit@gmail.com\",\"mihi@mail.com\"])"
   ]
  },
  {
   "cell_type": "code",
   "execution_count": 104,
   "metadata": {},
   "outputs": [
    {
     "name": "stdout",
     "output_type": "stream",
     "text": [
      "Mihir, Prajapati -- Phone Number : 9876543210 -- Email Address(es) : mihit@gmail.com,\n",
      "mihi@mail.com\n"
     ]
    }
   ],
   "source": [
    "print(p2)"
   ]
  },
  {
   "cell_type": "code",
   "execution_count": 92,
   "metadata": {},
   "outputs": [
    {
     "name": "stdout",
     "output_type": "stream",
     "text": [
      "mihit@gmail.com mihi@mail.com\n"
     ]
    }
   ],
   "source": [
    "print(*p2.email)"
   ]
  },
  {
   "cell_type": "code",
   "execution_count": 99,
   "metadata": {},
   "outputs": [
    {
     "name": "stdout",
     "output_type": "stream",
     "text": [
      "mihit@gmail.com,\n",
      "mihi@mail.com\n"
     ]
    }
   ],
   "source": [
    "s = \"\"\n",
    "for i in p2.email:\n",
    "    s += i + \",\" + \"\\n\"\n",
    "print(s[:-2])"
   ]
  },
  {
   "cell_type": "code",
   "execution_count": 95,
   "metadata": {},
   "outputs": [
    {
     "data": {
      "text/plain": [
       "'mihit@gmail.com,mihi@mail.com,'"
      ]
     },
     "execution_count": 95,
     "metadata": {},
     "output_type": "execute_result"
    }
   ],
   "source": [
    "s"
   ]
  },
  {
   "cell_type": "code",
   "execution_count": 108,
   "metadata": {},
   "outputs": [],
   "source": [
    "p3 = Person(\"Haresh\",\"parmar\",9876321099,[\"haresh@gmail.com\",\"hp@mail.com\",\"parmar@gmail.com\"])"
   ]
  },
  {
   "cell_type": "code",
   "execution_count": 109,
   "metadata": {},
   "outputs": [
    {
     "name": "stdout",
     "output_type": "stream",
     "text": [
      "Haresh, Parmar -- Phone Number : 9876321099 -- Email Address(es) : haresh@gmail.com,\n",
      "hp@mail.com,\n",
      "parmar@gmail.com\n"
     ]
    }
   ],
   "source": [
    "print(p3)"
   ]
  },
  {
   "cell_type": "code",
   "execution_count": 138,
   "metadata": {},
   "outputs": [],
   "source": [
    "class Addressbook:\n",
    "    def __init__(self):\n",
    "        self.contact = {}  #to add(store) the contacts in the dictionary \n",
    "    def add_contact(self,pobject):\n",
    "        self.contact[pobject] = [pobject.fname,pobject.lname,pobject.phno,pobject.email]\n",
    "    def lookup_contact(self,lname,fname=None):\n",
    "        if fname:\n",
    "            for obj,value in self.contact.items():\n",
    "                if lname.lower() == value[1].lower() and fname.lower() == value[0].lower():\n",
    "                    print(\"hello world\")\n",
    "                    print(obj)\n",
    "        else:\n",
    "            for obj,value in self.contact.items():\n",
    "                if lname.lower() == value[1].lower():\n",
    "                    print(obj)\n",
    "                    "
   ]
  },
  {
   "cell_type": "code",
   "execution_count": 139,
   "metadata": {},
   "outputs": [],
   "source": [
    "a = Addressbook()"
   ]
  },
  {
   "cell_type": "code",
   "execution_count": 112,
   "metadata": {},
   "outputs": [
    {
     "name": "stdout",
     "output_type": "stream",
     "text": [
      "Haresh, Parmar -- Phone Number : 9876321099 -- Email Address(es) : haresh@gmail.com,\n",
      "hp@mail.com,\n",
      "parmar@gmail.com\n"
     ]
    }
   ],
   "source": [
    "print(p3)"
   ]
  },
  {
   "cell_type": "code",
   "execution_count": 113,
   "metadata": {},
   "outputs": [],
   "source": [
    "a.add_contact(p3)"
   ]
  },
  {
   "cell_type": "code",
   "execution_count": 114,
   "metadata": {},
   "outputs": [
    {
     "data": {
      "text/plain": [
       "{<__main__.Person at 0x23aada96c48>: ['Haresh',\n",
       "  'parmar',\n",
       "  9876321099,\n",
       "  ['haresh@gmail.com', 'hp@mail.com', 'parmar@gmail.com']]}"
      ]
     },
     "execution_count": 114,
     "metadata": {},
     "output_type": "execute_result"
    }
   ],
   "source": [
    "a.contact"
   ]
  },
  {
   "cell_type": "code",
   "execution_count": 115,
   "metadata": {},
   "outputs": [
    {
     "name": "stdout",
     "output_type": "stream",
     "text": [
      "Haresh, Parmar -- Phone Number : 9876321099 -- Email Address(es) : haresh@gmail.com,\n",
      "hp@mail.com,\n",
      "parmar@gmail.com\n"
     ]
    }
   ],
   "source": [
    "a.lookup_contact(\"parmar\")"
   ]
  },
  {
   "cell_type": "code",
   "execution_count": 116,
   "metadata": {},
   "outputs": [
    {
     "name": "stdout",
     "output_type": "stream",
     "text": [
      "Haresh, Parmar -- Phone Number : 9876321099 -- Email Address(es) : haresh@gmail.com,\n",
      "hp@mail.com,\n",
      "parmar@gmail.com\n"
     ]
    }
   ],
   "source": [
    "a.lookup_contact(\"parmar\",\"Haresh\")"
   ]
  },
  {
   "cell_type": "code",
   "execution_count": 117,
   "metadata": {},
   "outputs": [
    {
     "data": {
      "text/plain": [
       "{<__main__.Person at 0x23aada96c48>: ['Haresh',\n",
       "  'parmar',\n",
       "  9876321099,\n",
       "  ['haresh@gmail.com', 'hp@mail.com', 'parmar@gmail.com']]}"
      ]
     },
     "execution_count": 117,
     "metadata": {},
     "output_type": "execute_result"
    }
   ],
   "source": [
    "a.contact"
   ]
  },
  {
   "cell_type": "code",
   "execution_count": 120,
   "metadata": {},
   "outputs": [
    {
     "name": "stdout",
     "output_type": "stream",
     "text": [
      "Haresh, Parmar -- Phone Number : 9876321099 -- Email Address(es) : haresh@gmail.com,\n",
      "hp@mail.com,\n",
      "parmar@gmail.com\n"
     ]
    }
   ],
   "source": [
    "for key,value in a.contact.items():\n",
    "    if \"parmar\" in value[1]:  #\"parmar\" --> lname, value[1] --> lname\n",
    "        print(key)  "
   ]
  },
  {
   "cell_type": "code",
   "execution_count": 123,
   "metadata": {},
   "outputs": [
    {
     "data": {
      "text/plain": [
       "<__main__.Person at 0x23aae16a3c8>"
      ]
     },
     "execution_count": 123,
     "metadata": {},
     "output_type": "execute_result"
    }
   ],
   "source": [
    "p2"
   ]
  },
  {
   "cell_type": "code",
   "execution_count": 124,
   "metadata": {},
   "outputs": [
    {
     "name": "stdout",
     "output_type": "stream",
     "text": [
      "Mihir, Prajapati -- Phone Number : 9876543210 -- Email Address(es) : mihit@gmail.com,\n",
      "mihi@mail.com\n"
     ]
    }
   ],
   "source": [
    "print(p2)"
   ]
  },
  {
   "cell_type": "code",
   "execution_count": 140,
   "metadata": {},
   "outputs": [],
   "source": [
    "a.add_contact(p2)"
   ]
  },
  {
   "cell_type": "code",
   "execution_count": 126,
   "metadata": {},
   "outputs": [
    {
     "name": "stdout",
     "output_type": "stream",
     "text": [
      "Simran, Grover -- Phone Number : 9876543210 -- Email Address(es) : simrangrover@mail.com\n"
     ]
    }
   ],
   "source": [
    "print(p1)"
   ]
  },
  {
   "cell_type": "code",
   "execution_count": 141,
   "metadata": {},
   "outputs": [],
   "source": [
    "a.add_contact(p1)"
   ]
  },
  {
   "cell_type": "code",
   "execution_count": 142,
   "metadata": {},
   "outputs": [
    {
     "data": {
      "text/plain": [
       "{<__main__.Person at 0x23aae16a3c8>: ['Mihir',\n",
       "  'Prajapati',\n",
       "  9876543210,\n",
       "  ['mihit@gmail.com', 'mihi@mail.com']],\n",
       " <__main__.Person at 0x23aad96dec8>: ['Simran',\n",
       "  'grover',\n",
       "  9876543210,\n",
       "  'simrangrover@mail.com']}"
      ]
     },
     "execution_count": 142,
     "metadata": {},
     "output_type": "execute_result"
    }
   ],
   "source": [
    "a.contact"
   ]
  },
  {
   "cell_type": "code",
   "execution_count": 143,
   "metadata": {},
   "outputs": [],
   "source": [
    "a.add_contact(p3)"
   ]
  },
  {
   "cell_type": "code",
   "execution_count": 144,
   "metadata": {},
   "outputs": [
    {
     "data": {
      "text/plain": [
       "{<__main__.Person at 0x23aae16a3c8>: ['Mihir',\n",
       "  'Prajapati',\n",
       "  9876543210,\n",
       "  ['mihit@gmail.com', 'mihi@mail.com']],\n",
       " <__main__.Person at 0x23aad96dec8>: ['Simran',\n",
       "  'grover',\n",
       "  9876543210,\n",
       "  'simrangrover@mail.com'],\n",
       " <__main__.Person at 0x23aada96c48>: ['Haresh',\n",
       "  'parmar',\n",
       "  9876321099,\n",
       "  ['haresh@gmail.com', 'hp@mail.com', 'parmar@gmail.com']]}"
      ]
     },
     "execution_count": 144,
     "metadata": {},
     "output_type": "execute_result"
    }
   ],
   "source": [
    "a.contact"
   ]
  },
  {
   "cell_type": "code",
   "execution_count": 145,
   "metadata": {},
   "outputs": [
    {
     "name": "stdout",
     "output_type": "stream",
     "text": [
      "hello world\n",
      "Simran, Grover -- Phone Number : 9876543210 -- Email Address(es) : simrangrover@mail.com\n"
     ]
    }
   ],
   "source": [
    "a.lookup_contact(\"grover\",\"Simran\")"
   ]
  },
  {
   "cell_type": "code",
   "execution_count": 146,
   "metadata": {},
   "outputs": [
    {
     "name": "stdout",
     "output_type": "stream",
     "text": [
      "Mihir, Prajapati -- Phone Number : 9876543210 -- Email Address(es) : mihit@gmail.com,\n",
      "mihi@mail.com\n"
     ]
    }
   ],
   "source": [
    "a.lookup_contact(\"prajapati\")"
   ]
  },
  {
   "cell_type": "code",
   "execution_count": 147,
   "metadata": {},
   "outputs": [],
   "source": [
    "#magic methods, slots,inheritance"
   ]
  },
  {
   "cell_type": "code",
   "execution_count": null,
   "metadata": {},
   "outputs": [],
   "source": []
  }
 ],
 "metadata": {
  "kernelspec": {
   "display_name": "Python 3",
   "language": "python",
   "name": "python3"
  },
  "language_info": {
   "codemirror_mode": {
    "name": "ipython",
    "version": 3
   },
   "file_extension": ".py",
   "mimetype": "text/x-python",
   "name": "python",
   "nbconvert_exporter": "python",
   "pygments_lexer": "ipython3",
   "version": "3.7.4"
  }
 },
 "nbformat": 4,
 "nbformat_minor": 2
}
