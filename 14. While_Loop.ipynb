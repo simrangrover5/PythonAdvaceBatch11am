{
 "cells": [
  {
   "cell_type": "markdown",
   "metadata": {},
   "source": [
    "    1. Continue\n",
    "    2. Break"
   ]
  },
  {
   "cell_type": "code",
   "execution_count": 2,
   "metadata": {},
   "outputs": [],
   "source": [
    "import IPython"
   ]
  },
  {
   "cell_type": "code",
   "execution_count": 3,
   "metadata": {},
   "outputs": [
    {
     "name": "stdout",
     "output_type": "stream",
     "text": [
      "['Application', 'InteractiveShell', '__author__', '__builtins__', '__cached__', '__doc__', '__file__', '__license__', '__loader__', '__name__', '__package__', '__path__', '__spec__', '__version__', 'core', 'display', 'embed', 'embed_kernel', 'extensions', 'extract_module_locals', 'get_ipython', 'lib', 'os', 'paths', 'release', 'start_ipython', 'start_kernel', 'sys', 'sys_info', 'terminal', 'test', 'testing', 'utils', 'version_info']\n"
     ]
    }
   ],
   "source": [
    "print(dir(IPython))"
   ]
  },
  {
   "cell_type": "code",
   "execution_count": 4,
   "metadata": {},
   "outputs": [],
   "source": [
    "from IPython.display import Image"
   ]
  },
  {
   "cell_type": "markdown",
   "metadata": {},
   "source": [
    "    While Condition:\n",
    "        if condition2:\n",
    "            continue\n",
    "        s1\n",
    "        s2\n",
    "    if condition2 will be True then it will continue and s1 and s2 will not be executed and it will go to the start\n",
    "    of the loop"
   ]
  },
  {
   "cell_type": "code",
   "execution_count": 5,
   "metadata": {},
   "outputs": [
    {
     "data": {
      "image/png": "[encoded data removed]",
      "text/plain": [
       "<IPython.core.display.Image object>"
      ]
     },
     "execution_count": 5,
     "metadata": {},
     "output_type": "execute_result"
    }
   ],
   "source": [
    "Image(\"C://batches/online_batch/batch1pm/continue-statement-flowchart.png\")"
   ]
  },
  {
   "cell_type": "code",
   "execution_count": 6,
   "metadata": {},
   "outputs": [
    {
     "name": "stdout",
     "output_type": "stream",
     "text": [
      "hello world\n",
      "hello world\n",
      "hello world\n"
     ]
    },
    {
     "ename": "KeyboardInterrupt",
     "evalue": "",
     "output_type": "error",
     "traceback": [
      "\u001b[1;31m---------------------------------------------------------------------------\u001b[0m",
      "\u001b[1;31mKeyboardInterrupt\u001b[0m                         Traceback (most recent call last)",
      "\u001b[1;32m<ipython-input-6-d817ba75d470>\u001b[0m in \u001b[0;36m<module>\u001b[1;34m\u001b[0m\n\u001b[0;32m      1\u001b[0m \u001b[0mi\u001b[0m \u001b[1;33m=\u001b[0m \u001b[1;36m0\u001b[0m\u001b[1;33m\u001b[0m\u001b[1;33m\u001b[0m\u001b[0m\n\u001b[0;32m      2\u001b[0m \u001b[1;32mwhile\u001b[0m \u001b[0mi\u001b[0m\u001b[1;33m<\u001b[0m\u001b[1;36m10\u001b[0m\u001b[1;33m:\u001b[0m\u001b[1;33m\u001b[0m\u001b[1;33m\u001b[0m\u001b[0m\n\u001b[1;32m----> 3\u001b[1;33m     \u001b[1;32mif\u001b[0m \u001b[0mi\u001b[0m \u001b[1;33m==\u001b[0m \u001b[1;36m3\u001b[0m \u001b[1;32mor\u001b[0m \u001b[0mi\u001b[0m \u001b[1;33m==\u001b[0m \u001b[1;36m5\u001b[0m\u001b[1;33m:\u001b[0m\u001b[1;33m\u001b[0m\u001b[1;33m\u001b[0m\u001b[0m\n\u001b[0m\u001b[0;32m      4\u001b[0m         \u001b[1;32mcontinue\u001b[0m\u001b[1;33m\u001b[0m\u001b[1;33m\u001b[0m\u001b[0m\n\u001b[0;32m      5\u001b[0m     \u001b[0mprint\u001b[0m\u001b[1;33m(\u001b[0m\u001b[1;34m\"hello world\"\u001b[0m\u001b[1;33m)\u001b[0m\u001b[1;33m\u001b[0m\u001b[1;33m\u001b[0m\u001b[0m\n",
      "\u001b[1;31mKeyboardInterrupt\u001b[0m: "
     ]
    }
   ],
   "source": [
    "i = 0\n",
    "while i<10:\n",
    "    if i == 3 or i == 5:\n",
    "        continue\n",
    "    print(\"hello world\")\n",
    "    i += 1\n",
    "#i = 0, i = 1, i = 2, \n",
    "#i = 3 -->continue --> infinite Loop"
   ]
  },
  {
   "cell_type": "code",
   "execution_count": 8,
   "metadata": {},
   "outputs": [
    {
     "name": "stdout",
     "output_type": "stream",
     "text": [
      "hello world 1\n",
      "hello world 2\n",
      "hello world 4\n",
      "hello world 6\n",
      "hello world 7\n",
      "hello world 8\n",
      "hello world 9\n",
      "hello world 10\n"
     ]
    }
   ],
   "source": [
    "i = 0\n",
    "while i<10:\n",
    "    i += 1\n",
    "    if i == 3 or i == 5:\n",
    "        continue\n",
    "    print(\"hello world\",i)\n",
    "#0<10 --> i += 1 --> i = 1 --> continue condition False --> hello world\n",
    "#1<10 --> i += 1 --> i = 2 --> continue condition False --> hello world\n",
    "#2<10 --> i += 1 --> i = 3 --> continue condition True --> it will skip the statements"
   ]
  },
  {
   "cell_type": "code",
   "execution_count": 9,
   "metadata": {},
   "outputs": [
    {
     "name": "stdout",
     "output_type": "stream",
     "text": [
      "1,2,3,4,6,7,8,9,11,12,13,14,16,17,18,19,21,"
     ]
    }
   ],
   "source": [
    "i = 0\n",
    "while i<=20:\n",
    "    i += 1\n",
    "    if i%5 == 0:\n",
    "        continue\n",
    "    print(i,end=\",\")"
   ]
  },
  {
   "cell_type": "code",
   "execution_count": 10,
   "metadata": {},
   "outputs": [
    {
     "name": "stdout",
     "output_type": "stream",
     "text": [
      "2,4,6,8,10,12,14,16,18,20,22,24,26,28,30,32,34,36,38,40,42,44,46,48,50,52,54,56,58,60,62,64,66,68,70,72,74,76,78,80,82,84,86,88,90,92,94,96,98,100,"
     ]
    }
   ],
   "source": [
    "## even numbers through continue\n",
    "\n",
    "i = 0\n",
    "while i<=100:\n",
    "    i += 1\n",
    "    if i%2 != 0:\n",
    "        continue\n",
    "    print(i,end=\",\")"
   ]
  },
  {
   "cell_type": "code",
   "execution_count": 11,
   "metadata": {},
   "outputs": [
    {
     "name": "stdout",
     "output_type": "stream",
     "text": [
      "1,3,5,7,9,11,13,15,17,19,21,23,25,27,29,31,33,35,37,39,41,43,45,47,49,51,53,55,57,59,61,63,65,67,69,71,73,75,77,79,81,83,85,87,89,91,93,95,97,99,101,"
     ]
    }
   ],
   "source": [
    "## odd numbers through continue\n",
    "\n",
    "i = 0\n",
    "while i<=100:\n",
    "    i += 1\n",
    "    if i%2 == 0:\n",
    "        continue\n",
    "    print(i,end=\",\")"
   ]
  },
  {
   "cell_type": "code",
   "execution_count": 12,
   "metadata": {},
   "outputs": [
    {
     "data": {
      "image/png": "[encoded data removed]",
      "text/plain": [
       "<IPython.core.display.Image object>"
      ]
     },
     "execution_count": 12,
     "metadata": {},
     "output_type": "execute_result"
    }
   ],
   "source": [
    "Image(\"C://batches/online_batch/batch1pm/break_statement_flowchart.png\")"
   ]
  },
  {
   "cell_type": "markdown",
   "metadata": {},
   "source": [
    "    while condition1:\n",
    "        if condition2:\n",
    "            break\n",
    "        s1\n",
    "        s2\n",
    "    if condition2 is true then it will break or come out of the loop otherwise s1 and s2 will be executed till loop is executing"
   ]
  },
  {
   "cell_type": "code",
   "execution_count": 14,
   "metadata": {},
   "outputs": [
    {
     "name": "stdout",
     "output_type": "stream",
     "text": [
      "hello world\n",
      "0\n",
      "hello world\n",
      "1\n",
      "hello world\n",
      "2\n",
      "hello world\n",
      "3\n",
      "hello world\n",
      "4\n",
      "hello world\n"
     ]
    }
   ],
   "source": [
    "i = 0\n",
    "while i<=10:\n",
    "    print(\"hello world\")\n",
    "    if i == 5:\n",
    "        break\n",
    "    print(i)\n",
    "    i += 1"
   ]
  },
  {
   "cell_type": "code",
   "execution_count": 15,
   "metadata": {},
   "outputs": [
    {
     "name": "stdout",
     "output_type": "stream",
     "text": [
      "Before while loop i 0\n",
      "hello world\n",
      "0\n",
      "hello world\n",
      "1\n",
      "hello world\n",
      "2\n",
      "hello world\n",
      "3\n",
      "hello world\n",
      "4\n",
      "hello world\n",
      "After while loop i 5\n"
     ]
    }
   ],
   "source": [
    "i = 0\n",
    "print(\"Before while loop i\",i)\n",
    "while i<=10:\n",
    "    print(\"hello world\")\n",
    "    if i == 5:\n",
    "        break\n",
    "    print(i)\n",
    "    i += 1\n",
    "print(\"After while loop i\",i)"
   ]
  },
  {
   "cell_type": "code",
   "execution_count": 16,
   "metadata": {},
   "outputs": [],
   "source": [
    "from random import randint"
   ]
  },
  {
   "cell_type": "code",
   "execution_count": 17,
   "metadata": {},
   "outputs": [
    {
     "name": "stdout",
     "output_type": "stream",
     "text": [
      "6\n",
      "4\n",
      "7\n",
      "3\n",
      "10\n"
     ]
    }
   ],
   "source": [
    "while True:\n",
    "    a = randint(1,10)\n",
    "    if a == 5:\n",
    "        break\n",
    "    print(a)"
   ]
  },
  {
   "cell_type": "code",
   "execution_count": 22,
   "metadata": {},
   "outputs": [
    {
     "name": "stdout",
     "output_type": "stream",
     "text": [
      "3\n",
      "7\n",
      "6\n",
      "9\n",
      "4\n",
      "6\n",
      "6\n",
      "3\n",
      "\n",
      " The loop run 9 counts\n"
     ]
    }
   ],
   "source": [
    "c = 0\n",
    "while True:\n",
    "    c += 1\n",
    "    a = randint(1,10)\n",
    "    if a == 5:\n",
    "        break\n",
    "    print(a)\n",
    "print(f\"\\n The loop run {c} counts\")"
   ]
  },
  {
   "cell_type": "code",
   "execution_count": 27,
   "metadata": {},
   "outputs": [
    {
     "name": "stdout",
     "output_type": "stream",
     "text": [
      "\n",
      " Number matched after 17 counts \n",
      " The actual number is 3\n"
     ]
    }
   ],
   "source": [
    "comp = randint(1,10)\n",
    "count = 0\n",
    "while True:\n",
    "    c = randint(1,10)\n",
    "    count += 1\n",
    "    if comp == c:\n",
    "        print(f\"\\n Number matched after {count} counts \\n The actual number is {comp}\")\n",
    "        break\n",
    "    "
   ]
  },
  {
   "cell_type": "code",
   "execution_count": 29,
   "metadata": {},
   "outputs": [
    {
     "name": "stdout",
     "output_type": "stream",
     "text": [
      "\n",
      " Enter any number between 1 to 101\n",
      "2\n",
      "\n",
      " Enter any number between 1 to 1010\n",
      "20\n",
      "\n",
      " Enter any number between 1 to 109\n",
      "18\n",
      "\n",
      " Enter any number between 1 to 108\n",
      "16\n",
      "\n",
      " Enter any number between 1 to 107\n",
      "14\n",
      "\n",
      " Enter any number between 1 to 100\n",
      "Out of the loop\n"
     ]
    }
   ],
   "source": [
    "a = int(input(\"\\n Enter any number between 1 to 10\"))\n",
    "while a:\n",
    "    print(a*2)\n",
    "    a = int(input(\"\\n Enter any number between 1 to 10\"))\n",
    "print(\"Out of the loop\")"
   ]
  },
  {
   "cell_type": "code",
   "execution_count": 31,
   "metadata": {},
   "outputs": [
    {
     "name": "stdout",
     "output_type": "stream",
     "text": [
      "\n",
      " Enter something to continuepeijp\n",
      "WELCOME\n",
      "\n",
      " Enter something to continueoiejfio\n",
      "WELCOME\n",
      "\n",
      " Enter something to continueeji\n",
      "WELCOME\n",
      "\n",
      " Enter something to continueiej\n",
      "WELCOME\n",
      "\n",
      " Enter something to continuepiejfo\n",
      "WELCOME\n",
      "\n",
      " Enter something to continuepij\n",
      "WELCOME\n",
      "\n",
      " Enter something to continuepiejfp\n",
      "WELCOME\n",
      "\n",
      " Enter something to continue\n",
      "Out of the loop\n"
     ]
    }
   ],
   "source": [
    "a = input(\"\\n Enter something to continue\")\n",
    "while a:\n",
    "    print(\"WELCOME\")\n",
    "    a = input(\"\\n Enter something to continue\")\n",
    "print(\"Out of the loop\")"
   ]
  },
  {
   "cell_type": "code",
   "execution_count": 32,
   "metadata": {},
   "outputs": [
    {
     "name": "stdout",
     "output_type": "stream",
     "text": [
      "hi\n"
     ]
    }
   ],
   "source": [
    "l = [1,2,3,\"hello\",None,10,20,30,\"hi\",0,1,2]\n",
    "while l:\n",
    "    print(l)\n",
    "    if l.pop():\n",
    "        if type(l.pop()) == int:\n",
    "            continue\n",
    "    else:\n",
    "        print(l.pop())\n",
    "\n",
    "#2 , 1\n",
    "# 0 --> False, else --> hi\n",
    "# 30 , 20 \n",
    "# 10 , None\n",
    "# \"hello\",3\n",
    "# 2 ,1"
   ]
  },
  {
   "cell_type": "markdown",
   "metadata": {},
   "source": [
    "        while condition1:\n",
    "            if condition2:\n",
    "                break\n",
    "             s1\n",
    "        else:\n",
    "            s2\n",
    "            s3\n",
    "            \n",
    "        If the while loop runs completely without any break then else part will be executed(s2,s3)\n",
    "        But if the loop is break in between then else part is not executed"
   ]
  },
  {
   "cell_type": "code",
   "execution_count": 34,
   "metadata": {},
   "outputs": [
    {
     "name": "stdout",
     "output_type": "stream",
     "text": [
      "0\n",
      "1\n",
      "2\n",
      "3\n",
      "4\n"
     ]
    }
   ],
   "source": [
    "i = 0\n",
    "while i<=10:\n",
    "    if i == 5:\n",
    "        break\n",
    "    print(i)\n",
    "    i += 1\n",
    "else:\n",
    "    print(\"This is else block\")\n",
    "#in this case the loop is break so else part is not executed"
   ]
  },
  {
   "cell_type": "code",
   "execution_count": 35,
   "metadata": {},
   "outputs": [
    {
     "name": "stdout",
     "output_type": "stream",
     "text": [
      "0\n",
      "1\n",
      "2\n",
      "3\n",
      "4\n",
      "5\n",
      "6\n",
      "7\n",
      "8\n",
      "9\n",
      "10\n",
      "This is else block\n"
     ]
    }
   ],
   "source": [
    "i = 0\n",
    "while i<=10:\n",
    "    if i == 15:\n",
    "        break\n",
    "    print(i)\n",
    "    i += 1\n",
    "else:\n",
    "    print(\"This is else block\")\n",
    "#in this case the loop is break statement is not executed so else part will execute"
   ]
  },
  {
   "cell_type": "code",
   "execution_count": 36,
   "metadata": {},
   "outputs": [
    {
     "name": "stdout",
     "output_type": "stream",
     "text": [
      "18\n",
      "4\n",
      "15\n"
     ]
    }
   ],
   "source": [
    "i = 0\n",
    "while i<=5:\n",
    "    n = randint(1,20)\n",
    "    print(n)\n",
    "    if n == 15:\n",
    "        break\n",
    "else:\n",
    "    print(\"\\n This is else block\")"
   ]
  },
  {
   "cell_type": "code",
   "execution_count": 42,
   "metadata": {},
   "outputs": [
    {
     "name": "stdout",
     "output_type": "stream",
     "text": [
      "10\n",
      "19\n",
      "18\n",
      "20\n",
      "9\n",
      "15\n"
     ]
    }
   ],
   "source": [
    "i = 0\n",
    "while i<=5:\n",
    "    n = randint(1,20)\n",
    "    print(n)\n",
    "    if n == 15:\n",
    "        break\n",
    "    i += 1\n",
    "else:\n",
    "    print(\"\\n This is else block\")"
   ]
  },
  {
   "cell_type": "markdown",
   "metadata": {},
   "source": [
    "###### Guess Game"
   ]
  },
  {
   "cell_type": "code",
   "execution_count": 46,
   "metadata": {},
   "outputs": [
    {
     "name": "stdout",
     "output_type": "stream",
     "text": [
      "\n",
      " Choose any number between 1 to 10 : \n",
      "\n",
      " Choose any number between 1 to 10 : 6\n",
      "\n",
      " HINT : THINK LOW\n",
      "\n",
      " Choose any number between 1 to 10 : 7\n",
      "\n",
      " HINT : THINK LOW\n",
      "\n",
      " Choose any number between 1 to 10 : 8\n",
      "\n",
      " HINT : THINK LOW\n",
      "\n",
      " Choose any number between 1 to 10 : 7\n",
      "\n",
      " HINT : THINK LOW\n",
      "\n",
      " Choose any number between 1 to 10 : 8\n",
      "\n",
      " HINT : THINK LOW\n",
      "\n",
      " You loss the correct number is 2\n"
     ]
    }
   ],
   "source": [
    "print(\"\\n Choose any number between 1 to 10 : \")\n",
    "comp = randint(1,10)\n",
    "i = 0\n",
    "while i<5:\n",
    "    u = int(input(\"\\n Choose any number between 1 to 10 : \"))\n",
    "    if comp == u:\n",
    "        print(f\"\\n You won....The correct number is {comp}\")\n",
    "        break\n",
    "    elif u<comp:\n",
    "        print(\"\\n HINT : THINK HIGH\")\n",
    "    elif u>comp:\n",
    "        print(\"\\n HINT : THINK LOW\")\n",
    "    i += 1\n",
    "else:\n",
    "    print(f\"\\n You loss the correct number is {comp}\")"
   ]
  },
  {
   "cell_type": "markdown",
   "metadata": {},
   "source": [
    "        1. Stone paper scissor give 5 chances to both players\n",
    "        p1 = 0\n",
    "        p2 = 0\n",
    "        a. p1 win --> p1 += 1 --> 1\n",
    "        b. p2 win --> p2 += 1 --> 1\n",
    "        c. p1 win --> p1 += 1 --> 1 + 1 = 2\n",
    "        d. p1 win --> p1 += 1 --> 2 + 1 = 3\n",
    "        e. p2 win --> p2 += 1 --> 1 + 1 = 2\n",
    "        \n",
    "        p1 = 3, p2 = 2\n",
    "        P1 win"
   ]
  },
  {
   "cell_type": "markdown",
   "metadata": {},
   "source": [
    " nested loop, patterns"
   ]
  },
  {
   "cell_type": "markdown",
   "metadata": {},
   "source": [
    "   assignment 7 submit"
   ]
  },
  {
   "cell_type": "code",
   "execution_count": null,
   "metadata": {},
   "outputs": [],
   "source": []
  }
 ],
 "metadata": {
  "kernelspec": {
   "display_name": "Python 3",
   "language": "python",
   "name": "python3"
  },
  "language_info": {
   "codemirror_mode": {
    "name": "ipython",
    "version": 3
   },
   "file_extension": ".py",
   "mimetype": "text/x-python",
   "name": "python",
   "nbconvert_exporter": "python",
   "pygments_lexer": "ipython3",
   "version": "3.7.4"
  }
 },
 "nbformat": 4,
 "nbformat_minor": 2
}
