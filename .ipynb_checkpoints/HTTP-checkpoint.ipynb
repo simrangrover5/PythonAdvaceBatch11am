{
 "cells": [
  {
   "cell_type": "markdown",
   "metadata": {},
   "source": [
    "    HTTP --> Hyper Text Transfer protocol\n",
    "    \n",
    "    Protocol --> Rules and Regulations to be followed\n",
    "    \n",
    "    It has 2 parts head and data\n",
    "    \n",
    "    Http request --> 1. head and 2. data\n",
    "        Head --> Methods\n",
    "            ex. Get\n",
    "    Https response --> 1.head and 2. data\n",
    "        Head --> Status Code\n",
    "            ex. 200 ok, 404 "
   ]
  },
  {
   "cell_type": "markdown",
   "metadata": {},
   "source": [
    "    Flask and Django difference \n",
    "    Real applications on flask and django"
   ]
  },
  {
   "cell_type": "code",
   "execution_count": null,
   "metadata": {},
   "outputs": [],
   "source": []
  }
 ],
 "metadata": {
  "kernelspec": {
   "display_name": "Python 3",
   "language": "python",
   "name": "python3"
  },
  "language_info": {
   "codemirror_mode": {
    "name": "ipython",
    "version": 3
   },
   "file_extension": ".py",
   "mimetype": "text/x-python",
   "name": "python",
   "nbconvert_exporter": "python",
   "pygments_lexer": "ipython3",
   "version": "3.7.4"
  }
 },
 "nbformat": 4,
 "nbformat_minor": 2
}
