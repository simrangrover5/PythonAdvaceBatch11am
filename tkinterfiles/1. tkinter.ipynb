{
 "cells": [
  {
   "cell_type": "markdown",
   "metadata": {},
   "source": [
    "    Tkinter module is used to build desktop applications\n",
    "    \n",
    "    tkinter, pyqt --> python modules for desktop application\n",
    "    \n",
    "    notepad, calculators, "
   ]
  },
  {
   "cell_type": "code",
   "execution_count": 1,
   "metadata": {},
   "outputs": [],
   "source": [
    "from zipfile import ZipFile"
   ]
  },
  {
   "cell_type": "code",
   "execution_count": 2,
   "metadata": {},
   "outputs": [
    {
     "name": "stdout",
     "output_type": "stream",
     "text": [
      " Volume in drive C is Windows\n",
      " Volume Serial Number is E08D-DAD9\n",
      "\n",
      " Directory of C:\\batches\\online_batch\\pythonbatch10_15am\\tkinterfiles\n",
      "\n",
      "24-12-2020  11:53    <DIR>          .\n",
      "24-12-2020  11:53    <DIR>          ..\n",
      "24-12-2020  11:43    <DIR>          .ipynb_checkpoints\n",
      "24-12-2020  11:53               977 1. tkinter.ipynb\n",
      "               1 File(s)            977 bytes\n",
      "               3 Dir(s)  48,731,193,344 bytes free\n"
     ]
    }
   ],
   "source": [
    "ls"
   ]
  },
  {
   "cell_type": "code",
   "execution_count": 3,
   "metadata": {},
   "outputs": [
    {
     "name": "stdout",
     "output_type": "stream",
     "text": [
      "Writing one.py\n"
     ]
    }
   ],
   "source": [
    "%%writefile one.py\n",
    "\n",
    "\n",
    "print(\"hello world\")"
   ]
  },
  {
   "cell_type": "code",
   "execution_count": 4,
   "metadata": {},
   "outputs": [
    {
     "name": "stdout",
     "output_type": "stream",
     "text": [
      "Writing two.py\n"
     ]
    }
   ],
   "source": [
    "%%writefile two.py\n",
    "\n",
    "\n",
    "a = int(input(\"\\n Enter your name : \"))\n",
    "b = int(input(\"\\n Enter your class : \"))\n",
    "print(a+b)"
   ]
  },
  {
   "cell_type": "code",
   "execution_count": 5,
   "metadata": {},
   "outputs": [],
   "source": [
    "files = ['one.py', 'two.py']\n",
    "\n",
    "with ZipFile(\"folder.zip\", 'w') as z:\n",
    "    for i in files:\n",
    "        z.write(i)"
   ]
  },
  {
   "cell_type": "code",
   "execution_count": 6,
   "metadata": {},
   "outputs": [
    {
     "name": "stdout",
     "output_type": "stream",
     "text": [
      " Volume in drive C is Windows\n",
      " Volume Serial Number is E08D-DAD9\n",
      "\n",
      " Directory of C:\\batches\\online_batch\\pythonbatch10_15am\\tkinterfiles\n",
      "\n",
      "24-12-2020  11:55    <DIR>          .\n",
      "24-12-2020  11:55    <DIR>          ..\n",
      "24-12-2020  11:43    <DIR>          .ipynb_checkpoints\n",
      "24-12-2020  11:55             2,599 1. tkinter.ipynb\n",
      "24-12-2020  11:55               323 folder.zip\n",
      "24-12-2020  11:53                26 one.py\n",
      "24-12-2020  11:54                99 two.py\n",
      "               4 File(s)          3,047 bytes\n",
      "               3 Dir(s)  48,730,963,968 bytes free\n"
     ]
    }
   ],
   "source": [
    "ls"
   ]
  },
  {
   "cell_type": "code",
   "execution_count": 8,
   "metadata": {},
   "outputs": [
    {
     "name": "stdout",
     "output_type": "stream",
     "text": [
      "File Name                                             Modified             Size\n",
      "one.py                                         2020-12-24 11:53:52           26\n",
      "two.py                                         2020-12-24 11:54:24           99\n"
     ]
    }
   ],
   "source": [
    "with ZipFile(\"folder.zip\", 'r') as z:\n",
    "    z.printdir()\n",
    "    z.extractall()"
   ]
  },
  {
   "cell_type": "code",
   "execution_count": 9,
   "metadata": {},
   "outputs": [
    {
     "name": "stdout",
     "output_type": "stream",
     "text": [
      " Volume in drive C is Windows\n",
      " Volume Serial Number is E08D-DAD9\n",
      "\n",
      " Directory of C:\\batches\\online_batch\\pythonbatch10_15am\\tkinterfiles\n",
      "\n",
      "24-12-2020  11:57    <DIR>          .\n",
      "24-12-2020  11:57    <DIR>          ..\n",
      "24-12-2020  11:43    <DIR>          .ipynb_checkpoints\n",
      "24-12-2020  11:57             3,741 1. tkinter.ipynb\n",
      "24-12-2020  11:55               323 folder.zip\n",
      "24-12-2020  11:58                26 one.py\n",
      "24-12-2020  11:58                99 two.py\n",
      "               4 File(s)          4,189 bytes\n",
      "               3 Dir(s)  48,730,095,616 bytes free\n"
     ]
    }
   ],
   "source": [
    "ls"
   ]
  },
  {
   "cell_type": "code",
   "execution_count": 10,
   "metadata": {},
   "outputs": [
    {
     "name": "stdout",
     "output_type": "stream",
     "text": [
      "Writing t1.py\n"
     ]
    }
   ],
   "source": [
    "%%writefile t1.py\n",
    "\n",
    "from tkinter import *\n",
    "\n",
    "root = Tk()"
   ]
  },
  {
   "cell_type": "code",
   "execution_count": 13,
   "metadata": {},
   "outputs": [],
   "source": [
    "!python t1.py"
   ]
  },
  {
   "cell_type": "code",
   "execution_count": 14,
   "metadata": {},
   "outputs": [
    {
     "name": "stdout",
     "output_type": "stream",
     "text": [
      "Overwriting t1.py\n"
     ]
    }
   ],
   "source": [
    "%%writefile t1.py\n",
    "\n",
    "from tkinter import *\n",
    "\n",
    "root = Tk()\n",
    "\n",
    "root.mainloop()"
   ]
  },
  {
   "cell_type": "code",
   "execution_count": 15,
   "metadata": {},
   "outputs": [],
   "source": [
    "!python t1.py"
   ]
  },
  {
   "cell_type": "code",
   "execution_count": 18,
   "metadata": {},
   "outputs": [
    {
     "name": "stdout",
     "output_type": "stream",
     "text": [
      "Overwriting t1.py\n"
     ]
    }
   ],
   "source": [
    "%%writefile t1.py\n",
    "\n",
    "from tkinter import *\n",
    "\n",
    "root = Tk()\n",
    "root.config(bg=\"#abcdef\")\n",
    "root.title(\"TkinterFile\")\n",
    "image = PhotoImage(file=\"icon.png\")\n",
    "root.iconphoto(False, image)\n",
    "root.mainloop()"
   ]
  },
  {
   "cell_type": "code",
   "execution_count": 17,
   "metadata": {},
   "outputs": [
    {
     "name": "stdout",
     "output_type": "stream",
     "text": [
      "Help on method wm_iconphoto in module tkinter:\n",
      "\n",
      "wm_iconphoto(default=False, *args) method of tkinter.Tk instance\n",
      "    Sets the titlebar icon for this window based on the named photo\n",
      "    images passed through args. If default is True, this is applied to\n",
      "    all future created toplevels as well.\n",
      "    \n",
      "    The data in the images is taken as a snapshot at the time of\n",
      "    invocation. If the images are later changed, this is not reflected\n",
      "    to the titlebar icons. Multiple images are accepted to allow\n",
      "    different images sizes to be provided. The window manager may scale\n",
      "    provided icons to an appropriate size.\n",
      "    \n",
      "    On Windows, the images are packed into a Windows icon structure.\n",
      "    This will override an icon specified to wm_iconbitmap, and vice\n",
      "    versa.\n",
      "    \n",
      "    On X, the images are arranged into the _NET_WM_ICON X property,\n",
      "    which most modern window managers support. An icon specified by\n",
      "    wm_iconbitmap may exist simultaneously.\n",
      "    \n",
      "    On Macintosh, this currently does nothing.\n",
      "\n"
     ]
    }
   ],
   "source": [
    "from tkinter import *\n",
    "\n",
    "root = Tk()\n",
    "image = PhotoImage(file=\"icon.png\")\n",
    "help(root.iconphoto)"
   ]
  },
  {
   "cell_type": "code",
   "execution_count": 20,
   "metadata": {},
   "outputs": [
    {
     "name": "stdout",
     "output_type": "stream",
     "text": [
      "Overwriting t1.py\n"
     ]
    }
   ],
   "source": [
    "%%writefile t1.py\n",
    "\n",
    "from tkinter import *\n",
    "\n",
    "root = Tk()\n",
    "root.config(bg=\"#D79F5C\")\n",
    "root.title(\"TkinterFile\")\n",
    "image = PhotoImage(file=\"icon.png\")\n",
    "root.iconphoto(False, image)\n",
    "root.minsize(500, 500)\n",
    "root.maxsize(1000, 600)\n",
    "root.mainloop()"
   ]
  },
  {
   "cell_type": "code",
   "execution_count": 21,
   "metadata": {},
   "outputs": [
    {
     "name": "stdout",
     "output_type": "stream",
     "text": [
      "['_Misc__winfo_getint', '_Misc__winfo_parseitem', '__class__', '__delattr__', '__dict__', '__dir__', '__doc__', '__eq__', '__format__', '__ge__', '__getattr__', '__getattribute__', '__getitem__', '__gt__', '__hash__', '__init__', '__init_subclass__', '__le__', '__lt__', '__module__', '__ne__', '__new__', '__reduce__', '__reduce_ex__', '__repr__', '__setattr__', '__setitem__', '__sizeof__', '__str__', '__subclasshook__', '__weakref__', '_bind', '_configure', '_displayof', '_getboolean', '_getconfigure', '_getconfigure1', '_getdoubles', '_getints', '_grid_configure', '_gridconvvalue', '_last_child_ids', '_loadtk', '_nametowidget', '_noarg_', '_options', '_register', '_report_exception', '_root', '_subst_format', '_subst_format_str', '_substitute', '_tclCommands', '_tkloaded', '_w', '_windowingsystem', 'after', 'after_cancel', 'after_idle', 'anchor', 'aspect', 'attributes', 'bbox', 'bell', 'bind', 'bind_all', 'bind_class', 'bindtags', 'cget', 'children', 'client', 'clipboard_append', 'clipboard_clear', 'clipboard_get', 'colormapwindows', 'columnconfigure', 'command', 'config', 'configure', 'deiconify', 'deletecommand', 'destroy', 'event_add', 'event_delete', 'event_generate', 'event_info', 'focus', 'focus_displayof', 'focus_force', 'focus_get', 'focus_lastfor', 'focus_set', 'focusmodel', 'forget', 'frame', 'geometry', 'getboolean', 'getdouble', 'getint', 'getvar', 'grab_current', 'grab_release', 'grab_set', 'grab_set_global', 'grab_status', 'grid', 'grid_anchor', 'grid_bbox', 'grid_columnconfigure', 'grid_location', 'grid_propagate', 'grid_rowconfigure', 'grid_size', 'grid_slaves', 'group', 'iconbitmap', 'iconify', 'iconmask', 'iconname', 'iconphoto', 'iconposition', 'iconwindow', 'image_names', 'image_types', 'keys', 'lift', 'loadtk', 'lower', 'mainloop', 'manage', 'master', 'maxsize', 'minsize', 'nametowidget', 'option_add', 'option_clear', 'option_get', 'option_readfile', 'overrideredirect', 'pack_propagate', 'pack_slaves', 'place_slaves', 'positionfrom', 'propagate', 'protocol', 'quit', 'readprofile', 'register', 'report_callback_exception', 'resizable', 'rowconfigure', 'selection_clear', 'selection_get', 'selection_handle', 'selection_own', 'selection_own_get', 'send', 'setvar', 'size', 'sizefrom', 'slaves', 'state', 'title', 'tk', 'tk_bisque', 'tk_focusFollowsMouse', 'tk_focusNext', 'tk_focusPrev', 'tk_setPalette', 'tk_strictMotif', 'tkraise', 'transient', 'unbind', 'unbind_all', 'unbind_class', 'update', 'update_idletasks', 'wait_variable', 'wait_visibility', 'wait_window', 'waitvar', 'winfo_atom', 'winfo_atomname', 'winfo_cells', 'winfo_children', 'winfo_class', 'winfo_colormapfull', 'winfo_containing', 'winfo_depth', 'winfo_exists', 'winfo_fpixels', 'winfo_geometry', 'winfo_height', 'winfo_id', 'winfo_interps', 'winfo_ismapped', 'winfo_manager', 'winfo_name', 'winfo_parent', 'winfo_pathname', 'winfo_pixels', 'winfo_pointerx', 'winfo_pointerxy', 'winfo_pointery', 'winfo_reqheight', 'winfo_reqwidth', 'winfo_rgb', 'winfo_rootx', 'winfo_rooty', 'winfo_screen', 'winfo_screencells', 'winfo_screendepth', 'winfo_screenheight', 'winfo_screenmmheight', 'winfo_screenmmwidth', 'winfo_screenvisual', 'winfo_screenwidth', 'winfo_server', 'winfo_toplevel', 'winfo_viewable', 'winfo_visual', 'winfo_visualid', 'winfo_visualsavailable', 'winfo_vrootheight', 'winfo_vrootwidth', 'winfo_vrootx', 'winfo_vrooty', 'winfo_width', 'winfo_x', 'winfo_y', 'withdraw', 'wm_aspect', 'wm_attributes', 'wm_client', 'wm_colormapwindows', 'wm_command', 'wm_deiconify', 'wm_focusmodel', 'wm_forget', 'wm_frame', 'wm_geometry', 'wm_grid', 'wm_group', 'wm_iconbitmap', 'wm_iconify', 'wm_iconmask', 'wm_iconname', 'wm_iconphoto', 'wm_iconposition', 'wm_iconwindow', 'wm_manage', 'wm_maxsize', 'wm_minsize', 'wm_overrideredirect', 'wm_positionfrom', 'wm_protocol', 'wm_resizable', 'wm_sizefrom', 'wm_state', 'wm_title', 'wm_transient', 'wm_withdraw']\n"
     ]
    }
   ],
   "source": [
    "print(dir(root))"
   ]
  },
  {
   "cell_type": "code",
   "execution_count": 24,
   "metadata": {},
   "outputs": [
    {
     "data": {
      "text/plain": [
       "864"
      ]
     },
     "execution_count": 24,
     "metadata": {},
     "output_type": "execute_result"
    }
   ],
   "source": [
    "root = Tk()\n",
    "root.winfo_screenheight()"
   ]
  },
  {
   "cell_type": "code",
   "execution_count": 25,
   "metadata": {},
   "outputs": [
    {
     "data": {
      "text/plain": [
       "1536"
      ]
     },
     "execution_count": 25,
     "metadata": {},
     "output_type": "execute_result"
    }
   ],
   "source": [
    "root = Tk()\n",
    "root.winfo_screenwidth()"
   ]
  },
  {
   "cell_type": "code",
   "execution_count": 26,
   "metadata": {},
   "outputs": [
    {
     "name": "stdout",
     "output_type": "stream",
     "text": [
      "Overwriting t1.py\n"
     ]
    }
   ],
   "source": [
    "%%writefile t1.py\n",
    "\n",
    "from tkinter import *\n",
    "\n",
    "root = Tk()\n",
    "root.config(bg=\"#D79F5C\")\n",
    "root.title(\"TkinterFile\")\n",
    "image = PhotoImage(file=\"icon.png\")\n",
    "root.iconphoto(False, image)\n",
    "width = root.winfo_screenwidth()\n",
    "height = root.winfo_screenheight()\n",
    "root.minsize(width//2, height//2)\n",
    "root.maxsize(1000, 600)\n",
    "root.mainloop()"
   ]
  },
  {
   "cell_type": "code",
   "execution_count": 27,
   "metadata": {},
   "outputs": [
    {
     "name": "stdout",
     "output_type": "stream",
     "text": [
      "Overwriting t1.py\n"
     ]
    }
   ],
   "source": [
    "%%writefile t1.py\n",
    "\n",
    "from tkinter import *\n",
    "\n",
    "root = Tk()\n",
    "root.config(bg=\"#D79F5C\")\n",
    "root.title(\"TkinterFile\")\n",
    "image = PhotoImage(file=\"icon.png\")\n",
    "root.iconphoto(False, image)\n",
    "width = root.winfo_screenwidth()\n",
    "height = root.winfo_screenheight()\n",
    "root.minsize(width//2, height//2)\n",
    "root.resizable(0, 0)\n",
    "root.mainloop()"
   ]
  },
  {
   "cell_type": "code",
   "execution_count": 28,
   "metadata": {},
   "outputs": [
    {
     "name": "stdout",
     "output_type": "stream",
     "text": [
      "Overwriting t1.py\n"
     ]
    }
   ],
   "source": [
    "%%writefile t1.py\n",
    "\n",
    "from tkinter import *\n",
    "\n",
    "root = Tk()\n",
    "root.config(bg=\"#D79F5C\")\n",
    "root.title(\"TkinterFile\")\n",
    "image = PhotoImage(file=\"icon.png\")\n",
    "root.iconphoto(False, image)\n",
    "width = root.winfo_screenwidth()\n",
    "height = root.winfo_screenheight()\n",
    "root.minsize(width//2, height//2)\n",
    "root.resizable(0, 1)\n",
    "root.mainloop()"
   ]
  },
  {
   "cell_type": "code",
   "execution_count": 29,
   "metadata": {},
   "outputs": [
    {
     "name": "stdout",
     "output_type": "stream",
     "text": [
      "Overwriting t1.py\n"
     ]
    }
   ],
   "source": [
    "%%writefile t1.py\n",
    "\n",
    "from tkinter import *\n",
    "\n",
    "root = Tk()\n",
    "root.config(bg=\"#D79F5C\")\n",
    "root.title(\"TkinterFile\")\n",
    "image = PhotoImage(file=\"icon.png\")\n",
    "root.iconphoto(False, image)\n",
    "width = root.winfo_screenwidth()\n",
    "height = root.winfo_screenheight()\n",
    "root.minsize(width//2, height//2)\n",
    "root.resizable(1, 0)\n",
    "root.mainloop()"
   ]
  },
  {
   "cell_type": "code",
   "execution_count": 30,
   "metadata": {},
   "outputs": [],
   "source": [
    "### root layout"
   ]
  },
  {
   "cell_type": "markdown",
   "metadata": {},
   "source": [
    "#### widgets\n",
    "\n",
    "    1. Label\n",
    "    2. Buttons\n",
    "    3. DropDown\n",
    "    4. Entry\n",
    "    5. Scrollbar\n",
    "    6. Menu \n",
    "    7. Text Box\n",
    "    8. Lists\n",
    "    9. RadioButton\n",
    "    10. Checkbox\n",
    "    11. Frame\n",
    "        etc"
   ]
  },
  {
   "cell_type": "code",
   "execution_count": 31,
   "metadata": {},
   "outputs": [],
   "source": [
    "import tkinter"
   ]
  },
  {
   "cell_type": "code",
   "execution_count": 32,
   "metadata": {},
   "outputs": [
    {
     "name": "stdout",
     "output_type": "stream",
     "text": [
      "['ACTIVE', 'ALL', 'ANCHOR', 'ARC', 'BASELINE', 'BEVEL', 'BOTH', 'BOTTOM', 'BROWSE', 'BUTT', 'BaseWidget', 'BitmapImage', 'BooleanVar', 'Button', 'CASCADE', 'CENTER', 'CHAR', 'CHECKBUTTON', 'CHORD', 'COMMAND', 'CURRENT', 'CallWrapper', 'Canvas', 'Checkbutton', 'DISABLED', 'DOTBOX', 'DoubleVar', 'E', 'END', 'EW', 'EXCEPTION', 'EXTENDED', 'Entry', 'Event', 'EventType', 'FALSE', 'FIRST', 'FLAT', 'Frame', 'GROOVE', 'Grid', 'HIDDEN', 'HORIZONTAL', 'INSERT', 'INSIDE', 'Image', 'IntVar', 'LAST', 'LEFT', 'Label', 'LabelFrame', 'Listbox', 'MITER', 'MOVETO', 'MULTIPLE', 'Menu', 'Menubutton', 'Message', 'Misc', 'N', 'NE', 'NO', 'NONE', 'NORMAL', 'NS', 'NSEW', 'NUMERIC', 'NW', 'NoDefaultRoot', 'OFF', 'ON', 'OUTSIDE', 'OptionMenu', 'PAGES', 'PIESLICE', 'PROJECTING', 'Pack', 'PanedWindow', 'PhotoImage', 'Place', 'RADIOBUTTON', 'RAISED', 'READABLE', 'RIDGE', 'RIGHT', 'ROUND', 'Radiobutton', 'S', 'SCROLL', 'SE', 'SEL', 'SEL_FIRST', 'SEL_LAST', 'SEPARATOR', 'SINGLE', 'SOLID', 'SUNKEN', 'SW', 'Scale', 'Scrollbar', 'Spinbox', 'StringVar', 'TOP', 'TRUE', 'Tcl', 'TclError', 'TclVersion', 'Text', 'Tk', 'TkVersion', 'Toplevel', 'UNDERLINE', 'UNITS', 'VERTICAL', 'Variable', 'W', 'WORD', 'WRITABLE', 'Widget', 'Wm', 'X', 'XView', 'Y', 'YES', 'YView', '__builtins__', '__cached__', '__doc__', '__file__', '__loader__', '__name__', '__package__', '__path__', '__spec__', '_cnfmerge', '_default_root', '_exit', '_flatten', '_join', '_magic_re', '_setit', '_space_re', '_splitdict', '_stringify', '_support_default_root', '_test', '_tkerror', '_tkinter', '_varnum', 'constants', 'enum', 'getboolean', 'getdouble', 'getint', 'image_names', 'image_types', 'mainloop', 're', 'sys', 'wantobjects']\n"
     ]
    }
   ],
   "source": [
    "print(dir(tkinter))"
   ]
  },
  {
   "cell_type": "code",
   "execution_count": 39,
   "metadata": {},
   "outputs": [
    {
     "name": "stdout",
     "output_type": "stream",
     "text": [
      "Overwriting t2.py\n"
     ]
    }
   ],
   "source": [
    "%%writefile t2.py\n",
    "\n",
    "from tkinter import *\n",
    "\n",
    "root = Tk()\n",
    "root.config(bg=\"#D79F5C\")\n",
    "root.title(\"TkinterFile\")\n",
    "image = PhotoImage(file=\"icon.png\")\n",
    "root.iconphoto(False, image)\n",
    "width = root.winfo_screenwidth()\n",
    "height = root.winfo_screenheight()\n",
    "root.minsize(width//2, height//2)\n",
    "root.resizable(1, 0)\n",
    "\n",
    "l1 = Label(root, text=\"Label1\", fg=\"red\", bg=\"black\", font=(None, 20)) # font=(Family, size, style)\n",
    "b1 = Button(root, text=\"Button1\", fg=\"white\", bg=\"black\")\n",
    "\n",
    "\n",
    "b1.pack()\n",
    "l1.pack(side=\"left\")\n",
    "root.mainloop()"
   ]
  },
  {
   "cell_type": "code",
   "execution_count": 40,
   "metadata": {},
   "outputs": [],
   "source": [
    "### till widgets are place, pack or grid they are not shown"
   ]
  },
  {
   "cell_type": "code",
   "execution_count": 41,
   "metadata": {},
   "outputs": [],
   "source": [
    "l1 = Label(root)"
   ]
  },
  {
   "cell_type": "code",
   "execution_count": 42,
   "metadata": {},
   "outputs": [
    {
     "name": "stdout",
     "output_type": "stream",
     "text": [
      "Help on method pack_configure in module tkinter:\n",
      "\n",
      "pack_configure(cnf={}, **kw) method of tkinter.Label instance\n",
      "    Pack a widget in the parent widget. Use as options:\n",
      "    after=widget - pack it after you have packed widget\n",
      "    anchor=NSEW (or subset) - position widget according to\n",
      "                              given direction\n",
      "    before=widget - pack it before you will pack widget\n",
      "    expand=bool - expand widget if parent size grows\n",
      "    fill=NONE or X or Y or BOTH - fill widget if widget grows\n",
      "    in=master - use master to contain this widget\n",
      "    in_=master - see 'in' option description\n",
      "    ipadx=amount - add internal padding in x direction\n",
      "    ipady=amount - add internal padding in y direction\n",
      "    padx=amount - add padding in x direction\n",
      "    pady=amount - add padding in y direction\n",
      "    side=TOP or BOTTOM or LEFT or RIGHT -  where to add this widget.\n",
      "\n"
     ]
    }
   ],
   "source": [
    "help(l1.pack)"
   ]
  },
  {
   "cell_type": "code",
   "execution_count": null,
   "metadata": {},
   "outputs": [],
   "source": []
  }
 ],
 "metadata": {
  "kernelspec": {
   "display_name": "Python 3",
   "language": "python",
   "name": "python3"
  },
  "language_info": {
   "codemirror_mode": {
    "name": "ipython",
    "version": 3
   },
   "file_extension": ".py",
   "mimetype": "text/x-python",
   "name": "python",
   "nbconvert_exporter": "python",
   "pygments_lexer": "ipython3",
   "version": "3.8.5"
  }
 },
 "nbformat": 4,
 "nbformat_minor": 4
}
