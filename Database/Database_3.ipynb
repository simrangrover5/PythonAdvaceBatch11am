{
 "cells": [
  {
   "cell_type": "markdown",
   "metadata": {},
   "source": [
    "    grant commands on db_name.table_name to 'user_name'@'host'\n",
    "    \n",
    "    grant select, delete on batch11am.student to 'batch11am'@'localhost'\n",
    "    \n",
    "    grant all privileges on batch11am.* to 'batch11am'@'localhost';\n",
    "    \n",
    "    * --> batch11am all tables"
   ]
  },
  {
   "cell_type": "markdown",
   "metadata": {},
   "source": [
    "    alter table tablename modify/add/drop column columnname values;\n",
    "    \n",
    "    update tablename set columnname=value where condition;"
   ]
  },
  {
   "cell_type": "markdown",
   "metadata": {},
   "source": [
    "    Like\n",
    "        It is used for patterns\n",
    "        % --> zero or more than one character\n",
    "        _ --> single character\n",
    "   \n",
    "    Regex\n",
    "        It is also for patterns\n",
    "        . --> single character\n",
    "        +\n",
    "        ?\n",
    "        * --> 0 or more repetition\n",
    "        {}\n",
    "        []\n",
    "        ()\n",
    "        \\w\n",
    "        \\W\n",
    "        \\b\n",
    "        |\n",
    "        ^ --> starting\n",
    "        $\n",
    "        \n",
    "        etc"
   ]
  },
  {
   "cell_type": "markdown",
   "metadata": {},
   "source": [
    "    JOINS\n",
    "    \n",
    "        s1 = {2, 3, 5, 6}\n",
    "        s2 = {10, 12, 13, 14, 5, 6}\n",
    "        \n",
    "        s = {5, 6}\n",
    "    \n",
    "        1. Inner Join\n",
    "            Intersection\n",
    "        2. Outer Join\n",
    "            Union\n",
    "        3. Left Join\n",
    "            student left join fees\n",
    "            left table --> student\n",
    "            right table --> fees\n",
    "            \n",
    "            All the data of left table but common data of right table\n",
    "            \n",
    "        4. Right Join\n",
    "            student right join fees\n",
    "            left table --> student\n",
    "            right table --> fees\n",
    "            \n",
    "            all the data of fees table but common data of student table"
   ]
  },
  {
   "cell_type": "markdown",
   "metadata": {},
   "source": [
    "    select * from table1 inner join table2 on (condition for join) where condition;"
   ]
  },
  {
   "cell_type": "code",
   "execution_count": null,
   "metadata": {},
   "outputs": [],
   "source": []
  }
 ],
 "metadata": {
  "kernelspec": {
   "display_name": "Python 3",
   "language": "python",
   "name": "python3"
  },
  "language_info": {
   "codemirror_mode": {
    "name": "ipython",
    "version": 3
   },
   "file_extension": ".py",
   "mimetype": "text/x-python",
   "name": "python",
   "nbconvert_exporter": "python",
   "pygments_lexer": "ipython3",
   "version": "3.7.4"
  }
 },
 "nbformat": 4,
 "nbformat_minor": 2
}
