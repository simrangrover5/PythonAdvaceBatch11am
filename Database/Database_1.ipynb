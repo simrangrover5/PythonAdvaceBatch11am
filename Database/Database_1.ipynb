{
 "cells": [
  {
   "cell_type": "markdown",
   "metadata": {},
   "source": [
    "    Benefit of using database:\n",
    "    \n",
    "    1. Speed Fast\n",
    "    2. Memory Save\n",
    "    3. Store large amount of data easily \n",
    "    4. Can store data in structured form or in unstructured form \n",
    "    5. Security\n",
    "        DBA users username and password and permissions\n",
    "    6. Data backups and recover\n",
    "    7. Database can be accessed at same time by multiple usersa\n",
    "    8. CRUD operations \n",
    "        Create Read Update Delete\n",
    "    9. Redundancy (Repetition)\n",
    "        By applying constraints data does not repeat\n",
    "    10. Queries\n",
    "        \n",
    "     ACID Properties\n",
    "     \n",
    "         1. A --> Atomic\n",
    "             Transaction will occur completely or it will not occur\n",
    "         2. C --> Consistency\n",
    "             Once done will be same till your next transaction\n",
    "         3. I --> Isolation\n",
    "             Transactions Independent of each other\n",
    "         4. D --> Durability\n",
    "             Transactions are durable and are not effected by the failures"
   ]
  },
  {
   "cell_type": "markdown",
   "metadata": {},
   "source": [
    "    Table\n",
    "    \n",
    "            Id      Name       Phno\n",
    "            1      Simran      9876310980\n",
    "            2      Aarav       9234567890\n",
    "            3      Haresh      7765432190\n",
    "            4      Ajay         Null"
   ]
  },
  {
   "cell_type": "markdown",
   "metadata": {},
   "source": [
    "    Databases are of 2 types\n",
    "    \n",
    "    1. SQL\n",
    "        Structured Query Language\n",
    "        \n",
    "        Structured --> Data is stored in format\n",
    "        Query --> You can have queries on your data\n",
    "        Language --> rules, syntax\n",
    "        \n",
    "        \n",
    "        RDBMS --> Relational Database Management System\n",
    "        In which we have relations between the data of same table\n",
    "        and we can build relations between different tables as well\n",
    "        \n",
    "        Ex --> PyMySQL, MySQL, sqlite3, mariadb, oracle etc \n",
    "        \n",
    "    2. NO SQL\n",
    "        Non Structural Query Language\n",
    "        \n",
    "        Have no particular structure\n",
    "        \n",
    "            {\n",
    "                \"id\" : 1,\n",
    "                \"name\" : \"simran\"\n",
    "            }\n",
    "            \n",
    "            {\n",
    "                \"name\" : \"ajay\",\n",
    "                \"phno\" : 987652100\n",
    "            }\n",
    "            \n",
    "       Query --> Queries\n",
    "       L --> Language\n",
    "       \n",
    "       Non Relational Database Management System\n",
    "       No relations\n",
    "       \n",
    "       Ex --> Mongodb"
   ]
  },
  {
   "cell_type": "markdown",
   "metadata": {},
   "source": [
    "    SQL --> database - table - data"
   ]
  },
  {
   "cell_type": "markdown",
   "metadata": {},
   "source": [
    "    Types of SQL Languages\n",
    "    \n",
    "        1. DDL\n",
    "            Data Definition Language\n",
    "            Schema --> Overall definition of table\n",
    "            \n",
    "            1. Create --> It is used to create table/database\n",
    "            2. Alter --> It is used to update the table \n",
    "                        ex -> Add column, remove column, rename column, modify column\n",
    "            3. Drop --> It will drop your whole table (along with data)\n",
    "            4. Rename --> Rename table\n",
    "            5. Truncate --> Deletes the whole data but not table\n",
    "            \n",
    "        2. DML\n",
    "            Data Manipulation Language\n",
    "            1. Insert --> Insert Data into table\n",
    "            2. Update --> This command is used to update the data\n",
    "                I want to change the phno of simran \n",
    "            3. Select --> Used to select the data\n",
    "            4. Delete --> Particular data delete or particular row delete\n",
    "            \n",
    "        3. DCL\n",
    "            Data Control Language\n",
    "                1. Grant\n",
    "                    Used to Give Permission \n",
    "                2. Revoke\n",
    "                    Used to Take by the Permissions\n",
    "        4. TCL\n",
    "            Transaction Control Language\n",
    "                1. Commit\n",
    "                    It is used to save data permanently\n",
    "                2. Rollback\n",
    "                    Rollback to the state mentioned whenver the failure will occur\n",
    "                3. Save Point\n",
    "                    It is a save point at which the transaction will roll back\n",
    "        \n",
    "        select * from student where name like %s"
   ]
  },
  {
   "cell_type": "markdown",
   "metadata": {},
   "source": [
    "    SQL Keys\n",
    "        Keys are the columns/attributes which are used to define conditions\n",
    "    \n",
    "        1. Primary key\n",
    "        2. Foreign Key\n",
    "        3. Unique Key\n",
    "        4. Alternate Key\n",
    "        5. Super Key\n",
    "        6. Candidate Key\n",
    "        7. Composite Key"
   ]
  },
  {
   "cell_type": "markdown",
   "metadata": {},
   "source": [
    "    MySQL \n",
    "        Actual MySQL server install\n",
    "        Xampp"
   ]
  },
  {
   "cell_type": "code",
   "execution_count": 1,
   "metadata": {},
   "outputs": [],
   "source": [
    "### ERD Diagram (study)"
   ]
  },
  {
   "cell_type": "markdown",
   "metadata": {},
   "source": [
    "    Address --> aid --> int, sid --> int, city --> string, state --> string, street --> string"
   ]
  },
  {
   "cell_type": "code",
   "execution_count": null,
   "metadata": {},
   "outputs": [],
   "source": []
  }
 ],
 "metadata": {
  "kernelspec": {
   "display_name": "Python 3",
   "language": "python",
   "name": "python3"
  },
  "language_info": {
   "codemirror_mode": {
    "name": "ipython",
    "version": 3
   },
   "file_extension": ".py",
   "mimetype": "text/x-python",
   "name": "python",
   "nbconvert_exporter": "python",
   "pygments_lexer": "ipython3",
   "version": "3.7.4"
  }
 },
 "nbformat": 4,
 "nbformat_minor": 2
}
