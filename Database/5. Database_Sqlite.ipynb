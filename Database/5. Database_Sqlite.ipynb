{
 "cells": [
  {
   "cell_type": "code",
   "execution_count": 11,
   "metadata": {},
   "outputs": [
    {
     "name": "stdout",
     "output_type": "stream",
     "text": [
      "1. Student\n",
      "2. Fees\n",
      "3. Address\n",
      "4. Exit\n",
      "\n",
      " Choose Any Option from above : 1\n",
      "\n",
      " WELCOME IN STUDENT TABLE\n",
      "\n",
      "1. Insert\n",
      "2. Delete\n",
      "3. Select\n",
      "4. Update\n",
      "5. Exit4\n",
      "\n",
      " Column Present are : subject, age, fname and lname \n",
      "\n",
      " Enter any column name from above which want to updateage\n",
      "\n",
      " Enter new value for that column.....23\n",
      "1, 2, 3, 4, 5, 6, 7, 8, 9, 11, 12, \n",
      " Choose any id from above : 7\n",
      "\n",
      " Successfully Updated the column age\n",
      "\n",
      "1. Insert\n",
      "2. Delete\n",
      "3. Select\n",
      "4. Update\n",
      "5. Exit3\n",
      "1     |     simran     |     grover     |     20     |     AWS     |     \n",
      "________________________________________________________________________________\n",
      "2     |     Sahil     |     Grover     |     22     |     Python     |     \n",
      "________________________________________________________________________________\n",
      "3     |     Ajay     |     Gupta     |     22     |     Cloud     |     \n",
      "________________________________________________________________________________\n",
      "4     |     Vivek     |     Uniyal     |     21     |     AWS     |     \n",
      "________________________________________________________________________________\n",
      "5     |     Mihir     |     Mehta     |     23     |     Cloud     |     \n",
      "________________________________________________________________________________\n",
      "6     |     Haresh     |     Parmar     |     23     |     Python     |     \n",
      "________________________________________________________________________________\n",
      "7     |     Daivat     |     Shah     |     23     |     Python     |     \n",
      "________________________________________________________________________________\n",
      "8     |     Aman     |     Gupta     |     22     |     Linux     |     \n",
      "________________________________________________________________________________\n",
      "9     |     Akshay     |     Mehta     |     22     |     AWS     |     \n",
      "________________________________________________________________________________\n",
      "11     |     Sonia     |     Mehra     |     24     |     AWS     |     \n",
      "________________________________________________________________________________\n",
      "12     |     Alia     |     Bhatt     |     23     |     Cloud     |     \n",
      "________________________________________________________________________________\n",
      "\n",
      "1. Insert\n",
      "2. Delete\n",
      "3. Select\n",
      "4. Update\n",
      "5. Exit5\n",
      "\n",
      " THANKYOU\n",
      "1. Student\n",
      "2. Fees\n",
      "3. Address\n",
      "4. Exit\n",
      "\n",
      " Choose Any Option from above : 4\n",
      "\n",
      " ThankYou for using our service\n"
     ]
    }
   ],
   "source": [
    "import pymysql as sql\n",
    "\n",
    "def connectivity():\n",
    "    db = sql.connect(host=\"localhost\", port=3306, user=\"root\", password=\"\", database=\"batch11am\")\n",
    "    cursor = db.cursor()\n",
    "    return db, cursor\n",
    "\n",
    "def insert_stu(db, cursor):\n",
    "    while input(\"\\n Press any key to continue : \"):\n",
    "        FNAME = input(\"\\n FirstName : \")\n",
    "        LNAME = input(\"\\n LastName : \")\n",
    "        SUBJECT = input(\"\\n Subject : \")\n",
    "        AGE = int(input(\"\\n Age : \"))\n",
    "        CMD = f\"insert into student(fname, lname, subject, age) values('{FNAME}', '{LNAME}', '{SUBJECT}', {AGE})\"\n",
    "        cursor.execute(CMD)\n",
    "        db.commit()  # for storing data permanently\n",
    "        print(\"\\n Data Inserted Successfuly\")\n",
    "        \n",
    "    print(\"\\n Thanks for using our service....\")\n",
    "    \n",
    "def select(table_name, cursor):\n",
    "    cmd = f\"select * from {table_name}\"\n",
    "    cursor.execute(cmd)\n",
    "    data = cursor.fetchall() # ((1, 2, 3), (2, 3, 4))\n",
    "    for row in data:\n",
    "        for col in row:\n",
    "            print(col, end=\"     |     \")\n",
    "        print()\n",
    "        print(\"_\"*80)\n",
    "        \n",
    "def show_ids(cursor):\n",
    "    cmd = \"select id from student\"\n",
    "    cursor.execute(cmd)\n",
    "    data = cursor.fetchall() # ((1, ), (2, ), (3, ), (4, ), (5, ), (6, )) \n",
    "    for row in data:\n",
    "        print(row[0], end=\", \")\n",
    "\n",
    "def delete_stu(db, cursor):\n",
    "    \"\"\"\n",
    "        This function will delete the entry from student table based on id\n",
    "        delete from student where id = 1    \n",
    "    \"\"\"\n",
    "    show_ids(cursor)\n",
    "    print(\"\\n Choose any id from above ids\")\n",
    "    ids = int(input(\"\\n ID which you want to delete : \"))\n",
    "    cmd = f\"delete from student where id = {ids}\"\n",
    "    cursor.execute(cmd)\n",
    "    db.commit()\n",
    "    print(\"\\n Successfully deleted the detail of that student\")\n",
    "\n",
    "    \n",
    "def update_stu(db, cursor):\n",
    "    \"\"\"\n",
    "        It will update the student details\n",
    "        update student set subject=python where id=123\n",
    "    \"\"\"\n",
    "    print(\"\\n Column Present are : subject, age, fname and lname \")\n",
    "    columnname = input(\"\\n Enter any column name from above which want to update\").strip().lower()\n",
    "    value = input(\"\\n Enter new value for that column.....\")\n",
    "    show_ids(cursor)\n",
    "    ids = int(input(\"\\n Choose any id from above : \"))\n",
    "    if columnname == \"age\": \n",
    "        cmd = f\"update student set {columnname}={value} where id={ids}\"\n",
    "    else:\n",
    "        cmd = f\"update student set {columnname}='{value}' where id={ids}\"\n",
    "    cursor.execute(cmd)\n",
    "    db.commit()\n",
    "    print(f\"\\n Successfully Updated the column {columnname}\")\n",
    "    \n",
    "if __name__ == \"__main__\":\n",
    "    while True:\n",
    "        print(\"1. Student\\n2. Fees\\n3. Address\\n4. Exit\")\n",
    "        ch = int(input(\"\\n Choose Any Option from above : \"))\n",
    "        db, cursor = connectivity()\n",
    "        if ch == 1:\n",
    "            print(\"\\n WELCOME IN STUDENT TABLE\")\n",
    "            while True:\n",
    "                opt = int(input(\"\\n1. Insert\\n2. Delete\\n3. Select\\n4. Update\\n5. Exit\"))\n",
    "                if opt == 1:\n",
    "                    insert_stu(db, cursor)\n",
    "                elif opt == 2:\n",
    "                    delete_stu(db, cursor)\n",
    "                elif opt == 3:\n",
    "                    select(\"student\", cursor)\n",
    "                elif opt == 4:\n",
    "                    update_stu(db, cursor)\n",
    "                elif opt == 5:\n",
    "                    print(\"\\n THANKYOU\")\n",
    "                    db.close()\n",
    "                    break\n",
    "        elif ch == 2:\n",
    "            pass\n",
    "        elif ch == 3:\n",
    "            pass\n",
    "        elif ch == 4:\n",
    "            print(\"\\n ThankYou for using our service\")\n",
    "            break\n",
    "        else:\n",
    "            print(\"\\n Invalid Choice.....\")"
   ]
  },
  {
   "cell_type": "markdown",
   "metadata": {},
   "source": [
    "### Sqlite\n",
    "\n",
    "    It works in file no particular host or port is required to connect to sqlite database\n",
    "    You can connect with sqlite database by the file name\n",
    "    If the file does not exist it creates a new file and connect to it "
   ]
  },
  {
   "cell_type": "markdown",
   "metadata": {},
   "source": [
    "    interface module is sqlite3"
   ]
  },
  {
   "cell_type": "code",
   "execution_count": 12,
   "metadata": {},
   "outputs": [],
   "source": [
    "import sqlite3 as sql"
   ]
  },
  {
   "cell_type": "code",
   "execution_count": 13,
   "metadata": {},
   "outputs": [
    {
     "name": "stdout",
     "output_type": "stream",
     "text": [
      " Volume in drive C is Windows\n",
      " Volume Serial Number is E08D-DAD9\n",
      "\n",
      " Directory of C:\\batches\\online_batch\\pythonbatch10_15am\\Database\n",
      "\n",
      "09-11-2020  12:35    <DIR>          .\n",
      "09-11-2020  12:35    <DIR>          ..\n",
      "09-11-2020  11:47    <DIR>          .ipynb_checkpoints\n",
      "02-11-2020  12:45            98,742 2. ERD.ipynb\n",
      "05-11-2020  12:35            25,078 4. Database_Connectivity.ipynb\n",
      "09-11-2020  12:35             8,531 5. Database_Sqlite.ipynb\n",
      "03-11-2020  11:45             6,475 Database_1.ipynb\n",
      "04-11-2020  11:59             2,910 Database_3.ipynb\n",
      "05-11-2020  12:28               475 fetchdata.py\n",
      "05-11-2020  12:24               723 insertdata.py\n",
      "02-11-2020  12:50            16,697 query1.txt\n",
      "03-11-2020  12:59            33,831 query2.txt\n",
      "04-11-2020  12:35            29,394 query3.txt\n",
      "05-11-2020  11:42            15,500 query4.txt\n",
      "              11 File(s)        238,356 bytes\n",
      "               3 Dir(s)  30,710,632,448 bytes free\n"
     ]
    }
   ],
   "source": [
    "ls"
   ]
  },
  {
   "cell_type": "code",
   "execution_count": 14,
   "metadata": {},
   "outputs": [],
   "source": [
    "db = sql.connect(\"employee.db\")  # by default search file in PWD and create file in PWD"
   ]
  },
  {
   "cell_type": "code",
   "execution_count": 15,
   "metadata": {},
   "outputs": [
    {
     "name": "stdout",
     "output_type": "stream",
     "text": [
      " Volume in drive C is Windows\n",
      " Volume Serial Number is E08D-DAD9\n",
      "\n",
      " Directory of C:\\batches\\online_batch\\pythonbatch10_15am\\Database\n",
      "\n",
      "09-11-2020  12:39    <DIR>          .\n",
      "09-11-2020  12:39    <DIR>          ..\n",
      "09-11-2020  11:47    <DIR>          .ipynb_checkpoints\n",
      "02-11-2020  12:45            98,742 2. ERD.ipynb\n",
      "05-11-2020  12:35            25,078 4. Database_Connectivity.ipynb\n",
      "09-11-2020  12:39            10,329 5. Database_Sqlite.ipynb\n",
      "03-11-2020  11:45             6,475 Database_1.ipynb\n",
      "04-11-2020  11:59             2,910 Database_3.ipynb\n",
      "09-11-2020  12:39                 0 employee.db\n",
      "05-11-2020  12:28               475 fetchdata.py\n",
      "05-11-2020  12:24               723 insertdata.py\n",
      "02-11-2020  12:50            16,697 query1.txt\n",
      "03-11-2020  12:59            33,831 query2.txt\n",
      "04-11-2020  12:35            29,394 query3.txt\n",
      "05-11-2020  11:42            15,500 query4.txt\n",
      "              12 File(s)        240,154 bytes\n",
      "               3 Dir(s)  30,710,611,968 bytes free\n"
     ]
    }
   ],
   "source": [
    "ls"
   ]
  },
  {
   "cell_type": "code",
   "execution_count": 16,
   "metadata": {},
   "outputs": [],
   "source": [
    "# if the database is not in PWD specify the path at which your database is present"
   ]
  },
  {
   "cell_type": "code",
   "execution_count": 17,
   "metadata": {},
   "outputs": [],
   "source": [
    "db.close()"
   ]
  },
  {
   "cell_type": "code",
   "execution_count": 18,
   "metadata": {},
   "outputs": [
    {
     "data": {
      "text/plain": [
       "<sqlite3.Cursor at 0x15d59e61810>"
      ]
     },
     "execution_count": 18,
     "metadata": {},
     "output_type": "execute_result"
    }
   ],
   "source": [
    "db = sql.connect(\"employee.db\")\n",
    "cursor = db.cursor()\n",
    "cmd = \"create table employee(eid int(5), name varchar(100), address varchar(300))\"\n",
    "cursor.execute(cmd)"
   ]
  },
  {
   "cell_type": "code",
   "execution_count": 19,
   "metadata": {},
   "outputs": [
    {
     "name": "stdout",
     "output_type": "stream",
     "text": [
      " Volume in drive C is Windows\n",
      " Volume Serial Number is E08D-DAD9\n",
      "\n",
      " Directory of C:\\batches\\online_batch\\pythonbatch10_15am\\Database\n",
      "\n",
      "09-11-2020  12:43    <DIR>          .\n",
      "09-11-2020  12:43    <DIR>          ..\n",
      "09-11-2020  11:47    <DIR>          .ipynb_checkpoints\n",
      "02-11-2020  12:45            98,742 2. ERD.ipynb\n",
      "05-11-2020  12:35            25,078 4. Database_Connectivity.ipynb\n",
      "09-11-2020  12:43            12,433 5. Database_Sqlite.ipynb\n",
      "03-11-2020  11:45             6,475 Database_1.ipynb\n",
      "04-11-2020  11:59             2,910 Database_3.ipynb\n",
      "09-11-2020  12:43             8,192 employee.db\n",
      "05-11-2020  12:28               475 fetchdata.py\n",
      "05-11-2020  12:24               723 insertdata.py\n",
      "02-11-2020  12:50            16,697 query1.txt\n",
      "03-11-2020  12:59            33,831 query2.txt\n",
      "04-11-2020  12:35            29,394 query3.txt\n",
      "05-11-2020  11:42            15,500 query4.txt\n",
      "              12 File(s)        250,450 bytes\n",
      "               3 Dir(s)  30,709,858,304 bytes free\n"
     ]
    }
   ],
   "source": [
    "ls"
   ]
  },
  {
   "cell_type": "code",
   "execution_count": 20,
   "metadata": {},
   "outputs": [],
   "source": [
    "cmd = \"insert into employee values(1, 'simran', 'raja park')\"\n",
    "cursor.execute(cmd)\n",
    "db.commit()"
   ]
  },
  {
   "cell_type": "code",
   "execution_count": 21,
   "metadata": {},
   "outputs": [
    {
     "name": "stdout",
     "output_type": "stream",
     "text": [
      "[(1, 'simran', 'raja park')]\n"
     ]
    }
   ],
   "source": [
    "cmd = \"select * from employee\"\n",
    "cursor.execute(cmd)\n",
    "data = cursor.fetchall()\n",
    "print(data)"
   ]
  },
  {
   "cell_type": "code",
   "execution_count": 22,
   "metadata": {},
   "outputs": [],
   "source": [
    "cmd = \"insert into employee values(2, 'ajay', 'malviya nagar')\"\n",
    "cursor.execute(cmd)\n",
    "db.commit()"
   ]
  },
  {
   "cell_type": "code",
   "execution_count": 23,
   "metadata": {},
   "outputs": [
    {
     "name": "stdout",
     "output_type": "stream",
     "text": [
      "[(1, 'simran', 'raja park'), (2, 'ajay', 'malviya nagar')]\n"
     ]
    }
   ],
   "source": [
    "cmd = \"select * from employee\"\n",
    "cursor.execute(cmd)\n",
    "data = cursor.fetchall()\n",
    "print(data)"
   ]
  },
  {
   "cell_type": "code",
   "execution_count": 24,
   "metadata": {},
   "outputs": [
    {
     "name": "stdout",
     "output_type": "stream",
     "text": [
      "(1, 'simran', 'raja park')\n"
     ]
    }
   ],
   "source": [
    "cmd = \"select * from employee\"\n",
    "cursor.execute(cmd)\n",
    "data = cursor.fetchone()\n",
    "print(data)"
   ]
  },
  {
   "cell_type": "code",
   "execution_count": null,
   "metadata": {},
   "outputs": [],
   "source": []
  }
 ],
 "metadata": {
  "kernelspec": {
   "display_name": "Python 3",
   "language": "python",
   "name": "python3"
  },
  "language_info": {
   "codemirror_mode": {
    "name": "ipython",
    "version": 3
   },
   "file_extension": ".py",
   "mimetype": "text/x-python",
   "name": "python",
   "nbconvert_exporter": "python",
   "pygments_lexer": "ipython3",
   "version": "3.7.4"
  }
 },
 "nbformat": 4,
 "nbformat_minor": 2
}
