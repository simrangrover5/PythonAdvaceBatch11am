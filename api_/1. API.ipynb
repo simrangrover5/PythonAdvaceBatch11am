{
 "cells": [
  {
   "cell_type": "markdown",
   "metadata": {},
   "source": [
    "    API\n",
    "    \n",
    "        APPLICATION PROGRAMMING INTERFACE\n",
    "        \n",
    "        API --> It is an interface between application and program\n",
    "        \n",
    "        \n",
    "        Examples:\n",
    "        \n",
    "            1. SSO (single sign on)\n",
    "            2. Google Maps\n",
    "            3. Online Payments (Payment Gateways)\n",
    "            4. Travel Bookings \n",
    "            5. Trivago\n",
    "            6. Weather API\n",
    "            7. BookMyShow\n",
    "            8. Hike use daily thoughts API\n",
    "            9. Google Assistant\n",
    "            10. Sports Live Score\n",
    "            11. Crunchiroll for email verification\n",
    "            12. News Application\n",
    "            13. Google Blogs Api\n",
    "            14. News API"
   ]
  },
  {
   "cell_type": "markdown",
   "metadata": {},
   "source": [
    "    URL\n",
    "    We request on the particular URL which in turns gives us data or will help take the data depends on the method \n",
    "    of request\n",
    "    \n",
    "    If we send GET method URL request to user then it gives data\n",
    "    If we send POST method URL request then the data we give is posted\n",
    "    \n",
    "    KEY\n",
    "    It is used to identify the app and to authenticate the app so that we can access the data and work accordingly\n",
    "    \n",
    "    APP\n",
    "    Whenever we want to access the api we have to create an app "
   ]
  },
  {
   "cell_type": "code",
   "execution_count": 1,
   "metadata": {},
   "outputs": [],
   "source": [
    "import requests"
   ]
  },
  {
   "cell_type": "code",
   "execution_count": 2,
   "metadata": {},
   "outputs": [],
   "source": [
    "key = \"EAAiyclZBDvB0BACn7v7NErU4lDqr6IfEMoozAIHBfzwtQaXZBTNmKhdYZA0JVCpAFatz9DMz0nywlvF5XzHDF7Tg5VxDDwobXyqKcdU5yGl5JR1dnofEggxxLpzZBOxQd6wntuhdIKk4YyLbPpxcsifcmWi3wwJvrdnX1ZBv2sHZAHojAvhZCkax2CONNDsIJHjb2lYzDPSLfge0GQZB3lZAlbKwh3ibm6Q6MwW73WQV7MAZDZD\""
   ]
  },
  {
   "cell_type": "code",
   "execution_count": 6,
   "metadata": {},
   "outputs": [],
   "source": [
    "url = f\"https://graph.facebook.com/v9.0/me?fields=id,name&access_token={key}\""
   ]
  },
  {
   "cell_type": "code",
   "execution_count": 7,
   "metadata": {},
   "outputs": [
    {
     "data": {
      "text/plain": [
       "'https://graph.facebook.com/v9.0/me?fields=id,name&access_token=EAAiyclZBDvB0BACn7v7NErU4lDqr6IfEMoozAIHBfzwtQaXZBTNmKhdYZA0JVCpAFatz9DMz0nywlvF5XzHDF7Tg5VxDDwobXyqKcdU5yGl5JR1dnofEggxxLpzZBOxQd6wntuhdIKk4YyLbPpxcsifcmWi3wwJvrdnX1ZBv2sHZAHojAvhZCkax2CONNDsIJHjb2lYzDPSLfge0GQZB3lZAlbKwh3ibm6Q6MwW73WQV7MAZDZD'"
      ]
     },
     "execution_count": 7,
     "metadata": {},
     "output_type": "execute_result"
    }
   ],
   "source": [
    "url"
   ]
  },
  {
   "cell_type": "code",
   "execution_count": 9,
   "metadata": {},
   "outputs": [],
   "source": [
    "resp = requests.get(url)"
   ]
  },
  {
   "cell_type": "code",
   "execution_count": 10,
   "metadata": {},
   "outputs": [
    {
     "data": {
      "text/plain": [
       "200"
      ]
     },
     "execution_count": 10,
     "metadata": {},
     "output_type": "execute_result"
    }
   ],
   "source": [
    "resp.status_code"
   ]
  },
  {
   "cell_type": "code",
   "execution_count": 12,
   "metadata": {},
   "outputs": [
    {
     "data": {
      "text/plain": [
       "{'ETag': '\"479a30bc417605faf496ddb54ffe349268a1bc26\"', 'Expires': 'Sat, 01 Jan 2000 00:00:00 GMT', 'Content-Type': 'application/json; charset=UTF-8', 'facebook-api-version': 'v9.0', 'x-fb-request-id': 'AQJRYb0BmG9vXix8LBXPYJC', 'Strict-Transport-Security': 'max-age=15552000; preload', 'x-fb-trace-id': 'DIAghVIBZzq', 'x-app-usage': '{\"call_count\":6,\"total_cputime\":0,\"total_time\":3}', 'x-fb-rev': '1003035097', 'Cache-Control': 'private, no-cache, no-store, must-revalidate', 'Pragma': 'no-cache', 'Access-Control-Allow-Origin': '*', 'X-FB-Debug': 'dH+ipBN79hI4D9V1T4WdS1vCfYu/+Afb8gQb4TLcWjADS49sVEP4SuMf16krg9FR6mrX74W2dPHZ3shbxQ8zbQ==', 'Date': 'Wed, 02 Dec 2020 07:19:46 GMT', 'Alt-Svc': 'h3-29=\":443\"; ma=3600,h3-27=\":443\"; ma=3600', 'Connection': 'keep-alive', 'Content-Length': '48'}"
      ]
     },
     "execution_count": 12,
     "metadata": {},
     "output_type": "execute_result"
    }
   ],
   "source": [
    "resp.headers"
   ]
  },
  {
   "cell_type": "code",
   "execution_count": 13,
   "metadata": {},
   "outputs": [
    {
     "data": {
      "text/plain": [
       "'{\"id\":\"3552987418148014\",\"name\":\"Simran Grover\"}'"
      ]
     },
     "execution_count": 13,
     "metadata": {},
     "output_type": "execute_result"
    }
   ],
   "source": [
    "resp.text  # give data in strings"
   ]
  },
  {
   "cell_type": "code",
   "execution_count": 14,
   "metadata": {},
   "outputs": [
    {
     "data": {
      "text/plain": [
       "b'{\"id\":\"3552987418148014\",\"name\":\"Simran Grover\"}'"
      ]
     },
     "execution_count": 14,
     "metadata": {},
     "output_type": "execute_result"
    }
   ],
   "source": [
    "resp.content # give data in bytes"
   ]
  },
  {
   "cell_type": "code",
   "execution_count": 16,
   "metadata": {},
   "outputs": [],
   "source": [
    "data = resp.json()"
   ]
  },
  {
   "cell_type": "code",
   "execution_count": 17,
   "metadata": {},
   "outputs": [
    {
     "data": {
      "text/plain": [
       "'3552987418148014'"
      ]
     },
     "execution_count": 17,
     "metadata": {},
     "output_type": "execute_result"
    }
   ],
   "source": [
    "data['id']"
   ]
  },
  {
   "cell_type": "code",
   "execution_count": 18,
   "metadata": {},
   "outputs": [
    {
     "data": {
      "text/plain": [
       "'Simran Grover'"
      ]
     },
     "execution_count": 18,
     "metadata": {},
     "output_type": "execute_result"
    }
   ],
   "source": [
    "data['name']"
   ]
  },
  {
   "cell_type": "code",
   "execution_count": 19,
   "metadata": {},
   "outputs": [
    {
     "name": "stdout",
     "output_type": "stream",
     "text": [
      "\n",
      " Enter your fields , separated : id,name,hometown,posts\n"
     ]
    },
    {
     "data": {
      "text/plain": [
       "200"
      ]
     },
     "execution_count": 19,
     "metadata": {},
     "output_type": "execute_result"
    }
   ],
   "source": [
    "fields = input(\"\\n Enter your fields , separated : \")\n",
    "url = f\"https://graph.facebook.com/v9.0/me?fields={fields}&access_token={key}\"\n",
    "resp = requests.get(url)  # get --> get method\n",
    "resp.status_code"
   ]
  },
  {
   "cell_type": "code",
   "execution_count": 21,
   "metadata": {},
   "outputs": [],
   "source": [
    "data = resp.json()"
   ]
  },
  {
   "cell_type": "code",
   "execution_count": 26,
   "metadata": {},
   "outputs": [
    {
     "data": {
      "text/plain": [
       "'Hey babe ♥️ Muskan Batra birthday soon🤩'"
      ]
     },
     "execution_count": 26,
     "metadata": {},
     "output_type": "execute_result"
    }
   ],
   "source": [
    "data['posts']['data'][10]['message']"
   ]
  },
  {
   "cell_type": "code",
   "execution_count": null,
   "metadata": {},
   "outputs": [],
   "source": []
  }
 ],
 "metadata": {
  "kernelspec": {
   "display_name": "Python 3",
   "language": "python",
   "name": "python3"
  },
  "language_info": {
   "codemirror_mode": {
    "name": "ipython",
    "version": 3
   },
   "file_extension": ".py",
   "mimetype": "text/x-python",
   "name": "python",
   "nbconvert_exporter": "python",
   "pygments_lexer": "ipython3",
   "version": "3.7.4"
  }
 },
 "nbformat": 4,
 "nbformat_minor": 2
}
