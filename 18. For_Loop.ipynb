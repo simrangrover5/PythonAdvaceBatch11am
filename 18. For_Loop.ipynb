{
 "cells": [
  {
   "cell_type": "code",
   "execution_count": 1,
   "metadata": {},
   "outputs": [],
   "source": [
    "#### Nested For"
   ]
  },
  {
   "cell_type": "code",
   "execution_count": 2,
   "metadata": {},
   "outputs": [
    {
     "name": "stdout",
     "output_type": "stream",
     "text": [
      "0\n",
      "1\n",
      "2\n",
      "3\n",
      "4\n"
     ]
    }
   ],
   "source": [
    "for i in range(5):\n",
    "    print(i)"
   ]
  },
  {
   "cell_type": "code",
   "execution_count": 3,
   "metadata": {},
   "outputs": [
    {
     "name": "stdout",
     "output_type": "stream",
     "text": [
      "0--->0\n",
      "0--->1\n",
      "0--->2\n",
      "0--->3\n",
      "0--->4\n",
      "1--->0\n",
      "1--->1\n",
      "1--->2\n",
      "1--->3\n",
      "1--->4\n",
      "2--->0\n",
      "2--->1\n",
      "2--->2\n",
      "2--->3\n",
      "2--->4\n",
      "3--->0\n",
      "3--->1\n",
      "3--->2\n",
      "3--->3\n",
      "3--->4\n",
      "4--->0\n",
      "4--->1\n",
      "4--->2\n",
      "4--->3\n",
      "4--->4\n"
     ]
    }
   ],
   "source": [
    "for i in range(5):\n",
    "    for j in range(5):\n",
    "        print(i,j,sep=\"--->\")"
   ]
  },
  {
   "cell_type": "code",
   "execution_count": 4,
   "metadata": {},
   "outputs": [
    {
     "name": "stdout",
     "output_type": "stream",
     "text": [
      "1--->1\n",
      "1--->2\n",
      "1--->3\n",
      "1--->4\n",
      "1--->5\n",
      "2--->1\n",
      "2--->2\n",
      "2--->3\n",
      "2--->4\n",
      "2--->5\n",
      "3--->1\n",
      "3--->2\n",
      "3--->3\n",
      "3--->4\n",
      "3--->5\n",
      "4--->1\n",
      "4--->2\n",
      "4--->3\n",
      "4--->4\n",
      "4--->5\n",
      "5--->1\n",
      "5--->2\n",
      "5--->3\n",
      "5--->4\n",
      "5--->5\n"
     ]
    }
   ],
   "source": [
    "for i in range(1,6):\n",
    "    for j in range(1,6):\n",
    "        print(i,j,sep=\"--->\")"
   ]
  },
  {
   "cell_type": "code",
   "execution_count": 7,
   "metadata": {},
   "outputs": [
    {
     "name": "stdout",
     "output_type": "stream",
     "text": [
      "\n",
      " Enter number of rows : 10\n",
      "* \n",
      "* * \n",
      "* * * \n",
      "* * * * \n",
      "* * * * * \n",
      "* * * * * * \n",
      "* * * * * * * \n",
      "* * * * * * * * \n",
      "* * * * * * * * * \n",
      "* * * * * * * * * * \n"
     ]
    }
   ],
   "source": [
    "n = int(input(\"\\n Enter number of rows : \"))\n",
    "for i in range(1,n+1):\n",
    "    for j in range(1,i+1):\n",
    "        print(\"*\",end=\" \")\n",
    "    print()"
   ]
  },
  {
   "cell_type": "code",
   "execution_count": 11,
   "metadata": {},
   "outputs": [
    {
     "name": "stdout",
     "output_type": "stream",
     "text": [
      "5 4 3 2 1\n"
     ]
    }
   ],
   "source": [
    "print(*range(5,0,-1))"
   ]
  },
  {
   "cell_type": "code",
   "execution_count": 13,
   "metadata": {},
   "outputs": [
    {
     "name": "stdout",
     "output_type": "stream",
     "text": [
      "\n",
      " Enter any number : 10\n",
      "* * * * * * * * * * \n",
      "* * * * * * * * * \n",
      "* * * * * * * * \n",
      "* * * * * * * \n",
      "* * * * * * \n",
      "* * * * * \n",
      "* * * * \n",
      "* * * \n",
      "* * \n",
      "* \n"
     ]
    }
   ],
   "source": [
    "n = int(input(\"\\n Enter any number : \"))\n",
    "for row in range(n,0,-1):\n",
    "    for col in range(1,row+1):\n",
    "        print(\"*\",end=\" \")\n",
    "    print()"
   ]
  },
  {
   "cell_type": "code",
   "execution_count": 14,
   "metadata": {},
   "outputs": [],
   "source": [
    "from random import randint"
   ]
  },
  {
   "cell_type": "code",
   "execution_count": 15,
   "metadata": {},
   "outputs": [],
   "source": [
    "l = []\n",
    "for i in range(7):\n",
    "    l.append(randint(1,10\n",
    "                    ))"
   ]
  },
  {
   "cell_type": "code",
   "execution_count": 16,
   "metadata": {},
   "outputs": [
    {
     "data": {
      "text/plain": [
       "[1, 8, 8, 9, 10, 10, 7]"
      ]
     },
     "execution_count": 16,
     "metadata": {},
     "output_type": "execute_result"
    }
   ],
   "source": [
    "l"
   ]
  },
  {
   "cell_type": "code",
   "execution_count": 17,
   "metadata": {},
   "outputs": [
    {
     "name": "stdout",
     "output_type": "stream",
     "text": [
      "\n",
      " I Like this number--->  1\n",
      "\n",
      " I Like this number--->  8\n",
      "\n",
      " I Like this number--->  8\n",
      "\n",
      " I Like this number--->  9\n",
      "\n",
      " I do not like this number.... 10\n"
     ]
    }
   ],
   "source": [
    "for i in l:\n",
    "    if i%5 == 0:\n",
    "        print(\"\\n I do not like this number....\",i)\n",
    "        break\n",
    "    print(\"\\n I Like this number---> \",i)"
   ]
  },
  {
   "cell_type": "code",
   "execution_count": 18,
   "metadata": {},
   "outputs": [],
   "source": [
    "l1 = []\n",
    "l2 = []\n",
    "for i in range(7):\n",
    "    l1.append(randint(1,10))\n",
    "for i in range(7):\n",
    "    l2.append(randint(1,10))"
   ]
  },
  {
   "cell_type": "code",
   "execution_count": 19,
   "metadata": {},
   "outputs": [
    {
     "data": {
      "text/plain": [
       "[8, 7, 7, 2, 9, 1, 3]"
      ]
     },
     "execution_count": 19,
     "metadata": {},
     "output_type": "execute_result"
    }
   ],
   "source": [
    "l1"
   ]
  },
  {
   "cell_type": "code",
   "execution_count": 20,
   "metadata": {},
   "outputs": [
    {
     "data": {
      "text/plain": [
       "[6, 1, 2, 4, 1, 7, 5]"
      ]
     },
     "execution_count": 20,
     "metadata": {},
     "output_type": "execute_result"
    }
   ],
   "source": [
    "l2"
   ]
  },
  {
   "cell_type": "code",
   "execution_count": 21,
   "metadata": {},
   "outputs": [
    {
     "name": "stdout",
     "output_type": "stream",
     "text": [
      "0\n",
      "1\n",
      "2\n",
      "3\n",
      "4\n",
      "6\n",
      "7\n",
      "8\n"
     ]
    }
   ],
   "source": [
    "for i in range(10):\n",
    "    if i == 5 or i == 9:\n",
    "        continue\n",
    "    print(i)"
   ]
  },
  {
   "cell_type": "code",
   "execution_count": 22,
   "metadata": {},
   "outputs": [
    {
     "name": "stdout",
     "output_type": "stream",
     "text": [
      "Hello this number is  0\n",
      "Hello this number is  1\n",
      "Hello this number is  2\n",
      "Hello this number is  3\n",
      "Hello this number is  4\n",
      "Hello this number is  6\n",
      "Hello this number is  7\n",
      "Hello this number is  8\n"
     ]
    }
   ],
   "source": [
    "for i in range(10):\n",
    "    if i == 5 or i == 9:\n",
    "        continue\n",
    "    print(\"Hello this number is \",i)"
   ]
  },
  {
   "cell_type": "code",
   "execution_count": 23,
   "metadata": {},
   "outputs": [
    {
     "data": {
      "text/plain": [
       "[8, 7, 7, 2, 9, 1, 3]"
      ]
     },
     "execution_count": 23,
     "metadata": {},
     "output_type": "execute_result"
    }
   ],
   "source": [
    "l1"
   ]
  },
  {
   "cell_type": "code",
   "execution_count": 24,
   "metadata": {},
   "outputs": [
    {
     "data": {
      "text/plain": [
       "[6, 1, 2, 4, 1, 7, 5]"
      ]
     },
     "execution_count": 24,
     "metadata": {},
     "output_type": "execute_result"
    }
   ],
   "source": [
    "l2"
   ]
  },
  {
   "cell_type": "code",
   "execution_count": 25,
   "metadata": {},
   "outputs": [
    {
     "name": "stdout",
     "output_type": "stream",
     "text": [
      "This is divisible by 3\n"
     ]
    }
   ],
   "source": [
    "for i,j in zip(l1,l2):\n",
    "    if (i+j)%2 == 0:\n",
    "        continue\n",
    "    elif (i+j)%3 == 0:\n",
    "        print(\"This is divisible by 3\")\n",
    "        continue\n",
    "    else:\n",
    "        print(\"\\n This is in else block\")\n",
    "    print(\"\\n The number is \",i,j)"
   ]
  },
  {
   "cell_type": "code",
   "execution_count": 28,
   "metadata": {},
   "outputs": [
    {
     "name": "stdout",
     "output_type": "stream",
     "text": [
      "****************************STONE PAPER SCISSOR GAME****************************\n",
      "\n",
      " BOTH THE PLAYERS WILL GET TOTAL 5 CHANCES\n",
      "\n",
      " PLAYER 1 : ········\n",
      "\n",
      " PLAYER 2 : ········\n",
      "\n",
      " Updated Score P1 --->  0\n",
      "\n",
      " Updates Score P2 --->  1\n",
      "\n",
      " PLAYER 1 : ········\n",
      "\n",
      " PLAYER 2 : ········\n",
      "\n",
      " Updated Score P1 --->  1\n",
      "\n",
      " Updates Score P2 --->  1\n",
      "\n",
      " PLAYER 1 : ········\n",
      "\n",
      " PLAYER 2 : ········\n",
      "\n",
      " Updated Score P1 --->  2\n",
      "\n",
      " Updates Score P2 --->  1\n",
      "\n",
      " PLAYER 1 : ········\n",
      "\n",
      " PLAYER 2 : ········\n",
      "\n",
      " Tie.....At chances 4\n",
      "\n",
      " PLAYER 1 : ········\n",
      "\n",
      " PLAYER 2 : ········\n",
      "\n",
      " Invalid Choice\n",
      "##################################FINAL SCORES##################################\n",
      "                                  PLAYER 1 : 2                                  \n",
      "                                  PLAYER 2 : 1                                  \n"
     ]
    }
   ],
   "source": [
    "from getpass import getpass\n",
    "p1_score = 0\n",
    "p2_score = 0\n",
    "choices =['stone','scissor','paper']\n",
    "print(\"STONE PAPER SCISSOR GAME\".center(80,\"*\"))\n",
    "print(\"\\n BOTH THE PLAYERS WILL GET TOTAL 5 CHANCES\")\n",
    "p1_win = [(\"stone\",\"scissor\"),(\"scissor\",\"paper\"),(\"paper\",\"stone\")]\n",
    "for i in range(1,6):\n",
    "    p1 = getpass(\"\\n PLAYER 1 : \").strip().lower()\n",
    "    p2 = getpass(\"\\n PLAYER 2 : \").strip().lower()\n",
    "    if (p1 in choices) and (p2 in choices):\n",
    "        if (p1,p2) in p1_win:\n",
    "            p1_score += 1\n",
    "            print(\"\\n Updated Score P1 ---> \",p1_score)\n",
    "            print(\"\\n Updates Score P2 ---> \",p2_score)\n",
    "        elif p1 == p2:\n",
    "            print(\"\\n Tie.....At chances\",i)\n",
    "        else:\n",
    "            p2_score += 1\n",
    "            print(\"\\n Updated Score P1 ---> \",p1_score)\n",
    "            print(\"\\n Updates Score P2 ---> \",p2_score)\n",
    "    else:\n",
    "        print(\"\\n Invalid Choice\")\n",
    "print(\"FINAL SCORES\".center(80,\"#\"))\n",
    "print(f\"PLAYER 1 : {p1_score}\".center(80))\n",
    "print(f\"PLAYER 2 : {p2_score}\".center(80))\n",
    "if p1_score > p2_score:\n",
    "    print(\"\\n CONGRATS.....PLAYER 1 WON\")\n",
    "elif p1_score == p2_score:\n",
    "    print(\"\\n TIE....\")\n",
    "else:\n",
    "    print(\"\\n CONGRATS.....PLAYER 2 WON\")"
   ]
  },
  {
   "cell_type": "code",
   "execution_count": 31,
   "metadata": {},
   "outputs": [
    {
     "name": "stdout",
     "output_type": "stream",
     "text": [
      "****************************STONE PAPER SCISSOR GAME****************************\n",
      "\n",
      " BOTH THE PLAYERS WILL GET TOTAL 5 CHANCES\n",
      "\n",
      " PLAYER 1 : ········\n",
      "\n",
      " PLAYER 2 : ········\n",
      "\n",
      " INVALID CHOICE BY PLAYER 2\n",
      "\n",
      " PLAYER 2 : ········\n",
      "\n",
      " Tie.....At chances 1\n",
      "\n",
      " PLAYER 1 : ········\n",
      "\n",
      " PLAYER 2 : ········\n",
      "\n",
      " Updated Score P1 --->  0\n",
      "\n",
      " Updates Score P2 --->  1\n",
      "\n",
      " PLAYER 1 : ········\n",
      "\n",
      " INVALID CHOICE BY PLAYER 1\n",
      "\n",
      " PLAYER 1 : ········\n",
      "\n",
      " PLAYER 2 : ········\n",
      "\n",
      " Updated Score P1 --->  0\n",
      "\n",
      " Updates Score P2 --->  2\n",
      "\n",
      " PLAYER 1 : ········\n",
      "\n",
      " INVALID CHOICE BY PLAYER 1\n",
      "\n",
      " PLAYER 1 : ········\n",
      "\n",
      " PLAYER 2 : ········\n",
      "\n",
      " Updated Score P1 --->  1\n",
      "\n",
      " Updates Score P2 --->  2\n",
      "\n",
      " PLAYER 1 : ········\n",
      "\n",
      " PLAYER 2 : ········\n",
      "\n",
      " Updated Score P1 --->  2\n",
      "\n",
      " Updates Score P2 --->  2\n",
      "##################################FINAL SCORES##################################\n",
      "                                  PLAYER 1 : 2                                  \n",
      "                                  PLAYER 2 : 2                                  \n",
      "\n",
      " TIE....\n"
     ]
    }
   ],
   "source": [
    "from getpass import getpass\n",
    "p1_score = 0\n",
    "p2_score = 0\n",
    "choices =['stone','scissor','paper']\n",
    "print(\"STONE PAPER SCISSOR GAME\".center(80,\"*\"))\n",
    "print(\"\\n BOTH THE PLAYERS WILL GET TOTAL 5 CHANCES\")\n",
    "p1_win = [(\"stone\",\"scissor\"),(\"scissor\",\"paper\"),(\"paper\",\"stone\")]\n",
    "for i in range(1,6):\n",
    "    while True:\n",
    "        p1 = getpass(\"\\n PLAYER 1 : \").strip().lower()\n",
    "        if p1 in choices:\n",
    "            while True:\n",
    "                p2 = getpass(\"\\n PLAYER 2 : \").strip().lower()\n",
    "                if p2 in choices:\n",
    "                    break\n",
    "                else:\n",
    "                    print(\"\\n INVALID CHOICE BY PLAYER 2\")\n",
    "                    continue\n",
    "            break\n",
    "        else:\n",
    "            print(\"\\n INVALID CHOICE BY PLAYER 1\")\n",
    "            continue\n",
    "        \n",
    "    if (p1,p2) in p1_win:\n",
    "        p1_score += 1\n",
    "        print(\"\\n Updated Score P1 ---> \",p1_score)\n",
    "        print(\"\\n Updates Score P2 ---> \",p2_score)\n",
    "    elif p1 == p2:\n",
    "        print(\"\\n Tie.....At chances\",i)\n",
    "    else:\n",
    "        p2_score += 1\n",
    "        print(\"\\n Updated Score P1 ---> \",p1_score)\n",
    "        print(\"\\n Updates Score P2 ---> \",p2_score)\n",
    "print(\"FINAL SCORES\".center(80,\"#\"))\n",
    "print(f\"PLAYER 1 : {p1_score}\".center(80))\n",
    "print(f\"PLAYER 2 : {p2_score}\".center(80))\n",
    "if p1_score > p2_score:\n",
    "    print(\"\\n CONGRATS.....PLAYER 1 WON\")\n",
    "elif p1_score == p2_score:\n",
    "    print(\"\\n TIE....\")\n",
    "else:\n",
    "    print(\"\\n CONGRATS.....PLAYER 2 WON\")"
   ]
  },
  {
   "cell_type": "code",
   "execution_count": 32,
   "metadata": {},
   "outputs": [
    {
     "data": {
      "text/plain": [
       "[8, 7, 7, 2, 9, 1, 3]"
      ]
     },
     "execution_count": 32,
     "metadata": {},
     "output_type": "execute_result"
    }
   ],
   "source": [
    "l1"
   ]
  },
  {
   "cell_type": "code",
   "execution_count": 35,
   "metadata": {},
   "outputs": [
    {
     "data": {
      "text/plain": [
       "[1, 8, 8, 9, 10, 10, 3]"
      ]
     },
     "execution_count": 35,
     "metadata": {},
     "output_type": "execute_result"
    }
   ],
   "source": [
    "l"
   ]
  },
  {
   "cell_type": "code",
   "execution_count": 37,
   "metadata": {
    "scrolled": true
   },
   "outputs": [
    {
     "name": "stdout",
     "output_type": "stream",
     "text": [
      "[8, 7, 7, 2, 9, 1, 8]\n",
      "8\n",
      "[8, 7, 7, 2, 9, 1, 7]\n",
      "7\n",
      "[8, 7, 7, 2, 9, 1, 7]\n",
      "7\n",
      "[8, 7, 7, 2, 9, 1, 2]\n",
      "2\n",
      "[8, 7, 7, 2, 9, 1, 9]\n",
      "9\n",
      "[8, 7, 7, 2, 9, 1, 1]\n",
      "1\n",
      "[8, 7, 7, 2, 9, 1, 1]\n",
      "1\n"
     ]
    }
   ],
   "source": [
    "for l1[-1] in l1:\n",
    "    print(l1)\n",
    "    print(l1[-1])\n",
    "    \n",
    "#l1[-1] = 8\n",
    "#l1[-1] = 7\n",
    "#l1[-1] = 7\n",
    "#l1[-1] = 2\n",
    "#l1[-1] = 9\n",
    "#l1[-1] = 1\n",
    "#l1[-1] = 1"
   ]
  },
  {
   "cell_type": "code",
   "execution_count": 41,
   "metadata": {},
   "outputs": [],
   "source": [
    "l1 = [8, 7, 7, 2, 9, 1, 1]"
   ]
  },
  {
   "cell_type": "code",
   "execution_count": 42,
   "metadata": {},
   "outputs": [
    {
     "name": "stdout",
     "output_type": "stream",
     "text": [
      "8\n",
      "7\n",
      "7\n",
      "2\n",
      "9\n",
      "1\n",
      "1\n"
     ]
    }
   ],
   "source": [
    "for i in l1:\n",
    "    print(i)\n",
    "    \n",
    "#i = 8,7,7,2,9,1,1"
   ]
  },
  {
   "cell_type": "code",
   "execution_count": 40,
   "metadata": {},
   "outputs": [
    {
     "name": "stdout",
     "output_type": "stream",
     "text": [
      "[8, 7, 7, 8, 9, 1, 1]\n",
      "8\n",
      "[8, 7, 7, 7, 9, 1, 1]\n",
      "7\n",
      "[8, 7, 7, 7, 9, 1, 1]\n",
      "7\n",
      "[8, 7, 7, 7, 9, 1, 1]\n",
      "7\n",
      "[8, 7, 7, 9, 9, 1, 1]\n",
      "9\n",
      "[8, 7, 7, 1, 9, 1, 1]\n",
      "1\n",
      "[8, 7, 7, 1, 9, 1, 1]\n",
      "1\n"
     ]
    }
   ],
   "source": [
    "for l1[3] in l1:\n",
    "    print(l1)\n",
    "    print(l1[3])\n",
    "#for loop will iterate the value from l1\n",
    "#l1[3] = 8 --> [8,7,7,8,9,1,1]\n",
    "#l1[3] = 7 --> [8,7,7,7,9,1,1]\n",
    "#l1[3] = 7 --> [8,7,7,7,9,1,1]\n",
    "#l1[3] = 7 --> [8,7,7,7,9,1,1]\n",
    "#l1[3] = 9 --> [8,7,7,9,9,1,1]\n",
    "#l1[3] = 1 --> [8,7,7,1,9,1,1]\n",
    "#l1[3] = 1 --> [8,7,7,1,9,1,1]"
   ]
  },
  {
   "cell_type": "markdown",
   "metadata": {},
   "source": [
    "#### List Comprehension"
   ]
  },
  {
   "cell_type": "code",
   "execution_count": 43,
   "metadata": {},
   "outputs": [],
   "source": [
    "l = []\n",
    "for i in range(10):\n",
    "    l.append(i)"
   ]
  },
  {
   "cell_type": "code",
   "execution_count": 44,
   "metadata": {},
   "outputs": [
    {
     "data": {
      "text/plain": [
       "[0, 1, 2, 3, 4, 5, 6, 7, 8, 9]"
      ]
     },
     "execution_count": 44,
     "metadata": {},
     "output_type": "execute_result"
    }
   ],
   "source": [
    "l"
   ]
  },
  {
   "cell_type": "code",
   "execution_count": 45,
   "metadata": {},
   "outputs": [],
   "source": [
    "l = [i for i in range(10)]"
   ]
  },
  {
   "cell_type": "code",
   "execution_count": 46,
   "metadata": {},
   "outputs": [
    {
     "data": {
      "text/plain": [
       "[0, 1, 2, 3, 4, 5, 6, 7, 8, 9]"
      ]
     },
     "execution_count": 46,
     "metadata": {},
     "output_type": "execute_result"
    }
   ],
   "source": [
    "l"
   ]
  },
  {
   "cell_type": "code",
   "execution_count": 47,
   "metadata": {},
   "outputs": [],
   "source": [
    "l = [i*2 for i in range(10,21)]"
   ]
  },
  {
   "cell_type": "code",
   "execution_count": 48,
   "metadata": {},
   "outputs": [
    {
     "data": {
      "text/plain": [
       "[20, 22, 24, 26, 28, 30, 32, 34, 36, 38, 40]"
      ]
     },
     "execution_count": 48,
     "metadata": {},
     "output_type": "execute_result"
    }
   ],
   "source": [
    "l"
   ]
  },
  {
   "cell_type": "code",
   "execution_count": 49,
   "metadata": {},
   "outputs": [],
   "source": [
    "l = [randint(1,10) for i in range(10)]"
   ]
  },
  {
   "cell_type": "code",
   "execution_count": 50,
   "metadata": {},
   "outputs": [
    {
     "data": {
      "text/plain": [
       "[8, 4, 6, 10, 5, 7, 3, 2, 4, 10]"
      ]
     },
     "execution_count": 50,
     "metadata": {},
     "output_type": "execute_result"
    }
   ],
   "source": [
    "l"
   ]
  },
  {
   "cell_type": "code",
   "execution_count": 54,
   "metadata": {},
   "outputs": [],
   "source": [
    "even = []\n",
    "for i in range(10,30):\n",
    "    if i % 2 == 0:\n",
    "        even.append(i)\n",
    "        "
   ]
  },
  {
   "cell_type": "code",
   "execution_count": 55,
   "metadata": {},
   "outputs": [
    {
     "data": {
      "text/plain": [
       "[10, 12, 14, 16, 18, 20, 22, 24, 26, 28]"
      ]
     },
     "execution_count": 55,
     "metadata": {},
     "output_type": "execute_result"
    }
   ],
   "source": [
    "even"
   ]
  },
  {
   "cell_type": "code",
   "execution_count": 56,
   "metadata": {},
   "outputs": [],
   "source": [
    "even = [i for i in range(10,30) if i%2 == 0]"
   ]
  },
  {
   "cell_type": "code",
   "execution_count": 57,
   "metadata": {},
   "outputs": [
    {
     "data": {
      "text/plain": [
       "[10, 12, 14, 16, 18, 20, 22, 24, 26, 28]"
      ]
     },
     "execution_count": 57,
     "metadata": {},
     "output_type": "execute_result"
    }
   ],
   "source": [
    "even"
   ]
  },
  {
   "cell_type": "code",
   "execution_count": 58,
   "metadata": {},
   "outputs": [],
   "source": [
    "l =[]\n",
    "for i in range(10,30):\n",
    "    if i %2 == 0:\n",
    "        l.append(i)\n",
    "    else:\n",
    "        l.append(\"hello\")"
   ]
  },
  {
   "cell_type": "code",
   "execution_count": 59,
   "metadata": {},
   "outputs": [
    {
     "data": {
      "text/plain": [
       "[10,\n",
       " 'hello',\n",
       " 12,\n",
       " 'hello',\n",
       " 14,\n",
       " 'hello',\n",
       " 16,\n",
       " 'hello',\n",
       " 18,\n",
       " 'hello',\n",
       " 20,\n",
       " 'hello',\n",
       " 22,\n",
       " 'hello',\n",
       " 24,\n",
       " 'hello',\n",
       " 26,\n",
       " 'hello',\n",
       " 28,\n",
       " 'hello']"
      ]
     },
     "execution_count": 59,
     "metadata": {},
     "output_type": "execute_result"
    }
   ],
   "source": [
    "l"
   ]
  },
  {
   "cell_type": "code",
   "execution_count": 60,
   "metadata": {},
   "outputs": [],
   "source": [
    "even = [i if i%2 == 0 else \"hello\" for i in range(10,30)]"
   ]
  },
  {
   "cell_type": "code",
   "execution_count": 61,
   "metadata": {},
   "outputs": [
    {
     "data": {
      "text/plain": [
       "[10,\n",
       " 'hello',\n",
       " 12,\n",
       " 'hello',\n",
       " 14,\n",
       " 'hello',\n",
       " 16,\n",
       " 'hello',\n",
       " 18,\n",
       " 'hello',\n",
       " 20,\n",
       " 'hello',\n",
       " 22,\n",
       " 'hello',\n",
       " 24,\n",
       " 'hello',\n",
       " 26,\n",
       " 'hello',\n",
       " 28,\n",
       " 'hello']"
      ]
     },
     "execution_count": 61,
     "metadata": {},
     "output_type": "execute_result"
    }
   ],
   "source": [
    "even"
   ]
  },
  {
   "cell_type": "code",
   "execution_count": 68,
   "metadata": {},
   "outputs": [],
   "source": [
    "l = [True if randint(1,20) in range(1,10) else False for i in range(10)]"
   ]
  },
  {
   "cell_type": "code",
   "execution_count": 69,
   "metadata": {},
   "outputs": [
    {
     "data": {
      "text/plain": [
       "[False, True, True, False, False, False, True, True, False, True]"
      ]
     },
     "execution_count": 69,
     "metadata": {},
     "output_type": "execute_result"
    }
   ],
   "source": [
    "l"
   ]
  },
  {
   "cell_type": "code",
   "execution_count": 72,
   "metadata": {},
   "outputs": [],
   "source": [
    "l = []\n",
    "for i in range(5):\n",
    "    for j in range(5):\n",
    "        l.append((i,j))"
   ]
  },
  {
   "cell_type": "code",
   "execution_count": 73,
   "metadata": {},
   "outputs": [
    {
     "data": {
      "text/plain": [
       "[(0, 0),\n",
       " (0, 1),\n",
       " (0, 2),\n",
       " (0, 3),\n",
       " (0, 4),\n",
       " (1, 0),\n",
       " (1, 1),\n",
       " (1, 2),\n",
       " (1, 3),\n",
       " (1, 4),\n",
       " (2, 0),\n",
       " (2, 1),\n",
       " (2, 2),\n",
       " (2, 3),\n",
       " (2, 4),\n",
       " (3, 0),\n",
       " (3, 1),\n",
       " (3, 2),\n",
       " (3, 3),\n",
       " (3, 4),\n",
       " (4, 0),\n",
       " (4, 1),\n",
       " (4, 2),\n",
       " (4, 3),\n",
       " (4, 4)]"
      ]
     },
     "execution_count": 73,
     "metadata": {},
     "output_type": "execute_result"
    }
   ],
   "source": [
    "l"
   ]
  },
  {
   "cell_type": "code",
   "execution_count": 78,
   "metadata": {},
   "outputs": [],
   "source": [
    "l = [(i,j) for i in range(5) for j in range(1,6)]"
   ]
  },
  {
   "cell_type": "code",
   "execution_count": 79,
   "metadata": {},
   "outputs": [
    {
     "data": {
      "text/plain": [
       "[(0, 1),\n",
       " (0, 2),\n",
       " (0, 3),\n",
       " (0, 4),\n",
       " (0, 5),\n",
       " (1, 1),\n",
       " (1, 2),\n",
       " (1, 3),\n",
       " (1, 4),\n",
       " (1, 5),\n",
       " (2, 1),\n",
       " (2, 2),\n",
       " (2, 3),\n",
       " (2, 4),\n",
       " (2, 5),\n",
       " (3, 1),\n",
       " (3, 2),\n",
       " (3, 3),\n",
       " (3, 4),\n",
       " (3, 5),\n",
       " (4, 1),\n",
       " (4, 2),\n",
       " (4, 3),\n",
       " (4, 4),\n",
       " (4, 5)]"
      ]
     },
     "execution_count": 79,
     "metadata": {},
     "output_type": "execute_result"
    }
   ],
   "source": [
    "l"
   ]
  },
  {
   "cell_type": "markdown",
   "metadata": {},
   "source": [
    "    [[1,2,3,4,5],[1,2,3,4,5],[1,2,3,4,5]]  #fix 1,2,3,4,5\n",
    "    \n",
    "    [[input,input,input,input,input],[input,input,input,input,input],[input,input,input,input,input]]\n",
    "    \n",
    "    using list comprehension"
   ]
  },
  {
   "cell_type": "code",
   "execution_count": null,
   "metadata": {},
   "outputs": [],
   "source": []
  }
 ],
 "metadata": {
  "kernelspec": {
   "display_name": "Python 3",
   "language": "python",
   "name": "python3"
  },
  "language_info": {
   "codemirror_mode": {
    "name": "ipython",
    "version": 3
   },
   "file_extension": ".py",
   "mimetype": "text/x-python",
   "name": "python",
   "nbconvert_exporter": "python",
   "pygments_lexer": "ipython3",
   "version": "3.7.4"
  }
 },
 "nbformat": 4,
 "nbformat_minor": 2
}
