{
 "cells": [
  {
   "cell_type": "code",
   "execution_count": 1,
   "metadata": {},
   "outputs": [],
   "source": [
    "a =\"hello world\"\n",
    "b = \"hello world\""
   ]
  },
  {
   "cell_type": "code",
   "execution_count": 2,
   "metadata": {},
   "outputs": [
    {
     "data": {
      "text/plain": [
       "True"
      ]
     },
     "execution_count": 2,
     "metadata": {},
     "output_type": "execute_result"
    }
   ],
   "source": [
    "a == b"
   ]
  },
  {
   "cell_type": "code",
   "execution_count": 3,
   "metadata": {},
   "outputs": [
    {
     "data": {
      "text/plain": [
       "False"
      ]
     },
     "execution_count": 3,
     "metadata": {},
     "output_type": "execute_result"
    }
   ],
   "source": [
    "a is b"
   ]
  },
  {
   "cell_type": "markdown",
   "metadata": {},
   "source": [
    "### Control Statments\n",
    "\n",
    "    It is used to control the execution of statements"
   ]
  },
  {
   "cell_type": "markdown",
   "metadata": {},
   "source": [
    "    1. s1\n",
    "    2. s2\n",
    "    3. s3\n",
    "    \n",
    "    These statements without control statements executes in order\n",
    "    \n",
    "    1. Go left \n",
    "    2. sit down\n",
    "    3. Go right\n",
    "    4. sit down\n",
    "    \n",
    "    These staments have to controlled using conditional statements and loop\n",
    "    \n",
    "    1. If girl\n",
    "        a. go left\n",
    "        b. sit down\n",
    "    2. if boy\n",
    "        a. go right\n",
    "        b. sit down\n",
    "        \n",
    "    and to run this statements multiple times we need loops\n",
    "    \n",
    "    for i in range(20)\n",
    "    1. If girl\n",
    "        a. go left\n",
    "        b. sit down\n",
    "    2. if boy\n",
    "        a. go right\n",
    "        b. sit down"
   ]
  },
  {
   "cell_type": "code",
   "execution_count": 6,
   "metadata": {},
   "outputs": [
    {
     "name": "stdout",
     "output_type": "stream",
     "text": [
      "hello world\n",
      "bye world\n",
      "how are you\n"
     ]
    }
   ],
   "source": [
    "print(\"hello world\")\n",
    "print(\"bye world\")\n",
    "print(\"how are you\")"
   ]
  },
  {
   "cell_type": "markdown",
   "metadata": {},
   "source": [
    "### Conditional Statments\n",
    "\n",
    "    1. if\n",
    "    2. if-else\n",
    "    2. if-elif-......-else"
   ]
  },
  {
   "cell_type": "markdown",
   "metadata": {},
   "source": [
    "##### Syntax if\n",
    "\n",
    "    if condition:\n",
    "        s1\n",
    "        s2\n",
    "    contidition must be true to execute statements s1 and s2\n",
    "    : --> it is used to write a particular block, indent\n",
    "    \n",
    "    1 tab = 4 spaces"
   ]
  },
  {
   "cell_type": "code",
   "execution_count": 9,
   "metadata": {},
   "outputs": [
    {
     "ename": "IndentationError",
     "evalue": "unexpected indent (<ipython-input-9-b64ba952dc6b>, line 6)",
     "output_type": "error",
     "traceback": [
      "\u001b[1;36m  File \u001b[1;32m\"<ipython-input-9-b64ba952dc6b>\"\u001b[1;36m, line \u001b[1;32m6\u001b[0m\n\u001b[1;33m    print(\"bye world\")\u001b[0m\n\u001b[1;37m    ^\u001b[0m\n\u001b[1;31mIndentationError\u001b[0m\u001b[1;31m:\u001b[0m unexpected indent\n"
     ]
    }
   ],
   "source": [
    "n = 5\n",
    "if n>5:\n",
    "    print(\"hello world\")\n",
    "    if n < 5:\n",
    "      print(\"hello world\")\n",
    "        print(\"bye world\")"
   ]
  },
  {
   "cell_type": "code",
   "execution_count": 11,
   "metadata": {},
   "outputs": [
    {
     "name": "stdout",
     "output_type": "stream",
     "text": [
      "\n",
      " Enter any number :45\n"
     ]
    }
   ],
   "source": [
    "n = int(input(\"\\n Enter any number : \"))\n",
    "if n%2 == 0:\n",
    "    print(f\"\\n {n} is even\")\n"
   ]
  },
  {
   "cell_type": "code",
   "execution_count": 14,
   "metadata": {},
   "outputs": [
    {
     "name": "stdout",
     "output_type": "stream",
     "text": [
      "\n",
      " Enter any number :-3\n",
      "This is outside if block\n"
     ]
    }
   ],
   "source": [
    "n = int(input(\"\\n Enter any number : \"))\n",
    "if n > 0:\n",
    "    print(\"\\n The number is positive\")\n",
    "print(\"This is outside if block\")"
   ]
  },
  {
   "cell_type": "code",
   "execution_count": 15,
   "metadata": {},
   "outputs": [
    {
     "name": "stdout",
     "output_type": "stream",
     "text": [
      "\n",
      " Enter any number :45\n",
      "\n",
      " The number is positive\n",
      "This is outside if block\n"
     ]
    }
   ],
   "source": [
    "n = int(input(\"\\n Enter any number : \"))\n",
    "if n > 0:\n",
    "    print(\"\\n The number is positive\")\n",
    "print(\"This is outside if block\")"
   ]
  },
  {
   "cell_type": "markdown",
   "metadata": {},
   "source": [
    "    if condition:\n",
    "        s1\n",
    "        s2\n",
    "    else:\n",
    "        s3\n",
    "        s4\n",
    "    If the condition evaluates to True then s1 and s2 will be executed else s3 and s4 will execute"
   ]
  },
  {
   "cell_type": "code",
   "execution_count": 17,
   "metadata": {},
   "outputs": [
    {
     "name": "stdout",
     "output_type": "stream",
     "text": [
      "\n",
      " Enter any number :-4\n",
      "\n",
      " The number -4 is negative\n"
     ]
    }
   ],
   "source": [
    "n = int(input(\"\\n Enter any number : \"))\n",
    "if n>0:\n",
    "    print(f\"\\n the number {n} is positive\")\n",
    "else:\n",
    "    print(f\"\\n The number {n} is negative\")"
   ]
  },
  {
   "cell_type": "code",
   "execution_count": 18,
   "metadata": {},
   "outputs": [
    {
     "name": "stdout",
     "output_type": "stream",
     "text": [
      "\n",
      " Enter any number :0\n",
      "\n",
      " The number 0 is negative\n"
     ]
    }
   ],
   "source": [
    "n = int(input(\"\\n Enter any number : \"))\n",
    "if n>0:\n",
    "    print(f\"\\n the number {n} is positive\")\n",
    "else:\n",
    "    print(f\"\\n The number {n} is negative\")"
   ]
  },
  {
   "cell_type": "code",
   "execution_count": 21,
   "metadata": {},
   "outputs": [
    {
     "name": "stdout",
     "output_type": "stream",
     "text": [
      "\n",
      " Enter any number :34\n",
      "\n",
      " the number 34 is positive\n"
     ]
    }
   ],
   "source": [
    "n = int(input(\"\\n Enter any number : \"))\n",
    "if n>0:\n",
    "    print(f\"\\n the number {n} is positive\")\n",
    "elif n == 0:\n",
    "    print(f\"\\n The number {n} is zero\")\n",
    "else:\n",
    "    print(f\"\\n The number {n} is negative\")"
   ]
  },
  {
   "cell_type": "markdown",
   "metadata": {},
   "source": [
    "    Else statement never have the condition"
   ]
  },
  {
   "cell_type": "code",
   "execution_count": 23,
   "metadata": {},
   "outputs": [
    {
     "name": "stdout",
     "output_type": "stream",
     "text": [
      "\n",
      " Enter any number :30\n",
      "30 is even\n"
     ]
    }
   ],
   "source": [
    "n = int(input(\"\\n Enter any number : \"))\n",
    "if n%2 == 0:\n",
    "    print(f\"{n} is even\")\n",
    "else:\n",
    "    print(f\"{n} is odd\")"
   ]
  },
  {
   "cell_type": "code",
   "execution_count": 33,
   "metadata": {},
   "outputs": [
    {
     "name": "stdout",
     "output_type": "stream",
     "text": [
      "Enter any day :9\n"
     ]
    }
   ],
   "source": [
    "d = {1:\"Monday\",2:\"Tuesday\",3:\"Wednesday\",4:\"Thursday\",5:\"Friday\",6:\"Saturday\",7:\"Sunday\"}\n",
    "day = int(input(\"Enter any day : \"))\n",
    "if day == 1:\n",
    "    print(d[1],\"Lets give a new start\")\n",
    "elif day == 2:\n",
    "    print(d[2],\"There are 3 more days left to work\")\n",
    "elif day == 3:\n",
    "    print(d[3],\"Oh great...Good going weekends are about to come\")\n",
    "elif day == 4:\n",
    "    print(d[4],\"It got tired now!!!\")\n",
    "elif day == 5:\n",
    "    print(d[5],\"Ohh yes tomorrow is saturday and we are going to rest\")\n",
    "elif day == 6:\n",
    "    print(d[6],\"Lets do party\")\n",
    "elif day == 7:\n",
    "    print(d[7],\"Weekend is over.....Again Monday tomorrow :(\")"
   ]
  },
  {
   "cell_type": "code",
   "execution_count": 34,
   "metadata": {},
   "outputs": [
    {
     "name": "stdout",
     "output_type": "stream",
     "text": [
      "Enter any day :15\n",
      "\n",
      " Your day is not correct!!!!!!!\n"
     ]
    }
   ],
   "source": [
    "d = {1:\"Monday\",2:\"Tuesday\",3:\"Wednesday\",4:\"Thursday\",5:\"Friday\",6:\"Saturday\",7:\"Sunday\"}\n",
    "day = int(input(\"Enter any day : \"))\n",
    "if day == 1:\n",
    "    print(d[1],\"Lets give a new start\")\n",
    "elif day == 2:\n",
    "    print(d[2],\"There are 3 more days left to work\")\n",
    "elif day == 3:\n",
    "    print(d[3],\"Oh great...Good going weekends are about to come\")\n",
    "elif day == 4:\n",
    "    print(d[4],\"It got tired now!!!\")\n",
    "elif day == 5:\n",
    "    print(d[5],\"Ohh yes tomorrow is saturday and we are going to rest\")\n",
    "elif day == 6:\n",
    "    print(d[6],\"Lets do party\")\n",
    "elif day == 7:\n",
    "    print(d[7],\"Weekend is over.....Again Monday tomorrow :(\")\n",
    "else:\n",
    "    print(\"\\n Your day is not correct!!!!!!!\")"
   ]
  },
  {
   "cell_type": "code",
   "execution_count": 35,
   "metadata": {},
   "outputs": [
    {
     "data": {
      "text/plain": [
       "{1: 'Monday',\n",
       " 2: 'Tuesday',\n",
       " 3: 'Wednesday',\n",
       " 4: 'Thursday',\n",
       " 5: 'Friday',\n",
       " 6: 'Saturday',\n",
       " 7: 'Sunday'}"
      ]
     },
     "execution_count": 35,
     "metadata": {},
     "output_type": "execute_result"
    }
   ],
   "source": [
    "d"
   ]
  },
  {
   "cell_type": "code",
   "execution_count": 37,
   "metadata": {},
   "outputs": [
    {
     "name": "stdout",
     "output_type": "stream",
     "text": [
      "\n",
      " Enter your day4\n",
      "Thursday\n"
     ]
    }
   ],
   "source": [
    "day = int(input(\"\\n Enter your day\"))\n",
    "if d.get(day):\n",
    "    print(d[day])\n",
    "else:\n",
    "    print(\"\\n Day is incorrect!!!!\")"
   ]
  },
  {
   "cell_type": "markdown",
   "metadata": {},
   "source": [
    "    s1 if condition else s2\n",
    "    \n",
    "    if the condition evaluates to True then s1 is executed else s2 is executed"
   ]
  },
  {
   "cell_type": "code",
   "execution_count": 39,
   "metadata": {},
   "outputs": [
    {
     "name": "stdout",
     "output_type": "stream",
     "text": [
      "Number :10\n",
      "Even\n"
     ]
    }
   ],
   "source": [
    "n = int(input(\"Number : \"))\n",
    "print(\"Even\") if n%2 == 0 else print(\"ODD\")"
   ]
  },
  {
   "cell_type": "code",
   "execution_count": 41,
   "metadata": {},
   "outputs": [
    {
     "name": "stdout",
     "output_type": "stream",
     "text": [
      "Number 1 :40\n",
      "Number 2 :20\n",
      "Number 1 40 is greater\n"
     ]
    }
   ],
   "source": [
    "a = int(input(\"Number 1 : \"))\n",
    "b = int(input(\"Number 2 : \"))\n",
    "print(f\"Number 1 {a} is greater\") if a>b else print(f\"Number 2 {b} is greater\")"
   ]
  },
  {
   "cell_type": "code",
   "execution_count": 42,
   "metadata": {},
   "outputs": [
    {
     "data": {
      "text/plain": [
       "{1: 'Monday',\n",
       " 2: 'Tuesday',\n",
       " 3: 'Wednesday',\n",
       " 4: 'Thursday',\n",
       " 5: 'Friday',\n",
       " 6: 'Saturday',\n",
       " 7: 'Sunday'}"
      ]
     },
     "execution_count": 42,
     "metadata": {},
     "output_type": "execute_result"
    }
   ],
   "source": [
    "d"
   ]
  },
  {
   "cell_type": "code",
   "execution_count": 43,
   "metadata": {},
   "outputs": [
    {
     "name": "stdout",
     "output_type": "stream",
     "text": [
      "hi\n"
     ]
    }
   ],
   "source": [
    "print(\"hi\") if d else print(\"bye\")"
   ]
  },
  {
   "cell_type": "code",
   "execution_count": 44,
   "metadata": {},
   "outputs": [
    {
     "data": {
      "text/plain": [
       "True"
      ]
     },
     "execution_count": 44,
     "metadata": {},
     "output_type": "execute_result"
    }
   ],
   "source": [
    "bool(d)"
   ]
  },
  {
   "cell_type": "code",
   "execution_count": 47,
   "metadata": {},
   "outputs": [
    {
     "name": "stdout",
     "output_type": "stream",
     "text": [
      "0\n",
      "hello world\n"
     ]
    }
   ],
   "source": [
    "print(\"hello world\") if input() else print(\"bye world\")"
   ]
  },
  {
   "cell_type": "code",
   "execution_count": 48,
   "metadata": {},
   "outputs": [
    {
     "name": "stdout",
     "output_type": "stream",
     "text": [
      "0\n",
      "bye world\n"
     ]
    }
   ],
   "source": [
    "print(\"hello world\") if int(input()) else print(\"bye world\")"
   ]
  },
  {
   "cell_type": "code",
   "execution_count": 49,
   "metadata": {},
   "outputs": [
    {
     "name": "stdout",
     "output_type": "stream",
     "text": [
      "hello world\n"
     ]
    }
   ],
   "source": [
    "l = [1,2,3,4,0,4,5,None,10,203,90]\n",
    "print(\"hello world\") if l.pop(5) else print(\"bye world\")\n",
    "#if 4 --> True"
   ]
  },
  {
   "cell_type": "code",
   "execution_count": 50,
   "metadata": {},
   "outputs": [
    {
     "name": "stdout",
     "output_type": "stream",
     "text": [
      "bye world\n"
     ]
    }
   ],
   "source": [
    "l = [1,2,3,4,0,4,5,None,10,203,90]\n",
    "print(\"hello world\") if l.pop(4) else print(\"bye world\")\n",
    "#if 0 --> False"
   ]
  },
  {
   "cell_type": "code",
   "execution_count": 52,
   "metadata": {},
   "outputs": [],
   "source": [
    "l = [1,2,3,4,0,4,5,None,10,203,90]"
   ]
  },
  {
   "cell_type": "code",
   "execution_count": 53,
   "metadata": {},
   "outputs": [
    {
     "data": {
      "text/plain": [
       "[1, 2, 3, 4, 0, 4, 5, None, 10, 203, 90]"
      ]
     },
     "execution_count": 53,
     "metadata": {},
     "output_type": "execute_result"
    }
   ],
   "source": [
    "l"
   ]
  },
  {
   "cell_type": "code",
   "execution_count": 54,
   "metadata": {},
   "outputs": [],
   "source": [
    "l.insert(4,\"hello\")"
   ]
  },
  {
   "cell_type": "code",
   "execution_count": 55,
   "metadata": {},
   "outputs": [
    {
     "name": "stdout",
     "output_type": "stream",
     "text": [
      "bye world\n"
     ]
    }
   ],
   "source": [
    "print(\"hello world\") if l.insert(8,\"hello\") else print(\"bye world\")"
   ]
  },
  {
   "cell_type": "code",
   "execution_count": 56,
   "metadata": {},
   "outputs": [
    {
     "data": {
      "text/plain": [
       "[1, 2, 3, 4, 'hello', 0, 4, 5, 'hello', None, 10, 203, 90]"
      ]
     },
     "execution_count": 56,
     "metadata": {},
     "output_type": "execute_result"
    }
   ],
   "source": [
    "l"
   ]
  },
  {
   "cell_type": "code",
   "execution_count": 57,
   "metadata": {},
   "outputs": [
    {
     "data": {
      "text/plain": [
       "90"
      ]
     },
     "execution_count": 57,
     "metadata": {},
     "output_type": "execute_result"
    }
   ],
   "source": [
    "l.pop()"
   ]
  },
  {
   "cell_type": "code",
   "execution_count": 58,
   "metadata": {},
   "outputs": [
    {
     "name": "stdout",
     "output_type": "stream",
     "text": [
      "hello world\n"
     ]
    }
   ],
   "source": [
    "print(\"hello world\") if l.pop() else print(\"bye world\")\n",
    "#pop returns the element"
   ]
  },
  {
   "cell_type": "code",
   "execution_count": 59,
   "metadata": {},
   "outputs": [
    {
     "data": {
      "text/plain": [
       "0"
      ]
     },
     "execution_count": 59,
     "metadata": {},
     "output_type": "execute_result"
    }
   ],
   "source": [
    "l.pop(5)"
   ]
  },
  {
   "cell_type": "code",
   "execution_count": 60,
   "metadata": {},
   "outputs": [
    {
     "name": "stdout",
     "output_type": "stream",
     "text": [
      "bye\n"
     ]
    }
   ],
   "source": [
    "if 0:\n",
    "    print(\"hi\")\n",
    "else:\n",
    "    print(\"bye\")"
   ]
  },
  {
   "cell_type": "code",
   "execution_count": 61,
   "metadata": {},
   "outputs": [
    {
     "name": "stdout",
     "output_type": "stream",
     "text": [
      "hi\n"
     ]
    }
   ],
   "source": [
    "if 90:\n",
    "    print(\"hi\")\n",
    "else:\n",
    "    print(\"bye\")"
   ]
  },
  {
   "cell_type": "code",
   "execution_count": 62,
   "metadata": {},
   "outputs": [
    {
     "data": {
      "text/plain": [
       "[1, 2, 3, 4, 'hello', 4, 5, 'hello', None, 10]"
      ]
     },
     "execution_count": 62,
     "metadata": {},
     "output_type": "execute_result"
    }
   ],
   "source": [
    "l"
   ]
  },
  {
   "cell_type": "code",
   "execution_count": 63,
   "metadata": {},
   "outputs": [],
   "source": [
    "l.insert(5,\"world\")\n",
    "#it returns None"
   ]
  },
  {
   "cell_type": "code",
   "execution_count": 64,
   "metadata": {},
   "outputs": [
    {
     "data": {
      "text/plain": [
       "[1, 2, 3, 4, 'hello', 'world', 4, 5, 'hello', None, 10]"
      ]
     },
     "execution_count": 64,
     "metadata": {},
     "output_type": "execute_result"
    }
   ],
   "source": [
    "l"
   ]
  },
  {
   "cell_type": "code",
   "execution_count": 65,
   "metadata": {},
   "outputs": [
    {
     "name": "stdout",
     "output_type": "stream",
     "text": [
      "None\n"
     ]
    }
   ],
   "source": [
    "print(l.insert(3,\"hi\"))"
   ]
  },
  {
   "cell_type": "code",
   "execution_count": 66,
   "metadata": {},
   "outputs": [
    {
     "data": {
      "text/plain": [
       "[1, 2, 3, 'hi', 4, 'hello', 'world', 4, 5, 'hello', None, 10]"
      ]
     },
     "execution_count": 66,
     "metadata": {},
     "output_type": "execute_result"
    }
   ],
   "source": [
    "l"
   ]
  },
  {
   "cell_type": "code",
   "execution_count": 67,
   "metadata": {},
   "outputs": [
    {
     "name": "stdout",
     "output_type": "stream",
     "text": [
      "bye world\n"
     ]
    }
   ],
   "source": [
    "print(\"hello world\") if l.insert(8,\"hello\") else print(\"bye world\")\n",
    "#if None"
   ]
  },
  {
   "cell_type": "code",
   "execution_count": 69,
   "metadata": {},
   "outputs": [
    {
     "name": "stdout",
     "output_type": "stream",
     "text": [
      "\n",
      " Number 1 :12\n",
      "\n",
      " Number 2 : 9\n",
      "\n",
      " Number 3 : 8\n",
      "\n",
      " Number 1 12 is greater\n"
     ]
    }
   ],
   "source": [
    "#### greatest number among three numbers\n",
    "\n",
    "a = int(input(\"\\n Number 1 : \"))\n",
    "b = int(input(\"\\n Number 2 : \"))\n",
    "c = int(input(\"\\n Number 3 : \"))\n",
    "if (a>b) and (a>c):  #if this condition evaluates to False then a is eliminated\n",
    "    print(\"\\n Number 1\",a,\"is greater\")\n",
    "elif b>c:  #if this condition evaluates to False then b is eliminated\n",
    "    print(\"\\n Number 2\",b,\"is greater\")\n",
    "else:\n",
    "    print(\"\\n Number 3\",c,\"is greater\")"
   ]
  },
  {
   "cell_type": "markdown",
   "metadata": {},
   "source": [
    "###### Try the above program using different approach (you can use nested if also)"
   ]
  },
  {
   "cell_type": "code",
   "execution_count": 72,
   "metadata": {},
   "outputs": [
    {
     "name": "stdout",
     "output_type": "stream",
     "text": [
      "\n",
      " Number :35\n",
      "\n",
      " Number is divided by 7\n"
     ]
    }
   ],
   "source": [
    "n = int(input(\"\\n Number : \"))\n",
    "if n%2 == 0:\n",
    "    if n%5 == 0:\n",
    "        print(\"GREAT!!!!! The number is divisible by 2 and 5\")\n",
    "    elif n%7 == 0:\n",
    "        print(\"\\n GOOD!!!! The number if divisible by 7 and 2\")\n",
    "else:\n",
    "    if n%7 == 0:\n",
    "        print(\"\\n Number is divided by 7\")\n",
    "    else:\n",
    "        print(\"\\n Number is not good enough\")"
   ]
  },
  {
   "cell_type": "code",
   "execution_count": 77,
   "metadata": {},
   "outputs": [
    {
     "name": "stdout",
     "output_type": "stream",
     "text": [
      "\n",
      " Enter your salary :5000\n",
      "\n",
      " Stay at home and watch netflix,prime etc\n"
     ]
    }
   ],
   "source": [
    "sal = int(input(\"\\n Enter your salary : \"))\n",
    "if 10000<sal<=25000:\n",
    "    print(\"\\n You can go on picnic\")\n",
    "elif 25000<sal<=50000:\n",
    "    print(\"\\n You can go for a trip in India\")\n",
    "elif sal > 50000:\n",
    "    print(\"\\n You can go for a trip in abroad\")\n",
    "elif sal<=10000:\n",
    "    print(\"\\n Stay at home and watch netflix,prime etc\")"
   ]
  },
  {
   "cell_type": "markdown",
   "metadata": {},
   "source": [
    "    make a program\n",
    "    \n",
    "    1. take the type of employment by a person (govt/private/business)\n",
    "    2. if the type is govt\n",
    "        a. take salary per month as input\n",
    "        b. if salary>=60000 then grant loan\n",
    "        c. otherwise not\n",
    "    3. if type is private\n",
    "        a. salary per month as input\n",
    "        b. if salary>=70000 then grant loan\n",
    "        c. otherwise not\n",
    "    4. if type is business\n",
    "        a. take turnover per year for a business in lakh\n",
    "        b. if turnover>=10 (10 lakh) the grant loan otherwise not"
   ]
  },
  {
   "cell_type": "code",
   "execution_count": null,
   "metadata": {},
   "outputs": [],
   "source": []
  }
 ],
 "metadata": {
  "kernelspec": {
   "display_name": "Python 3",
   "language": "python",
   "name": "python3"
  },
  "language_info": {
   "codemirror_mode": {
    "name": "ipython",
    "version": 3
   },
   "file_extension": ".py",
   "mimetype": "text/x-python",
   "name": "python",
   "nbconvert_exporter": "python",
   "pygments_lexer": "ipython3",
   "version": "3.7.4"
  }
 },
 "nbformat": 4,
 "nbformat_minor": 2
}
