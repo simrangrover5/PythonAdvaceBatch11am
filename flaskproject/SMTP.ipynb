{
 "cells": [
  {
   "cell_type": "markdown",
   "metadata": {},
   "source": [
    "### SMTP\n",
    "\n",
    "    Simple Mail Transfer Protocol\n",
    "        Protocol --> rules\n",
    "        \n",
    "    It allows the third party application to send mail to third party users\n",
    "    \n",
    "    host --> smtp.gmail.com\n",
    "    port --> ssl --> 465\n",
    "             tls (Transport Layer Security) --> 587"
   ]
  },
  {
   "cell_type": "markdown",
   "metadata": {},
   "source": [
    "https://myaccount.google.com/security"
   ]
  },
  {
   "cell_type": "code",
   "execution_count": 1,
   "metadata": {},
   "outputs": [],
   "source": [
    "import smtplib\n",
    "import ssl  # secure socket layer"
   ]
  },
  {
   "cell_type": "code",
   "execution_count": 3,
   "metadata": {},
   "outputs": [
    {
     "name": "stdout",
     "output_type": "stream",
     "text": [
      "['CRLF', 'LMTP', 'LMTP_PORT', 'OLDSTYLE_AUTH', 'SMTP', 'SMTPAuthenticationError', 'SMTPConnectError', 'SMTPDataError', 'SMTPException', 'SMTPHeloError', 'SMTPNotSupportedError', 'SMTPRecipientsRefused', 'SMTPResponseException', 'SMTPSenderRefused', 'SMTPServerDisconnected', 'SMTP_PORT', 'SMTP_SSL', 'SMTP_SSL_PORT', '_MAXLINE', '__all__', '__builtins__', '__cached__', '__doc__', '__file__', '__loader__', '__name__', '__package__', '__spec__', '_addr_only', '_fix_eols', '_have_ssl', '_quote_periods', 'bCRLF', 'base64', 'copy', 'datetime', 'email', 'encode_base64', 'hmac', 'io', 'quoteaddr', 'quotedata', 're', 'socket', 'ssl', 'sys']\n"
     ]
    }
   ],
   "source": [
    "print(dir(smtplib))"
   ]
  },
  {
   "cell_type": "code",
   "execution_count": 4,
   "metadata": {},
   "outputs": [
    {
     "name": "stdout",
     "output_type": "stream",
     "text": [
      "['AF_INET', 'ALERT_DESCRIPTION_ACCESS_DENIED', 'ALERT_DESCRIPTION_BAD_CERTIFICATE', 'ALERT_DESCRIPTION_BAD_CERTIFICATE_HASH_VALUE', 'ALERT_DESCRIPTION_BAD_CERTIFICATE_STATUS_RESPONSE', 'ALERT_DESCRIPTION_BAD_RECORD_MAC', 'ALERT_DESCRIPTION_CERTIFICATE_EXPIRED', 'ALERT_DESCRIPTION_CERTIFICATE_REVOKED', 'ALERT_DESCRIPTION_CERTIFICATE_UNKNOWN', 'ALERT_DESCRIPTION_CERTIFICATE_UNOBTAINABLE', 'ALERT_DESCRIPTION_CLOSE_NOTIFY', 'ALERT_DESCRIPTION_DECODE_ERROR', 'ALERT_DESCRIPTION_DECOMPRESSION_FAILURE', 'ALERT_DESCRIPTION_DECRYPT_ERROR', 'ALERT_DESCRIPTION_HANDSHAKE_FAILURE', 'ALERT_DESCRIPTION_ILLEGAL_PARAMETER', 'ALERT_DESCRIPTION_INSUFFICIENT_SECURITY', 'ALERT_DESCRIPTION_INTERNAL_ERROR', 'ALERT_DESCRIPTION_NO_RENEGOTIATION', 'ALERT_DESCRIPTION_PROTOCOL_VERSION', 'ALERT_DESCRIPTION_RECORD_OVERFLOW', 'ALERT_DESCRIPTION_UNEXPECTED_MESSAGE', 'ALERT_DESCRIPTION_UNKNOWN_CA', 'ALERT_DESCRIPTION_UNKNOWN_PSK_IDENTITY', 'ALERT_DESCRIPTION_UNRECOGNIZED_NAME', 'ALERT_DESCRIPTION_UNSUPPORTED_CERTIFICATE', 'ALERT_DESCRIPTION_UNSUPPORTED_EXTENSION', 'ALERT_DESCRIPTION_USER_CANCELLED', 'AlertDescription', 'CERT_NONE', 'CERT_OPTIONAL', 'CERT_REQUIRED', 'CHANNEL_BINDING_TYPES', 'CertificateError', 'DER_cert_to_PEM_cert', 'DefaultVerifyPaths', 'HAS_ALPN', 'HAS_ECDH', 'HAS_NEVER_CHECK_COMMON_NAME', 'HAS_NPN', 'HAS_SNI', 'HAS_SSLv2', 'HAS_SSLv3', 'HAS_TLSv1', 'HAS_TLSv1_1', 'HAS_TLSv1_2', 'HAS_TLSv1_3', 'MemoryBIO', 'OPENSSL_VERSION', 'OPENSSL_VERSION_INFO', 'OPENSSL_VERSION_NUMBER', 'OP_ALL', 'OP_CIPHER_SERVER_PREFERENCE', 'OP_ENABLE_MIDDLEBOX_COMPAT', 'OP_NO_COMPRESSION', 'OP_NO_RENEGOTIATION', 'OP_NO_SSLv2', 'OP_NO_SSLv3', 'OP_NO_TICKET', 'OP_NO_TLSv1', 'OP_NO_TLSv1_1', 'OP_NO_TLSv1_2', 'OP_NO_TLSv1_3', 'OP_SINGLE_DH_USE', 'OP_SINGLE_ECDH_USE', 'Options', 'PEM_FOOTER', 'PEM_HEADER', 'PEM_cert_to_DER_cert', 'PROTOCOL_SSLv23', 'PROTOCOL_TLS', 'PROTOCOL_TLS_CLIENT', 'PROTOCOL_TLS_SERVER', 'PROTOCOL_TLSv1', 'PROTOCOL_TLSv1_1', 'PROTOCOL_TLSv1_2', 'Purpose', 'RAND_add', 'RAND_bytes', 'RAND_pseudo_bytes', 'RAND_status', 'SOCK_STREAM', 'SOL_SOCKET', 'SO_TYPE', 'SSLCertVerificationError', 'SSLContext', 'SSLEOFError', 'SSLError', 'SSLErrorNumber', 'SSLObject', 'SSLSession', 'SSLSocket', 'SSLSyscallError', 'SSLWantReadError', 'SSLWantWriteError', 'SSLZeroReturnError', 'SSL_ERROR_EOF', 'SSL_ERROR_INVALID_ERROR_CODE', 'SSL_ERROR_SSL', 'SSL_ERROR_SYSCALL', 'SSL_ERROR_WANT_CONNECT', 'SSL_ERROR_WANT_READ', 'SSL_ERROR_WANT_WRITE', 'SSL_ERROR_WANT_X509_LOOKUP', 'SSL_ERROR_ZERO_RETURN', 'TLSVersion', 'VERIFY_CRL_CHECK_CHAIN', 'VERIFY_CRL_CHECK_LEAF', 'VERIFY_DEFAULT', 'VERIFY_X509_STRICT', 'VERIFY_X509_TRUSTED_FIRST', 'VerifyFlags', 'VerifyMode', '_ASN1Object', '_DEFAULT_CIPHERS', '_Enum', '_IntEnum', '_IntFlag', '_OPENSSL_API_VERSION', '_PROTOCOL_NAMES', '_RESTRICTED_SERVER_CIPHERS', '_SSLContext', '_SSLMethod', '_SSLv2_IF_EXISTS', '__builtins__', '__cached__', '__doc__', '__file__', '__loader__', '__name__', '__package__', '__spec__', '_create_default_https_context', '_create_stdlib_context', '_create_unverified_context', '_dnsname_match', '_inet_paton', '_ipaddress_match', '_nid2obj', '_socket', '_ssl', '_sslcopydoc', '_txt2obj', 'base64', 'cert_time_to_seconds', 'create_connection', 'create_default_context', 'enum_certificates', 'enum_crls', 'errno', 'get_default_verify_paths', 'get_protocol_name', 'get_server_certificate', 'match_hostname', 'namedtuple', 'os', 'socket', 'socket_error', 'sys', 'warnings', 'wrap_socket']\n"
     ]
    }
   ],
   "source": [
    "print(dir(ssl))"
   ]
  },
  {
   "cell_type": "markdown",
   "metadata": {},
   "source": [
    "    1. from_email, password\n",
    "    2. Connect with smtp.gmail host\n",
    "    3. Take Login into your account\n",
    "    4. Send mail"
   ]
  },
  {
   "cell_type": "code",
   "execution_count": 2,
   "metadata": {},
   "outputs": [],
   "source": [
    "from getpass import getpass"
   ]
  },
  {
   "cell_type": "code",
   "execution_count": 6,
   "metadata": {},
   "outputs": [
    {
     "name": "stdout",
     "output_type": "stream",
     "text": [
      "\n",
      " Enter your password : ········\n",
      "<ssl.SSLContext object at 0x00000232EB981048>\n"
     ]
    }
   ],
   "source": [
    "from_email = \"simrangrover5@gmail.com\"\n",
    "to_email = \"simrangrover5@gmail.com\"\n",
    "password = getpass(\"\\n Enter your password : \")\n",
    "\n",
    "host = \"smtp.gmail.com\"\n",
    "port = 587\n",
    "\n",
    "msg = \"\"\"This is mail from python script....\"\"\"\n",
    "\n",
    "context = ssl.create_default_context()\n",
    "print(context)"
   ]
  },
  {
   "cell_type": "code",
   "execution_count": 10,
   "metadata": {},
   "outputs": [
    {
     "name": "stdout",
     "output_type": "stream",
     "text": [
      "\n",
      " Enter your password : ········\n",
      "\n",
      " MESSAGE DELIVER SUCCESSFULLY\n"
     ]
    }
   ],
   "source": [
    "from_email = \"simrangrover5@gmail.com\"\n",
    "to_email = \"simrangrover5@gmail.com\"\n",
    "password = getpass(\"\\n Enter your password : \")\n",
    "\n",
    "host = \"smtp.gmail.com\"\n",
    "port = 587\n",
    "\n",
    "msg = \"\"\"This is mail from python script....\"\"\"\n",
    "\n",
    "context = ssl.create_default_context()\n",
    "try:\n",
    "    with smtplib.SMTP(host, port) as conn:\n",
    "        conn.starttls(context=context) # to add higher security level in mail sending\n",
    "        conn.login(from_email, password)\n",
    "        conn.sendmail(from_email, to_email, msg)\n",
    "except Exception as e:\n",
    "    print(\"\\n ERROR : \", e)\n",
    "else:\n",
    "    print(\"\\n MESSAGE DELIVER SUCCESSFULLY\")"
   ]
  },
  {
   "cell_type": "markdown",
   "metadata": {},
   "source": [
    "### MIME\n",
    "    \n",
    "        Multipurpose Internet Mail Extension\n",
    "        \n",
    "        It is used for sending different types of mail with different content types"
   ]
  },
  {
   "cell_type": "code",
   "execution_count": 11,
   "metadata": {},
   "outputs": [],
   "source": [
    "from email.mime.multipart import MIMEMultipart\n",
    "from email.mime.text import MIMEText"
   ]
  },
  {
   "cell_type": "code",
   "execution_count": 13,
   "metadata": {},
   "outputs": [
    {
     "name": "stdout",
     "output_type": "stream",
     "text": [
      "Content-Type: multipart/mixed; boundary=\"===============1761973061433644684==\"\n",
      "MIME-Version: 1.0\n",
      "\n",
      "--===============1761973061433644684==\n",
      "\n",
      "--===============1761973061433644684==--\n",
      "\n",
      "Content-Type: multipart/mixed; boundary=\"===============1761973061433644684==\"\n",
      "MIME-Version: 1.0\n",
      "To: simrangrover5gmail.com\n",
      "From: simrangrover5@gmail.com\n",
      "Subject: Mail From Python Script\n",
      "\n",
      "--===============1761973061433644684==\n",
      "\n",
      "--===============1761973061433644684==--\n",
      "\n"
     ]
    }
   ],
   "source": [
    "message = MIMEMultipart()\n",
    "print(message)\n",
    "message['To'] = \"simrangrover5gmail.com\"\n",
    "message['From'] = \"simrangrover5@gmail.com\"\n",
    "message['Subject'] = \"Mail From Python Script\"\n",
    "\n",
    "print(message)"
   ]
  },
  {
   "cell_type": "code",
   "execution_count": 14,
   "metadata": {},
   "outputs": [
    {
     "name": "stdout",
     "output_type": "stream",
     "text": [
      "Content-Type: multipart/mixed; boundary=\"===============7778482957796062016==\"\n",
      "MIME-Version: 1.0\n",
      "To: simrangrover5gmail.com\n",
      "From: simrangrover5@gmail.com\n",
      "Subject: Mail From Python Script\n",
      "\n",
      "--===============7778482957796062016==\n",
      "\n",
      "--===============7778482957796062016==--\n",
      "\n",
      "********************************************************************************\n",
      "Content-Type: multipart/mixed; boundary=\"===============7778482957796062016==\"\n",
      "MIME-Version: 1.0\n",
      "To: simrangrover5gmail.com\n",
      "From: simrangrover5@gmail.com\n",
      "Subject: Mail From Python Script\n",
      "\n",
      "--===============7778482957796062016==\n",
      "Content-Type: text/plain; charset=\"us-ascii\"\n",
      "MIME-Version: 1.0\n",
      "Content-Transfer-Encoding: 7bit\n",
      "\n",
      "This is Plain Text Message from SIMRAN GROVER through her Python Scipt using MIME\n",
      "--===============7778482957796062016==--\n",
      "\n"
     ]
    }
   ],
   "source": [
    "from email.mime.multipart import MIMEMultipart\n",
    "from email.mime.text import MIMEText\n",
    "\n",
    "message = MIMEMultipart()\n",
    "message['To'] = \"simrangrover5gmail.com\"\n",
    "message['From'] = \"simrangrover5@gmail.com\"\n",
    "message['Subject'] = \"Mail From Python Script\"\n",
    "\n",
    "print(message)\n",
    "print(\"*\"*80)\n",
    "\n",
    "msg = \"This is Plain Text Message from SIMRAN GROVER through her Python Scipt using MIME\"\n",
    "\n",
    "plain = MIMEText(msg, \"plain\")\n",
    "message.attach(plain)\n",
    "print(message)"
   ]
  },
  {
   "cell_type": "code",
   "execution_count": 15,
   "metadata": {},
   "outputs": [
    {
     "name": "stdout",
     "output_type": "stream",
     "text": [
      "Content-Type: multipart/mixed; boundary=\"===============1344639440065113308==\"\n",
      "MIME-Version: 1.0\n",
      "To: simrangrover5gmail.com\n",
      "From: simrangrover5@gmail.com\n",
      "Subject: Mail From Python Script\n",
      "\n",
      "--===============1344639440065113308==\n",
      "Content-Type: text/plain; charset=\"us-ascii\"\n",
      "MIME-Version: 1.0\n",
      "Content-Transfer-Encoding: 7bit\n",
      "\n",
      "This is Plain Text Message from SIMRAN GROVER through her Python Scipt using MIME\n",
      "--===============1344639440065113308==--\n",
      "\n",
      "\n",
      " Enter your password : ········\n",
      "\n",
      " Message Send Successfully\n"
     ]
    }
   ],
   "source": [
    "from email.mime.multipart import MIMEMultipart\n",
    "from email.mime.text import MIMEText\n",
    "\n",
    "message = MIMEMultipart()\n",
    "message['To'] = \"simrangrover5gmail.com\"\n",
    "message['From'] = \"simrangrover5@gmail.com\"\n",
    "message['Subject'] = \"Mail From Python Script\"\n",
    "msg = \"This is Plain Text Message from SIMRAN GROVER through her Python Scipt using MIME\"\n",
    "plain = MIMEText(msg, \"plain\")\n",
    "message.attach(plain)\n",
    "print(message)\n",
    "\n",
    "host = \"smtp.gmail.com\"\n",
    "port = 465\n",
    "email = \"simrangrover5@gmail.com\"\n",
    "password = getpass(\"\\n Enter your password : \")\n",
    "try:\n",
    "    with smtplib.SMTP_SSL(host, port, context=ssl.create_default_context()) as server:\n",
    "        server.login(email, password)\n",
    "        server.sendmail(email, email, message.as_string())\n",
    "except Exception as e:\n",
    "    print(\"\\n ERROR : \", e)\n",
    "else:\n",
    "    print(\"\\n Message Send Successfully\")"
   ]
  },
  {
   "cell_type": "markdown",
   "metadata": {},
   "source": [
    "    1. send mail using flask\n",
    "    2. store password in flask by encrypting it"
   ]
  },
  {
   "cell_type": "code",
   "execution_count": 16,
   "metadata": {},
   "outputs": [],
   "source": [
    "import passlib"
   ]
  },
  {
   "cell_type": "code",
   "execution_count": 17,
   "metadata": {},
   "outputs": [
    {
     "name": "stdout",
     "output_type": "stream",
     "text": [
      "['__builtins__', '__cached__', '__doc__', '__file__', '__loader__', '__name__', '__package__', '__path__', '__spec__', '__version__']\n"
     ]
    }
   ],
   "source": [
    "print(dir(passlib))"
   ]
  },
  {
   "cell_type": "code",
   "execution_count": 18,
   "metadata": {},
   "outputs": [],
   "source": [
    "from passlib.hash import pbkdf2_sha256 as sha"
   ]
  },
  {
   "cell_type": "code",
   "execution_count": 19,
   "metadata": {},
   "outputs": [],
   "source": [
    "pswd = \"simrangrover\""
   ]
  },
  {
   "cell_type": "code",
   "execution_count": 20,
   "metadata": {},
   "outputs": [
    {
     "data": {
      "text/plain": [
       "'$pbkdf2-sha256$29000$aO1dK2UMAaDU2rt3jlHKeQ$px5axK1yyYxiIFTo2QA.0Asj3FAz1Dmb2A4il6BPQoc'"
      ]
     },
     "execution_count": 20,
     "metadata": {},
     "output_type": "execute_result"
    }
   ],
   "source": [
    "sha.hash(pswd)"
   ]
  },
  {
   "cell_type": "code",
   "execution_count": 21,
   "metadata": {},
   "outputs": [],
   "source": [
    "cipher = sha.hash(pswd)"
   ]
  },
  {
   "cell_type": "code",
   "execution_count": 22,
   "metadata": {},
   "outputs": [
    {
     "data": {
      "text/plain": [
       "'$pbkdf2-sha256$29000$FgJgrNX6fw/hvHfu3bv3Hg$nJGjJV0cq/9vxi1uO034nz3HxXw.ySKODZbFC1vfYZQ'"
      ]
     },
     "execution_count": 22,
     "metadata": {},
     "output_type": "execute_result"
    }
   ],
   "source": [
    "cipher"
   ]
  },
  {
   "cell_type": "code",
   "execution_count": 24,
   "metadata": {},
   "outputs": [
    {
     "data": {
      "text/plain": [
       "True"
      ]
     },
     "execution_count": 24,
     "metadata": {},
     "output_type": "execute_result"
    }
   ],
   "source": [
    "sha.verify(\"simrangrover\", cipher)"
   ]
  },
  {
   "cell_type": "code",
   "execution_count": 25,
   "metadata": {},
   "outputs": [
    {
     "data": {
      "text/plain": [
       "False"
      ]
     },
     "execution_count": 25,
     "metadata": {},
     "output_type": "execute_result"
    }
   ],
   "source": [
    "sha.verify(\"simrangrover123\", cipher)"
   ]
  },
  {
   "cell_type": "code",
   "execution_count": null,
   "metadata": {},
   "outputs": [],
   "source": []
  }
 ],
 "metadata": {
  "kernelspec": {
   "display_name": "Python 3",
   "language": "python",
   "name": "python3"
  },
  "language_info": {
   "codemirror_mode": {
    "name": "ipython",
    "version": 3
   },
   "file_extension": ".py",
   "mimetype": "text/x-python",
   "name": "python",
   "nbconvert_exporter": "python",
   "pygments_lexer": "ipython3",
   "version": "3.7.4"
  }
 },
 "nbformat": 4,
 "nbformat_minor": 2
}
