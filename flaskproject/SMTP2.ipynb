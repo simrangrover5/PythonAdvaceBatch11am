{
 "cells": [
  {
   "cell_type": "code",
   "execution_count": 27,
   "metadata": {},
   "outputs": [],
   "source": [
    "import smtplib\n",
    "from getpass import getpass\n",
    "import ssl"
   ]
  },
  {
   "cell_type": "code",
   "execution_count": 6,
   "metadata": {},
   "outputs": [
    {
     "name": "stdout",
     "output_type": "stream",
     "text": [
      "Content-Type: multipart/mixed; boundary=\"===============0800851322463087863==\"\n",
      "MIME-Version: 1.0\n",
      "To: simrangrover5gmail.com\n",
      "From: simrangrover5@gmail.com\n",
      "Subject: Mail From Python Script\n",
      "\n",
      "--===============0800851322463087863==\n",
      "Content-Type: text/html; charset=\"us-ascii\"\n",
      "MIME-Version: 1.0\n",
      "Content-Transfer-Encoding: 7bit\n",
      "\n",
      "\n",
      "<h1>This is Mail from SIMRAN GROVER from Grras Solutions Pvt. Ltd.</h1>\n",
      "<h2 style='color:red'>Hope you are doing well</h2>\n",
      "\n",
      "<p style='font-style:italic;color:blue'>This is mail from python script>\n",
      "\n",
      "--===============0800851322463087863==--\n",
      "\n",
      "\n",
      " Enter your password : ········\n",
      "\n",
      " Message Send Successfully\n"
     ]
    }
   ],
   "source": [
    "from email.mime.multipart import MIMEMultipart\n",
    "from email.mime.text import MIMEText\n",
    "\n",
    "message = MIMEMultipart()\n",
    "message['To'] = \"simrangrover5gmail.com\"\n",
    "message['From'] = \"simrangrover5@gmail.com\"\n",
    "message['Subject'] = \"Mail From Python Script\"\n",
    "msg = \"\"\"\n",
    "<h1>This is Mail from SIMRAN GROVER from Grras Solutions Pvt. Ltd.</h1>\n",
    "<h2 style='color:red'>Hope you are doing well</h2>\n",
    "\n",
    "<p style='font-style:italic;color:blue'>This is mail from python script>\n",
    "\"\"\"\n",
    "html = MIMEText(msg, \"html\")\n",
    "message.attach(html)\n",
    "print(message)\n",
    "\n",
    "host = \"smtp.gmail.com\"\n",
    "port = 465\n",
    "email = \"simrangrover5@gmail.com\"\n",
    "password = getpass(\"\\n Enter your password : \")\n",
    "try:\n",
    "    with smtplib.SMTP_SSL(host, port, context=ssl.create_default_context()) as server:\n",
    "        server.login(email, password)\n",
    "        server.sendmail(email, email, message.as_string())\n",
    "except Exception as e:\n",
    "    print(\"\\n ERROR : \", e)\n",
    "else:\n",
    "    print(\"\\n Message Send Successfully\")"
   ]
  },
  {
   "cell_type": "code",
   "execution_count": 23,
   "metadata": {},
   "outputs": [
    {
     "name": "stdout",
     "output_type": "stream",
     "text": [
      "\n",
      " Enter your password : ········\n",
      "\n",
      " Message Send Successfully\n"
     ]
    }
   ],
   "source": [
    "from email.mime.multipart import MIMEMultipart\n",
    "from email.mime.text import MIMEText\n",
    "\n",
    "message = MIMEMultipart()\n",
    "message['From'] = \"simrangrover5@gmail.com\"\n",
    "message['To'] = \"amanmansuri629@gmail.com\"\n",
    "message['Subject'] = \"Mail From Python Script\"\n",
    "msg = \"\"\"\n",
    "<html>\n",
    "<body>\n",
    "<h1>This is Mail from SIMRAN GROVER from Grras Solutions Pvt. Ltd.</h1>\n",
    "<h2 style='color:red'>Hope you are doing well</h2>\n",
    "\n",
    "<p style='font-style:italic;color:blue'>This is mail from python script</p>\n",
    "<a href='www.grras.com'> Click on this link to get further information<a>\n",
    "</body>\n",
    "</html>\n",
    "\"\"\"\n",
    "html = MIMEText(msg, \"html\")\n",
    "message.attach(html)\n",
    "#print(message)\n",
    "\n",
    "host = \"smtp.gmail.com\"\n",
    "port = 465\n",
    "email = \"simrangrover5@gmail.com\"\n",
    "to_email = \"amanmansuri629@gmail.com\"\n",
    "password = getpass(\"\\n Enter your password : \")\n",
    "try:\n",
    "    with smtplib.SMTP_SSL(host, port, context=ssl.create_default_context()) as server:\n",
    "        server.login(email, password)\n",
    "        server.sendmail(email, to_email, message.as_string())\n",
    "except Exception as e:\n",
    "    print(\"\\n ERROR : \", e)\n",
    "else:\n",
    "    print(\"\\n Message Send Successfully\")"
   ]
  },
  {
   "cell_type": "code",
   "execution_count": 25,
   "metadata": {},
   "outputs": [
    {
     "name": "stdout",
     "output_type": "stream",
     "text": [
      "\n",
      " Enter your password : ········\n",
      "\n",
      " Message Send Successfully\n"
     ]
    }
   ],
   "source": [
    "from email.mime.multipart import MIMEMultipart\n",
    "from email.mime.text import MIMEText\n",
    "\n",
    "message = MIMEMultipart()\n",
    "message['From'] = \"simrangrover5@gmail.com\"\n",
    "message['To'] = \"simrangrover1601@gmail.com\"\n",
    "message['Subject'] = \"Mail From Python Script\"\n",
    "msg = \"\"\"\n",
    "<html>\n",
    "<body>\n",
    "<h1>This is Mail from SIMRAN GROVER from Grras Solutions Pvt. Ltd.</h1>\n",
    "<h2 style='color:red'>Hope you are doing well</h2>\n",
    "\n",
    "<p style='font-style:italic;color:blue'>This is mail from python script</p>\n",
    "<a href='www.grras.com'> Click on this link to get further information<a>\n",
    "<img src='https://image.shutterstock.com/image-photo/spring-blossom-background-beautiful-nature-260nw-1033292395.jpg'>\n",
    "Good morning with this image\n",
    "</body>\n",
    "</html>\n",
    "\"\"\"\n",
    "html = MIMEText(msg, \"html\")\n",
    "message.attach(html)\n",
    "#print(message)\n",
    "\n",
    "host = \"smtp.gmail.com\"\n",
    "port = 465\n",
    "email = \"simrangrover5@gmail.com\"\n",
    "to_email = \"simrangrover1601@gmail.com\"\n",
    "password = getpass(\"\\n Enter your password : \")\n",
    "try:\n",
    "    with smtplib.SMTP_SSL(host, port, context=ssl.create_default_context()) as server:\n",
    "        server.login(email, password)\n",
    "        server.sendmail(email, to_email, message.as_string())\n",
    "except Exception as e:\n",
    "    print(\"\\n ERROR : \", e)\n",
    "else:\n",
    "    print(\"\\n Message Send Successfully\")"
   ]
  },
  {
   "cell_type": "code",
   "execution_count": 26,
   "metadata": {},
   "outputs": [],
   "source": [
    "### Send mail to multiple users with same script\n",
    "### find how can we send attachments"
   ]
  },
  {
   "cell_type": "markdown",
   "metadata": {},
   "source": [
    "### Session and Cookies\n",
    "\n",
    "    "
   ]
  },
  {
   "cell_type": "markdown",
   "metadata": {},
   "source": [
    "    Both store the information (users)\n",
    "    \n",
    "    \n",
    "    1. Session store info at server side and cookies store at client side\n",
    "    2. Security is more in session than in cookies\n",
    "    3. "
   ]
  }
 ],
 "metadata": {
  "kernelspec": {
   "display_name": "Python 3",
   "language": "python",
   "name": "python3"
  },
  "language_info": {
   "codemirror_mode": {
    "name": "ipython",
    "version": 3
   },
   "file_extension": ".py",
   "mimetype": "text/x-python",
   "name": "python",
   "nbconvert_exporter": "python",
   "pygments_lexer": "ipython3",
   "version": "3.7.4"
  }
 },
 "nbformat": 4,
 "nbformat_minor": 2
}
