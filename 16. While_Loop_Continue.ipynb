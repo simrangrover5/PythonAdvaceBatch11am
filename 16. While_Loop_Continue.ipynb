{
 "cells": [
  {
   "cell_type": "raw",
   "metadata": {},
   "source": [
    "* * * * *\n",
    "  * * * *\n",
    "    * * * \n",
    "      * * \n",
    "        *"
   ]
  },
  {
   "cell_type": "code",
   "execution_count": 6,
   "metadata": {},
   "outputs": [
    {
     "name": "stdout",
     "output_type": "stream",
     "text": [
      "\n",
      " Enter number of rows : 5\n",
      "* * * * * \n",
      "  * * * * \n",
      "    * * * \n",
      "      * * \n",
      "        * \n"
     ]
    }
   ],
   "source": [
    "#space --> row times\n",
    "#star --> (n-row) times\n",
    "n = int(input(\"\\n Enter number of rows : \"))\n",
    "row = 0\n",
    "while row<n:\n",
    "    k =0  #for printing space\n",
    "    while k<row:\n",
    "        print(\" \",end=\" \")\n",
    "        k += 1\n",
    "    j = 1\n",
    "    while j<=(n-row):\n",
    "        print(\"*\",end=\" \")\n",
    "        j += 1\n",
    "    print()\n",
    "    row += 1"
   ]
  },
  {
   "cell_type": "raw",
   "metadata": {},
   "source": [
    "A\n",
    "B B\n",
    "C C C\n",
    "D D D D\n",
    "E E E E E"
   ]
  },
  {
   "cell_type": "code",
   "execution_count": 7,
   "metadata": {},
   "outputs": [
    {
     "data": {
      "text/plain": [
       "65"
      ]
     },
     "execution_count": 7,
     "metadata": {},
     "output_type": "execute_result"
    }
   ],
   "source": [
    "ord(\"A\")"
   ]
  },
  {
   "cell_type": "code",
   "execution_count": 8,
   "metadata": {},
   "outputs": [
    {
     "data": {
      "text/plain": [
       "66"
      ]
     },
     "execution_count": 8,
     "metadata": {},
     "output_type": "execute_result"
    }
   ],
   "source": [
    "ord('B')"
   ]
  },
  {
   "cell_type": "code",
   "execution_count": 9,
   "metadata": {},
   "outputs": [
    {
     "data": {
      "text/plain": [
       "67"
      ]
     },
     "execution_count": 9,
     "metadata": {},
     "output_type": "execute_result"
    }
   ],
   "source": [
    "ord(\"C\")"
   ]
  },
  {
   "cell_type": "code",
   "execution_count": 10,
   "metadata": {},
   "outputs": [
    {
     "data": {
      "text/plain": [
       "90"
      ]
     },
     "execution_count": 10,
     "metadata": {},
     "output_type": "execute_result"
    }
   ],
   "source": [
    "ord(\"Z\")"
   ]
  },
  {
   "cell_type": "code",
   "execution_count": 11,
   "metadata": {},
   "outputs": [
    {
     "data": {
      "text/plain": [
       "'A'"
      ]
     },
     "execution_count": 11,
     "metadata": {},
     "output_type": "execute_result"
    }
   ],
   "source": [
    "chr(65)"
   ]
  },
  {
   "cell_type": "code",
   "execution_count": 12,
   "metadata": {},
   "outputs": [
    {
     "data": {
      "text/plain": [
       "'E'"
      ]
     },
     "execution_count": 12,
     "metadata": {},
     "output_type": "execute_result"
    }
   ],
   "source": [
    "chr(69)"
   ]
  },
  {
   "cell_type": "code",
   "execution_count": 13,
   "metadata": {},
   "outputs": [
    {
     "data": {
      "text/plain": [
       "'F'"
      ]
     },
     "execution_count": 13,
     "metadata": {},
     "output_type": "execute_result"
    }
   ],
   "source": [
    "chr(70)"
   ]
  },
  {
   "cell_type": "code",
   "execution_count": 14,
   "metadata": {},
   "outputs": [
    {
     "data": {
      "text/plain": [
       "'N'"
      ]
     },
     "execution_count": 14,
     "metadata": {},
     "output_type": "execute_result"
    }
   ],
   "source": [
    "chr(78)"
   ]
  },
  {
   "cell_type": "code",
   "execution_count": 16,
   "metadata": {},
   "outputs": [
    {
     "name": "stdout",
     "output_type": "stream",
     "text": [
      "\n",
      " Enter any number : 10\n",
      "A \n",
      "B B \n",
      "C C C \n",
      "D D D D \n",
      "E E E E E \n",
      "F F F F F F \n",
      "G G G G G G G \n",
      "H H H H H H H H \n",
      "I I I I I I I I I \n",
      "J J J J J J J J J J \n"
     ]
    }
   ],
   "source": [
    "n = int(input(\"\\n Enter any number : \"))\n",
    "i = 1\n",
    "char = 65\n",
    "while i<=n:\n",
    "    j = 1\n",
    "    while j<=i:\n",
    "        print(chr(char),end=\" \")\n",
    "        j += 1\n",
    "    print()\n",
    "    i += 1\n",
    "    char += 1"
   ]
  },
  {
   "cell_type": "raw",
   "metadata": {},
   "source": [
    "A\n",
    "A B\n",
    "A B C\n",
    "A B C D\n",
    "A B C D E"
   ]
  },
  {
   "cell_type": "code",
   "execution_count": 18,
   "metadata": {},
   "outputs": [
    {
     "name": "stdout",
     "output_type": "stream",
     "text": [
      "\n",
      " Enter any number : 5\n",
      "A \n",
      "A B \n",
      "A B C \n",
      "A B C D \n",
      "A B C D E \n"
     ]
    }
   ],
   "source": [
    "n = int(input(\"\\n Enter any number : \"))\n",
    "i = 1\n",
    "while i<=n:\n",
    "    j = 1\n",
    "    char = 65  #new row --> character starts with A\n",
    "    while j<=i:\n",
    "        print(chr(char),end=\" \")\n",
    "        j += 1\n",
    "        char += 1  #in every column we have new character\n",
    "    print()\n",
    "    i += 1"
   ]
  },
  {
   "cell_type": "raw",
   "metadata": {},
   "source": [
    "A\n",
    "B C\n",
    "D E F\n",
    "G H I J\n",
    "K L M N O "
   ]
  },
  {
   "cell_type": "code",
   "execution_count": 22,
   "metadata": {},
   "outputs": [
    {
     "name": "stdout",
     "output_type": "stream",
     "text": [
      "\n",
      " Enter any number : 6\n",
      "A \n",
      "B C \n",
      "D E F \n",
      "G H I J \n",
      "K L M N O \n",
      "P Q R S T U \n"
     ]
    }
   ],
   "source": [
    "n = int(input(\"\\n Enter any number : \"))\n",
    "i = 1\n",
    "char = 65  #character changes in each row and each column\n",
    "while i<=n:\n",
    "    j = 1\n",
    "    while j<=i:\n",
    "        print(chr(char),end=\" \")\n",
    "        j += 1\n",
    "        char += 1  #in every column we have new character\n",
    "    print()\n",
    "    i += 1"
   ]
  },
  {
   "cell_type": "raw",
   "metadata": {},
   "source": [
    "    1. Swastika\n",
    "    \n",
    "    \n",
    "    1 1 1 1 1\n",
    "    0 1 1 1 1\n",
    "    0 0 1 1 1\n",
    "    0 0 0 1 1\n",
    "    0 0 0 0 1"
   ]
  },
  {
   "cell_type": "raw",
   "metadata": {},
   "source": [
    "*\n",
    "* * \n",
    "* * *\n",
    "* * * *\n",
    "* * * * * "
   ]
  },
  {
   "cell_type": "code",
   "execution_count": 24,
   "metadata": {},
   "outputs": [
    {
     "name": "stdout",
     "output_type": "stream",
     "text": [
      "* \n",
      "* * \n",
      "* * * \n",
      "* * * * \n",
      "* * * * * \n"
     ]
    }
   ],
   "source": [
    "i = 1\n",
    "while i<=5:\n",
    "    print(\"* \"*i)\n",
    "    i += 1"
   ]
  },
  {
   "cell_type": "code",
   "execution_count": 26,
   "metadata": {},
   "outputs": [
    {
     "name": "stdout",
     "output_type": "stream",
     "text": [
      "\n",
      " Enter number of rows : 5\n",
      " ***** \n",
      "  **** \n",
      "   *** \n",
      "    ** \n",
      "     * \n"
     ]
    }
   ],
   "source": [
    "#space --> row times\n",
    "#star --> (n-row) times\n",
    "n = int(input(\"\\n Enter number of rows : \"))\n",
    "row = 0\n",
    "while row<n:\n",
    "    print(\" \"*row,end=\" \")\n",
    "    print(\"*\"*(n-row),end=\" \")\n",
    "    print()\n",
    "    row += 1"
   ]
  },
  {
   "cell_type": "code",
   "execution_count": 28,
   "metadata": {},
   "outputs": [
    {
     "name": "stdout",
     "output_type": "stream",
     "text": [
      "Sentence is :  I like to dance a lot in school \n"
     ]
    }
   ],
   "source": [
    "l1 = [\"I\",\"to\",\"a lot\"]\n",
    "l2 = [\"like\",\"dance\",\"in school\"]\n",
    "#I like to dance a lot in school\n",
    "if len(l1) == len(l2):\n",
    "    i = 0\n",
    "    s = \"\"\n",
    "    while i<len(l1):\n",
    "        s += (l1[i] + \" \" + l2[i] + \" \")\n",
    "        i += 1\n",
    "    print(\"Sentence is : \",s)\n",
    "else:\n",
    "    print(\"\\n The length of both lists are not same\")\n",
    "#i = 0\n",
    "#0<3 --> True --> s += (l1[0] + \" \" + l2[0]+ \" \") --> s += I like\n",
    "#1<3 --> True --> s += (l1[1] + \" \" + l2[1]+ \" \") --> s = I Like to dance\n",
    "#2<3 --> True --> s += (l1[2] + \" \" + l2[2] + \" \") --> s = I like to dance a lot in school"
   ]
  },
  {
   "cell_type": "code",
   "execution_count": 36,
   "metadata": {},
   "outputs": [
    {
     "name": "stdout",
     "output_type": "stream",
     "text": [
      "Sentence is :  I like to dance a lot in school \n"
     ]
    }
   ],
   "source": [
    "l1 = [\"I\",\"to\",\"a lot\"]\n",
    "l2 = [\"like\",\"dance\",\"in school\"]\n",
    "#output --> I like to dance a lot in school\n",
    "if len(l1) == len(l2):\n",
    "    i = 0\n",
    "    s = \"\"\n",
    "    l = len(l1)\n",
    "    while i<l:\n",
    "        s += (l1.pop(0) + \" \" + l2.pop(0) + \" \")\n",
    "        i += 1\n",
    "    print(\"Sentence is : \",s)\n",
    "else:\n",
    "    print(\"\\n The length of both lists are not same\")\n",
    "#i = 0\n",
    "#0<3 --> True --> s += (l1[0] + \" \" + l2[0]+ \" \") --> s += I like\n",
    "#1<3 --> True --> s += (l1[1] + \" \" + l2[1]+ \" \") --> s = I Like to dance\n",
    "#2<3 --> True --> s += (l1[2] + \" \" + l2[2] + \" \") --> s = I like to dance a lot in school"
   ]
  },
  {
   "cell_type": "code",
   "execution_count": 38,
   "metadata": {},
   "outputs": [
    {
     "name": "stdout",
     "output_type": "stream",
     "text": [
      "Sentence is :  I like to dance a lot in school \n"
     ]
    }
   ],
   "source": [
    "l1 = [\"I\",\"to\",\"a lot\"]\n",
    "l2 = [\"in school\",\"dance\",\"like\"]\n",
    "#output --> I like to dance a lot in school\n",
    "if len(l1) == len(l2):\n",
    "    i = 0\n",
    "    s = \"\"\n",
    "    while i<len(l1):\n",
    "        s += (l1[i] + \" \" + l2[-1-i] + \" \")  #0,-1.  1,-2. 2,-3  ....\n",
    "        i += 1\n",
    "    print(\"Sentence is : \",s)\n",
    "else:\n",
    "    print(\"\\n The length of both lists are not same\")\n",
    "#l2 --> -1-i --> i=0, -1 -0 --> -1\n",
    "#i = 1 , -1 -1 --> -2\n",
    "# i = 2 , -1 -2 --> -3\n",
    "#-i-1 --> 0 - 1 --> -1, -1-1 --> -2, -2-1 = 1"
   ]
  },
  {
   "cell_type": "code",
   "execution_count": 39,
   "metadata": {},
   "outputs": [
    {
     "name": "stdout",
     "output_type": "stream",
     "text": [
      "5\n",
      "10\n",
      "20\n",
      "30\n",
      "40\n",
      "50\n",
      "60\n",
      "30\n"
     ]
    },
    {
     "ename": "IndexError",
     "evalue": "pop from empty list",
     "output_type": "error",
     "traceback": [
      "\u001b[1;31m---------------------------------------------------------------------------\u001b[0m",
      "\u001b[1;31mIndexError\u001b[0m                                Traceback (most recent call last)",
      "\u001b[1;32m<ipython-input-39-6aa793fea978>\u001b[0m in \u001b[0;36m<module>\u001b[1;34m\u001b[0m\n\u001b[0;32m      4\u001b[0m     \u001b[0mprint\u001b[0m\u001b[1;33m(\u001b[0m\u001b[0ml1\u001b[0m\u001b[1;33m.\u001b[0m\u001b[0mpop\u001b[0m\u001b[1;33m(\u001b[0m\u001b[1;33m)\u001b[0m\u001b[1;33m)\u001b[0m\u001b[1;33m\u001b[0m\u001b[1;33m\u001b[0m\u001b[0m\n\u001b[0;32m      5\u001b[0m     \u001b[1;32mwhile\u001b[0m \u001b[0mlen\u001b[0m\u001b[1;33m(\u001b[0m\u001b[0ml1\u001b[0m\u001b[1;33m)\u001b[0m\u001b[1;33m:\u001b[0m\u001b[1;33m\u001b[0m\u001b[1;33m\u001b[0m\u001b[0m\n\u001b[1;32m----> 6\u001b[1;33m         \u001b[0mprint\u001b[0m\u001b[1;33m(\u001b[0m\u001b[0ml2\u001b[0m\u001b[1;33m.\u001b[0m\u001b[0mpop\u001b[0m\u001b[1;33m(\u001b[0m\u001b[1;36m0\u001b[0m\u001b[1;33m)\u001b[0m\u001b[1;33m)\u001b[0m\u001b[1;33m\u001b[0m\u001b[1;33m\u001b[0m\u001b[0m\n\u001b[0m",
      "\u001b[1;31mIndexError\u001b[0m: pop from empty list"
     ]
    }
   ],
   "source": [
    "l1 = [1,2,3,4,5]\n",
    "l2 = [10,20,30,40,50,60,30]\n",
    "while len(l1):\n",
    "    print(l1.pop())  #last element pop\n",
    "    while len(l1):\n",
    "        print(l2.pop(0))  #first element pop\n",
    "#while 5 --> True --> 5 --> while 4 --> while True --> 10,20,30,40,50,60,30\n",
    "#after all the elements popped the list will be empty and it shows an error which stops the program"
   ]
  },
  {
   "cell_type": "code",
   "execution_count": 40,
   "metadata": {},
   "outputs": [
    {
     "name": "stdout",
     "output_type": "stream",
     "text": [
      "5\n",
      "10\n",
      "20\n",
      "30\n",
      "40\n",
      "50\n",
      "60\n",
      "30\n",
      "4\n",
      "3\n",
      "2\n",
      "1\n"
     ]
    }
   ],
   "source": [
    "l1 = [1,2,3,4,5]\n",
    "l2 = [10,20,30,40,50,60,30]\n",
    "while len(l1):\n",
    "    print(l1.pop())  #last element pop\n",
    "    while len(l2):\n",
    "        print(l2.pop(0))  #first element pop\n",
    "# while 5 --> 5 ---> while 7 --> 10\n",
    "#                   while 6 --> 20\n",
    "#                   while 5 --> 30\n",
    "#                   while 4 --> 40\n",
    "#                   while 3 --> 50\n",
    "#                   while 2 --> 60\n",
    "#                   while 1 --> 30\n",
    "#                   while 0 --> False (exit inner loop)\n",
    "#while 4 --> True --> 4\n",
    "#while 3 --> True --> 3\n",
    "#whhile 2 --> True --> 2\n",
    "#while 1 --> True --> 1\n",
    "#while 0 --> False (exit outer loop)"
   ]
  },
  {
   "cell_type": "markdown",
   "metadata": {},
   "source": [
    "### For Loop\n",
    "\n",
    "    It can never be in infinite loop\n",
    "    \n",
    "    syntax:\n",
    "    \n",
    "        for var_name in iterable_object:\n",
    "            s1\n",
    "            s2"
   ]
  },
  {
   "cell_type": "code",
   "execution_count": 41,
   "metadata": {},
   "outputs": [
    {
     "name": "stdout",
     "output_type": "stream",
     "text": [
      "hello world\n",
      "hello world\n",
      "hello world\n",
      "hello world\n",
      "hello world\n"
     ]
    }
   ],
   "source": [
    "for i in \"hello\": #hello --> character --> h,e,l,l,o\n",
    "    print(\"hello world\")\n",
    "#i = h\n",
    "#i = e\n",
    "# i = l\n",
    "# i = l\n",
    "# i = o"
   ]
  },
  {
   "cell_type": "code",
   "execution_count": 42,
   "metadata": {},
   "outputs": [
    {
     "name": "stdout",
     "output_type": "stream",
     "text": [
      "h\n",
      "e\n",
      "l\n",
      "l\n",
      "o\n"
     ]
    }
   ],
   "source": [
    "for i in \"hello\":\n",
    "    print(i)"
   ]
  },
  {
   "cell_type": "code",
   "execution_count": 43,
   "metadata": {},
   "outputs": [
    {
     "ename": "TypeError",
     "evalue": "'int' object is not iterable",
     "output_type": "error",
     "traceback": [
      "\u001b[1;31m---------------------------------------------------------------------------\u001b[0m",
      "\u001b[1;31mTypeError\u001b[0m                                 Traceback (most recent call last)",
      "\u001b[1;32m<ipython-input-43-ca1cfff8bccf>\u001b[0m in \u001b[0;36m<module>\u001b[1;34m\u001b[0m\n\u001b[1;32m----> 1\u001b[1;33m \u001b[1;32mfor\u001b[0m \u001b[0mi\u001b[0m \u001b[1;32min\u001b[0m \u001b[1;36m12345\u001b[0m\u001b[1;33m:\u001b[0m\u001b[1;33m\u001b[0m\u001b[1;33m\u001b[0m\u001b[0m\n\u001b[0m\u001b[0;32m      2\u001b[0m     \u001b[0mprint\u001b[0m\u001b[1;33m(\u001b[0m\u001b[0mi\u001b[0m\u001b[1;33m)\u001b[0m\u001b[1;33m\u001b[0m\u001b[1;33m\u001b[0m\u001b[0m\n",
      "\u001b[1;31mTypeError\u001b[0m: 'int' object is not iterable"
     ]
    }
   ],
   "source": [
    "for i in 12345:\n",
    "    print(i)"
   ]
  },
  {
   "cell_type": "code",
   "execution_count": 44,
   "metadata": {},
   "outputs": [
    {
     "name": "stdout",
     "output_type": "stream",
     "text": [
      "1\n",
      "2\n",
      "3\n",
      "4\n",
      "5\n",
      "6\n"
     ]
    }
   ],
   "source": [
    "for i in [1,2,3,4,5,6]:\n",
    "    print(i)"
   ]
  },
  {
   "cell_type": "code",
   "execution_count": 45,
   "metadata": {},
   "outputs": [
    {
     "name": "stdout",
     "output_type": "stream",
     "text": [
      "2\n",
      "4\n",
      "6\n",
      "8\n",
      "10\n",
      "12\n"
     ]
    }
   ],
   "source": [
    "for i in [1,2,3,4,5,6]:\n",
    "    print(i*2)"
   ]
  },
  {
   "cell_type": "code",
   "execution_count": 46,
   "metadata": {},
   "outputs": [
    {
     "name": "stdout",
     "output_type": "stream",
     "text": [
      "1\n",
      "4\n",
      "9\n",
      "16\n",
      "25\n",
      "36\n"
     ]
    }
   ],
   "source": [
    "for i in [1,2,3,4,5,6]:\n",
    "    print(i**2)"
   ]
  },
  {
   "cell_type": "code",
   "execution_count": 47,
   "metadata": {},
   "outputs": [
    {
     "name": "stdout",
     "output_type": "stream",
     "text": [
      "hello world\n",
      "bye world\n",
      "hello world\n",
      "bye world\n",
      "hello world\n",
      "bye world\n",
      "hello world\n",
      "bye world\n",
      "hello world\n",
      "bye world\n",
      "hello world\n",
      "bye world\n"
     ]
    }
   ],
   "source": [
    "for i in [1,2,3,4,5,6]:\n",
    "    print(\"hello world\")\n",
    "    print(\"bye world\")"
   ]
  },
  {
   "cell_type": "code",
   "execution_count": 48,
   "metadata": {},
   "outputs": [],
   "source": [
    "#iterable object tells that how many times you have to run the loop"
   ]
  },
  {
   "cell_type": "code",
   "execution_count": null,
   "metadata": {},
   "outputs": [],
   "source": []
  }
 ],
 "metadata": {
  "kernelspec": {
   "display_name": "Python 3",
   "language": "python",
   "name": "python3"
  },
  "language_info": {
   "codemirror_mode": {
    "name": "ipython",
    "version": 3
   },
   "file_extension": ".py",
   "mimetype": "text/x-python",
   "name": "python",
   "nbconvert_exporter": "python",
   "pygments_lexer": "ipython3",
   "version": "3.7.4"
  }
 },
 "nbformat": 4,
 "nbformat_minor": 2
}
